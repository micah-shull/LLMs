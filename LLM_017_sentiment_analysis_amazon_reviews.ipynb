{
  "nbformat": 4,
  "nbformat_minor": 0,
  "metadata": {
    "colab": {
      "provenance": [],
      "toc_visible": true,
      "authorship_tag": "ABX9TyOqLP54H0dLRARokGGBwwW6",
      "include_colab_link": true
    },
    "kernelspec": {
      "name": "python3",
      "display_name": "Python 3"
    },
    "language_info": {
      "name": "python"
    }
  },
  "cells": [
    {
      "cell_type": "markdown",
      "metadata": {
        "id": "view-in-github",
        "colab_type": "text"
      },
      "source": [
        "<a href=\"https://colab.research.google.com/github/micah-shull/LLMs/blob/main/LLM_017_sentiment_analysis_amazon_reviews.ipynb\" target=\"_parent\"><img src=\"https://colab.research.google.com/assets/colab-badge.svg\" alt=\"Open In Colab\"/></a>"
      ]
    },
    {
      "cell_type": "markdown",
      "source": [
        "\n",
        "### Amazon Product Reviews: Sentiment Analysis Tutorial Outline\n",
        "\n",
        "1. **Load and Preprocess the Amazon Reviews Dataset**\n",
        "   - We’ll load the dataset using Hugging Face’s `datasets` library.\n",
        "   - Convert reviews to a binary sentiment format (positive/negative) for consistency with previous tasks.\n",
        "\n",
        "2. **Text Vectorization with TfidfVectorizer**\n",
        "   - Initialize and fine-tune `TfidfVectorizer` to capture the unique language characteristics in product reviews.\n",
        "   - Experiment with n-grams to improve the model’s sensitivity to sentiment nuances.\n",
        "\n",
        "3. **Model Training with Logistic Regression**\n",
        "   - Train the Logistic Regression model on the vectorized reviews.\n",
        "   - Set `class_weight='balanced'` if there’s class imbalance, similar to what we did for SMS Spam.\n",
        "\n",
        "4. **Model Evaluation and Analysis**\n",
        "   - Generate the classification report and analyze metrics, especially recall and precision, to assess the model’s effectiveness.\n",
        "\n",
        "\n",
        "\n",
        "### Next Steps\n",
        "1. **Review Results**: Pay attention to recall and precision for both classes to see if there’s room for improvement.\n",
        "2. **Tune Vectorizer and Model**: If needed, experiment with vectorizer settings (e.g., adding bigrams) or test alternative models.\n",
        "3. **Analysis**: Assess the model’s performance to see if it generalizes well across the various product categories in Amazon reviews.\n",
        "\n",
        "This setup should give you valuable insights into multi-domain sentiment analysis. Let me know if you’d like to proceed with this or make any adjustments!"
      ],
      "metadata": {
        "id": "6dN6KHAzSLbh"
      }
    },
    {
      "cell_type": "markdown",
      "source": [
        "### Notebook Setup and Data Loading"
      ],
      "metadata": {
        "id": "1mQxcTUmR7Hd"
      }
    },
    {
      "cell_type": "code",
      "execution_count": 23,
      "metadata": {
        "id": "C8G52-5lRnbw"
      },
      "outputs": [],
      "source": [
        "# !pip install transformers datasets\n",
        "# !pip install python-dotenv"
      ]
    },
    {
      "cell_type": "code",
      "source": [
        "from datasets import load_dataset\n",
        "\n",
        "# Load the Amazon Reviews dataset\n",
        "dataset = load_dataset(\"amazon_polarity\")\n",
        "\n",
        "# Split data into documents and labels for training and testing\n",
        "documents = dataset[\"train\"][\"content\"]\n",
        "labels = [\"pos\" if label == 1 else \"neg\" for label in dataset[\"train\"][\"label\"]]\n",
        "\n",
        "# Quick preview of dataset\n",
        "print(\"Sample Amazon Review Text:\", documents[0])\n",
        "print(\"Sample Amazon Review Label:\", labels[0])\n"
      ],
      "metadata": {
        "colab": {
          "base_uri": "https://localhost:8080/"
        },
        "id": "iureSpIvR3ZM",
        "outputId": "526fe385-ffb6-4750-a980-e863d8265c29"
      },
      "execution_count": 6,
      "outputs": [
        {
          "output_type": "stream",
          "name": "stderr",
          "text": [
            "/usr/local/lib/python3.10/dist-packages/huggingface_hub/utils/_token.py:89: UserWarning: \n",
            "The secret `HF_TOKEN` does not exist in your Colab secrets.\n",
            "To authenticate with the Hugging Face Hub, create a token in your settings tab (https://huggingface.co/settings/tokens), set it as secret in your Google Colab and restart your session.\n",
            "You will be able to reuse this secret in all of your notebooks.\n",
            "Please note that authentication is recommended but still optional to access public models or datasets.\n",
            "  warnings.warn(\n"
          ]
        },
        {
          "output_type": "stream",
          "name": "stdout",
          "text": [
            "Sample Amazon Review Text: This sound track was beautiful! It paints the senery in your mind so well I would recomend it even to people who hate vid. game music! I have played the game Chrono Cross but out of all of the games I have ever played it has the best music! It backs away from crude keyboarding and takes a fresher step with grate guitars and soulful orchestras. It would impress anyone who cares to listen! ^_^\n",
            "Sample Amazon Review Label: pos\n"
          ]
        }
      ]
    },
    {
      "cell_type": "markdown",
      "source": [
        "### Amazon Reviews Dataset Summary\n",
        "\n",
        "The **Amazon Polarity dataset** contains customer reviews across various product categories, labeled for **sentiment polarity** as either positive (1) or negative (0). This binary classification structure allows us to build a sentiment analysis model capable of predicting whether a given review expresses a positive or negative opinion.\n",
        "\n",
        "#### Key Characteristics of the Data\n",
        "\n",
        "1. **Text Content**:\n",
        "   - The dataset consists of diverse product reviews, covering categories such as electronics, books, and clothing, which gives the model exposure to a broad range of vocabulary and language patterns.\n",
        "   - Each review provides a brief description or opinion about a product, capturing various aspects like quality, value, and user experience.\n",
        "\n",
        "2. **Label Distribution**:\n",
        "   - The label distribution indicates a relatively balanced dataset, with a similar number of positive and negative reviews, ensuring that the model doesn’t favor one class over the other.\n",
        "   - This balance minimizes the need for additional adjustments for class imbalance (e.g., setting `class_weight`).\n",
        "\n",
        "3. **Review Length**:\n",
        "   - Reviews vary significantly in length, with some being concise and others more detailed. The average review length is around 30-50 words, which helps in setting `TfidfVectorizer` parameters (e.g., maximum features) to capture the most informative terms without adding unnecessary complexity.\n",
        "\n",
        "#### Prediction Goal\n",
        "\n",
        "The goal is to use **Logistic Regression with TfidfVectorizer** to create a model that can predict the **sentiment** (positive or negative) of a product review. This model will:\n",
        "   - **Analyze language patterns**: Identify words, phrases, and structures commonly associated with positive or negative sentiment.\n",
        "   - **Generate predictions**: For any given review, the model will classify it as positive or negative based on the vocabulary and sentiment indicators learned during training.\n",
        "\n",
        "#### Why This Matters\n",
        "Predicting sentiment from reviews has practical applications in fields like **product recommendation** and **customer feedback analysis**, providing businesses with insights into customer satisfaction and areas for improvement. With this model, we aim to develop a tool that could help businesses automatically gauge sentiment at scale.\n"
      ],
      "metadata": {
        "id": "IQfFMVjxT0Tg"
      }
    },
    {
      "cell_type": "code",
      "source": [
        "import pandas as pd\n",
        "import matplotlib.pyplot as plt\n",
        "\n",
        "# Calculate and print value counts for labels\n",
        "label_counts = pd.Series(labels).value_counts()\n",
        "# print(\"Label Distribution:\")\n",
        "# print(label_counts)\n",
        "\n",
        "# Calculate review lengths\n",
        "review_lengths = [len(review.split()) for review in documents]\n",
        "\n",
        "# Create a 1x2 grid for the plots\n",
        "fig, axes = plt.subplots(1, 2, figsize=(15, 5))\n",
        "\n",
        "# Plot 1: Label Distribution\n",
        "axes[0].bar(label_counts.index, label_counts.values, color=['skyblue', 'salmon'])\n",
        "axes[0].set_title(\"Amazon Reviews Sentiment Distribution\")\n",
        "axes[0].set_xlabel(\"Sentiment\")\n",
        "axes[0].set_ylabel(\"Count\")\n",
        "axes[0].set_xticks(range(len(label_counts.index)))\n",
        "axes[0].set_xticklabels([\"Positive\", \"Negative\"])\n",
        "\n",
        "# Plot 2: Review Length Distribution\n",
        "axes[1].hist(review_lengths, bins=30, color='gold', alpha=0.7)\n",
        "axes[1].set_title(\"Distribution of Review Lengths in Amazon Reviews\")\n",
        "axes[1].set_xlabel(\"Number of Words\")\n",
        "axes[1].set_ylabel(\"Frequency\")\n",
        "\n",
        "# Adjust layout and show the plots\n",
        "plt.tight_layout()\n",
        "plt.show()\n",
        "\n",
        "# Display basic statistics\n",
        "print(\"Review Length Statistics:\")\n",
        "print(\"Mean Length:\", sum(review_lengths) / len(review_lengths))\n",
        "print(\"Max Length:\", max(review_lengths))\n",
        "print(\"Min Length:\", min(review_lengths))"
      ],
      "metadata": {
        "colab": {
          "base_uri": "https://localhost:8080/",
          "height": 400
        },
        "id": "VBdKIej-UGqC",
        "outputId": "a16cce87-56d9-438b-8e26-fb94383f8aa0"
      },
      "execution_count": 7,
      "outputs": [
        {
          "output_type": "display_data",
          "data": {
            "text/plain": [
              "<Figure size 1500x500 with 2 Axes>"
            ],
            "image/png": "[encoded data removed]"
          },
          "metadata": {}
        },
        {
          "output_type": "stream",
          "name": "stdout",
          "text": [
            "Review Length Statistics:\n",
            "Mean Length: 74.16884944444445\n",
            "Max Length: 254\n",
            "Min Length: 1\n"
          ]
        }
      ]
    },
    {
      "cell_type": "code",
      "source": [
        "# Function to display sample reviews\n",
        "def preview_data(documents, labels, num_samples=5):\n",
        "    for i in range(num_samples):\n",
        "        print(f\"Sample {i + 1}\")\n",
        "        print(\"Review Text:\", documents[i])\n",
        "        print(\"Label:\", \"Positive\" if labels[i] == \"pos\" else \"Negative\")\n",
        "        print(\"-\" * 50)\n",
        "\n",
        "# Display samples from the Amazon Reviews dataset\n",
        "print(\"Amazon Reviews Sample Data:\")\n",
        "preview_data(documents, labels)\n"
      ],
      "metadata": {
        "colab": {
          "base_uri": "https://localhost:8080/"
        },
        "id": "XeYRtqDnTmKS",
        "outputId": "6c4d9448-fd16-4fb4-c475-cf769d82dca9"
      },
      "execution_count": 8,
      "outputs": [
        {
          "output_type": "stream",
          "name": "stdout",
          "text": [
            "Amazon Reviews Sample Data:\n",
            "Sample 1\n",
            "Review Text: This sound track was beautiful! It paints the senery in your mind so well I would recomend it even to people who hate vid. game music! I have played the game Chrono Cross but out of all of the games I have ever played it has the best music! It backs away from crude keyboarding and takes a fresher step with grate guitars and soulful orchestras. It would impress anyone who cares to listen! ^_^\n",
            "Label: Positive\n",
            "--------------------------------------------------\n",
            "Sample 2\n",
            "Review Text: I'm reading a lot of reviews saying that this is the best 'game soundtrack' and I figured that I'd write a review to disagree a bit. This in my opinino is Yasunori Mitsuda's ultimate masterpiece. The music is timeless and I'm been listening to it for years now and its beauty simply refuses to fade.The price tag on this is pretty staggering I must say, but if you are going to buy any cd for this much money, this is the only one that I feel would be worth every penny.\n",
            "Label: Positive\n",
            "--------------------------------------------------\n",
            "Sample 3\n",
            "Review Text: This soundtrack is my favorite music of all time, hands down. The intense sadness of \"Prisoners of Fate\" (which means all the more if you've played the game) and the hope in \"A Distant Promise\" and \"Girl who Stole the Star\" have been an important inspiration to me personally throughout my teen years. The higher energy tracks like \"Chrono Cross ~ Time's Scar~\", \"Time of the Dreamwatch\", and \"Chronomantique\" (indefinably remeniscent of Chrono Trigger) are all absolutely superb as well.This soundtrack is amazing music, probably the best of this composer's work (I haven't heard the Xenogears soundtrack, so I can't say for sure), and even if you've never played the game, it would be worth twice the price to buy it.I wish I could give it 6 stars.\n",
            "Label: Positive\n",
            "--------------------------------------------------\n",
            "Sample 4\n",
            "Review Text: I truly like this soundtrack and I enjoy video game music. I have played this game and most of the music on here I enjoy and it's truly relaxing and peaceful.On disk one. my favorites are Scars Of Time, Between Life and Death, Forest Of Illusion, Fortress of Ancient Dragons, Lost Fragment, and Drowned Valley.Disk Two: The Draggons, Galdorb - Home, Chronomantique, Prisoners of Fate, Gale, and my girlfriend likes ZelbessDisk Three: The best of the three. Garden Of God, Chronopolis, Fates, Jellyfish sea, Burning Orphange, Dragon's Prayer, Tower Of Stars, Dragon God, and Radical Dreamers - Unstealable Jewel.Overall, this is a excellent soundtrack and should be brought by those that like video game music.Xander Cross\n",
            "Label: Positive\n",
            "--------------------------------------------------\n",
            "Sample 5\n",
            "Review Text: If you've played the game, you know how divine the music is! Every single song tells a story of the game, it's that good! The greatest songs are without a doubt, Chrono Cross: Time's Scar, Magical Dreamers: The Wind, The Stars, and the Sea and Radical Dreamers: Unstolen Jewel. (Translation varies) This music is perfect if you ask me, the best it can be. Yasunori Mitsuda just poured his heart on and wrote it down on paper.\n",
            "Label: Positive\n",
            "--------------------------------------------------\n"
          ]
        }
      ]
    },
    {
      "cell_type": "markdown",
      "source": [
        "The output of this code is a **sparse matrix** for both `train_vectors` and `test_vectors`, where each row represents a review, and each column represents a unique word or n-gram (two-word combination) from the vocabulary. The values in this matrix are **TF-IDF scores** for each term, which quantify the importance of each word in relation to each review and the entire corpus.\n",
        "\n",
        "### What `TfidfVectorizer` Does\n",
        "\n",
        "1. **Text Preprocessing**: `TfidfVectorizer` first **preprocesses** the text by removing stop words (if specified) and converting the text to lowercase to ensure consistency.\n",
        "   \n",
        "2. **Tokenization and Vocabulary Building**:\n",
        "   - It **tokenizes** the text into individual words or n-grams based on the specified `ngram_range`. In this case, it captures both single words (unigrams) and two-word combinations (bigrams).\n",
        "   - The vectorizer then creates a **vocabulary** containing the most frequent 5000 terms (as defined by `max_features=5000`), which it will use to represent the text numerically.\n",
        "\n",
        "3. **TF-IDF Transformation**:\n",
        "   - Once the vocabulary is established, `TfidfVectorizer` calculates the **Term Frequency-Inverse Document Frequency (TF-IDF)** score for each term in each review:\n",
        "     - **Term Frequency (TF)**: Measures how frequently a term appears in a given document (review).\n",
        "     - **Inverse Document Frequency (IDF)**: Measures how common or rare the term is across the entire corpus. Rare terms have higher IDF scores, while common terms have lower scores.\n",
        "   - **TF-IDF Score**: The final score for each term is a product of TF and IDF. Higher scores indicate terms that are particularly relevant to a specific review, giving less importance to common words across many reviews.\n",
        "\n",
        "### Example of Sparse Matrix Output\n",
        "\n",
        "Imagine we have three reviews and the vectorizer identifies three unique terms across them:\n",
        "- **Review 1**: “This product is great”\n",
        "- **Review 2**: “The product was not good”\n",
        "- **Review 3**: “Good product quality”\n",
        "\n",
        "The resulting sparse matrix (after TF-IDF transformation) might look like this:\n",
        "\n",
        "| Review | “product” | “great” | “good” |\n",
        "|--------|-----------|---------|--------|\n",
        "| 1      | 0.2       | 0.8     | 0      |\n",
        "| 2      | 0.3       | 0       | 0.5    |\n",
        "| 3      | 0.4       | 0       | 0.7    |\n",
        "\n",
        "Each row represents a review, and each column represents the TF-IDF score for a term in the review.\n",
        "\n",
        "### Why `TfidfVectorizer` Matters\n",
        "\n",
        "1. **Transforms Text into Numerical Data**: Machine learning models require numerical input. `TfidfVectorizer` turns text into a format that models like Logistic Regression can understand and process.\n",
        "\n",
        "2. **Feature Importance**: TF-IDF scores reflect the relative importance of words in context. Terms with high scores in a review are likely significant for expressing sentiment. For instance, “great” might have a high TF-IDF score in a positive review, signaling positivity.\n",
        "\n",
        "3. **Reduces Noise from Common Words**: By assigning lower scores to common terms, TF-IDF helps the model focus on more unique, informative words that are key to sentiment (like “excellent,” “terrible,” etc.), leading to more accurate predictions.\n",
        "\n",
        "4. **Captures Context with N-grams**: Including bigrams in addition to unigrams allows the model to consider simple phrases (e.g., “not good”), which enhances context and improves its ability to recognize sentiment in text.\n",
        "\n",
        "In summary, `TfidfVectorizer` prepares text data in a meaningful way, enhancing the model’s ability to detect patterns and make accurate predictions about sentiment. Let me know if you’d like to explore any part of this in more detail!"
      ],
      "metadata": {
        "id": "jL5HtoFNYQfm"
      }
    },
    {
      "cell_type": "code",
      "source": [
        "import random\n",
        "import time\n",
        "from sklearn.model_selection import train_test_split\n",
        "from sklearn.feature_extraction.text import TfidfVectorizer\n",
        "\n",
        "# Set the sample size (e.g., 10% of the data)\n",
        "sample_fraction = 0.4\n",
        "sample_size = int(len(documents) * sample_fraction)\n",
        "# vectorizer crashed using all the data so sampling to avoid crashing\n",
        "\n",
        "# Select a random sample of reviews and their labels\n",
        "random.seed(42)\n",
        "sample_indices = random.sample(range(len(documents)), sample_size)\n",
        "sample_documents = [documents[i] for i in sample_indices]\n",
        "sample_labels = [labels[i] for i in sample_indices]\n",
        "\n",
        "# Split the sampled data into training and testing sets\n",
        "train_texts, test_texts, train_labels, test_labels = train_test_split(\n",
        "    sample_documents, sample_labels, test_size=0.2, random_state=42, stratify=sample_labels\n",
        ")\n",
        "\n",
        "# Initialize TfidfVectorizer with n-grams for enhanced context capture\n",
        "vectorizer = TfidfVectorizer(stop_words=\"english\", max_features=5000, ngram_range=(1, 2))\n",
        "\n",
        "# Start the timer for vectorization\n",
        "start_time = time.time()\n",
        "\n",
        "# Fit-transform the training data and transform the test data\n",
        "train_vectors = vectorizer.fit_transform(train_texts)\n",
        "test_vectors = vectorizer.transform(test_texts)\n",
        "\n",
        "# End the timer and print the elapsed time\n",
        "end_time = time.time()\n",
        "print(f\"Vectorization took {end_time - start_time:.2f} seconds.\")\n",
        "\n",
        "# Print the shape of the resulting vectors\n",
        "print(\"Shape of train_vectors:\", train_vectors.shape)\n",
        "print(\"Shape of test_vectors:\", test_vectors.shape)\n"
      ],
      "metadata": {
        "colab": {
          "base_uri": "https://localhost:8080/"
        },
        "id": "ocoptwsiSDOe",
        "outputId": "95f31aae-75eb-4bdb-d105-d44e681166eb"
      },
      "execution_count": 9,
      "outputs": [
        {
          "output_type": "stream",
          "name": "stdout",
          "text": [
            "Vectorization took 305.68 seconds.\n",
            "Shape of train_vectors: (1152000, 5000)\n",
            "Shape of test_vectors: (288000, 5000)\n"
          ]
        }
      ]
    },
    {
      "cell_type": "markdown",
      "source": [
        "#### View the Vectors\n",
        "\n",
        "We can take a small sample of rows and columns from `train_vectors` to get a sense of its structure. Since `train_vectors` is a sparse matrix, let’s convert it to a dense format for visualization and select a small subset for clarity.\n",
        "\n",
        "\n",
        "### Explanation\n",
        "1. **`print(\"Shape of train_vectors:\", train_vectors.shape)`**: This line displays the shape of the full `train_vectors` matrix, showing the number of reviews and features.\n",
        "   \n",
        "2. **Selecting a Sample**:\n",
        "   - `train_vectors[:10, :10].todense()` converts the first 10 rows and first 10 columns of `train_vectors` to a dense (non-sparse) format.\n",
        "   - We use `.todense()` to transform the sparse matrix into a viewable format, but only for a small subset.\n",
        "\n",
        "3. **Feature Names**:\n",
        "   - `vectorizer.get_feature_names_out()[:10]` retrieves the names of the first 10 features (words or n-grams).\n",
        "   \n",
        "4. **DataFrame for Display**:\n",
        "   - We create a DataFrame `train_sample_df` to organize the sample in a readable format, where each column represents a term and each row represents a review’s TF-IDF scores for those terms.\n",
        "\n"
      ],
      "metadata": {
        "id": "hLquaY6wZOHR"
      }
    },
    {
      "cell_type": "code",
      "source": [
        "# Print the shape of train_vectors\n",
        "print(\"Shape of train_vectors:\", train_vectors.shape)\n",
        "\n",
        "# Convert the sparse matrix to a dense format and create a DataFrame for a small sample\n",
        "# Selecting the first 10 rows and first 10 columns for easier viewing\n",
        "train_sample = train_vectors[:10, :10].todense()\n",
        "\n",
        "# Get feature names for the sample columns\n",
        "sample_feature_names = vectorizer.get_feature_names_out()[:10]\n",
        "\n",
        "# Create a DataFrame to view the sample in a readable format\n",
        "train_sample_df = pd.DataFrame(train_sample, columns=sample_feature_names)\n",
        "print(\"Sample of train_vectors:\")\n",
        "print(train_sample_df)"
      ],
      "metadata": {
        "colab": {
          "base_uri": "https://localhost:8080/"
        },
        "id": "VlvidkKWZbu3",
        "outputId": "83aab166-047e-4686-bc86-64900d296240"
      },
      "execution_count": 10,
      "outputs": [
        {
          "output_type": "stream",
          "name": "stdout",
          "text": [
            "Shape of train_vectors: (1152000, 5000)\n",
            "Sample of train_vectors:\n",
            "    00  000   10  10 minutes  10 year  10 years  100  1000   11   12\n",
            "0  0.0  0.0  0.0         0.0      0.0       0.0  0.0   0.0  0.0  0.0\n",
            "1  0.0  0.0  0.0         0.0      0.0       0.0  0.0   0.0  0.0  0.0\n",
            "2  0.0  0.0  0.0         0.0      0.0       0.0  0.0   0.0  0.0  0.0\n",
            "3  0.0  0.0  0.0         0.0      0.0       0.0  0.0   0.0  0.0  0.0\n",
            "4  0.0  0.0  0.0         0.0      0.0       0.0  0.0   0.0  0.0  0.0\n",
            "5  0.0  0.0  0.0         0.0      0.0       0.0  0.0   0.0  0.0  0.0\n",
            "6  0.0  0.0  0.0         0.0      0.0       0.0  0.0   0.0  0.0  0.0\n",
            "7  0.0  0.0  0.0         0.0      0.0       0.0  0.0   0.0  0.0  0.0\n",
            "8  0.0  0.0  0.0         0.0      0.0       0.0  0.0   0.0  0.0  0.0\n",
            "9  0.0  0.0  0.0         0.0      0.0       0.0  0.0   0.0  0.0  0.0\n"
          ]
        }
      ]
    },
    {
      "cell_type": "code",
      "source": [
        "from sklearn.linear_model import LogisticRegression\n",
        "\n",
        "# Initialize Logistic Regression with balanced class weights\n",
        "model = LogisticRegression(max_iter=1000)\n",
        "model.fit(train_vectors, train_labels)"
      ],
      "metadata": {
        "colab": {
          "base_uri": "https://localhost:8080/",
          "height": 80
        },
        "id": "3z_Jo8_fSDLn",
        "outputId": "a45003ed-7397-4791-8d84-c8ab92ec6091"
      },
      "execution_count": 13,
      "outputs": [
        {
          "output_type": "execute_result",
          "data": {
            "text/plain": [
              "LogisticRegression(max_iter=1000)"
            ],
            "text/html": [
              "<style>#sk-container-id-2 {\n",
              "  /* Definition of color scheme common for light and dark mode */\n",
              "  --sklearn-color-text: black;\n",
              "  --sklearn-color-line: gray;\n",
              "  /* Definition of color scheme for unfitted estimators */\n",
              "  --sklearn-color-unfitted-level-0: #fff5e6;\n",
              "  --sklearn-color-unfitted-level-1: #f6e4d2;\n",
              "  --sklearn-color-unfitted-level-2: #ffe0b3;\n",
              "  --sklearn-color-unfitted-level-3: chocolate;\n",
              "  /* Definition of color scheme for fitted estimators */\n",
              "  --sklearn-color-fitted-level-0: #f0f8ff;\n",
              "  --sklearn-color-fitted-level-1: #d4ebff;\n",
              "  --sklearn-color-fitted-level-2: #b3dbfd;\n",
              "  --sklearn-color-fitted-level-3: cornflowerblue;\n",
              "\n",
              "  /* Specific color for light theme */\n",
              "  --sklearn-color-text-on-default-background: var(--sg-text-color, var(--theme-code-foreground, var(--jp-content-font-color1, black)));\n",
              "  --sklearn-color-background: var(--sg-background-color, var(--theme-background, var(--jp-layout-color0, white)));\n",
              "  --sklearn-color-border-box: var(--sg-text-color, var(--theme-code-foreground, var(--jp-content-font-color1, black)));\n",
              "  --sklearn-color-icon: #696969;\n",
              "\n",
              "  @media (prefers-color-scheme: dark) {\n",
              "    /* Redefinition of color scheme for dark theme */\n",
              "    --sklearn-color-text-on-default-background: var(--sg-text-color, var(--theme-code-foreground, var(--jp-content-font-color1, white)));\n",
              "    --sklearn-color-background: var(--sg-background-color, var(--theme-background, var(--jp-layout-color0, #111)));\n",
              "    --sklearn-color-border-box: var(--sg-text-color, var(--theme-code-foreground, var(--jp-content-font-color1, white)));\n",
              "    --sklearn-color-icon: #878787;\n",
              "  }\n",
              "}\n",
              "\n",
              "#sk-container-id-2 {\n",
              "  color: var(--sklearn-color-text);\n",
              "}\n",
              "\n",
              "#sk-container-id-2 pre {\n",
              "  padding: 0;\n",
              "}\n",
              "\n",
              "#sk-container-id-2 input.sk-hidden--visually {\n",
              "  border: 0;\n",
              "  clip: rect(1px 1px 1px 1px);\n",
              "  clip: rect(1px, 1px, 1px, 1px);\n",
              "  height: 1px;\n",
              "  margin: -1px;\n",
              "  overflow: hidden;\n",
              "  padding: 0;\n",
              "  position: absolute;\n",
              "  width: 1px;\n",
              "}\n",
              "\n",
              "#sk-container-id-2 div.sk-dashed-wrapped {\n",
              "  border: 1px dashed var(--sklearn-color-line);\n",
              "  margin: 0 0.4em 0.5em 0.4em;\n",
              "  box-sizing: border-box;\n",
              "  padding-bottom: 0.4em;\n",
              "  background-color: var(--sklearn-color-background);\n",
              "}\n",
              "\n",
              "#sk-container-id-2 div.sk-container {\n",
              "  /* jupyter's `normalize.less` sets `[hidden] { display: none; }`\n",
              "     but bootstrap.min.css set `[hidden] { display: none !important; }`\n",
              "     so we also need the `!important` here to be able to override the\n",
              "     default hidden behavior on the sphinx rendered scikit-learn.org.\n",
              "     See: https://github.com/scikit-learn/scikit-learn/issues/21755 */\n",
              "  display: inline-block !important;\n",
              "  position: relative;\n",
              "}\n",
              "\n",
              "#sk-container-id-2 div.sk-text-repr-fallback {\n",
              "  display: none;\n",
              "}\n",
              "\n",
              "div.sk-parallel-item,\n",
              "div.sk-serial,\n",
              "div.sk-item {\n",
              "  /* draw centered vertical line to link estimators */\n",
              "  background-image: linear-gradient(var(--sklearn-color-text-on-default-background), var(--sklearn-color-text-on-default-background));\n",
              "  background-size: 2px 100%;\n",
              "  background-repeat: no-repeat;\n",
              "  background-position: center center;\n",
              "}\n",
              "\n",
              "/* Parallel-specific style estimator block */\n",
              "\n",
              "#sk-container-id-2 div.sk-parallel-item::after {\n",
              "  content: \"\";\n",
              "  width: 100%;\n",
              "  border-bottom: 2px solid var(--sklearn-color-text-on-default-background);\n",
              "  flex-grow: 1;\n",
              "}\n",
              "\n",
              "#sk-container-id-2 div.sk-parallel {\n",
              "  display: flex;\n",
              "  align-items: stretch;\n",
              "  justify-content: center;\n",
              "  background-color: var(--sklearn-color-background);\n",
              "  position: relative;\n",
              "}\n",
              "\n",
              "#sk-container-id-2 div.sk-parallel-item {\n",
              "  display: flex;\n",
              "  flex-direction: column;\n",
              "}\n",
              "\n",
              "#sk-container-id-2 div.sk-parallel-item:first-child::after {\n",
              "  align-self: flex-end;\n",
              "  width: 50%;\n",
              "}\n",
              "\n",
              "#sk-container-id-2 div.sk-parallel-item:last-child::after {\n",
              "  align-self: flex-start;\n",
              "  width: 50%;\n",
              "}\n",
              "\n",
              "#sk-container-id-2 div.sk-parallel-item:only-child::after {\n",
              "  width: 0;\n",
              "}\n",
              "\n",
              "/* Serial-specific style estimator block */\n",
              "\n",
              "#sk-container-id-2 div.sk-serial {\n",
              "  display: flex;\n",
              "  flex-direction: column;\n",
              "  align-items: center;\n",
              "  background-color: var(--sklearn-color-background);\n",
              "  padding-right: 1em;\n",
              "  padding-left: 1em;\n",
              "}\n",
              "\n",
              "\n",
              "/* Toggleable style: style used for estimator/Pipeline/ColumnTransformer box that is\n",
              "clickable and can be expanded/collapsed.\n",
              "- Pipeline and ColumnTransformer use this feature and define the default style\n",
              "- Estimators will overwrite some part of the style using the `sk-estimator` class\n",
              "*/\n",
              "\n",
              "/* Pipeline and ColumnTransformer style (default) */\n",
              "\n",
              "#sk-container-id-2 div.sk-toggleable {\n",
              "  /* Default theme specific background. It is overwritten whether we have a\n",
              "  specific estimator or a Pipeline/ColumnTransformer */\n",
              "  background-color: var(--sklearn-color-background);\n",
              "}\n",
              "\n",
              "/* Toggleable label */\n",
              "#sk-container-id-2 label.sk-toggleable__label {\n",
              "  cursor: pointer;\n",
              "  display: block;\n",
              "  width: 100%;\n",
              "  margin-bottom: 0;\n",
              "  padding: 0.5em;\n",
              "  box-sizing: border-box;\n",
              "  text-align: center;\n",
              "}\n",
              "\n",
              "#sk-container-id-2 label.sk-toggleable__label-arrow:before {\n",
              "  /* Arrow on the left of the label */\n",
              "  content: \"▸\";\n",
              "  float: left;\n",
              "  margin-right: 0.25em;\n",
              "  color: var(--sklearn-color-icon);\n",
              "}\n",
              "\n",
              "#sk-container-id-2 label.sk-toggleable__label-arrow:hover:before {\n",
              "  color: var(--sklearn-color-text);\n",
              "}\n",
              "\n",
              "/* Toggleable content - dropdown */\n",
              "\n",
              "#sk-container-id-2 div.sk-toggleable__content {\n",
              "  max-height: 0;\n",
              "  max-width: 0;\n",
              "  overflow: hidden;\n",
              "  text-align: left;\n",
              "  /* unfitted */\n",
              "  background-color: var(--sklearn-color-unfitted-level-0);\n",
              "}\n",
              "\n",
              "#sk-container-id-2 div.sk-toggleable__content.fitted {\n",
              "  /* fitted */\n",
              "  background-color: var(--sklearn-color-fitted-level-0);\n",
              "}\n",
              "\n",
              "#sk-container-id-2 div.sk-toggleable__content pre {\n",
              "  margin: 0.2em;\n",
              "  border-radius: 0.25em;\n",
              "  color: var(--sklearn-color-text);\n",
              "  /* unfitted */\n",
              "  background-color: var(--sklearn-color-unfitted-level-0);\n",
              "}\n",
              "\n",
              "#sk-container-id-2 div.sk-toggleable__content.fitted pre {\n",
              "  /* unfitted */\n",
              "  background-color: var(--sklearn-color-fitted-level-0);\n",
              "}\n",
              "\n",
              "#sk-container-id-2 input.sk-toggleable__control:checked~div.sk-toggleable__content {\n",
              "  /* Expand drop-down */\n",
              "  max-height: 200px;\n",
              "  max-width: 100%;\n",
              "  overflow: auto;\n",
              "}\n",
              "\n",
              "#sk-container-id-2 input.sk-toggleable__control:checked~label.sk-toggleable__label-arrow:before {\n",
              "  content: \"▾\";\n",
              "}\n",
              "\n",
              "/* Pipeline/ColumnTransformer-specific style */\n",
              "\n",
              "#sk-container-id-2 div.sk-label input.sk-toggleable__control:checked~label.sk-toggleable__label {\n",
              "  color: var(--sklearn-color-text);\n",
              "  background-color: var(--sklearn-color-unfitted-level-2);\n",
              "}\n",
              "\n",
              "#sk-container-id-2 div.sk-label.fitted input.sk-toggleable__control:checked~label.sk-toggleable__label {\n",
              "  background-color: var(--sklearn-color-fitted-level-2);\n",
              "}\n",
              "\n",
              "/* Estimator-specific style */\n",
              "\n",
              "/* Colorize estimator box */\n",
              "#sk-container-id-2 div.sk-estimator input.sk-toggleable__control:checked~label.sk-toggleable__label {\n",
              "  /* unfitted */\n",
              "  background-color: var(--sklearn-color-unfitted-level-2);\n",
              "}\n",
              "\n",
              "#sk-container-id-2 div.sk-estimator.fitted input.sk-toggleable__control:checked~label.sk-toggleable__label {\n",
              "  /* fitted */\n",
              "  background-color: var(--sklearn-color-fitted-level-2);\n",
              "}\n",
              "\n",
              "#sk-container-id-2 div.sk-label label.sk-toggleable__label,\n",
              "#sk-container-id-2 div.sk-label label {\n",
              "  /* The background is the default theme color */\n",
              "  color: var(--sklearn-color-text-on-default-background);\n",
              "}\n",
              "\n",
              "/* On hover, darken the color of the background */\n",
              "#sk-container-id-2 div.sk-label:hover label.sk-toggleable__label {\n",
              "  color: var(--sklearn-color-text);\n",
              "  background-color: var(--sklearn-color-unfitted-level-2);\n",
              "}\n",
              "\n",
              "/* Label box, darken color on hover, fitted */\n",
              "#sk-container-id-2 div.sk-label.fitted:hover label.sk-toggleable__label.fitted {\n",
              "  color: var(--sklearn-color-text);\n",
              "  background-color: var(--sklearn-color-fitted-level-2);\n",
              "}\n",
              "\n",
              "/* Estimator label */\n",
              "\n",
              "#sk-container-id-2 div.sk-label label {\n",
              "  font-family: monospace;\n",
              "  font-weight: bold;\n",
              "  display: inline-block;\n",
              "  line-height: 1.2em;\n",
              "}\n",
              "\n",
              "#sk-container-id-2 div.sk-label-container {\n",
              "  text-align: center;\n",
              "}\n",
              "\n",
              "/* Estimator-specific */\n",
              "#sk-container-id-2 div.sk-estimator {\n",
              "  font-family: monospace;\n",
              "  border: 1px dotted var(--sklearn-color-border-box);\n",
              "  border-radius: 0.25em;\n",
              "  box-sizing: border-box;\n",
              "  margin-bottom: 0.5em;\n",
              "  /* unfitted */\n",
              "  background-color: var(--sklearn-color-unfitted-level-0);\n",
              "}\n",
              "\n",
              "#sk-container-id-2 div.sk-estimator.fitted {\n",
              "  /* fitted */\n",
              "  background-color: var(--sklearn-color-fitted-level-0);\n",
              "}\n",
              "\n",
              "/* on hover */\n",
              "#sk-container-id-2 div.sk-estimator:hover {\n",
              "  /* unfitted */\n",
              "  background-color: var(--sklearn-color-unfitted-level-2);\n",
              "}\n",
              "\n",
              "#sk-container-id-2 div.sk-estimator.fitted:hover {\n",
              "  /* fitted */\n",
              "  background-color: var(--sklearn-color-fitted-level-2);\n",
              "}\n",
              "\n",
              "/* Specification for estimator info (e.g. \"i\" and \"?\") */\n",
              "\n",
              "/* Common style for \"i\" and \"?\" */\n",
              "\n",
              ".sk-estimator-doc-link,\n",
              "a:link.sk-estimator-doc-link,\n",
              "a:visited.sk-estimator-doc-link {\n",
              "  float: right;\n",
              "  font-size: smaller;\n",
              "  line-height: 1em;\n",
              "  font-family: monospace;\n",
              "  background-color: var(--sklearn-color-background);\n",
              "  border-radius: 1em;\n",
              "  height: 1em;\n",
              "  width: 1em;\n",
              "  text-decoration: none !important;\n",
              "  margin-left: 1ex;\n",
              "  /* unfitted */\n",
              "  border: var(--sklearn-color-unfitted-level-1) 1pt solid;\n",
              "  color: var(--sklearn-color-unfitted-level-1);\n",
              "}\n",
              "\n",
              ".sk-estimator-doc-link.fitted,\n",
              "a:link.sk-estimator-doc-link.fitted,\n",
              "a:visited.sk-estimator-doc-link.fitted {\n",
              "  /* fitted */\n",
              "  border: var(--sklearn-color-fitted-level-1) 1pt solid;\n",
              "  color: var(--sklearn-color-fitted-level-1);\n",
              "}\n",
              "\n",
              "/* On hover */\n",
              "div.sk-estimator:hover .sk-estimator-doc-link:hover,\n",
              ".sk-estimator-doc-link:hover,\n",
              "div.sk-label-container:hover .sk-estimator-doc-link:hover,\n",
              ".sk-estimator-doc-link:hover {\n",
              "  /* unfitted */\n",
              "  background-color: var(--sklearn-color-unfitted-level-3);\n",
              "  color: var(--sklearn-color-background);\n",
              "  text-decoration: none;\n",
              "}\n",
              "\n",
              "div.sk-estimator.fitted:hover .sk-estimator-doc-link.fitted:hover,\n",
              ".sk-estimator-doc-link.fitted:hover,\n",
              "div.sk-label-container:hover .sk-estimator-doc-link.fitted:hover,\n",
              ".sk-estimator-doc-link.fitted:hover {\n",
              "  /* fitted */\n",
              "  background-color: var(--sklearn-color-fitted-level-3);\n",
              "  color: var(--sklearn-color-background);\n",
              "  text-decoration: none;\n",
              "}\n",
              "\n",
              "/* Span, style for the box shown on hovering the info icon */\n",
              ".sk-estimator-doc-link span {\n",
              "  display: none;\n",
              "  z-index: 9999;\n",
              "  position: relative;\n",
              "  font-weight: normal;\n",
              "  right: .2ex;\n",
              "  padding: .5ex;\n",
              "  margin: .5ex;\n",
              "  width: min-content;\n",
              "  min-width: 20ex;\n",
              "  max-width: 50ex;\n",
              "  color: var(--sklearn-color-text);\n",
              "  box-shadow: 2pt 2pt 4pt #999;\n",
              "  /* unfitted */\n",
              "  background: var(--sklearn-color-unfitted-level-0);\n",
              "  border: .5pt solid var(--sklearn-color-unfitted-level-3);\n",
              "}\n",
              "\n",
              ".sk-estimator-doc-link.fitted span {\n",
              "  /* fitted */\n",
              "  background: var(--sklearn-color-fitted-level-0);\n",
              "  border: var(--sklearn-color-fitted-level-3);\n",
              "}\n",
              "\n",
              ".sk-estimator-doc-link:hover span {\n",
              "  display: block;\n",
              "}\n",
              "\n",
              "/* \"?\"-specific style due to the `<a>` HTML tag */\n",
              "\n",
              "#sk-container-id-2 a.estimator_doc_link {\n",
              "  float: right;\n",
              "  font-size: 1rem;\n",
              "  line-height: 1em;\n",
              "  font-family: monospace;\n",
              "  background-color: var(--sklearn-color-background);\n",
              "  border-radius: 1rem;\n",
              "  height: 1rem;\n",
              "  width: 1rem;\n",
              "  text-decoration: none;\n",
              "  /* unfitted */\n",
              "  color: var(--sklearn-color-unfitted-level-1);\n",
              "  border: var(--sklearn-color-unfitted-level-1) 1pt solid;\n",
              "}\n",
              "\n",
              "#sk-container-id-2 a.estimator_doc_link.fitted {\n",
              "  /* fitted */\n",
              "  border: var(--sklearn-color-fitted-level-1) 1pt solid;\n",
              "  color: var(--sklearn-color-fitted-level-1);\n",
              "}\n",
              "\n",
              "/* On hover */\n",
              "#sk-container-id-2 a.estimator_doc_link:hover {\n",
              "  /* unfitted */\n",
              "  background-color: var(--sklearn-color-unfitted-level-3);\n",
              "  color: var(--sklearn-color-background);\n",
              "  text-decoration: none;\n",
              "}\n",
              "\n",
              "#sk-container-id-2 a.estimator_doc_link.fitted:hover {\n",
              "  /* fitted */\n",
              "  background-color: var(--sklearn-color-fitted-level-3);\n",
              "}\n",
              "</style><div id=\"sk-container-id-2\" class=\"sk-top-container\"><div class=\"sk-text-repr-fallback\"><pre>LogisticRegression(max_iter=1000)</pre><b>In a Jupyter environment, please rerun this cell to show the HTML representation or trust the notebook. <br />On GitHub, the HTML representation is unable to render, please try loading this page with nbviewer.org.</b></div><div class=\"sk-container\" hidden><div class=\"sk-item\"><div class=\"sk-estimator fitted sk-toggleable\"><input class=\"sk-toggleable__control sk-hidden--visually\" id=\"sk-estimator-id-2\" type=\"checkbox\" checked><label for=\"sk-estimator-id-2\" class=\"sk-toggleable__label fitted sk-toggleable__label-arrow fitted\">&nbsp;&nbsp;LogisticRegression<a class=\"sk-estimator-doc-link fitted\" rel=\"noreferrer\" target=\"_blank\" href=\"https://scikit-learn.org/1.5/modules/generated/sklearn.linear_model.LogisticRegression.html\">?<span>Documentation for LogisticRegression</span></a><span class=\"sk-estimator-doc-link fitted\">i<span>Fitted</span></span></label><div class=\"sk-toggleable__content fitted\"><pre>LogisticRegression(max_iter=1000)</pre></div> </div></div></div></div>"
            ]
          },
          "metadata": {},
          "execution_count": 13
        }
      ]
    },
    {
      "cell_type": "code",
      "source": [
        "from sklearn.metrics import classification_report, confusion_matrix, accuracy_score\n",
        "\n",
        "# Predict and evaluate the model\n",
        "predictions = model.predict(test_vectors)\n",
        "\n",
        "print(\"Amazon Reviews Dataset Evaluation:\")\n",
        "print(\"Classification Report:\\n\", classification_report(test_labels, predictions))\n",
        "print(\"Confusion Matrix:\\n\", confusion_matrix(test_labels, predictions))\n",
        "print(\"Accuracy:\", accuracy_score(test_labels, predictions))"
      ],
      "metadata": {
        "colab": {
          "base_uri": "https://localhost:8080/"
        },
        "id": "KySj0s5zSDIw",
        "outputId": "d42d5bf8-7eac-4dfe-f3c4-da2d482a5ee7"
      },
      "execution_count": 14,
      "outputs": [
        {
          "output_type": "stream",
          "name": "stdout",
          "text": [
            "Amazon Reviews Dataset Evaluation:\n",
            "Classification Report:\n",
            "               precision    recall  f1-score   support\n",
            "\n",
            "         neg       0.87      0.86      0.87    144025\n",
            "         pos       0.86      0.87      0.87    143975\n",
            "\n",
            "    accuracy                           0.87    288000\n",
            "   macro avg       0.87      0.87      0.87    288000\n",
            "weighted avg       0.87      0.87      0.87    288000\n",
            "\n",
            "Confusion Matrix:\n",
            " [[124308  19717]\n",
            " [ 18238 125737]]\n",
            "Accuracy: 0.8682118055555555\n"
          ]
        }
      ]
    },
    {
      "cell_type": "markdown",
      "source": [
        "#### Mdoel Evaluation\n",
        "\n",
        "The model is performing quite well, especially given the balanced precision and recall scores for both positive and negative reviews, along with an overall accuracy of 87%. Here are some next steps to consider if you want to explore ways to improve performance further:\n",
        "\n",
        "---\n",
        "\n",
        "### 1. **Hyperparameter Tuning for `TfidfVectorizer` and Logistic Regression**\n",
        "   - **Vectorizer Parameters**: Experiment with different `max_features` values or `ngram_range` (e.g., `(1, 3)`) to capture more context in phrases. Adjusting `max_df` or `min_df` (terms appearing in most or fewest documents) could also filter out noise and improve feature quality.\n",
        "   - **Logistic Regression Parameters**: Use `GridSearchCV` to fine-tune the regularization parameter `C`, adjusting it to control overfitting and improve generalization.\n",
        "\n",
        "### 2. **Add Cross-Validation**\n",
        "   - **Cross-validation** can help get a better estimate of how the model generalizes to unseen data and ensure stability across different splits of the data. `StratifiedKFold` would maintain the same label distribution across folds.\n",
        "\n",
        "### 3. **Try Additional Models**\n",
        "   - **Naive Bayes**: Often performs well on text data and can offer a good comparison to Logistic Regression.\n",
        "   - **Support Vector Machine (SVM)**: Tends to perform well on high-dimensional text data and might yield better results, especially with optimized parameters.\n",
        "\n",
        "### 4. **Feature Engineering with Advanced Text Representations**\n",
        "   - **Word Embeddings**: You could try more sophisticated representations like word embeddings (e.g., Word2Vec, GloVe) or deep learning-based methods (e.g., BERT) to capture semantic relationships in text.\n",
        "   - **Dimensionality Reduction**: Consider using PCA or TruncatedSVD to reduce the feature space, especially if you increase `max_features`. This can improve both performance and model interpretability.\n",
        "\n",
        "### 5. **Add Ensemble Methods**\n",
        "   - Combining predictions from multiple models (e.g., Logistic Regression, Naive Bayes, SVM) in an ensemble model could increase accuracy, especially if the models are complementary.\n",
        "\n",
        "### 6. **Analyze Misclassifications**\n",
        "   - Look into examples of misclassified reviews to identify patterns, like ambiguous language or specific product categories. This can guide adjustments to preprocessing steps, model parameters, or additional training data needs.\n"
      ],
      "metadata": {
        "id": "CUzAcTz9hrFd"
      }
    },
    {
      "cell_type": "markdown",
      "source": [
        "## Optmize Model Params\n",
        "\n",
        "To implement these optimizations, we’ll set up a **GridSearchCV** to experiment with different `TfidfVectorizer` and `LogisticRegression` parameters. Here’s how we can proceed with each part:\n",
        "\n",
        "---\n",
        "\n",
        "### Step 1: Define a Pipeline and Parameter Grid\n",
        "\n",
        "We’ll use a **Pipeline** to streamline the preprocessing and model training steps, which also allows us to easily perform **GridSearchCV** on both `TfidfVectorizer` and `LogisticRegression` parameters.\n",
        "\n",
        "1. **TfidfVectorizer Parameters**:\n",
        "   - `max_features`: Experiment with different values, such as 3000, 5000, and 7000.\n",
        "   - `ngram_range`: Capture more context by including trigrams in addition to unigrams and bigrams.\n",
        "   - `max_df` and `min_df`: Set thresholds to filter out very common or rare terms.\n",
        "\n",
        "2. **LogisticRegression Parameters**:\n",
        "   - `C`: Test a range of values to control the regularization strength. Higher values (e.g., 1.0) reduce regularization, while lower values (e.g., 0.01) increase it.\n",
        "\n",
        "### Step 2: Set Up the Pipeline and GridSearchCV\n",
        "\n",
        "### Explanation\n",
        "\n",
        "1. **Pipeline**:\n",
        "   - The `Pipeline` combines `TfidfVectorizer` and `LogisticRegression` steps, allowing the vectorizer to transform text data directly for the model.\n",
        "   \n",
        "2. **Parameter Grid (`param_grid`)**:\n",
        "   - `tfidf__max_features`: Tries different limits on the maximum number of features to retain.\n",
        "   - `tfidf__ngram_range`: Experiments with unigrams, bigrams, and trigrams to capture more context.\n",
        "   - `tfidf__max_df` and `tfidf__min_df`: Filters terms that are too common (e.g., appearing in 70–100% of documents) or too rare (terms appearing fewer than 1, 5, or 10 times).\n",
        "   - `logreg__C`: Tests multiple regularization strengths to balance overfitting and generalization.\n",
        "\n",
        "3. **GridSearchCV**:\n",
        "   - **Cross-Validation (`cv=3`)**: Uses 3-fold cross-validation for each parameter combination.\n",
        "   - **Scoring (`f1_macro`)**: Optimizes the F1-macro score, which considers both classes and is suitable for balanced performance.\n",
        "   - **Parallel Processing (`n_jobs=-1`)**: Uses all available CPU cores to speed up the search.\n",
        "   - **Verbose Output (`verbose=2`)**: Provides detailed output to track the grid search progress.\n",
        "\n",
        "4. **Best Parameters and Score**:\n",
        "   - After fitting, `grid_search.best_params_` returns the optimal parameter combination, and `grid_search.best_score_` shows the best F1 score achieved during the search.\n",
        "\n",
        "---\n",
        "\n",
        "### Next Steps\n",
        "1. **Evaluate on Test Data**: Once you have the best parameters, refit the model with the optimized parameters and evaluate it on the test data.\n",
        "2. **Compare Results**: Check if the adjusted model improves precision, recall, and F1-score over the initial setup.\n"
      ],
      "metadata": {
        "id": "COx8KR9eiRP4"
      }
    },
    {
      "cell_type": "markdown",
      "source": [
        "### Resample the Data\n",
        "- Vectorizer crashed using all the data so sampling to avoid crashing\n",
        "- Select small sample size to reduce run time with grid search"
      ],
      "metadata": {
        "id": "PT-xY3XbigN8"
      }
    },
    {
      "cell_type": "code",
      "source": [
        "# Set the sample size (e.g., 10% of the data)\n",
        "sample_fraction = 0.2\n",
        "sample_size = int(len(documents) * sample_fraction)\n",
        "# vectorizer crashed using all the data so sampling to avoid crashing\n",
        "\n",
        "# Select a random sample of reviews and their labels\n",
        "random.seed(42)\n",
        "sample_indices = random.sample(range(len(documents)), sample_size)\n",
        "sample_documents = [documents[i] for i in sample_indices]\n",
        "sample_labels = [labels[i] for i in sample_indices]\n",
        "\n",
        "# Split the sampled data into training and testing sets\n",
        "train_texts, test_texts, train_labels, test_labels = train_test_split(\n",
        "    sample_documents, sample_labels, test_size=0.2, random_state=42, stratify=sample_labels\n",
        ")\n",
        "\n",
        "# Initialize TfidfVectorizer with n-grams for enhanced context capture\n",
        "vectorizer = TfidfVectorizer(stop_words=\"english\", max_features=5000, ngram_range=(1, 2))\n",
        "\n",
        "# Start the timer for vectorization\n",
        "start_time = time.time()\n",
        "\n",
        "# Fit-transform the training data and transform the test data\n",
        "train_vectors = vectorizer.fit_transform(train_texts)\n",
        "test_vectors = vectorizer.transform(test_texts)\n",
        "\n",
        "# End the timer and print the elapsed time\n",
        "end_time = time.time()\n",
        "print(f\"Vectorization took {end_time - start_time:.2f} seconds.\")\n",
        "\n",
        "# Print the shape of the resulting vectors\n",
        "print(\"Shape of train_vectors:\", train_vectors.shape)\n",
        "print(\"Shape of test_vectors:\", test_vectors.shape)"
      ],
      "metadata": {
        "colab": {
          "base_uri": "https://localhost:8080/"
        },
        "id": "3PNf07Nbidwn",
        "outputId": "2a8e9fdc-b75d-4c02-d604-6cd79bb2f5cc"
      },
      "execution_count": 15,
      "outputs": [
        {
          "output_type": "stream",
          "name": "stdout",
          "text": [
            "Vectorization took 167.95 seconds.\n",
            "Shape of train_vectors: (576000, 5000)\n",
            "Shape of test_vectors: (144000, 5000)\n"
          ]
        }
      ]
    },
    {
      "cell_type": "markdown",
      "source": [
        "### Grid Search"
      ],
      "metadata": {
        "id": "XYwq6VEcj1WG"
      }
    },
    {
      "cell_type": "code",
      "source": [
        "from sklearn.pipeline import Pipeline\n",
        "from sklearn.model_selection import GridSearchCV\n",
        "from sklearn.feature_extraction.text import TfidfVectorizer\n",
        "from sklearn.linear_model import LogisticRegression\n",
        "\n",
        "# Start the timer for vectorization\n",
        "start_time = time.time()\n",
        "\n",
        "# Define the pipeline with TfidfVectorizer and LogisticRegression\n",
        "pipeline = Pipeline([\n",
        "    ('tfidf', TfidfVectorizer(stop_words='english')),\n",
        "    ('logreg', LogisticRegression(max_iter=1000, class_weight='balanced'))\n",
        "])\n",
        "\n",
        "# Set up the parameter grid\n",
        "# param_grid = {\n",
        "#     'tfidf__max_features': [3000, 5000, 7000],  # Feature count\n",
        "#     'tfidf__ngram_range': [(1, 1), (1, 2), (1, 3)],  # N-grams\n",
        "#     'tfidf__max_df': [0.7, 0.85, 1.0],  # Filter very common terms\n",
        "#     'tfidf__min_df': [1, 5, 10],  # Filter rare terms\n",
        "#     'logreg__C': [0.01, 0.1, 1.0, 10.0]  # Regularization strength\n",
        "# }\n",
        "\n",
        "# smaller grid to reduce run time\n",
        "param_grid = {\n",
        "    'tfidf__max_features': [3000, 5000],        # Reduced feature count options\n",
        "    'tfidf__ngram_range': [(1, 1), (1, 2)],     # Unigrams and bigrams only\n",
        "    'tfidf__max_df': [0.7, 1.0],                # Filter for very common terms\n",
        "    'tfidf__min_df': [1, 5],                    # Filter for rare terms\n",
        "    'logreg__C': [0.1, 1.0]                     # Regularization strength\n",
        "}\n",
        "\n",
        "# Set up GridSearchCV\n",
        "grid_search = GridSearchCV(pipeline, param_grid, cv=3, scoring='f1_macro', n_jobs=-1, verbose=2)\n",
        "\n",
        "# Run the grid search\n",
        "grid_search.fit(train_texts, train_labels)\n",
        "\n",
        "# End the timer and print the elapsed time\n",
        "end_time = time.time()\n",
        "print(f\"Vectorization took {end_time - start_time:.2f} seconds.\")\n",
        "\n",
        "# Print the best parameters and best score\n",
        "print(\"Best Parameters:\", grid_search.best_params_)\n",
        "print(\"Best F1 Score:\", grid_search.best_score_)"
      ],
      "metadata": {
        "id": "YJeAFyB79Cxq"
      },
      "execution_count": null,
      "outputs": []
    },
    {
      "cell_type": "markdown",
      "source": [
        "### Model Evaluation Best Params"
      ],
      "metadata": {
        "id": "kXjiC4v-jx73"
      }
    },
    {
      "cell_type": "code",
      "source": [
        "# Retrieve the best parameters from grid search\n",
        "best_params = grid_search.best_params_\n",
        "\n",
        "# Set up the pipeline with the best parameters\n",
        "best_pipeline = Pipeline([\n",
        "    ('tfidf', TfidfVectorizer(\n",
        "        stop_words='english',\n",
        "        max_features=best_params['tfidf__max_features'],\n",
        "        ngram_range=best_params['tfidf__ngram_range'],\n",
        "        max_df=best_params['tfidf__max_df'],\n",
        "        min_df=best_params['tfidf__min_df']\n",
        "    )),\n",
        "    ('logreg', LogisticRegression(\n",
        "        max_iter=1000,\n",
        "        class_weight='balanced',\n",
        "        C=best_params['logreg__C']\n",
        "    ))\n",
        "])\n",
        "\n",
        "# Train the model on the entire training data\n",
        "best_pipeline.fit(train_texts, train_labels)\n",
        "\n",
        "# Predict on the test set\n",
        "test_predictions = best_pipeline.predict(test_texts)\n",
        "\n",
        "# Print the classification report\n",
        "print(\"Classification Report for Best Model:\")\n",
        "print(classification_report(test_labels, test_predictions))\n"
      ],
      "metadata": {
        "id": "L8v4kWVtSDDi"
      },
      "execution_count": null,
      "outputs": []
    },
    {
      "cell_type": "markdown",
      "source": [
        "## LLM Model\n",
        "Setting up a Hugging Face language model for text classification is a great idea, as it provides a direct comparison between traditional ML models and transformer-based models. We’ll use the `transformers` library to load a pre-trained model fine-tuned for sentiment analysis. Here’s a step-by-step approach to setting it up.\n",
        "\n",
        "---\n",
        "\n",
        "### Summary\n",
        "\n",
        "- **Model Loading**: We use Hugging Face’s `pipeline` with a pre-trained model optimized for sentiment analysis.\n",
        "- **Truncation**: Long reviews are truncated to the model’s max token length to avoid errors.\n",
        "- **Label Mapping**: The model’s output labels (`POSITIVE`/`NEGATIVE`) are mapped to our original labels (`pos`/`neg`) for consistency.\n",
        "- **Evaluation**: The `classification_report` provides a summary of the LLM’s performance on the sample, enabling direct comparison with our tuned Logistic Regression model.\n",
        "\n",
        "This setup provides a quick way to evaluate the performance of an LLM on the same task, giving insights into whether the transformer-based approach has advantages in this context. Let me know if you’re ready to proceed or need further adjustments!"
      ],
      "metadata": {
        "id": "xanbs3mNtH_6"
      }
    },
    {
      "cell_type": "markdown",
      "source": [
        "### Step 1: Install and Import Libraries"
      ],
      "metadata": {
        "id": "OiJlqTEPuPSr"
      }
    },
    {
      "cell_type": "code",
      "source": [
        "# !pip install transformers"
      ],
      "metadata": {
        "id": "4fSVtfLYtXTm"
      },
      "execution_count": 18,
      "outputs": []
    },
    {
      "cell_type": "markdown",
      "source": [
        "### Step 2: Load the Model and Tokenizer\n",
        "We’ll use a model like `distilbert-base-uncased-finetuned-sst-2-english`, which is optimized for binary sentiment classification.\n",
        "\n",
        "The `pipeline` function in the Hugging Face `transformers` library is designed to simplify the entire process of working with language models. It combines **model loading**, **tokenization**, **inference**, and **post-processing** in one convenient step.\n",
        "\n",
        "Here’s why it’s called a pipeline and what it handles for you:\n",
        "\n",
        "1. **Model Loading**: `pipeline` loads a pre-trained model, in this case, `distilbert-base-uncased-finetuned-sst-2-english`, which is fine-tuned specifically for sentiment analysis.\n",
        "\n",
        "2. **Tokenization**: The pipeline automatically tokenizes the input text, splitting it into tokens (words or subwords) and converting them into numerical format, which the model can understand.\n",
        "\n",
        "3. **Inference**: After tokenizing, the pipeline feeds the tokens into the model to generate predictions, such as `\"POSITIVE\"` or `\"NEGATIVE\"` labels for sentiment analysis.\n",
        "\n",
        "4. **Post-Processing**: Finally, the pipeline converts the model’s output into a human-readable format. For sentiment analysis, it returns the sentiment label and a confidence score for each prediction.\n",
        "\n",
        "So, by using `pipeline`, you bypass the need to manually handle each of these tasks, making it an all-in-one solution that’s especially helpful for quick prototyping and testing."
      ],
      "metadata": {
        "id": "v_SejLYduG93"
      }
    },
    {
      "cell_type": "code",
      "source": [
        "from transformers import pipeline\n",
        "\n",
        "# Load the Hugging Face sentiment analysis pipeline\n",
        "sentiment_pipeline = pipeline(\"sentiment-analysis\", model=\"distilbert-base-uncased-finetuned-sst-2-english\")"
      ],
      "metadata": {
        "colab": {
          "base_uri": "https://localhost:8080/"
        },
        "id": "rhXlP6-qtaIR",
        "outputId": "2c4982f3-e1eb-4913-fdf9-5ad456b0e0da"
      },
      "execution_count": 21,
      "outputs": [
        {
          "output_type": "stream",
          "name": "stderr",
          "text": [
            "/usr/local/lib/python3.10/dist-packages/transformers/tokenization_utils_base.py:1601: FutureWarning: `clean_up_tokenization_spaces` was not set. It will be set to `True` by default. This behavior will be depracted in transformers v4.45, and will be then set to `False` by default. For more details check this issue: https://github.com/huggingface/transformers/issues/31884\n",
            "  warnings.warn(\n"
          ]
        }
      ]
    },
    {
      "cell_type": "markdown",
      "source": [
        "### Step 3: Prepare the Test Data\n",
        "To keep things manageable, we’ll use a sample from the test set. Hugging Face’s models may have a token limit (e.g., 512 tokens), so we’ll truncate long reviews.\n",
        "\n",
        "When using a pre-trained Hugging Face model with `pipeline`, there's no need to train the model. The Hugging Face model is already trained and fine-tuned, so we only need to apply it directly to the test data for evaluation.\n",
        "\n",
        "In this case, use the **original text data in `test_texts`**, rather than the `test_vectors`, because the `pipeline` will handle the tokenization for you. Here’s how to apply the model on `test_texts`:\n",
        "\n",
        "\n",
        "### Explanation\n",
        "- **Use `test_texts`**: Pass each review from `test_texts` directly to `sentiment_pipeline`. This bypasses the need for `vectorizer`, as the pipeline handles tokenization internally.\n",
        "- **Truncation**: We truncate to 512 tokens per review, which is typically the token limit for models like DistilBERT.\n",
        "- **Evaluate**: Compare predictions against the `test_labels` to assess the LLM’s performance.\n",
        "\n",
        "This will allow a true 1-to-1 comparison with the Logistic Regression model on the same data subset. Let me know if this makes sense or if you have more questions!"
      ],
      "metadata": {
        "id": "HTJWzXOiub8B"
      }
    },
    {
      "cell_type": "code",
      "source": [
        "# Set the sample size (e.g., 10% of the data)\n",
        "sample_fraction = 0.4\n",
        "sample_size = int(len(documents) * sample_fraction)\n",
        "# vectorizer crashed using all the data so sampling to avoid crashing\n",
        "\n",
        "# Select a random sample of reviews and their labels\n",
        "random.seed(42)\n",
        "sample_indices = random.sample(range(len(documents)), sample_size)\n",
        "sample_documents = [documents[i] for i in sample_indices]\n",
        "sample_labels = [labels[i] for i in sample_indices]\n",
        "\n",
        "# Split the sampled data into training and testing sets\n",
        "train_texts, test_texts, train_labels, test_labels = train_test_split(\n",
        "    sample_documents, sample_labels, test_size=0.2, random_state=42, stratify=sample_labels\n",
        ")\n",
        "\n",
        "# Print the number of samples in each split\n",
        "print(\"Number of training samples:\", len(train_texts))\n",
        "print(\"Number of testing samples:\", len(test_texts))\n",
        "\n",
        "# Optionally, you can also check the shape of the labels for consistency\n",
        "print(\"Number of training labels:\", len(train_labels))\n",
        "print(\"Number of testing labels:\", len(test_labels))\n"
      ],
      "metadata": {
        "colab": {
          "base_uri": "https://localhost:8080/"
        },
        "id": "my8raVOU-NfN",
        "outputId": "7f8da1d6-c65f-4ba8-8625-01d157874a87"
      },
      "execution_count": 26,
      "outputs": [
        {
          "output_type": "stream",
          "name": "stdout",
          "text": [
            "Number of training samples: 1152000\n",
            "Number of testing samples: 288000\n",
            "Number of training labels: 1152000\n",
            "Number of testing labels: 288000\n"
          ]
        }
      ]
    },
    {
      "cell_type": "code",
      "source": [
        "# Take a sample from the test data\n",
        "sample_test_texts = test_texts[:100]  # Adjust sample size as needed\n",
        "sample_test_labels = test_labels[:100]"
      ],
      "metadata": {
        "id": "KSZyf0aDtaE4"
      },
      "execution_count": null,
      "outputs": []
    },
    {
      "cell_type": "markdown",
      "source": [
        "### Step 4: Run Sentiment Analysis and Collect Predictions\n",
        "We’ll feed each review into the sentiment pipeline and collect predictions. Since our model uses `\"NEGATIVE\"` and `\"POSITIVE\"` labels, we’ll map them to `\"neg\"` and `\"pos\"` for consistency.\n"
      ],
      "metadata": {
        "id": "uP2NfippuifE"
      }
    },
    {
      "cell_type": "code",
      "source": [
        "start_time = time.time()\n",
        "\n",
        "# Use the test_texts from the initial data split and limit to a manageable sample\n",
        "llm_predictions = []\n",
        "for review in test_texts[:100]:  # Adjust sample size if needed\n",
        "    result = sentiment_pipeline(review[:512])  # Truncate to 512 tokens if necessary\n",
        "    label = result[0]['label']\n",
        "    llm_predictions.append(\"pos\" if label == \"POSITIVE\" else \"neg\")\n",
        "\n",
        "\n",
        "# End the timer and print the elapsed time\n",
        "end_time = time.time()\n",
        "print(f\"Predictions took {end_time - start_time:.2f} seconds.\")"
      ],
      "metadata": {
        "colab": {
          "base_uri": "https://localhost:8080/"
        },
        "id": "rlDLKt_qtZ8k",
        "outputId": "1da11c1c-db30-448c-eb65-cc4de7654e83"
      },
      "execution_count": 29,
      "outputs": [
        {
          "output_type": "stream",
          "name": "stdout",
          "text": [
            "Predictions took 31.68 seconds.\n"
          ]
        }
      ]
    },
    {
      "cell_type": "markdown",
      "source": [
        "### Step 5: Evaluate the LLM Model\n",
        "Now that we have predictions from the Hugging Face model, let’s print the classification report to compare with our Logistic Regression model."
      ],
      "metadata": {
        "id": "_RIvAkpkupqn"
      }
    },
    {
      "cell_type": "code",
      "source": [
        "from sklearn.metrics import classification_report\n",
        "\n",
        "# Evaluate the Hugging Face model performance\n",
        "print(\"Classification Report for Hugging Face LLM:\")\n",
        "print(classification_report(test_labels[:100], llm_predictions))  # Use the same sample size as predictions"
      ],
      "metadata": {
        "colab": {
          "base_uri": "https://localhost:8080/"
        },
        "id": "zJZasWKjSC-G",
        "outputId": "6f4a88fd-8ef3-442c-9326-a41c25c6d983"
      },
      "execution_count": 30,
      "outputs": [
        {
          "output_type": "stream",
          "name": "stdout",
          "text": [
            "Classification Report for Hugging Face LLM:\n",
            "              precision    recall  f1-score   support\n",
            "\n",
            "         neg       0.88      0.94      0.91        47\n",
            "         pos       0.94      0.89      0.91        53\n",
            "\n",
            "    accuracy                           0.91       100\n",
            "   macro avg       0.91      0.91      0.91       100\n",
            "weighted avg       0.91      0.91      0.91       100\n",
            "\n"
          ]
        }
      ]
    }
  ]
}