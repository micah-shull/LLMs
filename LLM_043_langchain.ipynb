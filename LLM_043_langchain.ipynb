{
  "nbformat": 4,
  "nbformat_minor": 0,
  "metadata": {
    "colab": {
      "provenance": [],
      "toc_visible": true,
      "authorship_tag": "ABX9TyOj6jUtSvzpyEYoMtfE8TH4",
      "include_colab_link": true
    },
    "kernelspec": {
      "name": "python3",
      "display_name": "Python 3"
    },
    "language_info": {
      "name": "python"
    }
  },
  "cells": [
    {
      "cell_type": "markdown",
      "metadata": {
        "id": "view-in-github",
        "colab_type": "text"
      },
      "source": [
        "<a href=\"https://colab.research.google.com/github/micah-shull/LLMs/blob/main/LLM_043_langchain.ipynb\" target=\"_parent\"><img src=\"https://colab.research.google.com/assets/colab-badge.svg\" alt=\"Open In Colab\"/></a>"
      ]
    },
    {
      "cell_type": "markdown",
      "source": [
        "### Imports\n",
        "\n",
        "---\n",
        "\n",
        "### 1. **`from langchain.prompts import ChatPromptTemplate, SystemMessagePromptTemplate, HumanMessagePromptTemplate`**\n",
        "\n",
        "These imports are used to create structured prompts for interacting with LLMs in a conversational format. Here’s what each one does:\n",
        "\n",
        "#### **a. `ChatPromptTemplate`**\n",
        "- **What it does**: Combines multiple message templates (system and human messages) into a single, reusable chat prompt.\n",
        "- **Why it's useful**:\n",
        "  - Helps organize conversations by defining clear roles and context (e.g., the system provides instructions, while the user gives specific queries).\n",
        "  - Allows dynamic formatting by inserting variables (e.g., `{dietary_preference}`).\n",
        "\n",
        "#### **b. `SystemMessagePromptTemplate`**\n",
        "- **What it does**: Defines the system's role or behavior in the conversation.\n",
        "- **Example**:\n",
        "  - A system message like `\"You are a helpful assistant\"` sets the tone and behavior for the LLM.\n",
        "  - These messages are not user-input specific but guide the model's overall interaction style.\n",
        "\n",
        "#### **c. `HumanMessagePromptTemplate`**\n",
        "- **What it does**: Captures the user's input in a structured way.\n",
        "- **Example**:\n",
        "  - A template like `\"{recipe_request}\"` dynamically includes user-specific queries, such as `\"I need a quick snack idea.\"`\n",
        "  - This makes the prompt adaptable to different inputs.\n",
        "\n",
        "---\n",
        "\n",
        "### 2. **`from langchain_openai import ChatOpenAI`**\n",
        "\n",
        "#### **a. `ChatOpenAI`**\n",
        "- **What it does**: This is the interface for interacting with OpenAI's chat-based models (e.g., `gpt-3.5-turbo`, `gpt-4`).\n",
        "- **Why it's useful**:\n",
        "  - Abstracts the complexity of calling OpenAI's API by providing an easy-to-use Python object.\n",
        "  - Allows configuration of model parameters like temperature, model version, and API key.\n",
        "\n",
        "#### **Key Features**:\n",
        "- **Temperature**: Controls randomness in responses (higher values = more creative).\n",
        "- **Model**: Specifies which OpenAI model to use (e.g., `gpt-3.5-turbo`, `gpt-4`).\n",
        "- **API Key Integration**: Handles authentication for querying OpenAI's servers.\n",
        "\n",
        "---\n",
        "\n",
        "### **How These Imports Work Together**\n",
        "1. **Prompt Creation (`ChatPromptTemplate`)**:\n",
        "   - Combines `SystemMessagePromptTemplate` (for context) and `HumanMessagePromptTemplate` (for user input) into a structured prompt.\n",
        "   - Example:\n",
        "     ```python\n",
        "     You are an AI recipe assistant that specializes in Vegan dishes that can be prepared in 15 minutes.\n",
        "     I need a quick snack idea.\n",
        "     ```\n",
        "\n",
        "2. **ChatOpenAI**:\n",
        "   - Takes the structured prompt created by `ChatPromptTemplate` and sends it to an OpenAI model (e.g., `gpt-4`) for generating a response.\n",
        "\n",
        "---\n",
        "\n",
        "### Why These Imports Are Useful\n",
        "- They provide **modularity** and **clarity**:\n",
        "  - System and user prompts are separated into templates for reusability.\n",
        "  - ChatOpenAI handles model interactions, keeping API calls simple and readable.\n",
        "- They are **flexible**:\n",
        "  - You can dynamically update prompts based on user input.\n",
        "  - You can switch between OpenAI models by simply changing parameters in `ChatOpenAI`.\n",
        "\n"
      ],
      "metadata": {
        "id": "pe5sPfzw75OC"
      }
    },
    {
      "cell_type": "code",
      "execution_count": 2,
      "metadata": {
        "id": "LasYZ73a68iv"
      },
      "outputs": [],
      "source": [
        "# !pip install langchain\n",
        "# !pip install openai\n",
        "# !pip install python-dotenv\n",
        "# !pip install langchain-openai"
      ]
    },
    {
      "cell_type": "code",
      "source": [
        "import os\n",
        "from dotenv import load_dotenv\n",
        "from langchain.prompts import ChatPromptTemplate, SystemMessagePromptTemplate, HumanMessagePromptTemplate\n",
        "from langchain_openai import ChatOpenAI\n",
        "\n",
        "# Load environment variables from .env file\n",
        "load_dotenv('/content/API_KEYS.env')\n",
        "api_key = os.getenv(\"OPENAI_API_KEY\")\n",
        "# Set the environment variable globally for libraries like LangChain\n",
        "os.environ[\"OPENAI_API_KEY\"] = api_key\n",
        "# Print the API key to confirm it's loaded correctly\n",
        "print(\"API Key loaded from .env:\",os.environ[\"OPENAI_API_KEY\"][0:30])"
      ],
      "metadata": {
        "colab": {
          "base_uri": "https://localhost:8080/"
        },
        "id": "w2MbGPAx7EIy",
        "outputId": "f2e797cb-b8c5-4455-bf55-05ef091fc83f"
      },
      "execution_count": 3,
      "outputs": [
        {
          "output_type": "stream",
          "name": "stdout",
          "text": [
            "API Key loaded from .env: sk-proj-e1GUWruINPRnrozmiakkRM\n"
          ]
        }
      ]
    },
    {
      "cell_type": "markdown",
      "source": [
        "### Recipe Assistant\n"
      ],
      "metadata": {
        "id": "tPd4Zfzu8E4M"
      }
    },
    {
      "cell_type": "code",
      "source": [
        "# Step 1: Define system and human message templates\n",
        "system_template = (\n",
        "    \"You are an AI recipe assistant that specializes in {dietary_preference} dishes \"\n",
        "    \"that can be prepared in {cooking_time}.\"\n",
        ")\n",
        "system_message_prompt = SystemMessagePromptTemplate.from_template(system_template)\n",
        "human_template = \"{recipe_request}\"\n",
        "human_message_prompt = HumanMessagePromptTemplate.from_template(human_template)\n",
        "\n",
        "# Step 2: Combine templates into a chat prompt\n",
        "chat_prompt = ChatPromptTemplate.from_messages([system_message_prompt, human_message_prompt])\n",
        "\n",
        "# Step 3: Format the prompt with user inputs\n",
        "formatted_prompt = chat_prompt.format_prompt(\n",
        "    dietary_preference=\"Vegan\",\n",
        "    cooking_time=\"15 min\",\n",
        "    recipe_request=\"I need a quick snack idea.\"\n",
        ").to_messages()\n",
        "\n",
        "# Step 4: Initialize the chat model\n",
        "chat = ChatOpenAI(openai_api_key=api_key, model=\"gpt-4o-mini\")\n",
        "\n",
        "# Step 5: Get a response from the model\n",
        "response = chat.invoke(formatted_prompt)\n",
        "\n",
        "# Step 6: Print the response content\n",
        "print(\"AI Recipe Suggestion:\")\n",
        "print(response.content)"
      ],
      "metadata": {
        "colab": {
          "base_uri": "https://localhost:8080/"
        },
        "id": "Bl1VeRU3_QLR",
        "outputId": "01aa1d60-dfde-4ec8-fa0c-36e058a014bf"
      },
      "execution_count": 4,
      "outputs": [
        {
          "output_type": "stream",
          "name": "stdout",
          "text": [
            "AI Recipe Suggestion:\n",
            "How about trying **Avocado Toast with Tomato and Balsamic Glaze**? It’s quick, delicious, and packed with nutrients!\n",
            "\n",
            "### Ingredients:\n",
            "- 1 ripe avocado\n",
            "- 2 slices of whole grain or gluten-free bread\n",
            "- 1 medium tomato, sliced\n",
            "- Salt and pepper to taste\n",
            "- Balsamic glaze (store-bought or homemade)\n",
            "- Optional: red pepper flakes or fresh basil for garnish\n",
            "\n",
            "### Instructions:\n",
            "1. **Toast the Bread**: Start by toasting the slices of bread in a toaster or on a skillet until golden brown.\n",
            "   \n",
            "2. **Prepare the Avocado**: While the bread is toasting, cut the avocado in half, remove the pit, and scoop the flesh into a bowl. Mash it with a fork and season with salt and pepper to taste.\n",
            "\n",
            "3. **Assemble**: Once the bread is toasted, spread the mashed avocado evenly on each slice. Top with the sliced tomatoes.\n",
            "\n",
            "4. **Drizzle**: Finish off by drizzling balsamic glaze over the top. If you like a bit of heat, sprinkle some red pepper flakes, or add fresh basil for extra flavor.\n",
            "\n",
            "5. **Serve**: Enjoy your quick, healthy snack!\n",
            "\n",
            "This snack takes about 10-15 minutes to prepare and is full of flavor!\n"
          ]
        }
      ]
    },
    {
      "cell_type": "markdown",
      "source": [
        "### Trivia Assistant"
      ],
      "metadata": {
        "id": "WW_8g6FV9TH6"
      }
    },
    {
      "cell_type": "code",
      "source": [
        "# Step 1: Define system and human message templates\n",
        "system_template = (\n",
        "    \"You are a trivia expert who provides accurate and detailed answers to any question.\"\n",
        ")\n",
        "system_message_prompt = SystemMessagePromptTemplate.from_template(system_template)\n",
        "human_template = \"{trivia_question}\"\n",
        "human_message_prompt = HumanMessagePromptTemplate.from_template(human_template)\n",
        "\n",
        "# Step 2: Combine templates into a chat prompt\n",
        "chat_prompt = ChatPromptTemplate.from_messages([system_message_prompt, human_message_prompt])\n",
        "\n",
        "# Step 3: Format the prompt with user inputs\n",
        "formatted_prompt = chat_prompt.format_prompt(\n",
        "    trivia_question=\"What is the capital of France?\"\n",
        ").to_messages()\n",
        "\n",
        "# Step 4: Initialize the chat model\n",
        "chat = ChatOpenAI(openai_api_key=api_key, model=\"gpt-4o-mini\")\n",
        "\n",
        "# Step 5: Get a response from the model\n",
        "response = chat.invoke(formatted_prompt)\n",
        "\n",
        "# Step 6: Print the response content\n",
        "print(\"Trivia Answer:\")\n",
        "print(response.content)"
      ],
      "metadata": {
        "colab": {
          "base_uri": "https://localhost:8080/"
        },
        "id": "1DChZG7B76-f",
        "outputId": "bf629820-44af-486d-a099-c0de4ded6906"
      },
      "execution_count": 5,
      "outputs": [
        {
          "output_type": "stream",
          "name": "stdout",
          "text": [
            "Trivia Answer:\n",
            "The capital of France is Paris.\n"
          ]
        }
      ]
    },
    {
      "cell_type": "markdown",
      "source": [
        "### Language Translator"
      ],
      "metadata": {
        "id": "1jXgYgvAPbyR"
      }
    },
    {
      "cell_type": "code",
      "source": [
        "# Step 1: Define system and human message templates\n",
        "system_template = (\n",
        "    \"You are a language translator who specializes in translating text into {language}.\"\n",
        ")\n",
        "system_message_prompt = SystemMessagePromptTemplate.from_template(system_template)\n",
        "human_template = \"Translate the following text: {text}\"\n",
        "human_message_prompt = HumanMessagePromptTemplate.from_template(human_template)\n",
        "\n",
        "# Step 2: Combine templates into a chat prompt\n",
        "chat_prompt = ChatPromptTemplate.from_messages([system_message_prompt, human_message_prompt])\n",
        "\n",
        "# Step 3: Format the prompt with user inputs\n",
        "formatted_prompt = chat_prompt.format_prompt(\n",
        "    language=\"French\",\n",
        "    text=\"Hello, how are you?\"\n",
        ").to_messages()\n",
        "\n",
        "# Step 4: Initialize the chat model\n",
        "chat = ChatOpenAI(openai_api_key=api_key, model=\"gpt-4o-mini\")\n",
        "\n",
        "# Step 5: Get a response from the model\n",
        "response = chat.invoke(formatted_prompt)\n",
        "\n",
        "# Step 6: Print the response content\n",
        "print(\"Translation:\")\n",
        "print(response.content)\n"
      ],
      "metadata": {
        "colab": {
          "base_uri": "https://localhost:8080/"
        },
        "id": "Jp-yUJ9YNQR8",
        "outputId": "0b910537-ef7c-4f3e-8791-e3c9e9919186"
      },
      "execution_count": 6,
      "outputs": [
        {
          "output_type": "stream",
          "name": "stdout",
          "text": [
            "Translation:\n",
            "Bonjour, comment ça va ?\n"
          ]
        }
      ]
    },
    {
      "cell_type": "markdown",
      "source": [
        "### Coding Assistant"
      ],
      "metadata": {
        "id": "dirdDEeJPmyL"
      }
    },
    {
      "cell_type": "code",
      "source": [
        "# Step 1: Define system and human message templates\n",
        "system_template = (\n",
        "    \"You are a programming assistant specializing in Python. Provide detailed solutions and explanations.\"\n",
        ")\n",
        "system_message_prompt = SystemMessagePromptTemplate.from_template(system_template)\n",
        "human_template = \"How can I write a Python function to calculate the factorial of a number?\"\n",
        "human_message_prompt = HumanMessagePromptTemplate.from_template(human_template)\n",
        "\n",
        "# Step 2: Combine templates into a chat prompt\n",
        "chat_prompt = ChatPromptTemplate.from_messages([system_message_prompt, human_message_prompt])\n",
        "\n",
        "# Step 3: Format the prompt with user inputs\n",
        "formatted_prompt = chat_prompt.format_prompt().to_messages()\n",
        "\n",
        "# Step 4: Initialize the chat model\n",
        "chat = ChatOpenAI(openai_api_key=api_key, model=\"gpt-4o-mini\")\n",
        "\n",
        "# Step 5: Get a response from the model\n",
        "response = chat.invoke(formatted_prompt)\n",
        "\n",
        "# Step 6: Print the response content\n",
        "print(\"Coding Solution:\")\n",
        "print(response.content)\n"
      ],
      "metadata": {
        "colab": {
          "base_uri": "https://localhost:8080/"
        },
        "id": "FJg2N6suNQPE",
        "outputId": "39e23fef-eb72-489c-e900-c9071e9d254b"
      },
      "execution_count": 8,
      "outputs": [
        {
          "output_type": "stream",
          "name": "stdout",
          "text": [
            "Coding Solution:\n",
            "Calculating the factorial of a number is a common task in programming. The factorial of a non-negative integer \\( n \\) is the product of all positive integers less than or equal to \\( n \\) and is denoted as \\( n! \\). The factorial of 0 is defined as 1.\n",
            "\n",
            "There are multiple ways to implement a factorial function in Python, including using a loop, recursion, or leveraging the built-in `math` module. Below, I will provide examples of each method.\n",
            "\n",
            "### Method 1: Using a Loop\n",
            "\n",
            "Here’s a straightforward way to calculate the factorial using a loop:\n",
            "\n",
            "```python\n",
            "def factorial(n):\n",
            "    if n < 0:\n",
            "        raise ValueError(\"Factorial is not defined for negative numbers.\")\n",
            "    result = 1\n",
            "    for i in range(1, n + 1):\n",
            "        result *= i\n",
            "    return result\n",
            "\n",
            "# Example usage\n",
            "print(factorial(5))  # Output: 120\n",
            "```\n",
            "\n",
            "**Explanation:**\n",
            "1. The function `factorial` takes a single argument `n`.\n",
            "2. It checks if `n` is negative; if so, it raises a `ValueError`.\n",
            "3. It initializes `result` to 1.\n",
            "4. The for loop iterates from 1 to `n`, multiplying `result` by each integer.\n",
            "5. Finally, it returns the computed factorial.\n",
            "\n",
            "### Method 2: Using Recursion\n",
            "\n",
            "You can also calculate the factorial using a recursive approach:\n",
            "\n",
            "```python\n",
            "def factorial(n):\n",
            "    if n < 0:\n",
            "        raise ValueError(\"Factorial is not defined for negative numbers.\")\n",
            "    elif n == 0:\n",
            "        return 1\n",
            "    else:\n",
            "        return n * factorial(n - 1)\n",
            "\n",
            "# Example usage\n",
            "print(factorial(5))  # Output: 120\n",
            "```\n",
            "\n",
            "**Explanation:**\n",
            "1. The function checks if `n` is negative and raises a `ValueError` if true.\n",
            "2. If `n` is 0, it returns 1 (base case).\n",
            "3. For any positive integer \\( n \\), it returns \\( n \\) multiplied by the factorial of \\( n-1 \\).\n",
            "\n",
            "### Method 3: Using the `math` Module\n",
            "\n",
            "Python's standard library includes the `math` module, which has a built-in factorial function. This is the most efficient way to compute factorials for most use cases.\n",
            "\n",
            "```python\n",
            "import math\n",
            "\n",
            "def factorial(n):\n",
            "    if n < 0:\n",
            "        raise ValueError(\"Factorial is not defined for negative numbers.\")\n",
            "    return math.factorial(n)\n",
            "\n",
            "# Example usage\n",
            "print(factorial(5))  # Output: 120\n",
            "```\n",
            "\n",
            "**Explanation:**\n",
            "1. The function checks if `n` is negative and raises a `ValueError` if true.\n",
            "2. It calls `math.factorial(n)`, which efficiently computes the factorial using an optimized algorithm.\n",
            "\n",
            "### Summary\n",
            "\n",
            "- **Loop Method**: Simple and straightforward, suitable for small integers.\n",
            "- **Recursive Method**: Elegant but can lead to stack overflow for large integers due to deep recursion.\n",
            "- **Built-in Method**: Fast and efficient for all integers and should be preferred in production code.\n",
            "\n",
            "Choose the method that best suits your needs based on the size of the input and the context of your application!\n"
          ]
        }
      ]
    },
    {
      "cell_type": "markdown",
      "source": [
        "## Temperature Adjustments"
      ],
      "metadata": {
        "id": "94LaHknyQktw"
      }
    },
    {
      "cell_type": "markdown",
      "source": [
        "### History Storyteller"
      ],
      "metadata": {
        "id": "O-5AcOPgQc5w"
      }
    },
    {
      "cell_type": "code",
      "source": [
        "# Step 1: Define system and human message templates\n",
        "system_template = (\n",
        "    \"You are a history assistant specializing in storytelling about historical events.\"\n",
        ")\n",
        "system_message_prompt = SystemMessagePromptTemplate.from_template(system_template)\n",
        "human_template = \"Tell me a story about the American Civil War.\"\n",
        "human_message_prompt = HumanMessagePromptTemplate.from_template(human_template)\n",
        "\n",
        "# Step 2: Combine templates into a chat prompt\n",
        "chat_prompt = ChatPromptTemplate.from_messages([system_message_prompt, human_message_prompt])\n",
        "\n",
        "# Step 3: Format the prompt with user inputs\n",
        "formatted_prompt = chat_prompt.format_prompt().to_messages()\n",
        "\n",
        "# Step 4: Initialize chat models with different temperatures\n",
        "chat_low_temp = ChatOpenAI(openai_api_key=api_key, model=\"gpt-4o-mini\", temperature=0.2)\n",
        "chat_medium_temp = ChatOpenAI(openai_api_key=api_key, model=\"gpt-4o-mini\", temperature=0.7)\n",
        "chat_high_temp = ChatOpenAI(openai_api_key=api_key, model=\"gpt-4o-mini\", temperature=1.0)\n",
        "\n",
        "# Step 5: Get responses for different temperatures\n",
        "response_low_temp = chat_low_temp.invoke(formatted_prompt)\n",
        "response_medium_temp = chat_medium_temp.invoke(formatted_prompt)\n",
        "response_high_temp = chat_high_temp.invoke(formatted_prompt)\n",
        "\n",
        "# Step 6: Print the response contents\n",
        "print(\"Story with Low Temperature (Focused, Factual):\")\n",
        "print(response_low_temp.content)\n",
        "print('\\n', '------' * 15)\n",
        "\n",
        "print(\"\\nStory with Medium Temperature (Balanced Creativity):\")\n",
        "print(response_medium_temp.content)\n",
        "print('\\n', '------' * 15)\n",
        "\n",
        "print(\"\\nStory with High Temperature (Highly Creative, Elaborate):\")\n",
        "print(response_high_temp.content)\n",
        "print('\\n', '------' * 15)"
      ],
      "metadata": {
        "colab": {
          "base_uri": "https://localhost:8080/"
        },
        "id": "WSumpkoYNQJ5",
        "outputId": "4a8fbba1-701b-4fbf-9d2f-3e0dfcafbd3d"
      },
      "execution_count": 14,
      "outputs": [
        {
          "output_type": "stream",
          "name": "stdout",
          "text": [
            "Story with Low Temperature (Focused, Factual):\n",
            "Once upon a time, in the mid-19th century, the United States was a nation divided. The year was 1861, and tensions between the Northern states, known as the Union, and the Southern states, which had seceded to form the Confederacy, had reached a boiling point. The issue of slavery was at the heart of this conflict, with the South relying on the institution for its agricultural economy, while the North was increasingly moving toward abolition and industrialization.\n",
            "\n",
            "In a small town in Virginia, a young man named Samuel Thompson found himself caught in the turmoil. Samuel was a farmer’s son, raised in a family that had owned slaves for generations. However, as he grew older, he began to question the morality of slavery and the way it dehumanized people. He often found himself in heated debates with his friends, some of whom were staunch supporters of the Confederacy.\n",
            "\n",
            "When the war broke out, Samuel felt a deep conflict within him. He loved his home and his family, but he also felt a growing sense of duty to fight for what he believed was right. After much contemplation, he made the difficult decision to join the Union Army, hoping to help preserve the nation and end the suffering of enslaved people.\n",
            "\n",
            "As Samuel marched off to war, he left behind his childhood sweetheart, Clara, who was heartbroken but proud of his bravery. She promised to wait for him, believing that love could withstand even the darkest of times.\n",
            "\n",
            "The war was brutal and unforgiving. Samuel fought in several key battles, including the First Battle of Bull Run and the Battle of Antietam, where he witnessed the horrors of war firsthand. The sights and sounds of battle haunted him, but he remained resolute in his belief that he was fighting for a just cause.\n",
            "\n",
            "One fateful day, during the Battle of Gettysburg in July 1863, Samuel found himself in the thick of the fighting. The Union and Confederate forces clashed fiercely, and the air was thick with smoke and the cries of the wounded. In the chaos, Samuel spotted a Confederate soldier who had fallen, injured and alone. As he approached, he recognized the soldier as his childhood friend, Thomas, who had chosen to fight for the South.\n",
            "\n",
            "In that moment, Samuel faced a profound moral dilemma. He could have easily turned away, but instead, he knelt beside Thomas, who was gasping for breath. “I’m sorry, Samuel,” Thomas whispered, tears in his eyes. “I didn’t want it to come to this.”\n",
            "\n",
            "With the sounds of battle raging around them, Samuel made a choice that would define his character. He helped Thomas to safety, risking his own life to save someone he had once called a brother. They were both captured by Union forces but were later released after the battle. The experience changed Samuel; he realized that the war was not just about North versus South, but about humanity and compassion.\n",
            "\n",
            "As the war dragged on, Samuel and Clara exchanged letters, their love growing stronger despite the distance and uncertainty. Clara became an active supporter of the Union cause, volunteering as a nurse and helping wounded soldiers. She often wrote to Samuel about her experiences, and her words filled him with hope.\n",
            "\n",
            "Finally, in April 1865, the war came to an end with the surrender of General Robert E. Lee at Appomattox Court House. Samuel returned home, weary but triumphant. He found Clara waiting for him, her heart full of love and pride. They embraced, knowing that they had both fought for a better future.\n",
            "\n",
            "The Civil War had changed the nation forever, and it had transformed Samuel and Clara as well. They dedicated their lives to rebuilding their community and advocating for the rights of all people, regardless of their background. Their love story became a testament to the power of compassion and understanding in the face of division.\n",
            "\n",
            "And so, in the aftermath of a war that had torn the nation apart, Samuel and Clara found a way to heal, reminding everyone that even in the darkest times, love and humanity could prevail.\n",
            "\n",
            " ------------------------------------------------------------------------------------------\n",
            "\n",
            "Story with Medium Temperature (Balanced Creativity):\n",
            "Once upon a time in the mid-19th century, the United States was a nation deeply divided. The year was 1861, and the country was on the brink of a conflict that would reshape its identity forever: the American Civil War.\n",
            "\n",
            "In a small town in Virginia, there lived a young man named Thomas, a passionate Virginia native who had always loved his homeland and its traditions. He was a farmer, working the land that had been in his family for generations. The winds of change began to stir, however, as the debate over slavery intensified. Thomas believed that the institution of slavery was essential for the economic prosperity of the South, but he also had friends in the North, including a spirited abolitionist named Clara, who visited him during the summer months.\n",
            "\n",
            "Their friendship, born of shared laughter and dreams of a better future, began to crack under the weight of the impending conflict. Clara would often talk passionately about her beliefs, and Thomas found himself torn between loyalty to his state and the bonds of friendship he felt with Clara. As the war approached, tensions escalated, and the country became increasingly polarized.\n",
            "\n",
            "When Virginia seceded from the Union in April 1861, Thomas felt a surge of patriotism. He quickly enlisted in the Confederate Army, believing he was fighting for his home and way of life. Clara, upon hearing the news, was heartbroken. She had hoped to persuade Thomas to join the Union cause, but now, she felt the chasm between them widen.\n",
            "\n",
            "As the war raged on, Thomas found himself in the thick of battle at the First Battle of Bull Run. The experience was unlike anything he had ever imagined. The air was thick with smoke, the sounds of cannon fire and the cries of wounded men filled his ears. In the chaos, he caught a glimpse of the opposing side—young men just like him, fighting for their own beliefs and homes. It was a moment of profound realization; these were not just enemies, but fellow Americans.\n",
            "\n",
            "Meanwhile, Clara used her voice to rally support for the Union cause. She became a nurse, volunteering her time to care for wounded soldiers. She often thought of Thomas, praying for his safety and hoping that one day they could bridge the divide that war had created.\n",
            "\n",
            "Months turned into years, and the conflict claimed countless lives. Battles raged from Antietam to Gettysburg, each one more devastating than the last. Thomas witnessed the horrors of war, the loss of friends, and the destruction of the land he loved. The ideals he once held so dearly began to crumble under the weight of the suffering around him.\n",
            "\n",
            "In the winter of 1863, during a brutal campaign, Thomas was injured at the Battle of Fredericksburg. As he lay in a makeshift hospital, he found himself reflecting on the choices he had made. It was there that he encountered Clara, who had come to care for the wounded. Their eyes met, and in that moment, the years of conflict faded away. They spoke for hours, sharing their hopes, fears, and the realities of war. Clara’s compassion and conviction began to soften Thomas’s heart.\n",
            "\n",
            "After months of recovery, Thomas returned home, profoundly changed. He had seen the depths of human suffering and the futility of hatred. The war continued, but he began to question the very foundations of his beliefs. He and Clara worked together in their town, advocating for peace and reconciliation. They held meetings, telling stories of their experiences, fostering understanding between Union and Confederate sympathizers.\n",
            "\n",
            "When the war finally came to an end in 1865, it left the nation in tatters, but Thomas and Clara were determined to rebuild. They devoted themselves to healing their community, promoting unity, and working towards a future where the scars of war could be healed through understanding and compassion.\n",
            "\n",
            "And so, in the ruins of a divided nation, two friends stood together, committed to a new vision for America—one where liberty and justice could truly belong to all its people. Their story became a testament to the power of empathy, a reminder that amidst the fiercest battles, the human spirit can find a way to connect, heal, and ultimately prevail.\n",
            "\n",
            " ------------------------------------------------------------------------------------------\n",
            "\n",
            "Story with High Temperature (Highly Creative, Elaborate):\n",
            "Once upon a time in the tumultuous heart of 1861, the United States was a fractured nation, rent asunder by a deep and abiding chasm. The Civil War had begun, a clash of ideologies that would come to define a generation and reshape the course of history.\n",
            "\n",
            "In a small town in Virginia, the life of a young woman named Clara Reynolds was about to be forever altered. Clara, a spirited and intelligent girl of eighteen, lived with her family on a modest farm just outside the bustling town of Alexandria. With the war looming, life in the region became increasingly tense. News of Southern states seceding from the Union spread rapidly, and with it came whispers of battles, of heroes and hardships.\n",
            "\n",
            "Clara’s father, a staunch supporter of the Confederacy, spent countless hours discussing the virtues of states’ rights and the preservation of their way of life. Clara found herself torn between loyalty to her family and an emerging sense of justice regarding the pressing issue of slavery. She saw the enslaved workers in her community, and while she had been raised in an environment that considered slavery a norm, her heart began to question the moral implications.\n",
            "\n",
            "As the conflict escalated, many men from the town, including Clara’s older brother, Thomas, enlisted to fight for their beliefs. The day of his departure was laden with emotion; Clara, unable to hold back her tears, hugged him tightly, whispering a promise to look after their family. She watched as he rode away, a brave but frightened boy transformed into a soldier.\n",
            "\n",
            "With the men gone, Clara volunteered as a nurse, transforming the town’s modest church into a makeshift infirmary. Her days were long and filled with the screams and cries of the wounded and dying. Soldiers poured in from both sides of the conflict, bringing with them tales of valor and violence. Clara learned to tend to the grisly wounds, creating a space of comfort amidst the chaos.\n",
            "\n",
            "As the months passed, rumors of battles reached the town like gusts of wind, bringing with them tales of victory and loss. Clara heard of the brutal engagement at Bull Run, the first major battle of the war, where the jubilant cries of Confederate fighters clashed with the despair of Union soldiers. It was on those blood-soaked fields that she learned of Thomas’s fate. He was wounded, a bullet having shattered his knee, but somehow he survived.\n",
            "\n",
            "Once the news arrived, Clara’s heart raced with determination. She could no longer sit idly by while the war claimed the lives of those she loved. With a few fellow nurses and local volunteers, she set off to find her brother, traversing the tumultuous landscape of war-torn Virginia. They journeyed through thick forests and across streams, dodging battles and skirmishes, driven by Clara’s unwavering resolve to bring her brother home.\n",
            "\n",
            "When they finally reached the army’s encampment near the Potomac River, the sight was staggering. Tents dotted the landscape, and the air was thick with tension and the smell of smoke. Clara quickly found her way to the medical tent, where the cries of suffering men echoed like thunder. There, she spotted Thomas, pale and gaunt, his leg bandaged but adorned with the courage of a soldier.\n",
            "\n",
            "“Clara!” he gasped, surprise lighting his features as she rushed to his side. “What are you doing here?”\n",
            "\n",
            "“I came to bring you home,\" she said, tears of relief shining in her eyes. “You don’t have to fight anymore.”\n",
            "\n",
            "But Thomas shook his head, determination etched across his face. “Clara, I cannot leave. My duty is here, amidst the brothers who fight for our cause. I fight for you, for our family, and for those who cannot fight for themselves.”\n",
            "\n",
            "Those words struck Clara deeply. She realized the fight was not just for a fractured nation but for the very souls imprisoned by their circumstances. Inspired, she chose to stay at the camp, determined to help in any way she could. As battles raged on, she found her purpose in advocating for the wounded and advocating against the injustices of slavery, touching the lives of many soldiers, regardless of their uniforms.\n",
            "\n",
            "Months turned into years, and Clara’s tireless work gradually gained recognition. Her compassion transcended the divisions of the war, earning her the respect of both Union and Confederate troops. The war raged on, with each battle etching a deeper wound into the soul of the country, but Clara persisted, united in her belief that healing was possible.\n",
            "\n",
            "Finally, in April 1865, the shell of a once-great nation lay battered and bruised. The surrender of General Robert E. Lee at Appomattox Courthouse sealed the fate of the Confederacy, and the war was effectively over. As Clara stood amidst the ruins of war, she realized that a new battle loomed on the horizon, one of reconstruction and healing.\n",
            "\n",
            "As she returned home, side by side with Thomas, they knew the trials were far from over. Together, they would forge a new path in a reimagined nation, one where the echoes of war transformed into the calls of unity, justice, and hope. And thus, Clara Reynolds became not just a spectator in history but a vital part of its fabric, proving that even amidst the darkest times, the heart’s courage and compassion can shine brightly to illuminate a way forward in a fractured world.\n",
            "\n",
            " ------------------------------------------------------------------------------------------\n"
          ]
        }
      ]
    },
    {
      "cell_type": "markdown",
      "source": [
        "\n",
        "\n",
        "## **Key Code Concepts for LangChain**\n",
        "\n",
        "#### **1. System and Human Message Templates**\n",
        "- **Purpose**: Define the roles and input structure for the AI interaction.\n",
        "- **Key Components**:\n",
        "  - **SystemMessagePromptTemplate**: Specifies the AI's role or behavior (e.g., a storyteller, historian, or assistant).\n",
        "  - **HumanMessagePromptTemplate**: Captures the user's input or query in a structured way.\n",
        "- **Example**:\n",
        "  ```python\n",
        "  system_template = \"You are a history assistant specializing in storytelling about historical events.\"\n",
        "  human_template = \"Tell me a story about the American Civil War.\"\n",
        "  ```\n",
        "\n",
        "---\n",
        "\n",
        "#### **2. Combining Templates into a Chat Prompt**\n",
        "- **Purpose**: Create a reusable chat prompt by combining system and human messages.\n",
        "- **Key Component**:\n",
        "  - **ChatPromptTemplate**: Combines `SystemMessagePromptTemplate` and `HumanMessagePromptTemplate` into a single prompt for seamless interaction.\n",
        "- **Example**:\n",
        "  ```python\n",
        "  chat_prompt = ChatPromptTemplate.from_messages([system_message_prompt, human_message_prompt])\n",
        "  ```\n",
        "\n",
        "---\n",
        "\n",
        "#### **3. Formatting the Prompt**\n",
        "- **Purpose**: Dynamically insert user inputs into the prompt for personalized interactions.\n",
        "- **Key Component**:\n",
        "  - **`format_prompt()` Method**: Replaces placeholders in the templates (e.g., `{dietary_preference}` or `{trivia_question}`) with user-provided values.\n",
        "- **Example**:\n",
        "  ```python\n",
        "  formatted_prompt = chat_prompt.format_prompt(\n",
        "      dietary_preference=\"Vegan\",\n",
        "      cooking_time=\"15 min\",\n",
        "      recipe_request=\"I need a quick snack idea.\"\n",
        "  ).to_messages()\n",
        "  ```\n",
        "\n",
        "---\n",
        "\n",
        "#### **4. Initializing the Chat Model**\n",
        "- **Purpose**: Connect to OpenAI's API using LangChain's `ChatOpenAI` interface.\n",
        "- **Key Features**:\n",
        "  - **Temperature Parameter**: Controls the randomness of responses.\n",
        "    - **Low Temperature (e.g., 0.2)**: Produces factual and consistent outputs.\n",
        "    - **High Temperature (e.g., 1.0)**: Generates more creative and diverse outputs.\n",
        "  - **Model Parameter**: Specifies the OpenAI model to use (e.g., `gpt-4`, `gpt-4-turbo`).\n",
        "- **Example**:\n",
        "  ```python\n",
        "  chat = ChatOpenAI(openai_api_key=api_key, model=\"gpt-4\", temperature=0.7)\n",
        "  ```\n",
        "\n",
        "---\n",
        "\n",
        "#### **5. Invoking the Model**\n",
        "- **Purpose**: Send the formatted prompt to the model and receive a response.\n",
        "- **Key Component**:\n",
        "  - **`invoke()` Method**: Executes the prompt and retrieves the output from the model.\n",
        "- **Example**:\n",
        "  ```python\n",
        "  response = chat.invoke(formatted_prompt)\n",
        "  print(response.content)\n",
        "  ```\n",
        "\n",
        "---\n",
        "\n",
        "#### **6. Exploring the Effect of Temperature**\n",
        "- **Purpose**: Demonstrate how changing the temperature impacts the model's responses.\n",
        "- **Key Takeaways**:\n",
        "  - **Low Temperature**: Focused, factual, deterministic (e.g., historical facts).\n",
        "  - **Medium Temperature**: Balanced creativity and coherence (e.g., engaging but grounded storytelling).\n",
        "  - **High Temperature**: Highly creative, imaginative, and sometimes chaotic (e.g., historical fiction).\n",
        "- **Implementation**:\n",
        "  - Experiment with `temperature=0.2`, `temperature=0.7`, and `temperature=1.0` for a single use case to observe differences.\n",
        "\n",
        "---\n",
        "\n",
        "#### **7. Modular Design for Reusability**\n",
        "- **Purpose**: Ensure the notebook is structured for easy adaptation to different use cases.\n",
        "- **Key Components**:\n",
        "  - **Templates**: Modular and reusable for different scenarios (e.g., trivia, history, storytelling).\n",
        "  - **Chat Model**: Configurable with parameters like `model` and `temperature` for various applications.\n",
        "- **Example**:\n",
        "  ```python\n",
        "  chat_prompt = ChatPromptTemplate.from_messages([system_message_prompt, human_message_prompt])\n",
        "  chat = ChatOpenAI(openai_api_key=api_key, model=\"gpt-4\", temperature=0.7)\n",
        "  response = chat.invoke(formatted_prompt)\n",
        "  ```\n",
        "\n",
        "---\n",
        "\n",
        "### **Best Practices to Note**\n",
        "1. **Dynamic Prompting**:\n",
        "   - Use placeholders (e.g., `{text}`) to make templates flexible and reusable for various inputs.\n",
        "   \n",
        "2. **Temperature Tuning**:\n",
        "   - Adjust the `temperature` parameter to align with the task:\n",
        "     - Use **low temperatures** for accuracy (e.g., history lessons, coding solutions).\n",
        "     - Use **high temperatures** for creativity (e.g., storytelling, brainstorming).\n",
        "\n",
        "3. **Iterative Experimentation**:\n",
        "   - Test multiple use cases (e.g., storytelling, trivia, translation) to understand the flexibility of LangChain.\n",
        "\n",
        "4. **Documentation**:\n",
        "   - Document each use case with examples of inputs and outputs to showcase how different settings affect the results.\n",
        "\n"
      ],
      "metadata": {
        "id": "DUIhMoq9T8-C"
      }
    },
    {
      "cell_type": "code",
      "source": [],
      "metadata": {
        "id": "arVdwZDxSivh"
      },
      "execution_count": null,
      "outputs": []
    }
  ]
}