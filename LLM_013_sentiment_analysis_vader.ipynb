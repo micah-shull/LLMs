{
  "nbformat": 4,
  "nbformat_minor": 0,
  "metadata": {
    "colab": {
      "provenance": [],
      "toc_visible": true,
      "authorship_tag": "ABX9TyMT8ZNzqFXAXj54U5adhPSC",
      "include_colab_link": true
    },
    "kernelspec": {
      "name": "python3",
      "display_name": "Python 3"
    },
    "language_info": {
      "name": "python"
    }
  },
  "cells": [
    {
      "cell_type": "markdown",
      "metadata": {
        "id": "view-in-github",
        "colab_type": "text"
      },
      "source": [
        "<a href=\"https://colab.research.google.com/github/micah-shull/LLMs/blob/main/LLM_013_sentiment_analysis_vader.ipynb\" target=\"_parent\"><img src=\"https://colab.research.google.com/assets/colab-badge.svg\" alt=\"Open In Colab\"/></a>"
      ]
    },
    {
      "cell_type": "markdown",
      "source": [
        "\n",
        "\n",
        "## **Sentiment Analysis with VADER in NLTK**\n",
        "\n",
        "### **Introduction**\n",
        "\n",
        "Sentiment analysis is the process of determining the emotional tone behind a series of words, which can help us gain insights into attitudes, opinions, and emotions expressed in a piece of text. It is commonly used in applications such as analyzing customer reviews, social media monitoring, and understanding public opinion on various topics.\n",
        "\n",
        "### **About VADER**\n",
        "\n",
        "**VADER (Valence Aware Dictionary and sEntiment Reasoner)** is a popular tool for sentiment analysis, especially suited to text from social media, reviews, and other informal sources. Developed as part of NLTK, VADER is a rule-based model that relies on a predefined sentiment lexicon, which assigns polarity scores to individual words, emoticons, and punctuation marks (like exclamation points).\n",
        "\n",
        "Unlike traditional sentiment analysis models that require extensive training data, VADER is designed to handle short, informal text right out of the box. It combines several aspects that make it particularly powerful:\n",
        "- **Lexicon-Based**: VADER has a built-in lexicon of words, phrases, and emojis, each associated with a positive, neutral, or negative sentiment score.\n",
        "- **Context Sensitivity**: It adjusts scores based on context, amplifying sentiment when punctuation like \"!\" or words in all caps are present (e.g., \"AWESOME!!!\" would be considered highly positive).\n",
        "- **Compound Scoring**: VADER provides a \"compound\" score that captures the overall sentiment of a text on a scale from -1 (most negative) to +1 (most positive).\n",
        "\n",
        "### **Role of VADER in Sentiment Analysis**\n",
        "\n",
        "VADER's pre-built lexicon and context sensitivity make it a powerful tool for quickly assessing sentiment without the need for large training datasets. It is particularly useful for:\n",
        "- **Social Media Sentiment**: VADER excels in handling slang, abbreviations, and emojis often found on social media platforms.\n",
        "- **Short Text Sentiment**: Its design is optimized for shorter texts, making it a good choice for analyzing reviews, tweets, or short feedback responses.\n",
        "\n",
        "### **Objective of This Notebook**\n",
        "\n",
        "In this notebook, we’ll use NLTK’s VADER module to perform sentiment analysis on a selection of text. We’ll explore how VADER assigns sentiment scores to each sentence and then apply these scores to classify the overall sentiment as **Positive**, **Negative**, or **Neutral**. This will help us understand how VADER operates and how it can be applied in real-world scenarios for rapid sentiment analysis.\n",
        "\n",
        "**VADER is not a Large Language Model (LLM)**. It’s a **rule-based, lexicon-driven tool** for sentiment analysis, specifically designed to assess sentiment in short, informal text.\n",
        "\n",
        "Here’s how VADER differs from an LLM:\n",
        "\n",
        "### 1. **Lexicon and Rule-Based Approach**\n",
        "   - **Lexicon-Driven**: VADER relies on a predefined **sentiment lexicon**—a dictionary where each word, emoji, and phrase has an assigned polarity score (positive, negative, or neutral).\n",
        "   - **Rule-Based Modifications**: It uses simple rules to adjust sentiment based on context, like amplifying scores when it detects exclamation points, capitalization, or intensifiers like “very” or “not.”\n",
        "\n",
        "   This approach makes VADER lightweight and efficient, but it doesn’t understand text in the way LLMs do; it can’t generate text or handle nuanced language understanding beyond the lexicon and rules it follows.\n",
        "\n",
        "### 2. **Not Trained on Large Datasets**\n",
        "   - Unlike LLMs, which are trained on massive datasets to understand language, VADER operates directly from a manually curated lexicon. This means VADER doesn’t learn from data and isn’t adaptable in the same way as an LLM.\n",
        "   - VADER is pre-configured to recognize certain words and expressions, and it doesn’t improve or change with new data.\n",
        "\n",
        "### 3. **Speed and Efficiency for Sentiment Analysis**\n",
        "   - VADER is fast and efficient, as it directly applies lexicon-based scores and rules to assign sentiment to text.\n",
        "   - For simple, short text (like tweets or reviews), it provides surprisingly accurate sentiment scores without the computational requirements of an LLM.\n",
        "\n",
        "### In Contrast: LLMs\n",
        "   - **LLMs** (like GPT, BERT, etc.) are trained on extensive language corpora to capture language nuances, generate responses, and even handle complex tasks.\n",
        "   - LLMs understand contextual language patterns, can perform tasks outside of sentiment analysis, and are adaptable to various tasks like text generation, translation, and question-answering.\n",
        "\n",
        "### Summary\n",
        "VADER is a practical tool for basic sentiment analysis, particularly with short, informal text, but it lacks the depth, adaptability, and contextual understanding of an LLM. It’s designed for efficiency and simplicity rather than deep language understanding."
      ],
      "metadata": {
        "id": "WUdE68x03dcH"
      }
    },
    {
      "cell_type": "markdown",
      "source": [
        "\n",
        "\n",
        "\n",
        "\n",
        "\n",
        "\n",
        "### **1. Introduction to VADER Sentiment Analysis**\n",
        "\n",
        "VADER is a rule-based sentiment analysis tool that uses a predefined lexicon to score text sentiment. It’s especially effective for short, informal text like social media, news, and product reviews, and it gives sentiment scores on a scale from negative to positive.\n",
        "\n",
        "\n",
        "\n",
        "\n",
        "\n",
        "\n",
        "\n",
        "\n"
      ],
      "metadata": {
        "id": "aHGLd6fL234N"
      }
    },
    {
      "cell_type": "markdown",
      "source": [
        "### **2. Setup and Imports**\n",
        "\n",
        "Start by importing necessary libraries and downloading the VADER lexicon.\n"
      ],
      "metadata": {
        "id": "9680I9Ld3YGP"
      }
    },
    {
      "cell_type": "code",
      "source": [
        "# Import libraries\n",
        "import nltk\n",
        "nltk.download('vader_lexicon')\n",
        "from nltk.sentiment.vader import SentimentIntensityAnalyzer\n",
        "\n",
        "# Initialize the VADER sentiment intensity analyzer\n",
        "sid = SentimentIntensityAnalyzer()"
      ],
      "metadata": {
        "colab": {
          "base_uri": "https://localhost:8080/"
        },
        "id": "ZlH-6Jfp3VhY",
        "outputId": "96cea67f-c43c-48cd-d8e3-514040768f14"
      },
      "execution_count": 3,
      "outputs": [
        {
          "output_type": "stream",
          "name": "stderr",
          "text": [
            "[nltk_data] Downloading package vader_lexicon to /root/nltk_data...\n",
            "[nltk_data]   Package vader_lexicon is already up-to-date!\n"
          ]
        }
      ]
    },
    {
      "cell_type": "markdown",
      "source": [
        "### **3. Data Preparation**\n",
        "\n",
        "#### Step 1: Choose Your Dataset\n",
        "To practice sentiment analysis, you can use a dataset with labeled sentiment values, like the **IMDb** movie reviews dataset, or you can create a small set of custom sentences with known sentiments.\n",
        "\n",
        "#### Step 2: Preprocess the Text Data\n",
        "Unlike some NLP tasks, VADER doesn’t require extensive preprocessing because it’s designed to handle punctuation, emojis, and informal language. However, basic cleaning such as lowercasing and removing irrelevant characters (e.g., URLs) can help."
      ],
      "metadata": {
        "id": "05-okkas3RlU"
      }
    },
    {
      "cell_type": "code",
      "source": [
        "# Example sentences with added emojis\n",
        "sentences = [\n",
        "    \"This movie was absolutely fantastic! 😍 I loved every minute of it.\",\n",
        "    \"What a terrible experience. 😡 I would not recommend it to anyone.\",\n",
        "    \"It was okay, not great but not bad either. 😐\",\n",
        "    \"This product is amazing, highly recommended! 👍😊\",\n",
        "    \"I’m not happy with the service, very disappointed. 😞👎\"\n",
        "]"
      ],
      "metadata": {
        "id": "Q39ajrnX3O6-"
      },
      "execution_count": 3,
      "outputs": []
    },
    {
      "cell_type": "markdown",
      "source": [
        "### **4. Applying VADER for Sentiment Analysis**\n",
        "\n",
        "#### Step 1: Analyze Sentiment for Each Sentence\n",
        "The `SentimentIntensityAnalyzer` provides a `polarity_scores()` method that returns four scores for each sentence:\n",
        "- **Negative (neg)**: Indicates the proportion of the text with a negative sentiment.\n",
        "- **Neutral (neu)**: Indicates the proportion of the text with a neutral sentiment.\n",
        "- **Positive (pos)**: Indicates the proportion of the text with a positive sentiment.\n",
        "- **Compound**: A normalized score ranging from -1 (most negative) to +1 (most positive), which gives an overall sentiment.\n",
        "\n",
        "\n",
        "#### Step 2: Interpret the Compound Score\n",
        "- **Positive Sentiment**: Compound score > 0\n",
        "- **Neutral Sentiment**: Compound score = 0\n",
        "- **Negative Sentiment**: Compound score < 0\n",
        "\n",
        "You can use this rule to assign a sentiment label to each sentence.\n"
      ],
      "metadata": {
        "id": "CoIfRwng3Iex"
      }
    },
    {
      "cell_type": "code",
      "source": [
        "# Analyze sentiment for each sentence\n",
        "for sentence in sentences:\n",
        "    print(f\"Sentence: {sentence}\")\n",
        "    sentiment_scores = sid.polarity_scores(sentence)\n",
        "    print(f\"Sentiment Scores: {sentiment_scores}\")\n",
        "    print(\"-\" * 50)"
      ],
      "metadata": {
        "colab": {
          "base_uri": "https://localhost:8080/"
        },
        "id": "YpR4DpqV3LOQ",
        "outputId": "a239099e-a6eb-4aa8-f192-7803957175ee"
      },
      "execution_count": 4,
      "outputs": [
        {
          "output_type": "stream",
          "name": "stdout",
          "text": [
            "Sentence: This movie was absolutely fantastic! 😍 I loved every minute of it.\n",
            "Sentiment Scores: {'neg': 0.0, 'neu': 0.489, 'pos': 0.511, 'compound': 0.8542}\n",
            "--------------------------------------------------\n",
            "Sentence: What a terrible experience. 😡 I would not recommend it to anyone.\n",
            "Sentiment Scores: {'neg': 0.427, 'neu': 0.573, 'pos': 0.0, 'compound': -0.6381}\n",
            "--------------------------------------------------\n",
            "Sentence: It was okay, not great but not bad either. 😐\n",
            "Sentiment Scores: {'neg': 0.161, 'neu': 0.449, 'pos': 0.391, 'compound': 0.4728}\n",
            "--------------------------------------------------\n",
            "Sentence: This product is amazing, highly recommended! 👍😊\n",
            "Sentiment Scores: {'neg': 0.0, 'neu': 0.447, 'pos': 0.553, 'compound': 0.7339}\n",
            "--------------------------------------------------\n",
            "Sentence: I’m not happy with the service, very disappointed. 😞👎\n",
            "Sentiment Scores: {'neg': 0.477, 'neu': 0.523, 'pos': 0.0, 'compound': -0.75}\n",
            "--------------------------------------------------\n"
          ]
        }
      ]
    },
    {
      "cell_type": "markdown",
      "source": [
        "### **5. Automating Sentiment Labeling**\n",
        "\n",
        "To classify each sentence as **Positive**, **Neutral**, or **Negative** based on the compound score:"
      ],
      "metadata": {
        "id": "Q4nw2JJs3EpL"
      }
    },
    {
      "cell_type": "code",
      "execution_count": 5,
      "metadata": {
        "colab": {
          "base_uri": "https://localhost:8080/"
        },
        "id": "RNqcG95f0r4J",
        "outputId": "e5355db7-7409-433b-ce50-ac0cc9939709"
      },
      "outputs": [
        {
          "output_type": "stream",
          "name": "stdout",
          "text": [
            "Sentence: This movie was absolutely fantastic! 😍 I loved every minute of it.\n",
            "Sentiment Label: Positive, Scores: {'neg': 0.0, 'neu': 0.489, 'pos': 0.511, 'compound': 0.8542}\n",
            "--------------------------------------------------\n",
            "Sentence: What a terrible experience. 😡 I would not recommend it to anyone.\n",
            "Sentiment Label: Negative, Scores: {'neg': 0.427, 'neu': 0.573, 'pos': 0.0, 'compound': -0.6381}\n",
            "--------------------------------------------------\n",
            "Sentence: It was okay, not great but not bad either. 😐\n",
            "Sentiment Label: Positive, Scores: {'neg': 0.161, 'neu': 0.449, 'pos': 0.391, 'compound': 0.4728}\n",
            "--------------------------------------------------\n",
            "Sentence: This product is amazing, highly recommended! 👍😊\n",
            "Sentiment Label: Positive, Scores: {'neg': 0.0, 'neu': 0.447, 'pos': 0.553, 'compound': 0.7339}\n",
            "--------------------------------------------------\n",
            "Sentence: I’m not happy with the service, very disappointed. 😞👎\n",
            "Sentiment Label: Negative, Scores: {'neg': 0.477, 'neu': 0.523, 'pos': 0.0, 'compound': -0.75}\n",
            "--------------------------------------------------\n"
          ]
        }
      ],
      "source": [
        "def get_sentiment_label(compound_score):\n",
        "    if compound_score >= 0.05:\n",
        "        return \"Positive\"\n",
        "    elif compound_score <= -0.05:\n",
        "        return \"Negative\"\n",
        "    else:\n",
        "        return \"Neutral\"\n",
        "\n",
        "# Apply the function to each sentence\n",
        "for sentence in sentences:\n",
        "    sentiment_scores = sid.polarity_scores(sentence)\n",
        "    compound_score = sentiment_scores['compound']\n",
        "    label = get_sentiment_label(compound_score)\n",
        "    print(f\"Sentence: {sentence}\")\n",
        "    print(f\"Sentiment Label: {label}, Scores: {sentiment_scores}\")\n",
        "    print(\"-\" * 50)"
      ]
    },
    {
      "cell_type": "markdown",
      "source": [
        "## **6. Practice on Larger Datasets**\n",
        "\n",
        "The **movie_reviews** dataset from NLTK is an excellent next step! It contains a collection of movie reviews with positive and negative labels, making it a great resource for practicing sentiment analysis.\n",
        "\n",
        "Here’s how we can get started with this dataset, including steps to explore, preprocess, and analyze it using VADER or even other methods.\n",
        "\n",
        "\n",
        "### Summary of Steps\n",
        "1. **Load and Explore**: Understand the dataset structure and check label distribution.\n",
        "2. **Preprocess**: Minimal preprocessing to prepare text for analysis.\n",
        "3. **Apply VADER**: Use VADER to score sentiment for each review.\n",
        "4. **Evaluate**: Check how well VADER’s predictions align with actual labels.\n",
        "\n",
        "This setup provides a complete pipeline for sentiment analysis with VADER on a more challenging dataset, allowing us to explore VADER’s strengths and limitations on longer, nuanced movie reviews. Let me know if you'd like further exploration or adjustments!\n",
        "\n",
        "\n"
      ],
      "metadata": {
        "id": "GmgknTRY29Ll"
      }
    },
    {
      "cell_type": "markdown",
      "source": [
        "### Step 1: Import the Dataset\n",
        "First, import the `movie_reviews` dataset. If you haven’t downloaded it already, you’ll need to do so using `nltk.download(\"movie_reviews\")`.\n",
        "\n",
        "- **documents**: Contains the text of each review.\n",
        "- **labels**: Contains the sentiment label for each review, either “pos” (positive) or “neg” (negative).\n"
      ],
      "metadata": {
        "id": "4-X2pkOo0_JO"
      }
    },
    {
      "cell_type": "code",
      "source": [
        "import nltk\n",
        "nltk.download(\"movie_reviews\")\n",
        "from nltk.corpus import movie_reviews\n",
        "\n",
        "# Load the data\n",
        "documents = [movie_reviews.raw(fileid) for fileid in movie_reviews.fileids()]\n",
        "labels = [movie_reviews.categories(fileid)[0] for fileid in movie_reviews.fileids()]"
      ],
      "metadata": {
        "colab": {
          "base_uri": "https://localhost:8080/"
        },
        "id": "c-zJwmc11e0h",
        "outputId": "6da48992-d005-4346-98a1-0f177ad91283"
      },
      "execution_count": 6,
      "outputs": [
        {
          "output_type": "stream",
          "name": "stderr",
          "text": [
            "[nltk_data] Downloading package movie_reviews to /root/nltk_data...\n",
            "[nltk_data]   Unzipping corpora/movie_reviews.zip.\n"
          ]
        }
      ]
    },
    {
      "cell_type": "markdown",
      "source": [
        "### Step 2: Explore the Data\n",
        "It’s always helpful to understand the dataset structure and check the distribution of labels.\n"
      ],
      "metadata": {
        "id": "0Q8-v9gj83ht"
      }
    },
    {
      "cell_type": "code",
      "source": [
        "# Check the number of reviews and distribution of labels\n",
        "print(\"Number of reviews:\", len(documents))\n",
        "print(\"Label distribution:\", {label: labels.count(label) for label in set(labels)})\n",
        "\n",
        "# Preview a few samples\n",
        "for i in range(2):\n",
        "    print(f\"Review {i+1} (Label: {labels[i]}):\\n{documents[i][:500]}...\\n{'-'*80}\")"
      ],
      "metadata": {
        "colab": {
          "base_uri": "https://localhost:8080/"
        },
        "id": "Hou-Fa6382i5",
        "outputId": "6edade8e-90d8-446d-a690-7691114d950a"
      },
      "execution_count": 7,
      "outputs": [
        {
          "output_type": "stream",
          "name": "stdout",
          "text": [
            "Number of reviews: 2000\n",
            "Label distribution: {'neg': 1000, 'pos': 1000}\n",
            "Review 1 (Label: neg):\n",
            "plot : two teen couples go to a church party , drink and then drive . \n",
            "they get into an accident . \n",
            "one of the guys dies , but his girlfriend continues to see him in her life , and has nightmares . \n",
            "what's the deal ? \n",
            "watch the movie and \" sorta \" find out . . . \n",
            "critique : a mind-fuck movie for the teen generation that touches on a very cool idea , but presents it in a very bad package . \n",
            "which is what makes this review an even harder one to write , since i generally applaud films which attempt...\n",
            "--------------------------------------------------------------------------------\n",
            "Review 2 (Label: neg):\n",
            "the happy bastard's quick movie review \n",
            "damn that y2k bug . \n",
            "it's got a head start in this movie starring jamie lee curtis and another baldwin brother ( william this time ) in a story regarding a crew of a tugboat that comes across a deserted russian tech ship that has a strangeness to it when they kick the power back on . \n",
            "little do they know the power within . . . \n",
            "going for the gore and bringing on a few action sequences here and there , virus still feels very empty , like a movie going for a...\n",
            "--------------------------------------------------------------------------------\n"
          ]
        }
      ]
    },
    {
      "cell_type": "markdown",
      "source": [
        "### Step 3: Preprocess the Data\n",
        "VADER handles basic punctuation and doesn’t require extensive preprocessing, but converting text to lowercase and removing any additional whitespace can be beneficial."
      ],
      "metadata": {
        "id": "K46BCY2c9PkQ"
      }
    },
    {
      "cell_type": "code",
      "source": [
        "# Simple preprocessing function\n",
        "def preprocess_text(text):\n",
        "    return text.lower().strip()\n",
        "\n",
        "# Apply preprocessing\n",
        "documents = [preprocess_text(doc) for doc in documents]"
      ],
      "metadata": {
        "id": "asWBLWyg82gT"
      },
      "execution_count": 8,
      "outputs": []
    },
    {
      "cell_type": "markdown",
      "source": [
        "### Step 4: Apply VADER for Sentiment Analysis\n",
        "Now, let’s analyze the sentiment of each review using VADER’s `SentimentIntensityAnalyzer`."
      ],
      "metadata": {
        "id": "ih-uKjsO9Tww"
      }
    },
    {
      "cell_type": "code",
      "source": [
        "# Initialize VADER\n",
        "sid = SentimentIntensityAnalyzer()\n",
        "\n",
        "# Analyze sentiment and store results\n",
        "results = []\n",
        "for i, review in enumerate(documents):\n",
        "    sentiment_scores = sid.polarity_scores(review)\n",
        "    compound_score = sentiment_scores[\"compound\"]\n",
        "    predicted_label = \"pos\" if compound_score >= 0 else \"neg\"  # Threshold: compound >= 0 is positive\n",
        "\n",
        "    # Append results (predicted vs. actual)\n",
        "    results.append((predicted_label, labels[i]))\n",
        "\n",
        "# Display a few results\n",
        "for i, (predicted, actual) in enumerate(results[:10]):\n",
        "    print(f\"Review {i+1} - Predicted: {predicted}, Actual: {actual}\")"
      ],
      "metadata": {
        "colab": {
          "base_uri": "https://localhost:8080/"
        },
        "id": "r_nhk58P82ds",
        "outputId": "89e04768-b1e0-4b12-9962-2289b7104f29"
      },
      "execution_count": 9,
      "outputs": [
        {
          "output_type": "stream",
          "name": "stdout",
          "text": [
            "Review 1 - Predicted: pos, Actual: neg\n",
            "Review 2 - Predicted: pos, Actual: neg\n",
            "Review 3 - Predicted: pos, Actual: neg\n",
            "Review 4 - Predicted: neg, Actual: neg\n",
            "Review 5 - Predicted: pos, Actual: neg\n",
            "Review 6 - Predicted: neg, Actual: neg\n",
            "Review 7 - Predicted: neg, Actual: neg\n",
            "Review 8 - Predicted: pos, Actual: neg\n",
            "Review 9 - Predicted: neg, Actual: neg\n",
            "Review 10 - Predicted: pos, Actual: neg\n"
          ]
        }
      ]
    },
    {
      "cell_type": "markdown",
      "source": [
        "### Step 5: Evaluate the Performance\n",
        "To see how well VADER performs, compare the predicted labels with the actual labels using common metrics.\n",
        "\n",
        "\n"
      ],
      "metadata": {
        "id": "Errv3tiE9gS2"
      }
    },
    {
      "cell_type": "code",
      "source": [
        "from sklearn.metrics import classification_report, accuracy_score\n",
        "\n",
        "# Separate predicted and actual labels\n",
        "predicted_labels = [pred for pred, actual in results]\n",
        "actual_labels = [actual for pred, actual in results]\n",
        "\n",
        "# Print classification report and accuracy\n",
        "print(\"Classification Report:\\n\", classification_report(actual_labels, predicted_labels))\n",
        "print(\"Accuracy:\", accuracy_score(actual_labels, predicted_labels))"
      ],
      "metadata": {
        "colab": {
          "base_uri": "https://localhost:8080/"
        },
        "id": "pTQln9oL82a1",
        "outputId": "051f4de6-c075-44ff-a1fd-60106c241389"
      },
      "execution_count": 10,
      "outputs": [
        {
          "output_type": "stream",
          "name": "stdout",
          "text": [
            "Classification Report:\n",
            "               precision    recall  f1-score   support\n",
            "\n",
            "         neg       0.72      0.44      0.55      1000\n",
            "         pos       0.60      0.83      0.69      1000\n",
            "\n",
            "    accuracy                           0.64      2000\n",
            "   macro avg       0.66      0.64      0.62      2000\n",
            "weighted avg       0.66      0.64      0.62      2000\n",
            "\n",
            "Accuracy: 0.635\n"
          ]
        }
      ]
    },
    {
      "cell_type": "markdown",
      "source": [
        "## Improve Performance\n",
        "\n",
        "The results show that while VADER is capturing some sentiment patterns, especially in positive reviews, it’s struggling with negative ones. This outcome is expected because VADER, while effective for short, informal text, can be limited with longer, more nuanced content like movie reviews.\n",
        "\n",
        "Here are several strategies you could try to improve the results:\n",
        "\n",
        "1. **Adjust the VADER threshold** to see if a different cutoff improves accuracy.\n",
        "2. **Preprocess the text** to remove noise.\n",
        "3. **Use a hybrid approach** by combining VADER with another lexicon-based tool.\n",
        "4. **Train a machine learning classifier** on the reviews.\n",
        "5. **Aggregate VADER scores at the sentence level** for a more granular analysis."
      ],
      "metadata": {
        "id": "9dMC193A93SC"
      }
    },
    {
      "cell_type": "markdown",
      "source": [
        "\n",
        "\n",
        "These strategies offer various ways to improve results on nuanced movie reviews. You may find that combining or layering these approaches gives you the best improvement. Let me know which one you’d like to try first!\n",
        "\n",
        "### 1. **Adjust the Compound Score Threshold**\n",
        "   - Currently, we’re using a threshold of **0** for classifying a review as positive or negative. However, adjusting this threshold might better capture the nuances in movie reviews.\n",
        "   - For instance, you could try a threshold of **0.1** or **0.2** for “positive” (instead of 0) to ensure only clearly positive reviews are labeled as such, and the rest as negative.\n",
        "```python\n",
        "# Adjusted threshold\n",
        "predicted_label = \"pos\" if compound_score >= 0.1 else \"neg\"\n",
        "```\n",
        "\n",
        "\n"
      ],
      "metadata": {
        "id": "au-3_cjoDyU-"
      }
    },
    {
      "cell_type": "code",
      "source": [
        "import matplotlib.pyplot as plt\n",
        "from sklearn.metrics import precision_score, recall_score, f1_score\n",
        "from nltk.sentiment.vader import SentimentIntensityAnalyzer\n",
        "import nltk\n",
        "nltk.download('vader_lexicon')\n",
        "from nltk.corpus import movie_reviews\n",
        "\n",
        "# Initialize VADER\n",
        "sid = SentimentIntensityAnalyzer()\n",
        "\n",
        "# Load movie reviews data\n",
        "documents = [movie_reviews.raw(fileid) for fileid in movie_reviews.fileids()]\n",
        "labels = [movie_reviews.categories(fileid)[0] for fileid in movie_reviews.fileids()]\n",
        "\n",
        "# Range of thresholds to test\n",
        "thresholds = [round(x * 0.1, 1) for x in range(-10, 11)]  # From -1.0 to 1.0 in steps of 0.1\n",
        "\n",
        "# Initialize lists to store metrics for each threshold\n",
        "precision_scores = []\n",
        "recall_scores = []\n",
        "f1_scores = []\n",
        "\n",
        "# Iterate over the range of thresholds\n",
        "for threshold in thresholds:\n",
        "    # Store predictions for the current threshold\n",
        "    results = []\n",
        "    for review in documents:\n",
        "        sentiment_scores = sid.polarity_scores(review)\n",
        "        compound_score = sentiment_scores[\"compound\"]\n",
        "        # Predict based on the current threshold\n",
        "        predicted_label = \"pos\" if compound_score >= threshold else \"neg\"\n",
        "        results.append(predicted_label)\n",
        "\n",
        "    # Calculate metrics for the current threshold\n",
        "    precision = precision_score(labels, results, pos_label=\"pos\")\n",
        "    recall = recall_score(labels, results, pos_label=\"pos\")\n",
        "    f1 = f1_score(labels, results, pos_label=\"pos\")\n",
        "\n",
        "    # Append the metrics to lists\n",
        "    precision_scores.append(precision)\n",
        "    recall_scores.append(recall)\n",
        "    f1_scores.append(f1)\n",
        "\n",
        "# Plot the results\n",
        "plt.figure(figsize=(10, 6))\n",
        "plt.plot(thresholds, precision_scores, label='Precision', marker='o')\n",
        "plt.plot(thresholds, recall_scores, label='Recall', marker='o')\n",
        "plt.plot(thresholds, f1_scores, label='F1 Score', marker='o')\n",
        "\n",
        "# Add labels and legend\n",
        "plt.xlabel(\"Compound Score Threshold\")\n",
        "plt.ylabel(\"Metric Score\")\n",
        "plt.title(\"Precision, Recall, and F1 Score at Different Compound Score Thresholds\")\n",
        "plt.legend()\n",
        "plt.grid()\n",
        "plt.show()"
      ],
      "metadata": {
        "colab": {
          "base_uri": "https://localhost:8080/",
          "height": 653
        },
        "id": "FaD6HXaCEQMd",
        "outputId": "6598cc01-71ac-416d-c9a9-ff946fdff0e2"
      },
      "execution_count": 11,
      "outputs": [
        {
          "output_type": "stream",
          "name": "stderr",
          "text": [
            "[nltk_data] Downloading package vader_lexicon to /root/nltk_data...\n",
            "[nltk_data]   Package vader_lexicon is already up-to-date!\n",
            "/usr/local/lib/python3.10/dist-packages/sklearn/metrics/_classification.py:1531: UndefinedMetricWarning: Precision is ill-defined and being set to 0.0 due to no predicted samples. Use `zero_division` parameter to control this behavior.\n",
            "  _warn_prf(average, modifier, f\"{metric.capitalize()} is\", len(result))\n"
          ]
        },
        {
          "output_type": "display_data",
          "data": {
            "text/plain": [
              "<Figure size 1000x600 with 1 Axes>"
            ],
            "image/png": "[encoded data removed]"
          },
          "metadata": {}
        }
      ]
    },
    {
      "cell_type": "markdown",
      "source": [
        "### 2. **Incorporate Additional Preprocessing**\n",
        "   - Movie reviews can contain complex language and formatting that might confuse VADER. Additional preprocessing might help improve clarity:\n",
        "     - **Remove Stop Words**: Common words that add little to sentiment could be removed using a stop words list (e.g., from NLTK).\n",
        "     - **Remove Non-Text Elements**: Strip out special characters and numbers that VADER may not handle well.\n",
        "\n",
        "\n"
      ],
      "metadata": {
        "id": "9vDmOTTwEHvD"
      }
    },
    {
      "cell_type": "code",
      "source": [
        "import nltk\n",
        "nltk.download('stopwords')\n",
        "from nltk.corpus import stopwords\n",
        "from nltk.sentiment.vader import SentimentIntensityAnalyzer\n",
        "\n",
        "stop_words = set(stopwords.words(\"english\"))\n",
        "\n",
        "def preprocess_text(text):\n",
        "    words = text.lower().split()\n",
        "    return \" \".join(word for word in words if word not in stop_words)\n",
        "\n",
        "# Apply preprocessing\n",
        "documents = [preprocess_text(doc) for doc in documents]\n",
        "\n",
        "# Initialize VADER\n",
        "sid = SentimentIntensityAnalyzer()\n",
        "\n",
        "# Analyze sentiment and store results\n",
        "results = []\n",
        "for i, review in enumerate(documents):\n",
        "    sentiment_scores = sid.polarity_scores(review)\n",
        "    compound_score = sentiment_scores[\"compound\"]\n",
        "    predicted_label = \"pos\" if compound_score >= 0 else \"neg\"  # Threshold: compound >= 0 is positive\n",
        "\n",
        "    # Append results (predicted vs. actual)\n",
        "    results.append((predicted_label, labels[i]))\n",
        "\n",
        "# Display a few results\n",
        "for i, (predicted, actual) in enumerate(results[:10]):\n",
        "    print(f\"Review {i+1} - Predicted: {predicted}, Actual: {actual}\")\n",
        "\n",
        "from sklearn.metrics import classification_report, accuracy_score\n",
        "# Separate predicted and actual labels\n",
        "predicted_labels = [pred for pred, actual in results]\n",
        "actual_labels = [actual for pred, actual in results]\n",
        "\n",
        "# Print classification report and accuracy\n",
        "print(\"Classification Report:\\n\", classification_report(actual_labels, predicted_labels))\n",
        "print(\"Accuracy:\", accuracy_score(actual_labels, predicted_labels))"
      ],
      "metadata": {
        "colab": {
          "base_uri": "https://localhost:8080/"
        },
        "id": "qGFNulif-F1m",
        "outputId": "731ef723-8d80-405c-8704-683aa257c8ca"
      },
      "execution_count": 7,
      "outputs": [
        {
          "output_type": "stream",
          "name": "stderr",
          "text": [
            "[nltk_data] Downloading package stopwords to /root/nltk_data...\n",
            "[nltk_data]   Package stopwords is already up-to-date!\n"
          ]
        },
        {
          "output_type": "stream",
          "name": "stdout",
          "text": [
            "Review 1 - Predicted: pos, Actual: neg\n",
            "Review 2 - Predicted: pos, Actual: neg\n",
            "Review 3 - Predicted: pos, Actual: neg\n",
            "Review 4 - Predicted: neg, Actual: neg\n",
            "Review 5 - Predicted: neg, Actual: neg\n",
            "Review 6 - Predicted: neg, Actual: neg\n",
            "Review 7 - Predicted: neg, Actual: neg\n",
            "Review 8 - Predicted: pos, Actual: neg\n",
            "Review 9 - Predicted: neg, Actual: neg\n",
            "Review 10 - Predicted: pos, Actual: neg\n",
            "Classification Report:\n",
            "               precision    recall  f1-score   support\n",
            "\n",
            "         neg       0.70      0.38      0.49      1000\n",
            "         pos       0.57      0.83      0.68      1000\n",
            "\n",
            "    accuracy                           0.61      2000\n",
            "   macro avg       0.63      0.61      0.58      2000\n",
            "weighted avg       0.63      0.61      0.58      2000\n",
            "\n",
            "Accuracy: 0.606\n"
          ]
        }
      ]
    },
    {
      "cell_type": "markdown",
      "source": [
        "### 3. **Combine VADER with Another Sentiment Lexicon (Hybrid Approach)**\n",
        "   - Sometimes, combining results from two lexicons can improve accuracy. You could compute sentiment scores using **TextBlob** or **AFINN** alongside VADER, averaging or combining scores for a final decision.\n",
        "\n",
        "\n",
        "\n"
      ],
      "metadata": {
        "id": "BE2XI2eQEFEO"
      }
    },
    {
      "cell_type": "code",
      "source": [
        "from textblob import TextBlob\n",
        "from nltk.sentiment.vader import SentimentIntensityAnalyzer\n",
        "from sklearn.metrics import classification_report, accuracy_score\n",
        "\n",
        "# Initialize VADER\n",
        "sid = SentimentIntensityAnalyzer()\n",
        "\n",
        "# Define the hybrid sentiment analysis function\n",
        "def hybrid_sentiment_analysis(review):\n",
        "    # Get VADER and TextBlob scores\n",
        "    vader_score = sid.polarity_scores(review)[\"compound\"]\n",
        "    textblob_score = TextBlob(review).sentiment.polarity\n",
        "\n",
        "    # Average scores for a final compound score\n",
        "    final_score = (vader_score + textblob_score) / 2\n",
        "    return \"pos\" if final_score >= 0 else \"neg\"\n",
        "\n",
        "# Analyze sentiment and store results\n",
        "results = []\n",
        "for i, review in enumerate(documents):\n",
        "    # Use hybrid function to get predicted label\n",
        "    predicted_label = hybrid_sentiment_analysis(review)\n",
        "    results.append((predicted_label, labels[i]))  # Append results (predicted vs. actual)\n",
        "\n",
        "# Display a few results\n",
        "for i, (predicted, actual) in enumerate(results[:10]):\n",
        "    print(f\"Review {i+1} - Predicted: {predicted}, Actual: {actual}\")\n",
        "\n",
        "# Separate predicted and actual labels\n",
        "predicted_labels = [pred for pred, actual in results]\n",
        "actual_labels = [actual for pred, actual in results]\n",
        "\n",
        "# Print classification report and accuracy\n",
        "print(\"Classification Report:\\n\", classification_report(actual_labels, predicted_labels))\n",
        "print(\"Accuracy:\", accuracy_score(actual_labels, predicted_labels))\n"
      ],
      "metadata": {
        "colab": {
          "base_uri": "https://localhost:8080/"
        },
        "id": "7UNh4dnz_kGf",
        "outputId": "81c8ba48-6bb0-499a-f235-a446694d886b"
      },
      "execution_count": 9,
      "outputs": [
        {
          "output_type": "stream",
          "name": "stdout",
          "text": [
            "Review 1 - Predicted: pos, Actual: neg\n",
            "Review 2 - Predicted: pos, Actual: neg\n",
            "Review 3 - Predicted: pos, Actual: neg\n",
            "Review 4 - Predicted: neg, Actual: neg\n",
            "Review 5 - Predicted: neg, Actual: neg\n",
            "Review 6 - Predicted: neg, Actual: neg\n",
            "Review 7 - Predicted: neg, Actual: neg\n",
            "Review 8 - Predicted: pos, Actual: neg\n",
            "Review 9 - Predicted: neg, Actual: neg\n",
            "Review 10 - Predicted: pos, Actual: neg\n",
            "Classification Report:\n",
            "               precision    recall  f1-score   support\n",
            "\n",
            "         neg       0.70      0.38      0.49      1000\n",
            "         pos       0.57      0.84      0.68      1000\n",
            "\n",
            "    accuracy                           0.61      2000\n",
            "   macro avg       0.64      0.61      0.59      2000\n",
            "weighted avg       0.64      0.61      0.59      2000\n",
            "\n",
            "Accuracy: 0.6075\n"
          ]
        }
      ]
    },
    {
      "cell_type": "markdown",
      "source": [
        "### 4. **Try a Machine Learning Classifier**\n",
        "   - For better performance, you might consider training a classifier like **Logistic Regression** or **Naive Bayes** using the movie reviews dataset, using the **TF-IDF** representation or similar vectorization.\n",
        "   - These classifiers, when trained on labeled movie review data, generally outperform lexicon-based methods like VADER on more nuanced and longer texts.\n",
        "\n",
        "\n",
        "\n"
      ],
      "metadata": {
        "id": "PTgKxu8eECQg"
      }
    },
    {
      "cell_type": "code",
      "source": [
        "from sklearn.feature_extraction.text import TfidfVectorizer\n",
        "from sklearn.linear_model import LogisticRegression\n",
        "from sklearn.model_selection import train_test_split\n",
        "\n",
        "# Vectorize and train classifier\n",
        "vectorizer = TfidfVectorizer()\n",
        "X = vectorizer.fit_transform(documents)\n",
        "X_train, X_test, y_train, y_test = train_test_split(X, labels, test_size=0.2, random_state=42)\n",
        "\n",
        "classifier = LogisticRegression()\n",
        "# classifier = LogisticRegression(C=1.0, penalty='l2')\n",
        "classifier.fit(X_train, y_train)\n",
        "\n",
        "# Predict and evaluate\n",
        "y_pred = classifier.predict(X_test)\n",
        "print(\"Classification Report:\\n\", classification_report(y_test, y_pred))"
      ],
      "metadata": {
        "colab": {
          "base_uri": "https://localhost:8080/"
        },
        "id": "b8bl_2a3AiJP",
        "outputId": "15fb27af-33e4-4cdf-e624-80d99a802e51"
      },
      "execution_count": 12,
      "outputs": [
        {
          "output_type": "stream",
          "name": "stdout",
          "text": [
            "Classification Report:\n",
            "               precision    recall  f1-score   support\n",
            "\n",
            "         neg       0.82      0.82      0.82       199\n",
            "         pos       0.82      0.82      0.82       201\n",
            "\n",
            "    accuracy                           0.82       400\n",
            "   macro avg       0.82      0.82      0.82       400\n",
            "weighted avg       0.82      0.82      0.82       400\n",
            "\n"
          ]
        }
      ]
    },
    {
      "cell_type": "code",
      "source": [
        "from sklearn.model_selection import cross_val_score\n",
        "scores = cross_val_score(classifier, X, labels, cv=5, scoring='accuracy')\n",
        "print(\"Cross-Validation Accuracy:\", scores.mean())"
      ],
      "metadata": {
        "colab": {
          "base_uri": "https://localhost:8080/"
        },
        "id": "yvfgotyDBeDk",
        "outputId": "71e2c400-1cab-412b-f533-f21b582dc217"
      },
      "execution_count": 13,
      "outputs": [
        {
          "output_type": "stream",
          "name": "stdout",
          "text": [
            "Cross-Validation Accuracy: 0.843\n"
          ]
        }
      ]
    },
    {
      "cell_type": "markdown",
      "source": [
        "### 5. **Apply VADER on Sentence Level and Aggregate Scores**\n",
        "   - Since VADER is best suited for short texts, you could split each review into sentences, run VADER on each sentence, and then average the compound scores across all sentences to determine the overall sentiment.\n",
        "   \n",
        "   ```python\n",
        "   def sentence_level_sentiment(review):\n",
        "       sentences = nltk.sent_tokenize(review)\n",
        "       compound_scores = [sid.polarity_scores(sentence)[\"compound\"] for sentence in sentences]\n",
        "       avg_score = sum(compound_scores) / len(compound_scores)\n",
        "       return \"pos\" if avg_score >= 0 else \"neg\"\n",
        "   ```\n"
      ],
      "metadata": {
        "id": "Q1O-mqUgD_Dk"
      }
    },
    {
      "cell_type": "markdown",
      "source": [
        "### Sentiment Analysis Alternatives\n",
        "There are several other sentiment analysis tools that, like VADER, are rule-based or lexicon-driven and work well for short, informal text. Each has its strengths and weaknesses and may be suited to different tasks or types of text.\n",
        "\n",
        "Here are some notable alternatives:\n",
        "\n",
        "### 1. **TextBlob**\n",
        "   - **Type**: Lexicon-based, rule-based\n",
        "   - **How it Works**: TextBlob uses a combination of lexicons (e.g., WordNet) and basic natural language processing (NLP) techniques for sentiment analysis.\n",
        "   - **Strengths**: It’s easy to use, lightweight, and provides both polarity (positive, negative) and subjectivity scores.\n",
        "   - **Limitations**: It’s not as context-sensitive as VADER and may not handle nuanced sentiment or informal text as well.\n",
        "   - **Best For**: Basic sentiment analysis in short texts, but it can also handle longer texts relatively well.\n",
        "\n",
        "### 2. **SentiWordNet**\n",
        "   - **Type**: Lexicon-based, rule-based\n",
        "   - **How it Works**: SentiWordNet assigns sentiment scores to individual words in WordNet, which can then be aggregated for an overall text score.\n",
        "   - **Strengths**: SentiWordNet is detailed and allows a high level of customization, especially for linguistics-focused sentiment tasks.\n",
        "   - **Limitations**: Requires more complex aggregation methods and can be harder to apply out-of-the-box compared to VADER.\n",
        "   - **Best For**: More linguistically oriented sentiment analysis where word-level customization is needed.\n",
        "\n",
        "### 3. **AFINN**\n",
        "   - **Type**: Lexicon-based, rule-based\n",
        "   - **How it Works**: AFINN provides a dictionary of words with sentiment scores that range from -5 to +5. Each word’s score is based on its emotional intensity.\n",
        "   - **Strengths**: Simple, efficient, and works well for short texts.\n",
        "   - **Limitations**: Doesn’t handle context well and lacks rules for punctuation or emphasis (like ALL CAPS), which VADER supports.\n",
        "   - **Best For**: Quick sentiment scoring in informal text, especially for identifying extreme positivity or negativity.\n",
        "\n",
        "### 4. **Pattern**\n",
        "   - **Type**: Lexicon-based, rule-based\n",
        "   - **How it Works**: Pattern’s sentiment module uses a lexicon-based approach with an integrated subjectivity score and can analyze sentiment on a scale of -1 to 1.\n",
        "   - **Strengths**: Built-in subjectivity detection and ease of integration with other NLP tasks like part-of-speech tagging.\n",
        "   - **Limitations**: Less accurate for social media or slang-heavy text, which VADER handles better.\n",
        "   - **Best For**: More formal text or applications where subjectivity analysis is important.\n",
        "\n",
        "### 5. **Liwc (Linguistic Inquiry and Word Count)**\n",
        "   - **Type**: Rule-based, psychologically oriented lexicon\n",
        "   - **How it Works**: LIWC is a lexicon-based tool that not only identifies sentiment but also other psychological dimensions of text, like emotion, social tendencies, and thinking style.\n",
        "   - **Strengths**: Very thorough, with thousands of predefined categories for nuanced emotional analysis.\n",
        "   - **Limitations**: Requires a paid license and is more complex, focusing on psychological insights rather than simple sentiment.\n",
        "   - **Best For**: Psychological text analysis, academic research, or deeper insights into the emotional and cognitive tone of text.\n",
        "\n",
        "### Summary\n",
        "- **For quick and straightforward sentiment analysis on social media or short texts**, VADER, TextBlob, and AFINN are popular choices.\n",
        "- **For more advanced psychological or word-level insights**, SentiWordNet and LIWC offer more depth but with added complexity.\n",
        "\n",
        "VADER stands out for social media sentiment analysis due to its rules for emojis, punctuation, and informal language, making it uniquely effective in this space. If you need more advanced analysis or focus on a specific domain, trying different tools can help find the best fit!"
      ],
      "metadata": {
        "id": "EfAEfmQ-49dA"
      }
    },
    {
      "cell_type": "markdown",
      "source": [
        "##LLM\n",
        "\n",
        "Using a **Large Language Model (LLM)** from Hugging Face is a great idea for sentiment analysis tasks that involve nuanced language, like movie reviews. Hugging Face provides access to several powerful pre-trained models that can be fine-tuned or used directly for sentiment classification.\n",
        "\n",
        "### Why Use an LLM for Sentiment Analysis?\n",
        "- **Contextual Understanding**: LLMs, such as BERT or DistilBERT, understand the context of words in a sentence, making them well-suited for tasks like sentiment analysis.\n",
        "- **Nuanced Sentiment Detection**: These models capture subtle sentiment changes, irony, and complex language that rule-based or basic ML models might miss.\n",
        "- **Transfer Learning**: Many models on Hugging Face have been pre-trained on large datasets, which means they have learned general language patterns and can apply them effectively to sentiment analysis without extensive retraining.\n",
        "\n",
        "### Suggested LLMs for Sentiment Analysis\n",
        "Popular options include:\n",
        "1. **DistilBERT**: A smaller, faster, and lighter version of BERT that’s efficient for real-time sentiment analysis.\n",
        "2. **BERT (bert-base-uncased)**: A well-known model with variants fine-tuned for sentiment tasks.\n",
        "3. **RoBERTa**: Another powerful model trained on more data and optimized for language understanding tasks.\n",
        "\n",
        "### Setting Up Sentiment Analysis with Hugging Face Transformers\n",
        "\n",
        "Here’s a basic setup using **DistilBERT** with the Hugging Face `transformers` library. This code will run sentiment analysis on the movie review dataset.\n",
        "\n",
        "#### Step 1: Install Hugging Face Transformers and Datasets Libraries\n",
        "```bash\n",
        "pip install transformers datasets\n",
        "```\n",
        "\n",
        "#### Step 2: Load a Pre-trained Model and Tokenizer\n",
        "The pre-trained model will be used for inference, meaning you can start making predictions without additional training.\n",
        "\n",
        "```python\n",
        "from transformers import pipeline\n",
        "\n",
        "# Load a pre-trained sentiment-analysis pipeline\n",
        "sentiment_pipeline = pipeline(\"sentiment-analysis\", model=\"distilbert-base-uncased-finetuned-sst-2-english\")\n",
        "```\n",
        "\n",
        "#### Step 3: Run Sentiment Analysis on Movie Reviews\n",
        "We can use the Hugging Face pipeline to analyze each review and store results.\n",
        "\n",
        "### Explanation\n",
        "- **Pipeline Setup**: The `pipeline` function automatically loads a pre-trained model and tokenizer for sentiment analysis.\n",
        "- **Token Limit**: BERT-based models have a 512-token limit, so reviews longer than that will be truncated.\n",
        "- **Evaluation**: The `classification_report` and `accuracy_score` functions give a performance summary.\n",
        "\n",
        "### Benefits of Using an LLM for This Task\n",
        "LLMs like **DistilBERT** or **RoBERTa** will likely outperform traditional approaches on this dataset, as they’re able to interpret more complex language patterns, detect sarcasm, and provide more accurate sentiment classification.\n",
        "\n",
        "### Alternatives and Further Steps\n",
        "- **Fine-Tuning**: You can fine-tune the model on your specific dataset if you have enough labeled data.\n",
        "- **Experiment with Other Models**: Other Hugging Face models like **RoBERTa** or **BERT** may yield even better results.\n",
        "- **Batch Processing**: If you’re working with a large dataset, you might want to process text in batches for efficiency.\n",
        "\n",
        "Using an LLM from Hugging Face provides a powerful upgrade to sentiment analysis and can yield far better performance on nuanced text like movie reviews. Let me know if you’d like further customization or if you encounter any issues with this setup!"
      ],
      "metadata": {
        "id": "QHf-8dxNCF8P"
      }
    },
    {
      "cell_type": "markdown",
      "source": [
        "### Install Libraries"
      ],
      "metadata": {
        "id": "V9hZB6PmSJ0V"
      }
    },
    {
      "cell_type": "code",
      "source": [
        "# !pip install transformers datasets\n",
        "!pip install python-dotenv"
      ],
      "metadata": {
        "colab": {
          "base_uri": "https://localhost:8080/"
        },
        "id": "yWGATw1MCWL3",
        "outputId": "546cf65f-9ed2-4575-87d1-9a4b3bcb92f3"
      },
      "execution_count": 16,
      "outputs": [
        {
          "output_type": "stream",
          "name": "stdout",
          "text": [
            "Collecting python-dotenv\n",
            "  Downloading python_dotenv-1.0.1-py3-none-any.whl.metadata (23 kB)\n",
            "Downloading python_dotenv-1.0.1-py3-none-any.whl (19 kB)\n",
            "Installing collected packages: python-dotenv\n",
            "Successfully installed python-dotenv-1.0.1\n"
          ]
        }
      ]
    },
    {
      "cell_type": "markdown",
      "source": [
        "### Import API Key"
      ],
      "metadata": {
        "id": "8f8sPdAgSNDT"
      }
    },
    {
      "cell_type": "code",
      "source": [
        "import os\n",
        "from dotenv import load_dotenv\n",
        "\n",
        "# Path to the .env file\n",
        "env_file_path = '/content/huggingface_api_key.env'\n",
        "\n",
        "# Load the environment variables from the .env file\n",
        "load_dotenv(env_file_path)\n",
        "\n",
        "# Get the API key from the environment\n",
        "api_key = os.getenv(\"HUGGINGFACE_API_KEY\")\n",
        "\n",
        "# Set the environment variable for Hugging Face\n",
        "os.environ[\"HF_TOKEN\"] = api_key\n",
        "\n",
        "# Check that the API key is correctly set\n",
        "# print(f\"Hugging Face API Key loaded: {os.environ.get('HUGGINGFACEHUB_API_TOKEN')}\")"
      ],
      "metadata": {
        "id": "mmEbBRJbDJgu"
      },
      "execution_count": 23,
      "outputs": []
    },
    {
      "cell_type": "markdown",
      "source": [
        "### Import Pipeline"
      ],
      "metadata": {
        "id": "yzzXEwIySSdP"
      }
    },
    {
      "cell_type": "code",
      "source": [
        "from transformers import pipeline\n",
        "\n",
        "# Load a pre-trained sentiment-analysis pipeline\n",
        "sentiment_pipeline = pipeline(\"sentiment-analysis\", model=\"distilbert-base-uncased-finetuned-sst-2-english\")"
      ],
      "metadata": {
        "id": "BG3rf692Cfnv"
      },
      "execution_count": 20,
      "outputs": []
    },
    {
      "cell_type": "markdown",
      "source": [
        "### Train & Predict\n"
      ],
      "metadata": {
        "id": "P1K1_EJaSWUU"
      }
    },
    {
      "cell_type": "code",
      "source": [
        "# Run sentiment analysis on each movie review\n",
        "results = []\n",
        "for review in documents:\n",
        "    sentiment = sentiment_pipeline(review[:512])  # Limit to 512 tokens\n",
        "    predicted_label = \"pos\" if sentiment[0]['label'] == 'POSITIVE' else \"neg\"\n",
        "    results.append(predicted_label)\n",
        "\n",
        "# Evaluate results\n",
        "from sklearn.metrics import classification_report, accuracy_score\n",
        "print(\"Classification Report:\\n\", classification_report(labels, results))\n",
        "print(\"Accuracy:\", accuracy_score(labels, results))\n",
        "\n",
        "# Print predicted and actual values for the first ten documents\n",
        "print(\"\\nFirst 10 Predictions:\")\n",
        "for i in range(10):\n",
        "    print(f\"Review {i+1}: Predicted: {results[i]}, Actual: {labels[i]}\")\n"
      ],
      "metadata": {
        "colab": {
          "base_uri": "https://localhost:8080/"
        },
        "id": "vG9y9lSDGMx2",
        "outputId": "f277c0d7-e5e9-4475-f9c5-2455087e8304"
      },
      "execution_count": 21,
      "outputs": [
        {
          "output_type": "stream",
          "name": "stdout",
          "text": [
            "Classification Report:\n",
            "               precision    recall  f1-score   support\n",
            "\n",
            "         neg       0.68      0.78      0.73      1000\n",
            "         pos       0.74      0.64      0.68      1000\n",
            "\n",
            "    accuracy                           0.71      2000\n",
            "   macro avg       0.71      0.71      0.71      2000\n",
            "weighted avg       0.71      0.71      0.71      2000\n",
            "\n",
            "Accuracy: 0.7065\n",
            "\n",
            "First 10 Predictions:\n",
            "Review 1: Predicted: neg, Actual: neg\n",
            "Review 2: Predicted: neg, Actual: neg\n",
            "Review 3: Predicted: pos, Actual: neg\n",
            "Review 4: Predicted: neg, Actual: neg\n",
            "Review 5: Predicted: neg, Actual: neg\n",
            "Review 6: Predicted: neg, Actual: neg\n",
            "Review 7: Predicted: neg, Actual: neg\n",
            "Review 8: Predicted: neg, Actual: neg\n",
            "Review 9: Predicted: pos, Actual: neg\n",
            "Review 10: Predicted: neg, Actual: neg\n"
          ]
        }
      ]
    }
  ]
}