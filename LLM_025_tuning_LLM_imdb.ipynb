{
  "nbformat": 4,
  "nbformat_minor": 0,
  "metadata": {
    "colab": {
      "provenance": [],
      "toc_visible": true,
      "authorship_tag": "ABX9TyNHlIhzfwfqBUVk4JZov/5i",
      "include_colab_link": true
    },
    "kernelspec": {
      "name": "python3",
      "display_name": "Python 3"
    },
    "language_info": {
      "name": "python"
    }
  },
  "cells": [
    {
      "cell_type": "markdown",
      "metadata": {
        "id": "view-in-github",
        "colab_type": "text"
      },
      "source": [
        "<a href=\"https://colab.research.google.com/github/micah-shull/LLMs/blob/main/LLM_025_tuning_LLM_imdb.ipynb\" target=\"_parent\"><img src=\"https://colab.research.google.com/assets/colab-badge.svg\" alt=\"Open In Colab\"/></a>"
      ]
    },
    {
      "cell_type": "code",
      "execution_count": null,
      "metadata": {
        "id": "TTfkqykweKCW"
      },
      "outputs": [],
      "source": []
    },
    {
      "cell_type": "markdown",
      "source": [
        "Here’s a structured lesson plan to guide you through fine-tuning a large language model (LLM), focusing on essential concepts and practical steps. This plan will break down the core components and provide you with a solid understanding of the process before diving into code.\n",
        "\n",
        "---\n",
        "\n",
        "## Fine-Tuning a Large Language Model (LLM)\n",
        "\n",
        "---\n",
        "\n",
        "#### **1. Introduction to Fine-Tuning Large Language Models**\n",
        "   - **Goal**: Understand the purpose of fine-tuning and when to apply it to LLMs.\n",
        "   - **Key Concepts**:\n",
        "     - **Pre-trained Model**: Understand that pre-trained models, like GPT, BERT, etc., have learned language patterns and structures but may need further tuning for specific tasks (e.g., sentiment analysis, summarization).\n",
        "     - **Fine-Tuning vs. Pre-training**: Know that pre-training is the initial phase, involving large datasets, while fine-tuning adapts the model to a narrower, task-specific dataset.\n",
        "   - **Takeaway**: Fine-tuning leverages the model’s learned language structures for specific applications, reducing the need for vast compute resources.\n",
        "\n",
        "---\n",
        "\n",
        "#### **2. Preparing Data for Fine-Tuning**\n",
        "   - **Goal**: Learn data selection and preparation techniques for effective fine-tuning.\n",
        "   - **Key Concepts**:\n",
        "     - **Data Relevance**: Choosing data that closely matches your target task. For example, for a sentiment analysis task, choose a dataset with labeled sentiments.\n",
        "     - **Data Formatting**: Structuring data in formats that align with LLMs (usually text paired with labels, sometimes in JSON/CSV format).\n",
        "     - **Tokenization**: Prepare text data by breaking it down into tokens. Key concepts here include `padding`, `truncation`, and the importance of uniform input sizes.\n",
        "   - **Takeaway**: Properly prepared data is essential for smooth fine-tuning and effective task adaptation.\n",
        "\n",
        "---\n",
        "\n",
        "#### **3. Understanding and Setting Hyperparameters**\n",
        "   - **Goal**: Familiarize yourself with tuning parameters that affect training speed, accuracy, and generalization.\n",
        "   - **Key Concepts**:\n",
        "     - **Learning Rate**: A critical hyperparameter that controls the model’s adjustments at each step; setting this value too high or low can hinder performance.\n",
        "     - **Batch Size**: Impacts memory usage and stability; large models typically require smaller batch sizes.\n",
        "     - **Epochs**: Number of times the model goes through the entire dataset. Too many epochs can lead to overfitting; too few may underfit.\n",
        "   - **Takeaway**: Understanding these hyperparameters is crucial for optimizing performance without over- or under-training the model.\n",
        "\n",
        "---\n",
        "\n",
        "#### **4. Choosing a Fine-Tuning Method**\n",
        "   - **Goal**: Explore different techniques for fine-tuning, focusing on the most popular ones.\n",
        "   - **Key Concepts**:\n",
        "     - **Standard Fine-Tuning**: Updating all parameters of the model, typically more resource-intensive.\n",
        "     - **Parameter-Efficient Fine-Tuning (PEFT)**: Techniques like LoRA, Adapter Layers, and Prompt Tuning that update only a subset of parameters or add small, trainable modules to the model.\n",
        "   - **Takeaway**: Choose an appropriate method based on your compute resources and task complexity; PEFT methods like LoRA are useful for large LLMs with constrained resources.\n",
        "\n",
        "---\n",
        "\n",
        "#### **5. Training Process**\n",
        "   - **Goal**: Execute the fine-tuning process and understand each step.\n",
        "   - **Key Concepts**:\n",
        "     - **Forward Propagation**: Understand how the model makes predictions by passing inputs forward through the network.\n",
        "     - **Loss Calculation**: Measure the error of predictions, often with cross-entropy loss for classification tasks.\n",
        "     - **Backward Propagation**: Update model weights based on loss gradients to minimize error. Learn about **gradients** and **optimizers** (e.g., AdamW).\n",
        "   - **Takeaway**: Each training step adjusts the model to better match your task-specific dataset by minimizing the error.\n",
        "\n",
        "---\n",
        "\n",
        "#### **6. Evaluation and Metrics**\n",
        "   - **Goal**: Assess the model’s performance with relevant metrics.\n",
        "   - **Key Concepts**:\n",
        "     - **Accuracy, Precision, Recall, F1-Score**: Understand these metrics for classification tasks.\n",
        "     - **Validation and Test Sets**: The importance of keeping test data separate to get an unbiased measure of the model’s real-world performance.\n",
        "   - **Takeaway**: Effective evaluation ensures that the model performs well on unseen data and provides insight into areas for further tuning.\n",
        "\n",
        "---\n",
        "\n",
        "#### **7. Saving, Loading, and Deploying the Model**\n",
        "   - **Goal**: Make your fine-tuned model reusable and deployable.\n",
        "   - **Key Concepts**:\n",
        "     - **Model Serialization**: Saving the model and tokenizer so they can be loaded later without retraining.\n",
        "     - **Deploying with APIs**: Briefly introduce options for deploying the model using APIs or integrating with web apps.\n",
        "   - **Takeaway**: Saved models can be reused or further fine-tuned, and deployment enables real-world applications.\n",
        "\n",
        "---\n",
        "\n",
        "#### **8. Advanced Techniques (Optional)**\n",
        "   - **Goal**: Explore advanced fine-tuning concepts if you’re comfortable with the basics.\n",
        "   - **Key Concepts**:\n",
        "     - **Hyperparameter Tuning**: Use tools like grid search or Bayesian optimization to find the best hyperparameters.\n",
        "     - **Ensemble Methods**: Combine models to improve accuracy or robustness.\n",
        "     - **Knowledge Distillation**: Compress large models into smaller, faster versions while preserving performance.\n",
        "   - **Takeaway**: Advanced techniques can further optimize and refine your model’s performance, but they require a strong grasp of fine-tuning fundamentals.\n",
        "\n",
        "---\n",
        "\n",
        "### Summary\n",
        "This lesson plan covers the essential steps and concepts you need to know to fine-tune a large language model. Each step builds on the last, reinforcing core knowledge and ensuring you’re equipped with both the theoretical background and practical skills to fine-tune LLMs effectively.\n",
        "\n",
        "\n",
        "\n"
      ],
      "metadata": {
        "id": "q6CZOeA6eShL"
      }
    },
    {
      "cell_type": "code",
      "source": [
        "# !pip install transformers datasets\n",
        "# !pip install python-dotenv"
      ],
      "metadata": {
        "id": "qhAJ0syxexol"
      },
      "execution_count": 3,
      "outputs": []
    },
    {
      "cell_type": "markdown",
      "source": [
        "### Import Libaries"
      ],
      "metadata": {
        "id": "t_SUysLF-HSI"
      }
    },
    {
      "cell_type": "code",
      "source": [
        "import os\n",
        "import openai\n",
        "from dotenv import load_dotenv\n",
        "from transformers import pipeline\n",
        "from datasets import load_dataset\n",
        "\n",
        "# Load environment variables\n",
        "load_dotenv('/content/huggingface_api_key.env')\n",
        "api_key = os.getenv(\"HUGGINGFACE_API_KEY\")\n",
        "os.environ[\"HF_TOKEN\"] = api_key\n",
        "\n",
        "# Load the Amazon Reviews dataset\n",
        "dataset = load_dataset(\"imdb\")\n",
        "\n",
        "# Split data into documents and labels for training and testing\n",
        "documents = dataset[\"train\"][\"text\"]\n",
        "labels = [\"pos\" if label == 1 else \"neg\" for label in dataset[\"train\"][\"label\"]]\n",
        "\n",
        "# Quick preview of dataset\n",
        "print(\"Sample IMDb Review Text:\", documents[0])\n",
        "print(\"Sample IMDb Review Label:\", labels[0])"
      ],
      "metadata": {
        "colab": {
          "base_uri": "https://localhost:8080/"
        },
        "id": "hL8soXQrfAcN",
        "outputId": "7872d123-0ed8-4d26-b18a-04768ac119de"
      },
      "execution_count": 8,
      "outputs": [
        {
          "output_type": "stream",
          "name": "stdout",
          "text": [
            "Sample IMDb Review Text: I rented I AM CURIOUS-YELLOW from my video store because of all the controversy that surrounded it when it was first released in 1967. I also heard that at first it was seized by U.S. customs if it ever tried to enter this country, therefore being a fan of films considered \"controversial\" I really had to see this for myself.<br /><br />The plot is centered around a young Swedish drama student named Lena who wants to learn everything she can about life. In particular she wants to focus her attentions to making some sort of documentary on what the average Swede thought about certain political issues such as the Vietnam War and race issues in the United States. In between asking politicians and ordinary denizens of Stockholm about their opinions on politics, she has sex with her drama teacher, classmates, and married men.<br /><br />What kills me about I AM CURIOUS-YELLOW is that 40 years ago, this was considered pornographic. Really, the sex and nudity scenes are few and far between, even then it's not shot like some cheaply made porno. While my countrymen mind find it shocking, in reality sex and nudity are a major staple in Swedish cinema. Even Ingmar Bergman, arguably their answer to good old boy John Ford, had sex scenes in his films.<br /><br />I do commend the filmmakers for the fact that any sex shown in the film is shown for artistic purposes rather than just to shock people and make money to be shown in pornographic theaters in America. I AM CURIOUS-YELLOW is a good film for anyone wanting to study the meat and potatoes (no pun intended) of Swedish cinema. But really, this film doesn't have much of a plot.\n",
            "Sample IMDb Review Label: neg\n"
          ]
        }
      ]
    },
    {
      "cell_type": "code",
      "source": [
        "# Display the first few entries in the training dataset\n",
        "for i in range(3):\n",
        "    print(f\"Review {i+1}:\")\n",
        "    print(\"Text:\", dataset[\"train\"][\"text\"][i])\n",
        "    print(\"Label:\", \"Positive\" if dataset[\"train\"][\"label\"][i] == 1 else \"Negative\")\n",
        "    print(\"=\"*50)"
      ],
      "metadata": {
        "colab": {
          "base_uri": "https://localhost:8080/"
        },
        "id": "CcNiFzPVhGxf",
        "outputId": "aa169ac5-0bc0-45c1-a716-8eb89a7b9cd8"
      },
      "execution_count": 10,
      "outputs": [
        {
          "output_type": "stream",
          "name": "stdout",
          "text": [
            "Review 1:\n",
            "Text: I rented I AM CURIOUS-YELLOW from my video store because of all the controversy that surrounded it when it was first released in 1967. I also heard that at first it was seized by U.S. customs if it ever tried to enter this country, therefore being a fan of films considered \"controversial\" I really had to see this for myself.<br /><br />The plot is centered around a young Swedish drama student named Lena who wants to learn everything she can about life. In particular she wants to focus her attentions to making some sort of documentary on what the average Swede thought about certain political issues such as the Vietnam War and race issues in the United States. In between asking politicians and ordinary denizens of Stockholm about their opinions on politics, she has sex with her drama teacher, classmates, and married men.<br /><br />What kills me about I AM CURIOUS-YELLOW is that 40 years ago, this was considered pornographic. Really, the sex and nudity scenes are few and far between, even then it's not shot like some cheaply made porno. While my countrymen mind find it shocking, in reality sex and nudity are a major staple in Swedish cinema. Even Ingmar Bergman, arguably their answer to good old boy John Ford, had sex scenes in his films.<br /><br />I do commend the filmmakers for the fact that any sex shown in the film is shown for artistic purposes rather than just to shock people and make money to be shown in pornographic theaters in America. I AM CURIOUS-YELLOW is a good film for anyone wanting to study the meat and potatoes (no pun intended) of Swedish cinema. But really, this film doesn't have much of a plot.\n",
            "Label: Negative\n",
            "==================================================\n",
            "Review 2:\n",
            "Text: \"I Am Curious: Yellow\" is a risible and pretentious steaming pile. It doesn't matter what one's political views are because this film can hardly be taken seriously on any level. As for the claim that frontal male nudity is an automatic NC-17, that isn't true. I've seen R-rated films with male nudity. Granted, they only offer some fleeting views, but where are the R-rated films with gaping vulvas and flapping labia? Nowhere, because they don't exist. The same goes for those crappy cable shows: schlongs swinging in the breeze but not a clitoris in sight. And those pretentious indie movies like The Brown Bunny, in which we're treated to the site of Vincent Gallo's throbbing johnson, but not a trace of pink visible on Chloe Sevigny. Before crying (or implying) \"double-standard\" in matters of nudity, the mentally obtuse should take into account one unavoidably obvious anatomical difference between men and women: there are no genitals on display when actresses appears nude, and the same cannot be said for a man. In fact, you generally won't see female genitals in an American film in anything short of porn or explicit erotica. This alleged double-standard is less a double standard than an admittedly depressing ability to come to terms culturally with the insides of women's bodies.\n",
            "Label: Negative\n",
            "==================================================\n",
            "Review 3:\n",
            "Text: If only to avoid making this type of film in the future. This film is interesting as an experiment but tells no cogent story.<br /><br />One might feel virtuous for sitting thru it because it touches on so many IMPORTANT issues but it does so without any discernable motive. The viewer comes away with no new perspectives (unless one comes up with one while one's mind wanders, as it will invariably do during this pointless film).<br /><br />One might better spend one's time staring out a window at a tree growing.<br /><br />\n",
            "Label: Negative\n",
            "==================================================\n"
          ]
        }
      ]
    },
    {
      "cell_type": "markdown",
      "source": [
        "### Visualize Data"
      ],
      "metadata": {
        "id": "FADcS_FH-LEF"
      }
    },
    {
      "cell_type": "code",
      "source": [
        "import pandas as pd\n",
        "import matplotlib.pyplot as plt\n",
        "\n",
        "# Extract labels and documents from the IMDb dataset\n",
        "documents = dataset[\"train\"][\"text\"]\n",
        "labels = [\"pos\" if label == 1 else \"neg\" for label in dataset[\"train\"][\"label\"]]\n",
        "\n",
        "# Calculate and print value counts for labels\n",
        "label_counts = pd.Series(labels).value_counts()\n",
        "\n",
        "# Calculate review lengths\n",
        "review_lengths = [len(review.split()) for review in documents]\n",
        "\n",
        "# Create a 1x2 grid for the plots\n",
        "fig, axes = plt.subplots(1, 2, figsize=(15, 5))\n",
        "\n",
        "# Plot 1: Label Distribution\n",
        "axes[0].bar(label_counts.index, label_counts.values, color=['skyblue', 'salmon'])\n",
        "axes[0].set_title(\"IMDb Reviews Sentiment Distribution\")\n",
        "axes[0].set_xlabel(\"Sentiment\")\n",
        "axes[0].set_ylabel(\"Count\")\n",
        "axes[0].set_xticks(range(len(label_counts.index)))\n",
        "axes[0].set_xticklabels([\"Positive\", \"Negative\"])\n",
        "\n",
        "# Plot 2: Review Length Distribution\n",
        "axes[1].hist(review_lengths, bins=30, color='gold', alpha=0.7)\n",
        "axes[1].set_title(\"Distribution of Review Lengths in IMDb Reviews\")\n",
        "axes[1].set_xlabel(\"Number of Words\")\n",
        "axes[1].set_ylabel(\"Frequency\")\n",
        "\n",
        "# Adjust layout and show the plots\n",
        "plt.tight_layout()\n",
        "plt.show()\n",
        "\n",
        "# Display basic statistics\n",
        "print(\"Review Length Statistics:\")\n",
        "print(\"Mean Length:\", sum(review_lengths) / len(review_lengths))\n",
        "print(\"Max Length:\", max(review_lengths))\n",
        "print(\"Min Length:\", min(review_lengths))\n"
      ],
      "metadata": {
        "colab": {
          "base_uri": "https://localhost:8080/",
          "height": 370
        },
        "id": "YNPXANZphYnW",
        "outputId": "b08e1ba1-dd42-4943-890d-5f979912d99c"
      },
      "execution_count": 12,
      "outputs": [
        {
          "output_type": "display_data",
          "data": {
            "text/plain": [
              "<Figure size 1500x500 with 2 Axes>"
            ],
            "image/png": "[encoded data removed]"
          },
          "metadata": {}
        },
        {
          "output_type": "stream",
          "name": "stdout",
          "text": [
            "Review Length Statistics:\n",
            "Mean Length: 233.7872\n",
            "Max Length: 2470\n",
            "Min Length: 10\n"
          ]
        }
      ]
    },
    {
      "cell_type": "markdown",
      "source": [
        "### Sample the Data"
      ],
      "metadata": {
        "id": "afLgVacvkRJt"
      }
    },
    {
      "cell_type": "code",
      "source": [
        "import random\n",
        "\n",
        "# Set the sample fraction (e.g., 5%)\n",
        "sample_fraction = 0.05\n",
        "\n",
        "# Sample from the training data\n",
        "train_documents = dataset[\"train\"][\"text\"]\n",
        "train_labels = [\"pos\" if label == 1 else \"neg\" for label in dataset[\"train\"][\"label\"]]\n",
        "train_sample_size = int(len(train_documents) * sample_fraction)\n",
        "\n",
        "# Randomly sample reviews and labels from the training set\n",
        "random.seed(42)\n",
        "train_sample_indices = random.sample(range(len(train_documents)), train_sample_size)\n",
        "train_texts = [train_documents[i] for i in train_sample_indices]\n",
        "train_labels = [train_labels[i] for i in train_sample_indices]\n",
        "\n",
        "# Sample from the test data\n",
        "test_documents = dataset[\"test\"][\"text\"]\n",
        "test_labels = [\"pos\" if label == 1 else \"neg\" for label in dataset[\"test\"][\"label\"]]\n",
        "test_sample_size = int(len(test_documents) * sample_fraction)\n",
        "\n",
        "# Randomly sample reviews and labels from the test set\n",
        "test_sample_indices = random.sample(range(len(test_documents)), test_sample_size)\n",
        "test_texts = [test_documents[i] for i in test_sample_indices]\n",
        "test_labels = [test_labels[i] for i in test_sample_indices]\n",
        "\n",
        "# Print the number of samples in each split\n",
        "print(\"Number of training samples:\", len(train_texts))\n",
        "print(\"Number of testing samples:\", len(test_texts))"
      ],
      "metadata": {
        "colab": {
          "base_uri": "https://localhost:8080/"
        },
        "id": "y1js_qXYhqUn",
        "outputId": "7bb73cb7-05b0-4307-c053-69c978a68686"
      },
      "execution_count": 14,
      "outputs": [
        {
          "output_type": "stream",
          "name": "stdout",
          "text": [
            "Number of training samples: 1250\n",
            "Number of testing samples: 1250\n"
          ]
        }
      ]
    },
    {
      "cell_type": "markdown",
      "source": [
        "### Train Test Split\n",
        "If the dataset already has predefined training and testing splits, as the IMDb dataset does, you **don’t need to use `train_test_split`** again. You can simply sample from each of these splits directly.\n",
        "\n",
        "- **Separate Sampling for Train and Test**: Since the IMDb dataset already has a `train` and `test` split, we sample 5% from each directly, without mixing data between the two sets.\n",
        "- **Random Sampling from Each Split**: We use `random.sample()` separately for `train` and `test`, maintaining independence between the two subsets.\n",
        "\n",
        "### Benefits of Using Predefined Splits\n",
        "Using the existing `train` and `test` splits is beneficial because:\n",
        "- **Consistency**: Many datasets are split to reflect real-world distributions, so using predefined splits can lead to more realistic evaluations.\n",
        "- **Avoids Data Leakage**: By not mixing data from `train` and `test`, you reduce the risk of data leakage, where information from the test set inadvertently influences the training process.\n"
      ],
      "metadata": {
        "id": "7kRwLGCnipYR"
      }
    },
    {
      "cell_type": "markdown",
      "source": [
        "### Tokenize the Data"
      ],
      "metadata": {
        "id": "ziQ0UpklkTY-"
      }
    },
    {
      "cell_type": "code",
      "source": [
        "from transformers import AutoTokenizer, AutoModelForSequenceClassification\n",
        "\n",
        "# Load the tokenizer\n",
        "tokenizer = AutoTokenizer.from_pretrained(\"distilbert-base-uncased\")\n",
        "\n",
        "# Tokenize the training set\n",
        "train_encodings = tokenizer(train_texts, truncation=True, padding=True, max_length=128)\n",
        "\n",
        "# Tokenize the test set\n",
        "test_encodings = tokenizer(test_texts, truncation=True, padding=True, max_length=128)\n",
        "\n",
        "# Optional: Inspect tokenization on a few examples\n",
        "sample_texts = train_texts[:3]  # First three reviews in the training sample\n",
        "sample_labels = train_labels[:3]\n",
        "tokenized_texts = tokenizer(sample_texts, padding=True, truncation=True, max_length=128)\n",
        "\n",
        "# Display the original and tokenized versions\n",
        "for i, text in enumerate(sample_texts):\n",
        "    print(f\"Original Review {i+1}:\")\n",
        "    print(\"Text:\", text)\n",
        "    print(\"Label:\", \"Positive\" if sample_labels[i] == \"pos\" else \"Negative\")\n",
        "    print(\"\\nTokenized Review:\", tokenized_texts[\"input_ids\"][i])\n",
        "    print(\"Attention Mask:\", tokenized_texts[\"attention_mask\"][i])\n",
        "    print(\"=\"*50)"
      ],
      "metadata": {
        "colab": {
          "base_uri": "https://localhost:8080/"
        },
        "id": "h8v49V-Zhrmi",
        "outputId": "225aba5f-df75-49b1-f60b-9c7aa8e27d94"
      },
      "execution_count": 18,
      "outputs": [
        {
          "output_type": "stream",
          "name": "stdout",
          "text": [
            "Original Review 1:\n",
            "Text: Arguably this is a very good \"sequel\", better than the first live action film 101 Dalmatians. It has good dogs, good actors, good jokes and all right slapstick! <br /><br />Cruella DeVil, who has had some rather major therapy, is now a lover of dogs and very kind to them. Many, including Chloe Simon, owner of one of the dogs that Cruella once tried to kill, do not believe this. Others, like Kevin Shepherd (owner of 2nd Chance Dog Shelter) believe that she has changed. <br /><br />Meanwhile, Dipstick, with his mate, have given birth to three cute dalmatian puppies! Little Dipper, Domino and Oddball...<br /><br />Starring Eric Idle as Waddlesworth (the hilarious macaw), Glenn Close as Cruella herself and Gerard Depardieu as Le Pelt (another baddie, the name should give a clue), this is a good family film with excitement and lots more!! One downfall of this film is that is has a lot of painful slapstick, but not quite as excessive as the last film. This is also funnier than the last film.<br /><br />Enjoy \"102 Dalmatians\"! :-)\n",
            "Label: Positive\n",
            "\n",
            "Tokenized Review: [101, 15835, 2023, 2003, 1037, 2200, 2204, 1000, 8297, 1000, 1010, 2488, 2084, 1996, 2034, 2444, 2895, 2143, 7886, 17488, 18900, 7066, 1012, 2009, 2038, 2204, 6077, 1010, 2204, 5889, 1010, 2204, 13198, 1998, 2035, 2157, 14308, 21354, 999, 1026, 7987, 1013, 1028, 1026, 7987, 1013, 1028, 10311, 2721, 6548, 1010, 2040, 2038, 2018, 2070, 2738, 2350, 7242, 1010, 2003, 2085, 1037, 7089, 1997, 6077, 1998, 2200, 2785, 2000, 2068, 1012, 2116, 1010, 2164, 9318, 4079, 1010, 3954, 1997, 2028, 1997, 1996, 6077, 2008, 10311, 2721, 2320, 2699, 2000, 3102, 1010, 2079, 2025, 2903, 2023, 1012, 2500, 1010, 2066, 4901, 11133, 1006, 3954, 1997, 3416, 3382, 3899, 7713, 1007, 2903, 2008, 2016, 2038, 2904, 1012, 1026, 7987, 1013, 1028, 1026, 7987, 1013, 1028, 5564, 1010, 16510, 21354, 102]\n",
            "Attention Mask: [1, 1, 1, 1, 1, 1, 1, 1, 1, 1, 1, 1, 1, 1, 1, 1, 1, 1, 1, 1, 1, 1, 1, 1, 1, 1, 1, 1, 1, 1, 1, 1, 1, 1, 1, 1, 1, 1, 1, 1, 1, 1, 1, 1, 1, 1, 1, 1, 1, 1, 1, 1, 1, 1, 1, 1, 1, 1, 1, 1, 1, 1, 1, 1, 1, 1, 1, 1, 1, 1, 1, 1, 1, 1, 1, 1, 1, 1, 1, 1, 1, 1, 1, 1, 1, 1, 1, 1, 1, 1, 1, 1, 1, 1, 1, 1, 1, 1, 1, 1, 1, 1, 1, 1, 1, 1, 1, 1, 1, 1, 1, 1, 1, 1, 1, 1, 1, 1, 1, 1, 1, 1, 1, 1, 1, 1, 1, 1]\n",
            "==================================================\n",
            "Original Review 2:\n",
            "Text: It's a good thing I didn't watch this while i was pregnant.I definitely would have cried my eyes out and/or vomit. It was Kind of gruesome mainly disturbing. I personally thought the baby was adorable in its own twisted little way.However as a mom I cringed when Beth stabbed herself in the stomach and when Virgina aborted the child during her 3rd trimester with rusty utensils no less.Also,as an animal lover i almost cried when she scratched the cat to a bloody pulp.However,As creepy and sinister as the baby was I was rooting for it to live.And as twisted as the movie was I am extremely intrigued to see the sequel...... ......... ....... ......... ......... ....... ...... .....\n",
            "Label: Negative\n",
            "\n",
            "Tokenized Review: [101, 2009, 1005, 1055, 1037, 2204, 2518, 1045, 2134, 1005, 1056, 3422, 2023, 2096, 1045, 2001, 6875, 1012, 1045, 5791, 2052, 2031, 6639, 2026, 2159, 2041, 1998, 1013, 2030, 23251, 1012, 2009, 2001, 2785, 1997, 24665, 15808, 8462, 3701, 14888, 1012, 1045, 7714, 2245, 1996, 3336, 2001, 23677, 1999, 2049, 2219, 6389, 2210, 2126, 1012, 2174, 2004, 1037, 3566, 1045, 23952, 2043, 7014, 13263, 2841, 1999, 1996, 4308, 1998, 2043, 6261, 2050, 11113, 15613, 1996, 2775, 2076, 2014, 3822, 12241, 20367, 2007, 13174, 21183, 6132, 12146, 2053, 2625, 1012, 2036, 1010, 2004, 2019, 4111, 7089, 1045, 2471, 6639, 2043, 2016, 15047, 1996, 4937, 2000, 1037, 6703, 16016, 1012, 2174, 1010, 2004, 17109, 1998, 16491, 2004, 1996, 3336, 2001, 1045, 2001, 7117, 2075, 2005, 2009, 2000, 2444, 1012, 102]\n",
            "Attention Mask: [1, 1, 1, 1, 1, 1, 1, 1, 1, 1, 1, 1, 1, 1, 1, 1, 1, 1, 1, 1, 1, 1, 1, 1, 1, 1, 1, 1, 1, 1, 1, 1, 1, 1, 1, 1, 1, 1, 1, 1, 1, 1, 1, 1, 1, 1, 1, 1, 1, 1, 1, 1, 1, 1, 1, 1, 1, 1, 1, 1, 1, 1, 1, 1, 1, 1, 1, 1, 1, 1, 1, 1, 1, 1, 1, 1, 1, 1, 1, 1, 1, 1, 1, 1, 1, 1, 1, 1, 1, 1, 1, 1, 1, 1, 1, 1, 1, 1, 1, 1, 1, 1, 1, 1, 1, 1, 1, 1, 1, 1, 1, 1, 1, 1, 1, 1, 1, 1, 1, 1, 1, 1, 1, 1, 1, 1, 1, 1]\n",
            "==================================================\n",
            "Original Review 3:\n",
            "Text: This has to be the worst movie I have seen. Madsen fans don't be drawn into this like I was. He is only in it for a maximum of five minutes. This movie is so bad that the only reason why you would watch it is if all the rest of the movies on earth as well as t.v. had been destroyed.\n",
            "Label: Negative\n",
            "\n",
            "Tokenized Review: [101, 2023, 2038, 2000, 2022, 1996, 5409, 3185, 1045, 2031, 2464, 1012, 5506, 5054, 4599, 2123, 1005, 1056, 2022, 4567, 2046, 2023, 2066, 1045, 2001, 1012, 2002, 2003, 2069, 1999, 2009, 2005, 1037, 4555, 1997, 2274, 2781, 1012, 2023, 3185, 2003, 2061, 2919, 2008, 1996, 2069, 3114, 2339, 2017, 2052, 3422, 2009, 2003, 2065, 2035, 1996, 2717, 1997, 1996, 5691, 2006, 3011, 2004, 2092, 2004, 1056, 1012, 1058, 1012, 2018, 2042, 3908, 1012, 102, 0, 0, 0, 0, 0, 0, 0, 0, 0, 0, 0, 0, 0, 0, 0, 0, 0, 0, 0, 0, 0, 0, 0, 0, 0, 0, 0, 0, 0, 0, 0, 0, 0, 0, 0, 0, 0, 0, 0, 0, 0, 0, 0, 0, 0, 0, 0, 0, 0, 0, 0, 0, 0, 0]\n",
            "Attention Mask: [1, 1, 1, 1, 1, 1, 1, 1, 1, 1, 1, 1, 1, 1, 1, 1, 1, 1, 1, 1, 1, 1, 1, 1, 1, 1, 1, 1, 1, 1, 1, 1, 1, 1, 1, 1, 1, 1, 1, 1, 1, 1, 1, 1, 1, 1, 1, 1, 1, 1, 1, 1, 1, 1, 1, 1, 1, 1, 1, 1, 1, 1, 1, 1, 1, 1, 1, 1, 1, 1, 1, 1, 1, 1, 0, 0, 0, 0, 0, 0, 0, 0, 0, 0, 0, 0, 0, 0, 0, 0, 0, 0, 0, 0, 0, 0, 0, 0, 0, 0, 0, 0, 0, 0, 0, 0, 0, 0, 0, 0, 0, 0, 0, 0, 0, 0, 0, 0, 0, 0, 0, 0, 0, 0, 0, 0, 0, 0]\n",
            "==================================================\n"
          ]
        }
      ]
    },
    {
      "cell_type": "markdown",
      "source": [
        "### Organizing Data for Model Input\n",
        "\n",
        "The next step is to prepare the tokenized data for training by organizing it into a format that the model can work with. Hugging Face models expect data in a specific structure, typically a PyTorch `Dataset` format. We’ll wrap our tokenized data (`train_encodings` and `test_encodings`) into a custom `Dataset` class so that it’s compatible with Hugging Face’s `Trainer` API.\n",
        "\n",
        "1. **Create a Custom Dataset Class**:\n",
        "   - This class will wrap around `train_encodings` and `train_labels` (and similarly for test data).\n",
        "   - It will format the data into a PyTorch `Dataset` so that it can be fed into the model.\n",
        "\n",
        "2. **Convert Labels to Numeric Format**:\n",
        "   - Since labels are strings (`\"pos\"` or `\"neg\"`), we’ll convert them to numerical values (`1` for positive and `0` for negative).\n",
        "\n",
        "---\n",
        "\n",
        "Here are the most important concepts to focus on regarding this `IMDbDataset` class:\n",
        "\n",
        "### 1. **Why We Need a Custom Dataset Class**\n",
        "   - **Compatibility with PyTorch**: Hugging Face's `Trainer` API, which we'll use for training, is built to work seamlessly with PyTorch `Dataset` objects. By creating a custom `IMDbDataset` class, we make our data compatible with `Trainer` and PyTorch’s `DataLoader`, allowing for efficient batch processing during training.\n",
        "   - **Standardized Access**: This class provides a structured way to access both the tokenized input data (`input_ids`, `attention_mask`) and the labels, so that each sample has both the input and label ready in a format the model expects.\n",
        "\n",
        "### 2. **Key Roles of the Class Methods**\n",
        "   - **`__getitem__`**: This method is crucial because it retrieves a single sample (input and label) in a consistent format. This structure is essential for iterating through the data during training, where each input-label pair needs to be correctly formatted.\n",
        "   - **`__len__`**: This method defines the dataset length, allowing PyTorch to understand the size of the dataset, which is needed for training loops.\n",
        "\n",
        "### 3. **Converting Labels to Tensors**\n",
        "   - **Numerical Labels**: The model expects numerical labels for binary classification, so we convert `\"pos\"` to `1` and `\"neg\"` to `0`. This conversion allows the model’s output to be compared directly to the target labels during training, enabling it to calculate loss and make updates accordingly.\n",
        "   - **Tensor Format**: PyTorch requires data to be in tensor format for efficient computations. By converting both the inputs and labels to tensors here, we ensure compatibility with PyTorch operations.\n",
        "\n",
        "---\n",
        "\n",
        "### Key Takeaways\n",
        "- **Standardization for Model Training**: This class standardizes data access, ensuring each batch the model receives is in the correct format.\n",
        "- **PyTorch Compatibility**: Wrapping data in a `Dataset` makes it compatible with the tools used in training, like `Trainer` and `DataLoader`.\n",
        "- **Label Processing**: This step ensures that labels are in a usable, numerical format for binary classification.\n",
        "\n",
        "With this class in place, you’re ready to configure the training process, as the data is now in the ideal structure for training. Let me know if you’re ready for the next step!\n"
      ],
      "metadata": {
        "id": "-TJezYOOpHf5"
      }
    },
    {
      "cell_type": "code",
      "source": [
        "import torch\n",
        "from torch.utils.data import Dataset\n",
        "\n",
        "class IMDbDataset(Dataset):\n",
        "    def __init__(self, encodings, labels):\n",
        "        self.encodings = encodings\n",
        "        # Convert labels to tensor format (1 for \"pos\" and 0 for \"neg\")\n",
        "        self.labels = torch.tensor([1 if label == \"pos\" else 0 for label in labels])\n",
        "\n",
        "    def __getitem__(self, idx):\n",
        "        # Get the item at the given index and add labels as 'labels' key\n",
        "        item = {key: torch.tensor(val[idx]) for key, val in self.encodings.items()}\n",
        "        item[\"labels\"] = self.labels[idx]\n",
        "        return item\n",
        "\n",
        "    def __len__(self):\n",
        "        return len(self.labels)\n",
        "\n",
        "# Create the training and testing dataset objects\n",
        "train_dataset = IMDbDataset(train_encodings, train_labels)\n",
        "test_dataset = IMDbDataset(test_encodings, test_labels)"
      ],
      "metadata": {
        "id": "bGjyJMIDpHAG"
      },
      "execution_count": 20,
      "outputs": []
    },
    {
      "cell_type": "code",
      "source": [
        "print(\"Sample from train_dataset:\\n\")\n",
        "print(train_dataset[0]['input_ids'])\n",
        "print(train_dataset[0]['attention_mask'])\n",
        "print(train_dataset[0]['labels'])"
      ],
      "metadata": {
        "colab": {
          "base_uri": "https://localhost:8080/"
        },
        "id": "ffZwqPwlpG9w",
        "outputId": "1f71ce96-705b-4693-d152-fee18515fa0a"
      },
      "execution_count": 30,
      "outputs": [
        {
          "output_type": "stream",
          "name": "stdout",
          "text": [
            "Sample from train_dataset:\n",
            "\n",
            "tensor([  101, 15835,  2023,  2003,  1037,  2200,  2204,  1000,  8297,  1000,\n",
            "         1010,  2488,  2084,  1996,  2034,  2444,  2895,  2143,  7886, 17488,\n",
            "        18900,  7066,  1012,  2009,  2038,  2204,  6077,  1010,  2204,  5889,\n",
            "         1010,  2204, 13198,  1998,  2035,  2157, 14308, 21354,   999,  1026,\n",
            "         7987,  1013,  1028,  1026,  7987,  1013,  1028, 10311,  2721,  6548,\n",
            "         1010,  2040,  2038,  2018,  2070,  2738,  2350,  7242,  1010,  2003,\n",
            "         2085,  1037,  7089,  1997,  6077,  1998,  2200,  2785,  2000,  2068,\n",
            "         1012,  2116,  1010,  2164,  9318,  4079,  1010,  3954,  1997,  2028,\n",
            "         1997,  1996,  6077,  2008, 10311,  2721,  2320,  2699,  2000,  3102,\n",
            "         1010,  2079,  2025,  2903,  2023,  1012,  2500,  1010,  2066,  4901,\n",
            "        11133,  1006,  3954,  1997,  3416,  3382,  3899,  7713,  1007,  2903,\n",
            "         2008,  2016,  2038,  2904,  1012,  1026,  7987,  1013,  1028,  1026,\n",
            "         7987,  1013,  1028,  5564,  1010, 16510, 21354,   102])\n",
            "tensor([1, 1, 1, 1, 1, 1, 1, 1, 1, 1, 1, 1, 1, 1, 1, 1, 1, 1, 1, 1, 1, 1, 1, 1,\n",
            "        1, 1, 1, 1, 1, 1, 1, 1, 1, 1, 1, 1, 1, 1, 1, 1, 1, 1, 1, 1, 1, 1, 1, 1,\n",
            "        1, 1, 1, 1, 1, 1, 1, 1, 1, 1, 1, 1, 1, 1, 1, 1, 1, 1, 1, 1, 1, 1, 1, 1,\n",
            "        1, 1, 1, 1, 1, 1, 1, 1, 1, 1, 1, 1, 1, 1, 1, 1, 1, 1, 1, 1, 1, 1, 1, 1,\n",
            "        1, 1, 1, 1, 1, 1, 1, 1, 1, 1, 1, 1, 1, 1, 1, 1, 1, 1, 1, 1, 1, 1, 1, 1,\n",
            "        1, 1, 1, 1, 1, 1, 1, 1])\n",
            "tensor(1)\n"
          ]
        }
      ]
    },
    {
      "cell_type": "markdown",
      "source": [
        "### Attention Mask\n",
        "The **attention mask** is a key concept in transformer models. It’s used to indicate which tokens (words or subwords) in the input are actual content versus padding. Here’s a breakdown of what it is and why it matters:\n",
        "\n",
        "### 1. **Purpose of the Attention Mask**\n",
        "   - Transformer models, like BERT and DistilBERT, work with **fixed-length inputs**, meaning all sequences (e.g., sentences) need to be the same length.\n",
        "   - To make sequences of different lengths uniform, shorter sequences are padded with extra tokens (usually zeros) to reach the maximum length. These padding tokens are not real words and don’t contain useful information.\n",
        "   - The **attention mask** tells the model which tokens are actual data and which are just padding, helping the model **ignore padding** during processing.\n",
        "\n",
        "### 2. **How the Attention Mask Works**\n",
        "   - Each position in the attention mask is a binary value:\n",
        "     - `1` means the token at that position is **important** (an actual word or subword).\n",
        "     - `0` means the token is **padding** and should be ignored.\n",
        "   - When the model applies attention, it can use this mask to focus only on meaningful tokens, preventing it from wasting computation on padding tokens.\n",
        "\n",
        "### 3. **Why the Attention Mask is Important**\n",
        "   - **Efficiency**: It helps the model to ignore irrelevant tokens, improving the efficiency of computations.\n",
        "   - **Accuracy**: By focusing only on real tokens, the model can generate more accurate representations of the input text, which improves its ability to understand and respond to the data.\n",
        "\n",
        "### Example\n",
        "\n",
        "Suppose we have the sentence, `\"This is a test\"`, with a maximum length of 6 tokens:\n",
        "\n",
        "- **Tokenized input**: `[This, is, a, test, [PAD], [PAD]]`\n",
        "- **Attention mask**: `[1, 1, 1, 1, 0, 0]`\n",
        "\n",
        "Here, the first four tokens are actual words, while the last two tokens are padding. The attention mask `[1, 1, 1, 1, 0, 0]` tells the model to focus on the first four tokens and ignore the last two during processing.\n",
        "\n",
        "### Key Takeaway\n",
        "The attention mask is essential for helping transformer models handle variable-length inputs efficiently by distinguishing between real content and padding. This allows the model to allocate its attention effectively, improving both computational efficiency and model accuracy."
      ],
      "metadata": {
        "id": "xLGt5Td_rep0"
      }
    },
    {
      "cell_type": "markdown",
      "source": [
        "### **Define Training Parameters**\n",
        "\n",
        "The `TrainingArguments` class helps configure important settings for training. Here’s what we’ll configure:\n",
        "\n",
        "- **Batch Size**: The number of samples processed together in one forward/backward pass. Smaller batch sizes help prevent memory issues.\n",
        "- **Learning Rate**: Determines the step size at each iteration while moving toward the minimum of the loss function.\n",
        "- **Number of Epochs**: Number of times the model will go through the entire dataset.\n",
        "- **Logging and Evaluation**: How frequently the model logs progress and evaluates performance on the test set."
      ],
      "metadata": {
        "id": "FZ-wYYNsytIc"
      }
    },
    {
      "cell_type": "code",
      "source": [
        "from transformers import TrainingArguments\n",
        "\n",
        "# Define training arguments with W&B logging disabled\n",
        "training_args = TrainingArguments(\n",
        "    output_dir=\"./results\",             # Output directory for saving results\n",
        "    eval_strategy=\"epoch\",        # Evaluate at the end of each epoch\n",
        "    per_device_train_batch_size=8,      # Batch size for training\n",
        "    per_device_eval_batch_size=8,       # Batch size for evaluation\n",
        "    num_train_epochs=1,                 # Number of training epochs\n",
        "    learning_rate=2e-5,                 # Initial learning rate\n",
        "    weight_decay=0.01,                  # Weight decay for regularization\n",
        "    logging_dir=\"./logs\",               # Directory for storing logs\n",
        "    logging_steps=10,                   # Log every 10 steps\n",
        "    report_to=\"none\"                    # Disables W&B logging\n",
        ")\n"
      ],
      "metadata": {
        "id": "iFIFfjpmyeFs"
      },
      "execution_count": 36,
      "outputs": []
    },
    {
      "cell_type": "markdown",
      "source": [
        "### **Initialize the `Trainer`**\n",
        "\n",
        "With `training_args` defined, we can initialize the `Trainer` class, passing it:\n",
        "- The **model** we want to fine-tune.\n",
        "- The **training and testing datasets** (`train_dataset` and `test_dataset`).\n",
        "- The **training arguments**.\n",
        "- The **compute_metrics** function to evaluate performance on each epoch.\n",
        "\n"
      ],
      "metadata": {
        "id": "mHSwV9qWyUGH"
      }
    },
    {
      "cell_type": "code",
      "source": [
        "from transformers import Trainer, AutoModelForSequenceClassification\n",
        "from sklearn.metrics import accuracy_score, precision_recall_fscore_support\n",
        "\n",
        "# Load the model\n",
        "model = AutoModelForSequenceClassification.from_pretrained(\"distilbert-base-uncased\", num_labels=2)\n",
        "\n",
        "# Define a compute_metrics function to evaluate performance\n",
        "def compute_metrics(pred):\n",
        "    labels = pred.label_ids\n",
        "    preds = pred.predictions.argmax(-1)\n",
        "    precision, recall, f1, _ = precision_recall_fscore_support(labels, preds, average='binary')\n",
        "    acc = accuracy_score(labels, preds)\n",
        "    return {\"accuracy\": acc, \"f1\": f1, \"precision\": precision, \"recall\": recall}\n",
        "\n",
        "# Initialize the Trainer\n",
        "trainer = Trainer(\n",
        "    model=model,                         # The model to train\n",
        "    args=training_args,                  # Training arguments\n",
        "    train_dataset=train_dataset,         # Training dataset\n",
        "    eval_dataset=test_dataset,           # Evaluation dataset\n",
        "    compute_metrics=compute_metrics      # Function to compute evaluation metrics\n",
        ")"
      ],
      "metadata": {
        "colab": {
          "base_uri": "https://localhost:8080/"
        },
        "id": "5EptUAFwpG6o",
        "outputId": "149659c9-3c11-48fe-f240-2af98879fb4d"
      },
      "execution_count": 37,
      "outputs": [
        {
          "output_type": "stream",
          "name": "stderr",
          "text": [
            "Some weights of DistilBertForSequenceClassification were not initialized from the model checkpoint at distilbert-base-uncased and are newly initialized: ['classifier.bias', 'classifier.weight', 'pre_classifier.bias', 'pre_classifier.weight']\n",
            "You should probably TRAIN this model on a down-stream task to be able to use it for predictions and inference.\n"
          ]
        }
      ]
    },
    {
      "cell_type": "markdown",
      "source": [
        "#### Warning Message\n",
        "\n",
        "The message you’re seeing is normal when using `DistilBERT` or similar models for a classification task. It indicates that **some layers have been newly initialized** because they’re specific to the classification task, and they weren’t part of the pre-trained DistilBERT model.\n",
        "\n",
        "Here’s a bit more context on what this means and why it’s expected:\n",
        "\n",
        "### Explanation of the Message\n",
        "\n",
        "1. **New Layers for Classification**:\n",
        "   - The original `distilbert-base-uncased` model was pre-trained on a general language modeling task, not on a classification task.\n",
        "   - When you load `DistilBertForSequenceClassification`, it adds new layers specifically for classification, such as `classifier` and `pre_classifier`. These layers don’t have pre-trained weights, so they’re initialized randomly.\n",
        "\n",
        "2. **Why This Is Normal**:\n",
        "   - This message is a reminder that because these new layers were initialized randomly, the model should be fine-tuned on your specific classification task (IMDb sentiment analysis, in this case) to learn meaningful weights for those layers.\n",
        "   - Fine-tuning will adjust all the model’s layers (both the pre-trained base and newly added classification layers) to your task, so it’s expected to see this message before training.\n",
        "\n",
        "3. **No Action Required**:\n",
        "   - You don’t need to do anything extra in response to this message; just proceed with training. The `Trainer` will fine-tune the model, updating both the pre-trained and new layers.\n",
        "\n",
        "### Summary\n",
        "\n",
        "This message is simply a reminder that the model should be trained on your task before using it for inference. Since we’re already in the process of fine-tuning, this is expected and requires no further action.\n",
        "\n",
        "Once training is complete, the model’s weights (including the classification layers) will be adjusted based on your IMDb data, making it ready for predictions. You’re good to go—start training, and let me know if you have further questions!"
      ],
      "metadata": {
        "id": "yQLnOOys0nkK"
      }
    },
    {
      "cell_type": "markdown",
      "source": [
        "### **Start Training**\n",
        "\n",
        "With the `Trainer` set up, we’re ready to start training. This process will automatically log progress and evaluate the model at each epoch.\n",
        "\n",
        "\n",
        "### Explanation of Key Concepts\n",
        "\n",
        "- **TrainingArguments**: This controls key aspects of training like batch size, logging, and learning rate, helping manage training efficiency and performance.\n",
        "- **Trainer API**: This simplifies the training loop and evaluation, allowing us to focus on configuration rather than manual coding.\n",
        "- **compute_metrics**: Provides metrics like accuracy, precision, recall, and F1 score to help monitor model performance during training.\n",
        "\n",
        "This should start the fine-tuning process! Let me know if you’d like any further explanation on these steps or if you’re ready to start training."
      ],
      "metadata": {
        "id": "zV_g8fwazhuo"
      }
    },
    {
      "cell_type": "code",
      "source": [
        "import time\n",
        "\n",
        "# Start the timer\n",
        "start_time = time.time()\n",
        "\n",
        "# Start training\n",
        "trainer.train()\n",
        "\n",
        "# End the timer\n",
        "end_time = time.time()\n",
        "\n",
        "# Calculate and print the duration in minutes\n",
        "duration = (end_time - start_time) / 60\n",
        "print(f\"Tokenization completed in {duration:.2f} minutes.\")"
      ],
      "metadata": {
        "colab": {
          "base_uri": "https://localhost:8080/",
          "height": 124
        },
        "id": "ZBnIuub-pG3x",
        "outputId": "ceabcb92-a457-46c4-f16c-cb63c6cfedb8"
      },
      "execution_count": 38,
      "outputs": [
        {
          "output_type": "display_data",
          "data": {
            "text/plain": [
              "<IPython.core.display.HTML object>"
            ],
            "text/html": [
              "\n",
              "    <div>\n",
              "      \n",
              "      <progress value='157' max='157' style='width:300px; height:20px; vertical-align: middle;'></progress>\n",
              "      [157/157 22:07, Epoch 1/1]\n",
              "    </div>\n",
              "    <table border=\"1\" class=\"dataframe\">\n",
              "  <thead>\n",
              " <tr style=\"text-align: left;\">\n",
              "      <th>Epoch</th>\n",
              "      <th>Training Loss</th>\n",
              "      <th>Validation Loss</th>\n",
              "      <th>Accuracy</th>\n",
              "      <th>F1</th>\n",
              "      <th>Precision</th>\n",
              "      <th>Recall</th>\n",
              "    </tr>\n",
              "  </thead>\n",
              "  <tbody>\n",
              "    <tr>\n",
              "      <td>1</td>\n",
              "      <td>0.420500</td>\n",
              "      <td>0.447982</td>\n",
              "      <td>0.797600</td>\n",
              "      <td>0.800944</td>\n",
              "      <td>0.792835</td>\n",
              "      <td>0.809221</td>\n",
              "    </tr>\n",
              "  </tbody>\n",
              "</table><p>"
            ]
          },
          "metadata": {}
        },
        {
          "output_type": "stream",
          "name": "stdout",
          "text": [
            "Tokenization completed in 22.26 minutes.\n"
          ]
        }
      ]
    },
    {
      "cell_type": "markdown",
      "source": [
        "### Evaluate Model"
      ],
      "metadata": {
        "id": "FvM2uVF81p4p"
      }
    },
    {
      "cell_type": "code",
      "source": [
        "# Start the timer\n",
        "start_time = time.time()\n",
        "\n",
        "# Evaluate the model on the test dataset\n",
        "eval_results = trainer.evaluate()\n",
        "# print(\"Evaluation Results:\", eval_results)\n",
        "\n",
        "\n",
        "# Print each metric on a new line\n",
        "print(\"Evaluation Results:\")\n",
        "for metric, value in eval_results.items():\n",
        "    print(f\"{metric}: {value}\")\n",
        "\n",
        "\n",
        "# End the timer\n",
        "# end_time = time.time()\n",
        "\n",
        "# Calculate and print the duration in minutes\n",
        "# duration = (end_time - start_time) / 60\n",
        "print(f\"Tokenization completed in {duration:.2f} minutes.\")"
      ],
      "metadata": {
        "colab": {
          "base_uri": "https://localhost:8080/",
          "height": 92
        },
        "id": "WoiMGeHipG1K",
        "outputId": "687d3cab-7992-4ca6-9d49-d4336e3e7aae"
      },
      "execution_count": 40,
      "outputs": [
        {
          "output_type": "display_data",
          "data": {
            "text/plain": [
              "<IPython.core.display.HTML object>"
            ],
            "text/html": [
              "\n",
              "    <div>\n",
              "      \n",
              "      <progress value='163' max='157' style='width:300px; height:20px; vertical-align: middle;'></progress>\n",
              "      [157/157 04:59]\n",
              "    </div>\n",
              "    "
            ]
          },
          "metadata": {}
        },
        {
          "output_type": "stream",
          "name": "stdout",
          "text": [
            "Evaluation Results: {'eval_loss': 0.4479823708534241, 'eval_accuracy': 0.7976, 'eval_f1': 0.8009441384736428, 'eval_precision': 0.7928348909657321, 'eval_recall': 0.809220985691574, 'eval_runtime': 275.835, 'eval_samples_per_second': 4.532, 'eval_steps_per_second': 0.569, 'epoch': 1.0}\n",
            "Tokenization completed in 4.60 minutes.\n"
          ]
        }
      ]
    },
    {
      "cell_type": "code",
      "source": [
        "from sklearn.metrics import classification_report\n",
        "import numpy as np\n",
        "\n",
        "# Start the timer\n",
        "start_time = time.time()\n",
        "\n",
        "# Make predictions on the test dataset\n",
        "predictions = trainer.predict(test_dataset)\n",
        "\n",
        "# Extract true labels and predicted labels\n",
        "true_labels = predictions.label_ids\n",
        "predicted_labels = np.argmax(predictions.predictions, axis=1)\n",
        "\n",
        "# Generate and print the classification report\n",
        "report = classification_report(true_labels, predicted_labels, target_names=[\"Negative\", \"Positive\"])\n",
        "print(report)\n",
        "\n",
        "# Calculate and print the duration in minutes\n",
        "duration = (end_time - start_time) / 60\n",
        "print(f\"Tokenization completed in {duration:.2f} minutes.\")\n"
      ],
      "metadata": {
        "colab": {
          "base_uri": "https://localhost:8080/",
          "height": 191
        },
        "id": "moCHEq9x1-wH",
        "outputId": "ae635bc4-51e5-4f35-bcba-0ea3c1a28387"
      },
      "execution_count": 42,
      "outputs": [
        {
          "output_type": "display_data",
          "data": {
            "text/plain": [
              "<IPython.core.display.HTML object>"
            ],
            "text/html": []
          },
          "metadata": {}
        },
        {
          "output_type": "stream",
          "name": "stdout",
          "text": [
            "              precision    recall  f1-score   support\n",
            "\n",
            "    Negative       0.80      0.79      0.79       621\n",
            "    Positive       0.79      0.81      0.80       629\n",
            "\n",
            "    accuracy                           0.80      1250\n",
            "   macro avg       0.80      0.80      0.80      1250\n",
            "weighted avg       0.80      0.80      0.80      1250\n",
            "\n",
            "Tokenization completed in -1.33 minutes.\n"
          ]
        }
      ]
    },
    {
      "cell_type": "markdown",
      "source": [
        "### Predict"
      ],
      "metadata": {
        "id": "YeJhHJFv2Pd0"
      }
    },
    {
      "cell_type": "code",
      "source": [
        "# Example text for testing\n",
        "sample_text = \"I loved this movie! It was fantastic.\"\n",
        "\n",
        "# Tokenize and make a prediction using the in-memory tokenizer and model\n",
        "inputs = tokenizer(sample_text, return_tensors=\"pt\", padding=True, truncation=True, max_length=128)\n",
        "outputs = trainer.model(**inputs)\n",
        "predictions = torch.argmax(outputs.logits, dim=1)\n",
        "\n",
        "# Map predictions back to labels\n",
        "label = \"Positive\" if predictions[0].item() == 1 else \"Negative\"\n",
        "print(\"Prediction:\", label)\n"
      ],
      "metadata": {
        "colab": {
          "base_uri": "https://localhost:8080/"
        },
        "id": "e8Q6vO6w2Rp8",
        "outputId": "8859b7fa-e59f-4b34-fa4d-46a2906d2869"
      },
      "execution_count": 43,
      "outputs": [
        {
          "output_type": "stream",
          "name": "stdout",
          "text": [
            "Prediction: Positive\n"
          ]
        }
      ]
    },
    {
      "cell_type": "markdown",
      "source": [
        "### Save Model & Tokenizer\n",
        "Yes, saved transformer models and their tokenizers can be quite large, particularly for complex models with millions or even billions of parameters. Here’s a breakdown of why they are large and some considerations for managing these sizes.\n",
        "\n",
        "### 1. **Why Are Saved Models So Large?**\n",
        "   - **Number of Parameters**: Even smaller models like DistilBERT have tens of millions of parameters, while larger models like BERT or GPT-3 have hundreds of millions to billions of parameters. Each parameter is typically stored as a 32-bit floating-point number, so the more parameters, the larger the storage requirements.\n",
        "   - **Tokenizers**: Tokenizer files can also be large, as they include vocabulary files and additional configurations necessary for consistent tokenization. Although they’re smaller than the model itself, they still contribute to the overall storage size.\n",
        "   - **Configuration and Metadata**: Transformer models save not just the model weights but also configuration files (e.g., model architecture, hyperparameters) and training metadata, which, while minor, add to the file size.\n",
        "\n",
        "### 2. **Typical Size for Saved Models**\n",
        "   - **DistilBERT**: DistilBERT models, for instance, are usually around 200-300 MB when saved, depending on the specific fine-tuning layers added.\n",
        "   - **BERT-Base**: Full BERT models are around 400-500 MB.\n",
        "   - **Large Language Models (e.g., GPT-2, GPT-3)**: Models like GPT-2 and GPT-3 can reach several gigabytes, making storage and loading times significant.\n",
        "\n",
        "### 3. **Options for Reducing Model Size**\n",
        "If storage or deployment is a concern, there are some strategies for managing model sizes:\n",
        "\n",
        "   - **Model Distillation**: Create a smaller, distilled version of the model that approximates the performance of the larger model but has fewer parameters (e.g., DistilBERT is a distilled version of BERT).\n",
        "   - **Quantization**: Reduce the precision of model weights from 32-bit to 8-bit, which can significantly reduce model size without much impact on performance.\n",
        "   - **Parameter-Efficient Fine-Tuning (PEFT)**: Techniques like LoRA (Low-Rank Adaptation) add only a few new parameters, so you only need to store these additional parameters rather than the entire model.\n",
        "   - **Using Tokenizer Cache**: Hugging Face models store tokenizers and model weights in a cache directory, so you don’t need to download them each time if they’re already cached.\n",
        "\n",
        "### 4. **Best Practices for Handling Large Models**\n",
        "   - **Save Selectively**: Save the model and tokenizer only once when they’re fully trained and needed for deployment or inference.\n",
        "   - **Cloud Storage**: Use cloud storage solutions (e.g., AWS S3, Google Cloud Storage) to store models if you’re working with many or very large models.\n",
        "   - **On-Demand Loading**: If the model is only needed intermittently, you can load it into memory only when required to save memory and processing power.\n",
        "\n"
      ],
      "metadata": {
        "id": "Swf-h2yU12bz"
      }
    },
    {
      "cell_type": "code",
      "source": [
        "# Save the fine-tuned model\n",
        "trainer.save_model(\"./finetuned-imdb-distilbert\")  # Saves model weights and configuration\n",
        "tokenizer.save_pretrained(\"./finetuned-imdb-distilbert\")  # Saves tokenizer"
      ],
      "metadata": {
        "id": "YZORUdOD16e2"
      },
      "execution_count": null,
      "outputs": []
    },
    {
      "cell_type": "markdown",
      "source": [
        "### Load Model for Inference"
      ],
      "metadata": {
        "id": "GwvpdCOY1vYd"
      }
    },
    {
      "cell_type": "code",
      "source": [
        "from transformers import AutoTokenizer, AutoModelForSequenceClassification\n",
        "import torch\n",
        "\n",
        "# Load the saved model and tokenizer\n",
        "tokenizer = AutoTokenizer.from_pretrained(\"./finetuned-imdb-distilbert\")\n",
        "model = AutoModelForSequenceClassification.from_pretrained(\"./finetuned-imdb-distilbert\")\n",
        "\n",
        "# Example text for testing\n",
        "sample_text = \"I loved this movie! It was fantastic.\"\n",
        "\n",
        "# Tokenize and make a prediction\n",
        "inputs = tokenizer(sample_text, return_tensors=\"pt\", padding=True, truncation=True, max_length=128)\n",
        "outputs = model(**inputs)\n",
        "predictions = torch.argmax(outputs.logits, dim=1)\n",
        "\n",
        "# Map predictions back to labels\n",
        "label = \"Positive\" if predictions[0].item() == 1 else \"Negative\"\n",
        "print(\"Prediction:\", label)\n"
      ],
      "metadata": {
        "id": "rkrq2SUB1uOh"
      },
      "execution_count": null,
      "outputs": []
    },
    {
      "cell_type": "markdown",
      "source": [
        "### Training Script\n",
        "Creating a training script is a great idea, especially if you plan to fine-tune multiple models or datasets. However, each dataset will have unique requirements, so the key is to build the script in a **modular and flexible** way. Here’s a strategy for achieving that:\n",
        "\n",
        "### Why Use a Training Script?\n",
        "\n",
        "1. **Efficiency**: A script helps automate the repetitive parts of model training, like loading data, setting up the model, defining training parameters, and evaluating performance.\n",
        "2. **Consistency**: By standardizing your training process, you can ensure consistent steps across different experiments, which improves the reproducibility of results.\n",
        "3. **Modularity**: You can build the script to support optional configurations, making it adaptable to different datasets or tasks without modifying the core structure.\n",
        "\n",
        "### Key Components of a Flexible Training Script\n",
        "\n",
        "To make the script adaptable to unique dataset needs, consider structuring it with customizable functions and parameter options.\n",
        "\n",
        "#### 1. **Configurable Parameters**\n",
        "   - Use a configuration file (e.g., JSON, YAML) or a command-line argument parser (`argparse`) to specify parameters like the model name, batch size, number of epochs, learning rate, and dataset location.\n",
        "   - These configurable parameters let you adjust the script for each dataset or model by changing only the configuration, not the code.\n",
        "\n",
        "#### 2. **Dataset-Specific Preprocessing Functions**\n",
        "   - Each dataset may have unique preprocessing requirements (e.g., tokenization settings, label encoding). Write separate preprocessing functions or classes that can be called based on the dataset.\n",
        "   - Example: Use a function to handle tokenization, label encoding, and attention mask generation specific to the input data.\n",
        "\n",
        "#### 3. **Flexible Model and Tokenizer Loading**\n",
        "   - Make the model loading step configurable so you can easily swap between models (e.g., BERT, DistilBERT, GPT-2).\n",
        "   - Define the model in the script based on a parameter, such as `model_name`, which allows you to specify the desired pre-trained model.\n",
        "\n",
        "#### 4. **Training and Evaluation Functions**\n",
        "   - Wrap the training loop, evaluation, and metric calculation in reusable functions that can be called with different datasets or configurations.\n",
        "   - Use `Trainer` or define a custom training loop, depending on the level of customization you need.\n",
        "\n",
        "#### 5. **Save and Load Functionality**\n",
        "   - Add save functions to export the fine-tuned model and tokenizer, along with a function to load the model and tokenizer for testing or inference.\n",
        "   - Optional: Add checkpoints or early stopping if the training process is long or resource-intensive.\n",
        "\n",
        "\n",
        "### Explanation of Each Section\n",
        "\n",
        "- **Parameter Parsing**: `parse_args` lets you customize the script’s parameters without editing the code directly, supporting flexibility.\n",
        "- **Data Loading and Preprocessing**: `load_and_preprocess_data` can include dataset-specific preprocessing logic, like handling unique labels or special tokenization requirements.\n",
        "- **Model Training and Evaluation**: `train_model` and `evaluate_model` manage training and provide an evaluation summary, making it easy to swap datasets without changing core logic.\n",
        "- **Modularity**: Each function is self-contained, enabling easy updates or replacements for individual components.\n",
        "\n",
        "### Final Considerations\n",
        "\n",
        "While each dataset will have specific needs, this modular approach allows you to plug in custom preprocessing functions, change model configurations, and control training parameters without rewriting the entire script each time. It combines efficiency with flexibility, making it ideal for handling multiple datasets while supporting experimentation.\n",
        "\n",
        "Let me know if you'd like further guidance on implementing or adapting any specific part!"
      ],
      "metadata": {
        "id": "yQUT2bS53uJG"
      }
    },
    {
      "cell_type": "code",
      "source": [
        "\n",
        "import argparse\n",
        "import json\n",
        "from transformers import AutoTokenizer, AutoModelForSequenceClassification, Trainer, TrainingArguments\n",
        "from datasets import load_dataset\n",
        "from sklearn.metrics import classification_report\n",
        "import torch\n",
        "\n",
        "# Step 1: Parse Configurations\n",
        "def parse_args():\n",
        "    parser = argparse.ArgumentParser()\n",
        "    parser.add_argument(\"--model_name\", type=str, default=\"distilbert-base-uncased\")\n",
        "    parser.add_argument(\"--dataset_name\", type=str, default=\"imdb\")\n",
        "    parser.add_argument(\"--batch_size\", type=int, default=8)\n",
        "    parser.add_argument(\"--learning_rate\", type=float, default=2e-5)\n",
        "    parser.add_argument(\"--epochs\", type=int, default=3)\n",
        "    parser.add_argument(\"--output_dir\", type=str, default=\"./model_output\")\n",
        "    return parser.parse_args()\n",
        "\n",
        "# Step 2: Load Dataset\n",
        "def load_and_preprocess_data(dataset_name, tokenizer):\n",
        "    dataset = load_dataset(dataset_name)\n",
        "    # Tokenize the dataset (define based on dataset requirements)\n",
        "    # Return tokenized train and test splits\n",
        "    pass\n",
        "\n",
        "# Step 3: Initialize Model and Trainer\n",
        "def train_model(model_name, train_dataset, test_dataset, args):\n",
        "    model = AutoModelForSequenceClassification.from_pretrained(model_name, num_labels=2)\n",
        "\n",
        "    training_args = TrainingArguments(\n",
        "        output_dir=args.output_dir,\n",
        "        evaluation_strategy=\"epoch\",\n",
        "        per_device_train_batch_size=args.batch_size,\n",
        "        per_device_eval_batch_size=args.batch_size,\n",
        "        learning_rate=args.learning_rate,\n",
        "        num_train_epochs=args.epochs,\n",
        "    )\n",
        "\n",
        "    trainer = Trainer(\n",
        "        model=model,\n",
        "        args=training_args,\n",
        "        train_dataset=train_dataset,\n",
        "        eval_dataset=test_dataset,\n",
        "    )\n",
        "\n",
        "    trainer.train()\n",
        "    return model, trainer\n",
        "\n",
        "# Step 4: Evaluation\n",
        "def evaluate_model(trainer, test_dataset):\n",
        "    predictions = trainer.predict(test_dataset)\n",
        "    true_labels = predictions.label_ids\n",
        "    predicted_labels = torch.argmax(predictions.predictions, axis=1)\n",
        "    report = classification_report(true_labels, predicted_labels)\n",
        "    print(report)\n",
        "\n",
        "# Main script\n",
        "def main():\n",
        "    args = parse_args()\n",
        "    tokenizer = AutoTokenizer.from_pretrained(args.model_name)\n",
        "    train_dataset, test_dataset = load_and_preprocess_data(args.dataset_name, tokenizer)\n",
        "    model, trainer = train_model(args.model_name, train_dataset, test_dataset, args)\n",
        "    evaluate_model(trainer, test_dataset)\n",
        "\n",
        "if __name__ == \"__main__\":\n",
        "    main()"
      ],
      "metadata": {
        "id": "tO3fy2Xp1uL4"
      },
      "execution_count": null,
      "outputs": []
    },
    {
      "cell_type": "markdown",
      "source": [
        "### Parse Args Function\n",
        "\n",
        "This `parse_args` function is designed to create a **configurable and flexible training script**. Here are the main lessons to focus on:\n",
        "\n",
        "### 1. **Parameterizing the Script**\n",
        "   - By using `argparse`, this code allows you to pass in different arguments from the command line, such as `model_name`, `dataset_name`, `batch_size`, etc., without changing the code directly. This makes the script adaptable and reusable, which is important when training on various datasets or experimenting with different configurations.\n",
        "   - Each argument corresponds to an essential parameter in model training, such as the model architecture, dataset choice, training hyperparameters, and output location.\n",
        "\n",
        "### 2. **Encouraging Experimentation and Reproducibility**\n",
        "   - **Experimentation**: With these arguments, you can quickly experiment with different models, learning rates, batch sizes, or other hyperparameters by passing in different values, which speeds up experimentation.\n",
        "   - **Reproducibility**: Defining these parameters explicitly allows you to easily log and track different experimental setups, making it easier to replicate results in the future.\n",
        "\n",
        "### 3. **Scalability**\n",
        "   - If you need to scale up and manage multiple training runs, this approach is efficient because it allows you to use a single script with various parameter combinations.\n",
        "   - This pattern makes it possible to run the script programmatically, for instance, by calling it within a larger pipeline or loop that automates experiments over a range of values for each parameter.\n",
        "\n",
        "### Key Takeaways\n",
        "\n",
        "- **Modularity and Reusability**: The function is modular, making the script reusable across different datasets and models.\n",
        "- **Efficiency**: It removes the need to edit code directly when changing configurations, reducing human error and saving time.\n",
        "- **Experiment-Friendly**: This approach is essential for machine learning experiments, where adjusting parameters and tracking configurations is crucial.\n",
        "\n",
        "By using `argparse` effectively, you’re setting up a robust foundation for systematic experimentation and quick adaptability in your training pipeline.\n",
        "\n",
        "When you run a Python script with `argparse`, you can specify different argument values directly in the command line. Here are some examples based on the arguments in the `parse_args()` function.\n",
        "\n",
        "Assuming your script is saved as `train_model.py`, you can adjust the arguments as follows:\n",
        "\n",
        "### 1. Basic Command with Default Arguments\n",
        "If you simply run:\n",
        "```bash\n",
        "python train_model.py\n",
        "```\n",
        "It will use all the default values defined in `parse_args()`:\n",
        "- `model_name`: `\"distilbert-base-uncased\"`\n",
        "- `dataset_name`: `\"imdb\"`\n",
        "- `batch_size`: `8`\n",
        "- `learning_rate`: `2e-5`\n",
        "- `epochs`: `3`\n",
        "- `output_dir`: `\"./model_output\"`\n",
        "\n",
        "### 2. Specifying a Different Model and Dataset\n",
        "To change the model and dataset, you can override `--model_name` and `--dataset_name`:\n",
        "```bash\n",
        "python train_model.py --model_name \"bert-base-uncased\" --dataset_name \"yelp_polarity\"\n",
        "```\n",
        "This will load the `bert-base-uncased` model and the `yelp_polarity` dataset for training.\n",
        "\n",
        "### 3. Adjusting Hyperparameters for Faster Training\n",
        "If you want to experiment with a larger batch size and fewer epochs, you could specify:\n",
        "```bash\n",
        "python train_model.py --batch_size 16 --epochs 2\n",
        "```\n",
        "This will train with a batch size of 16 and run for only 2 epochs.\n",
        "\n",
        "### 4. Trying a Different Learning Rate\n",
        "If you want to test a different learning rate (for example, a higher one), you can set `--learning_rate`:\n",
        "```bash\n",
        "python train_model.py --learning_rate 5e-5\n",
        "```\n",
        "This will set the learning rate to `5e-5` instead of the default `2e-5`.\n",
        "\n",
        "### 5. Changing the Output Directory\n",
        "You can change where the model and logs are saved by specifying `--output_dir`:\n",
        "```bash\n",
        "python train_model.py --output_dir \"./my_experiment\"\n",
        "```\n",
        "This will save all outputs to `./my_experiment` rather than the default `./model_output`.\n",
        "\n",
        "### 6. Combining Multiple Argument Changes\n",
        "You can change several arguments at once. For example:\n",
        "```bash\n",
        "python train_model.py --model_name \"roberta-base\" --dataset_name \"ag_news\" --batch_size 32 --learning_rate 3e-5 --epochs 5 --output_dir \"./experiment_roberta\"\n",
        "```\n",
        "This command will:\n",
        "- Load the `roberta-base` model.\n",
        "- Use the `ag_news` dataset.\n",
        "- Set batch size to 32, learning rate to `3e-5`, and epochs to 5.\n",
        "- Save results in the `./experiment_roberta` directory.\n",
        "\n",
        "### General Tips for Argument Variations\n",
        "- **Testing Parameters**: For quick tests, lower values for `--epochs` and `--batch_size` can speed up initial trials.\n",
        "- **Different Output Directories**: Use unique output directories for each run so that you can compare results without overwriting previous ones.\n",
        "\n",
        "Using these commands in the terminal makes it easy to experiment with different settings and keep track of how each variation affects model performance."
      ],
      "metadata": {
        "id": "EAZigqD74_up"
      }
    },
    {
      "cell_type": "code",
      "source": [],
      "metadata": {
        "id": "E3ZF58n-1uJR"
      },
      "execution_count": null,
      "outputs": []
    },
    {
      "cell_type": "code",
      "source": [],
      "metadata": {
        "id": "OQBD_UPU1uGa"
      },
      "execution_count": null,
      "outputs": []
    },
    {
      "cell_type": "code",
      "source": [
        "import time\n",
        "\n",
        "# Start the timer\n",
        "start_time = time.time()\n",
        "\n",
        "# End the timer and calculate duration\n",
        "end_time = time.time()\n",
        "duration = (end_time - start_time) / 60  # Convert seconds to minutes\n",
        "print(f\"Dataset and model loaded in {duration:.2f} minutes.\")"
      ],
      "metadata": {
        "id": "1rvj-K-5hrj8"
      },
      "execution_count": null,
      "outputs": []
    },
    {
      "cell_type": "code",
      "source": [],
      "metadata": {
        "id": "mrVNRWrGhrg0"
      },
      "execution_count": null,
      "outputs": []
    },
    {
      "cell_type": "code",
      "source": [],
      "metadata": {
        "id": "HSueFdSjhrc9"
      },
      "execution_count": null,
      "outputs": []
    }
  ]
}