{
  "cells": [
    {
      "cell_type": "markdown",
      "metadata": {
        "id": "view-in-github",
        "colab_type": "text"
      },
      "source": [
        "<a href=\"https://colab.research.google.com/github/micah-shull/LLMs/blob/main/LLM_008_chatbots_customer_service_chatbot.ipynb\" target=\"_parent\"><img src=\"https://colab.research.google.com/assets/colab-badge.svg\" alt=\"Open In Colab\"/></a>"
      ]
    },
    {
      "cell_type": "markdown",
      "id": "75e2ef28-594f-4c18-9d22-c6b8cd40ead2",
      "metadata": {
        "id": "75e2ef28-594f-4c18-9d22-c6b8cd40ead2"
      },
      "source": [
        "#Chatbots!\n",
        "\n",
        "Chatbots have a wide range of practical applications across industries, and thinking through different use cases will not only help you sharpen your technical skills but also inspire creative solutions for businesses.\n",
        "\n",
        "Here are some **practical use cases** for chatbots that can help you learn and build real-world applications:\n",
        "\n",
        "### 1. **Customer Service & Support Bots**:\n",
        "   - **What you learn**: Handling FAQ-style conversations, connecting with databases or knowledge bases, escalating issues to human agents.\n",
        "   - **Business Solution**: Automating first-level customer service for e-commerce, retail, telecom, or any company with customer-facing operations. You can implement a chatbot that answers common queries, processes returns, or tracks orders.\n",
        "   - **Advanced Features**: Sentiment analysis to detect frustration, handover to human support, multilingual support.\n",
        "   \n",
        "   **Example**: A chatbot that helps customers in an online clothing store by answering sizing queries, providing product recommendations, and tracking orders.\n",
        "\n",
        "### 2. **Sales & Product Recommendation Bots**:\n",
        "   - **What you learn**: Recommending products based on user input, integrating with sales/CRM systems, upselling, and cross-selling products.\n",
        "   - **Business Solution**: For retailers and online marketplaces, a chatbot could act as a personal shopping assistant, guiding customers through options based on preferences or offering special promotions based on their interests.\n",
        "   - **Advanced Features**: Personalized product suggestions based on browsing history, targeted promotions, lead qualification for B2B sales.\n",
        "   \n",
        "   **Example**: A chatbot that asks customers about their preferences, budget, and needs, then recommends relevant products and offers.\n",
        "\n",
        "### 3. **Lead Generation & Qualification Bots**:\n",
        "   - **What you learn**: Collecting user information, qualifying leads, storing data in a CRM, scheduling follow-ups.\n",
        "   - **Business Solution**: For B2B companies or service-based industries (like insurance, real estate, or financial services), a chatbot can ask key qualifying questions and pass qualified leads to sales teams.\n",
        "   - **Advanced Features**: Lead scoring, appointment scheduling, follow-up reminders, and personalized messages based on the lead’s profile.\n",
        "   \n",
        "   **Example**: A chatbot that collects basic information (like company size, needs, and budget), qualifies the lead, and schedules a call with a sales representative.\n",
        "\n",
        "### 4. **Internal Company Knowledge Base Bots**:\n",
        "   - **What you learn**: Integrating with company databases, answering questions based on company policies, onboarding employees.\n",
        "   - **Business Solution**: For large organizations, chatbots can serve as internal support systems, helping employees find information about HR policies, IT troubleshooting, or company procedures.\n",
        "   - **Advanced Features**: Integration with intranet systems, role-based access to specific information, real-time updates from internal documents.\n",
        "   \n",
        "   **Example**: An HR assistant bot that helps employees find information about vacation policies, healthcare benefits, or submit requests.\n",
        "\n",
        "### 5. **Appointment Scheduling & Reminders**:\n",
        "   - **What you learn**: Managing time-based events, integrating with calendars, sending reminders, handling rescheduling or cancellations.\n",
        "   - **Business Solution**: For businesses in healthcare, beauty, fitness, or professional services, a chatbot can handle appointment bookings, rescheduling, and reminders, reducing the need for manual coordination.\n",
        "   - **Advanced Features**: Automated reminder messages (SMS or email), calendar integration (Google Calendar, Outlook), reminders for upcoming appointments, cancellations.\n",
        "   \n",
        "   **Example**: A chatbot for a doctor's office that helps patients schedule appointments and sends reminders a day before.\n",
        "\n",
        "### 6. **Event Registration & RSVP Bots**:\n",
        "   - **What you learn**: Collecting user information, sending confirmations, managing RSVP lists.\n",
        "   - **Business Solution**: For businesses or organizations hosting events (webinars, conferences, etc.), a chatbot can handle the entire registration process, from collecting attendee details to sending reminders.\n",
        "   - **Advanced Features**: Event reminders, personalized event recommendations, integration with video conferencing tools, follow-up messages after events.\n",
        "   \n",
        "   **Example**: A chatbot that helps users register for a webinar, provides event details, and sends reminders leading up to the event.\n",
        "\n",
        "### 7. **Health and Wellness Bots**:\n",
        "   - **What you learn**: Personalized interaction, goal tracking, providing information, responding to common health questions.\n",
        "   - **Business Solution**: For wellness, fitness, or healthcare companies, chatbots can provide personalized health tips, daily reminders for medication or exercises, and track users’ wellness goals.\n",
        "   - **Advanced Features**: Daily goal tracking, health data input, integrating with wearables (like FitBit), and providing data-driven suggestions.\n",
        "   \n",
        "   **Example**: A fitness chatbot that asks about the user’s goals and schedules reminders for workouts or nutrition tips.\n",
        "\n",
        "### 8. **Survey and Feedback Bots**:\n",
        "   - **What you learn**: Collecting structured data from users, processing responses, generating reports.\n",
        "   - **Business Solution**: For companies looking to improve customer satisfaction or employee engagement, chatbots can collect feedback, perform surveys, and analyze data for insights.\n",
        "   - **Advanced Features**: Generating dynamic questions based on responses, real-time analytics, segmenting responses by user type.\n",
        "   \n",
        "   **Example**: A chatbot that surveys customers after a service interaction and reports on the overall satisfaction score.\n",
        "\n",
        "### 9. **E-learning or Educational Assistant Bots**:\n",
        "   - **What you learn**: Providing information, interactive learning experiences, integrating with learning platforms.\n",
        "   - **Business Solution**: For educational institutions or online learning platforms, chatbots can guide students through learning materials, answer questions, and offer practice quizzes.\n",
        "   - **Advanced Features**: Adaptive learning paths, quiz scoring, real-time feedback on performance.\n",
        "   \n",
        "   **Example**: A chatbot that helps students with study materials, provides practice problems, and tracks progress.\n",
        "\n",
        "### 10. **AI-Powered Personal Assistant Bots**:\n",
        "   - **What you learn**: Handling tasks like setting reminders, managing to-do lists, integrating with APIs for productivity tools.\n",
        "   - **Business Solution**: For individuals or professionals, a chatbot can act as a personal assistant by handling tasks like scheduling, sending reminders, or organizing to-do lists.\n",
        "   - **Advanced Features**: Integration with external services (like task management tools, email clients), providing summaries or reminders.\n",
        "   \n",
        "   **Example**: A personal productivity assistant that helps users track tasks, set goals, and provides productivity tips.\n",
        "\n",
        "### Strategic Next Steps:\n",
        "1. **Pick One or Two Use Cases**: Start by choosing a couple of use cases that resonate with you or your target audience. Implement simple versions first (e.g., a customer service FAQ bot or a personal assistant).\n",
        "2. **Expand with Features**: Once you’ve mastered the basics, expand by integrating more advanced features (like reminders, API integrations, or sentiment analysis).\n",
        "3. **Explore Industry-Specific Use Cases**: Think about the industries you are interested in and tailor the chatbot use case to the specific challenges of that field (e.g., legal, finance, healthcare).\n",
        "\n",
        "These ideas will give you a good foundation to learn chatbot development while thinking about real-world applications and creative solutions for businesses."
      ]
    },
    {
      "cell_type": "markdown",
      "source": [
        "### Install Libraries"
      ],
      "metadata": {
        "id": "xYtTpEjjA8hD"
      },
      "id": "xYtTpEjjA8hD"
    },
    {
      "cell_type": "code",
      "source": [
        "# !pip install python-dotenv\n",
        "# !pip install openai\n",
        "# !pip install google-generativeai\n",
        "# !pip install anthropic\n",
        "# !pip install gradio"
      ],
      "metadata": {
        "id": "ifw0J2E4A2Ex"
      },
      "id": "ifw0J2E4A2Ex",
      "execution_count": 2,
      "outputs": []
    },
    {
      "cell_type": "markdown",
      "source": [
        "### Import Libraries"
      ],
      "metadata": {
        "id": "m7TZSjRQA517"
      },
      "id": "m7TZSjRQA517"
    },
    {
      "cell_type": "code",
      "execution_count": 3,
      "id": "70e39cd8-ec79-4e3e-9c26-5659d42d0861",
      "metadata": {
        "id": "70e39cd8-ec79-4e3e-9c26-5659d42d0861"
      },
      "outputs": [],
      "source": [
        "import os\n",
        "from dotenv import load_dotenv\n",
        "from openai import OpenAI\n",
        "import gradio as gr\n",
        "import requests\n",
        "import json\n",
        "from typing import List\n",
        "from bs4 import BeautifulSoup\n",
        "from IPython.display import Markdown, display, update_display\n",
        "from openai import OpenAI"
      ]
    },
    {
      "cell_type": "markdown",
      "source": [
        "### Load Environment Variables"
      ],
      "metadata": {
        "id": "33QZ6MgqBGbd"
      },
      "id": "33QZ6MgqBGbd"
    },
    {
      "cell_type": "code",
      "source": [
        "# Load the environment variables from the .env file\n",
        "load_dotenv('/content/API_KEYS.env')  # Ensure this is the correct path to your file\n",
        "\n",
        "# Get the API keys from the environment\n",
        "openai_api_key = os.getenv(\"OPENAI_API_KEY\")\n",
        "anthropic_api_key = os.getenv(\"ANTHROPIC_API_KEY\")\n",
        "google_api_key = os.getenv(\"GOOGLE_API_KEY\")\n",
        "\n",
        "# Check if the keys are loaded correctly and print a portion of them\n",
        "if openai_api_key:\n",
        "    print(f\"OpenAI API Key loaded: {openai_api_key[0:10]}...\")  # Only print part of the key\n",
        "else:\n",
        "    print(\"OpenAI API key not loaded correctly.\")\n",
        "\n",
        "if anthropic_api_key:\n",
        "    print(f\"Anthropic API Key loaded: {anthropic_api_key[0:10]}...\")\n",
        "else:\n",
        "    print(\"Anthropic API key not loaded correctly.\")\n",
        "\n",
        "if google_api_key:\n",
        "    print(f\"Google API Key loaded: {google_api_key[0:10]}...\")\n",
        "else:\n",
        "    print(\"Google API key not loaded correctly.\")"
      ],
      "metadata": {
        "id": "IFJKU1REww17",
        "colab": {
          "base_uri": "https://localhost:8080/"
        },
        "outputId": "be420ed8-5778-4031-ebf5-42de182673e9"
      },
      "id": "IFJKU1REww17",
      "execution_count": 4,
      "outputs": [
        {
          "output_type": "stream",
          "name": "stdout",
          "text": [
            "OpenAI API Key loaded: sk-proj-e1...\n",
            "Anthropic API Key loaded: sk-ant-api...\n",
            "Google API Key loaded: AIzaSyDh3a...\n"
          ]
        }
      ]
    },
    {
      "cell_type": "code",
      "source": [
        "import openai\n",
        "import anthropic\n",
        "import google.generativeai\n",
        "\n",
        "# Connect to OpenAI\n",
        "openai.api_key = openai_api_key  # Set OpenAI API key\n",
        "\n",
        "# Connect to Anthropic (Claude)\n",
        "claude = anthropic.Anthropic(api_key=anthropic_api_key)  # Set Anthropic API key\n",
        "\n",
        "# Connect to Google Generative AI\n",
        "google.generativeai.configure(api_key=google_api_key)  # Set Google API key"
      ],
      "metadata": {
        "id": "_tvSBQa3BSGB"
      },
      "id": "_tvSBQa3BSGB",
      "execution_count": 5,
      "outputs": []
    },
    {
      "cell_type": "markdown",
      "source": [
        "#Customer Service Chatbot\n",
        "\n",
        "Let's start building a **customer service chatbot** for Stanley's popular store, focusing on handling FAQ-style conversations. The chatbot will be able to handle common customer queries like product availability, returns, shipping, and possibly escalate issues to human support.\n",
        "\n",
        "### Strategy:\n",
        "- **Handle common questions**: FAQs about products, returns, shipping times, etc.\n",
        "- **Escalation**: Detect when a user needs human support.\n",
        "- **Sentiment analysis** (optional, advanced feature): Detect frustration and automatically offer human support or apologies.\n",
        "\n",
        "### Step 1: Define Common Queries (FAQ)\n",
        "We’ll build the chatbot to handle the following common queries:\n",
        "- **Product Availability**: Is the Stanley Cup available in certain colors or sizes?\n",
        "- **Returns**: How to return a product?\n",
        "- **Shipping Times**: How long does shipping take?\n",
        "- **Order Tracking**: Where is my order?\n",
        "- **Escalation**: When the user asks for human support or gets frustrated.\n",
        "\n",
        "### Step 2: Implement the Chatbot Functionality\n",
        "We’ll create a basic chatbot function that can answer these queries based on the user's input. Later, we can enhance it with sentiment analysis and multilingual support.\n",
        "\n",
        "### How It Works:\n",
        "1. **Predefined FAQs**: The chatbot has built-in answers for common customer service queries like product availability, returns, shipping, and order tracking. If the user's message contains keywords related to those topics, it will return a pre-programmed response.\n",
        "   \n",
        "2. **Handling Complex Queries**: If the user asks a question that doesn't match the predefined FAQs, the chatbot passes the query to OpenAI's GPT model to generate a response.\n",
        "\n",
        "3. **Escalation to Human Support**: If the user mentions wanting to speak with a human representative, the chatbot will offer an escalation message, informing the user that a human can be connected.\n",
        "\n",
        "### Next Steps:\n",
        "1. **Sentiment Analysis**: We can integrate a basic sentiment analysis function to detect frustration (e.g., if the user is unhappy with the bot's answers) and automatically suggest human assistance.\n",
        "   \n",
        "2. **Multilingual Support**: Later, we can add language detection and handle conversations in multiple languages.\n",
        "\n",
        "3. **API Integration**: For order tracking or real-time availability, we can integrate actual APIs from Stanley’s website or database to provide more personalized responses.\n",
        "\n"
      ],
      "metadata": {
        "id": "_v-qD7JZO6oY"
      },
      "id": "_v-qD7JZO6oY"
    },
    {
      "cell_type": "code",
      "source": [
        "import gradio as gr\n",
        "\n",
        "MODEL = 'gpt-4o-mini'\n",
        "system_message = \"You are a helpful customer service assistant for the Stanley store. You assist customers with queries about products, returns, shipping, and orders.\"\n",
        "\n",
        "# Sample FAQs for the Stanley store\n",
        "faq_responses = {\n",
        "    \"availability\": \"The Stanley Cup is available in multiple colors and sizes, but some items may be out of stock due to high demand. You can check the latest availability on our website.\",\n",
        "    \"returns\": \"You can return any Stanley product within 30 days of purchase. Just visit our Returns page for more details and to start the process.\",\n",
        "    \"shipping\": \"Shipping typically takes between 3-5 business days for standard delivery. Expedited options are also available.\",\n",
        "    \"order tracking\": \"You can track your order by visiting the 'Order Tracking' page on our website. Just enter your order number to get the latest updates.\",\n",
        "    \"human support\": \"I can help you with most questions, but if you need further assistance, I can connect you to a human representative.\"\n",
        "}\n",
        "\n",
        "# Chat function\n",
        "def stanley_chat(message, history):\n",
        "    # System message at the start\n",
        "    messages = [{\"role\": \"system\", \"content\": system_message}]\n",
        "\n",
        "    # Add the conversation history\n",
        "    for msg in history:\n",
        "        messages.append(msg)\n",
        "\n",
        "    # Add the current user message\n",
        "    messages.append({\"role\": \"user\", \"content\": message})\n",
        "\n",
        "    # Check for common FAQs\n",
        "    response = \"\"\n",
        "    if \"availability\" in message.lower():\n",
        "        response = faq_responses[\"availability\"]\n",
        "    elif \"return\" in message.lower():\n",
        "        response = faq_responses[\"returns\"]\n",
        "    elif \"shipping\" in message.lower():\n",
        "        response = faq_responses[\"shipping\"]\n",
        "    elif \"track\" in message.lower():\n",
        "        response = faq_responses[\"order tracking\"]\n",
        "    elif \"human\" in message.lower() or \"representative\" in message.lower():\n",
        "        response = faq_responses[\"human support\"]\n",
        "    else:\n",
        "        # Use the AI to handle more complex or unknown questions\n",
        "        stream = openai.chat.completions.create(model=MODEL, messages=messages, stream=True)\n",
        "        for chunk in stream:\n",
        "            response += chunk.choices[0].delta.content or ''\n",
        "\n",
        "    return response\n",
        "\n",
        "# Gradio interface\n",
        "gr.ChatInterface(fn=stanley_chat, type=\"messages\").launch(share=True)"
      ],
      "metadata": {
        "colab": {
          "base_uri": "https://localhost:8080/",
          "height": 610
        },
        "id": "4OwVt3VGcaNq",
        "outputId": "eb106c92-f34e-4287-ddff-76f91be45665"
      },
      "id": "4OwVt3VGcaNq",
      "execution_count": 10,
      "outputs": [
        {
          "output_type": "stream",
          "name": "stdout",
          "text": [
            "Colab notebook detected. To show errors in colab notebook, set debug=True in launch()\n",
            "* Running on public URL: https://4e532d80f71530cb58.gradio.live\n",
            "\n",
            "This share link expires in 72 hours. For free permanent hosting and GPU upgrades, run `gradio deploy` from the terminal in the working directory to deploy to Hugging Face Spaces (https://huggingface.co/spaces)\n"
          ]
        },
        {
          "output_type": "display_data",
          "data": {
            "text/plain": [
              "<IPython.core.display.HTML object>"
            ],
            "text/html": [
              "<div><iframe src=\"https://4e532d80f71530cb58.gradio.live\" width=\"100%\" height=\"500\" allow=\"autoplay; camera; microphone; clipboard-read; clipboard-write;\" frameborder=\"0\" allowfullscreen></iframe></div>"
            ]
          },
          "metadata": {}
        },
        {
          "output_type": "execute_result",
          "data": {
            "text/plain": []
          },
          "metadata": {},
          "execution_count": 10
        }
      ]
    },
    {
      "cell_type": "markdown",
      "source": [
        "### View Message Structure\n",
        "\n",
        "Yes, saving the message structure to a log file is a great way to avoid cluttering the chat interface while still preserving the conversation for later review. In Google Colab, you can write the message structure to a file as the chat progresses, and then view the contents of the log file once the conversation ends.\n",
        "\n",
        "### Step-by-Step Approach:\n",
        "1. **Save Messages to a Log File**: Each time the `stanley_chat` function runs, append the conversation to a log file.\n",
        "2. **View the Log File**: After the chat session ends, you can view or download the log file for analysis.\n",
        "\n",
        "\n",
        "### Explanation:\n",
        "1. **Logging the Conversation**:\n",
        "    - Every time a message is sent, the entire `messages` structure (the conversation history) is appended to a log file (`/content/chat_log.json`).\n",
        "    - The messages are stored in JSON format so that they can be easily read later.\n",
        "\n",
        "2. **Viewing the Log File**:\n",
        "    - After the chat has ended, you can read the log file using standard file-handling techniques in Colab. Here’s how you can view the chat log:\n",
        "\n",
        "### Viewing the Log After Chat:\n",
        "```python\n",
        "# Read and display the chat log\n",
        "with open('/content/chat_log.json', 'r') as log_file:\n",
        "    for line in log_file:\n",
        "        print(json.loads(line))  # Print each entry of the log as JSON\n",
        "```\n",
        "\n",
        "### Optional: Download the Log File:\n",
        "If you want to download the chat log file to your local machine, you can run the following in Colab:\n",
        "\n",
        "```python\n",
        "from google.colab import files\n",
        "\n",
        "# Download the log file\n",
        "files.download('/content/chat_log.json')\n",
        "```\n",
        "\n",
        "### Summary:\n",
        "- The chatbot now saves the conversation history to a log file without cluttering the chat interface.\n",
        "- After the chat session ends, you can either read the log file within the Colab notebook or download it for later review. This makes debugging and conversation analysis easier."
      ],
      "metadata": {
        "id": "DLYSOdTteYbU"
      },
      "id": "DLYSOdTteYbU"
    },
    {
      "cell_type": "code",
      "execution_count": 11,
      "id": "887fd6c1-2db0-4dc4-bc53-49399af8e035",
      "metadata": {
        "id": "887fd6c1-2db0-4dc4-bc53-49399af8e035",
        "colab": {
          "base_uri": "https://localhost:8080/",
          "height": 610
        },
        "outputId": "a63e7964-75d6-4281-c1c0-2ec08f3511ff"
      },
      "outputs": [
        {
          "output_type": "stream",
          "name": "stdout",
          "text": [
            "Colab notebook detected. To show errors in colab notebook, set debug=True in launch()\n",
            "* Running on public URL: https://4fd42132a99cbb9019.gradio.live\n",
            "\n",
            "This share link expires in 72 hours. For free permanent hosting and GPU upgrades, run `gradio deploy` from the terminal in the working directory to deploy to Hugging Face Spaces (https://huggingface.co/spaces)\n"
          ]
        },
        {
          "output_type": "display_data",
          "data": {
            "text/plain": [
              "<IPython.core.display.HTML object>"
            ],
            "text/html": [
              "<div><iframe src=\"https://4fd42132a99cbb9019.gradio.live\" width=\"100%\" height=\"500\" allow=\"autoplay; camera; microphone; clipboard-read; clipboard-write;\" frameborder=\"0\" allowfullscreen></iframe></div>"
            ]
          },
          "metadata": {}
        },
        {
          "output_type": "execute_result",
          "data": {
            "text/plain": []
          },
          "metadata": {},
          "execution_count": 11
        }
      ],
      "source": [
        "import gradio as gr\n",
        "\n",
        "MODEL = 'gpt-4o-mini'\n",
        "system_message = \"You are a helpful customer service assistant for the Stanley store. You assist customers with queries about products, returns, shipping, and orders.\"\n",
        "history_file = \"chat_history.json\"\n",
        "\n",
        "# Function to save chat history to a JSON file\n",
        "def save_chat_history(history, file_path):\n",
        "    with open(file_path, \"w\") as file:\n",
        "        json.dump(history, file, indent=4)\n",
        "\n",
        "# Sample FAQs for the Stanley store\n",
        "faq_responses = {\n",
        "    \"availability\": \"The Stanley Cup is available in multiple colors and sizes, but some items may be out of stock due to high demand. You can check the latest availability on our website.\",\n",
        "    \"returns\": \"You can return any Stanley product within 30 days of purchase. Just visit our Returns page for more details and to start the process.\",\n",
        "    \"shipping\": \"Shipping typically takes between 3-5 business days for standard delivery. Expedited options are also available.\",\n",
        "    \"order tracking\": \"You can track your order by visiting the 'Order Tracking' page on our website. Just enter your order number to get the latest updates.\",\n",
        "    \"human support\": \"I can help you with most questions, but if you need further assistance, I can connect you to a human representative.\"\n",
        "}\n",
        "\n",
        "# Chat function\n",
        "def stanley_chat(message, history):\n",
        "    # System message at the start\n",
        "    messages = [{\"role\": \"system\", \"content\": system_message}]\n",
        "\n",
        "    # Add the conversation history\n",
        "    for msg in history:\n",
        "        messages.append(msg)\n",
        "\n",
        "    # Add the current user message\n",
        "    messages.append({\"role\": \"user\", \"content\": message})\n",
        "\n",
        "    # Check for common FAQs\n",
        "    response = \"\"\n",
        "    if \"availability\" in message.lower():\n",
        "        response = faq_responses[\"availability\"]\n",
        "    elif \"return\" in message.lower():\n",
        "        response = faq_responses[\"returns\"]\n",
        "    elif \"shipping\" in message.lower():\n",
        "        response = faq_responses[\"shipping\"]\n",
        "    elif \"track\" in message.lower():\n",
        "        response = faq_responses[\"order tracking\"]\n",
        "    elif \"human\" in message.lower() or \"representative\" in message.lower():\n",
        "        response = faq_responses[\"human support\"]\n",
        "    else:\n",
        "        # Use the AI to handle more complex or unknown questions\n",
        "        stream = openai.chat.completions.create(model=MODEL, messages=messages, stream=True)\n",
        "        for chunk in stream:\n",
        "            response += chunk.choices[0].delta.content or ''\n",
        "\n",
        "    return response\n",
        "\n",
        "    # Add the current user message and assistant response to the history\n",
        "    history.append({\"role\": \"user\", \"content\": message})\n",
        "    history.append({\"role\": \"assistant\", \"content\": response})\n",
        "\n",
        "    # Save updated history to a JSON file\n",
        "    save_chat_history(history, history_file)\n",
        "\n",
        "# Gradio interface\n",
        "gr.ChatInterface(fn=stanley_chat, type=\"messages\").launch(share=True)"
      ]
    },
    {
      "cell_type": "markdown",
      "source": [
        "### Read Chat History"
      ],
      "metadata": {
        "id": "Z9GY622y02EL"
      },
      "id": "Z9GY622y02EL"
    },
    {
      "cell_type": "code",
      "source": [
        "import json\n",
        "import os\n",
        "\n",
        "def print_chat_history(file_path):\n",
        "    if os.path.exists(file_path):\n",
        "        with open(file_path, \"r\") as file:\n",
        "            history = json.load(file)\n",
        "\n",
        "        print(\"\\nChat History:\\n\" + \"=\" * 50)\n",
        "        turn = 1\n",
        "        for msg in history:\n",
        "            if msg[\"role\"] == \"user\":\n",
        "                # print(f\"Turn {turn}:\")\n",
        "                print(f\"User: {msg['content']}\")\n",
        "            elif msg[\"role\"] == \"assistant\":\n",
        "                print(f\"Assistant: {msg['content']}\")\n",
        "                print(\"-\" * 50)\n",
        "                turn += 1\n",
        "    else:\n",
        "        print(\"No chat history found.\")\n",
        "\n",
        "print_chat_history(\"/content/chat_history.json\")"
      ],
      "metadata": {
        "colab": {
          "base_uri": "https://localhost:8080/"
        },
        "id": "yeZNGDiy0zSS",
        "outputId": "1fe072aa-0854-4332-9d3d-085a2eac72b2"
      },
      "id": "yeZNGDiy0zSS",
      "execution_count": 12,
      "outputs": [
        {
          "output_type": "stream",
          "name": "stdout",
          "text": [
            "\n",
            "Chat History:\n",
            "==================================================\n",
            "User: hello\n",
            "Assistant: Hello! How can I assist you today?\n",
            "--------------------------------------------------\n",
            "User: I would like to do some shopping\n",
            "Assistant: Great! What specific products are you looking for, or do you have any particular categories in mind?\n",
            "--------------------------------------------------\n",
            "User: I would like to buy some new shoes, and maybe a hat\n",
            "Assistant: While I can assist with inquiries regarding Stanley products, we typically focus on items such as drinkware, coolers, and outdoor gear rather than footwear or hats. However, if you’re looking for Stanley-branded products or accessories, I’d be happy to help you find those! Let me know what you need.\n",
            "--------------------------------------------------\n",
            "User: Oh, yes that sounds great. I like to keep my liquids cool. What products do you have available?\n",
            "Assistant: We have a variety of products designed to keep your liquids cool! Here are some popular options:\n",
            "\n",
            "1. **Tumbler** - Great for keeping your drinks cold for hours. They come in different sizes and colors.\n",
            "\n",
            "2. **Adventure Quencher Tumbler** - This double-wall vacuum insulated tumbler is designed for hydration on the go, perfect for both cold beverages and ice retention.\n",
            "\n",
            "3. **Coolers** - Our coolers are designed to keep your drinks and food cold for extended periods, ideal for outdoor adventures or picnics.\n",
            "\n",
            "4. **Water Bottles** - We offer insulated water bottles that keep your cold drinks cold and are perfect for everyday use.\n",
            "\n",
            "5. **Hydration Packs** - If you're looking for something more portable for hiking or biking, we have hydration packs that can carry liquids and keep them cool.\n",
            "\n",
            "If you're interested in any specific product or need more details about any of these items, let me know!\n",
            "--------------------------------------------------\n"
          ]
        }
      ]
    },
    {
      "cell_type": "markdown",
      "source": [
        "### Yeild vs Return\n",
        "\n",
        "1. **Using `yield` During AI Response Generation**:\n",
        "   - In your **working version**, you use `yield response` within the loop that generates the response from the OpenAI API. This allows you to stream the response chunk by chunk in real time, which provides a better user experience and avoids issues with the response being returned too late.\n",
        "   - Specifically:\n",
        "     ```python\n",
        "     if not response:\n",
        "         stream = openai.chat.completions.create(model=MODEL, messages=messages, stream=True)\n",
        "         for chunk in stream:\n",
        "             response += chunk.choices[0].delta.content or ''\n",
        "             yield response\n",
        "     ```\n",
        "     - Here, each `chunk` of the AI-generated response is added to the `response` string, and **immediately yielded**.\n",
        "     - **Yielding** during each iteration sends incremental parts of the response to the user, which is why it feels more interactive.\n",
        "\n",
        "2. **Using `return` Instead of `yield`**:\n",
        "   - In my **previous version**, after accumulating the response from the API, I used `return response` at the end of the function. This led to issues because:\n",
        "     - **Streaming vs. Final Return**: Streaming means yielding each part of the response as soon as it's available. If you accumulate all the parts and then try to `return`, it conflicts with the streaming process and can lead to errors.\n",
        "     - By using **`yield` within the loop**, you enable streaming to occur properly, and the function doesn't immediately exit before all chunks have been sent to the user.\n",
        "\n",
        "3. **Handling Response**:\n",
        "   - In your version, you stream the response from OpenAI and **yield each chunk** of the response immediately, allowing the user to see the message as it arrives, incrementally.\n",
        "   - In the version I gave, I didn't yield during the streaming loop. Instead, I accumulated the entire response before returning it. This could lead to delays and possible issues because the function is expected to handle the `yield` process correctly for streaming purposes.\n",
        "\n",
        "\n",
        "### Important Concepts to Learn from This:\n",
        "\n",
        "1. **Streaming with `yield`**:\n",
        "   - When you use **`stream=True`** with the OpenAI API, it allows the assistant to generate and send the response incrementally.\n",
        "   - **`yield`** is used to yield each part of the response as soon as it becomes available, which is ideal for creating a conversational experience in chatbots.\n",
        "\n",
        "2. **Difference Between `yield` and `return`**:\n",
        "   - **`yield`** is used when you want to provide chunks of a response iteratively. It makes the function a **generator** that produces values on-the-fly.\n",
        "   - **`return`** sends back the complete response and exits the function immediately. When streaming, using `return` can cause conflicts, especially if the API expects multiple parts to be yielded.\n",
        "\n",
        "3. **Best Practices for Chatbot Streaming**:\n",
        "   - Use **`yield` inside the loop** when streaming to provide a real-time response experience.\n",
        "   - **Yielding in each iteration** makes the chatbot appear more responsive, as the user sees parts of the response almost immediately, instead of waiting for the entire response to be constructed.\n"
      ],
      "metadata": {
        "id": "vgi2VWt1wdrN"
      },
      "id": "vgi2VWt1wdrN"
    },
    {
      "cell_type": "code",
      "source": [
        "import gradio as gr\n",
        "import json\n",
        "import openai\n",
        "\n",
        "MODEL = 'gpt-4o-mini'\n",
        "system_message = \"You are a helpful customer service assistant for the Stanley store. You assist customers with queries about products, returns, shipping, and orders.\"\n",
        "history_file = \"chat_history.json\"\n",
        "\n",
        "# Function to save chat history to a JSON file\n",
        "def save_chat_history(history, file_path):\n",
        "    with open(file_path, \"w\") as file:\n",
        "        json.dump(history, file, indent=4)\n",
        "\n",
        "# Sample FAQs for the Stanley store\n",
        "faq_responses = {\n",
        "    \"availability\": \"The Stanley Cup is available in multiple colors and sizes, but some items may be out of stock due to high demand. You can check the latest availability on our website.\",\n",
        "    \"returns\": \"You can return any Stanley product within 30 days of purchase. Just visit our Returns page for more details and to start the process.\",\n",
        "    \"shipping\": \"Shipping typically takes between 3-5 business days for standard delivery. Expedited options are also available.\",\n",
        "    \"order tracking\": \"You can track your order by visiting the 'Order Tracking' page on our website. Just enter your order number to get the latest updates.\",\n",
        "    \"human support\": \"I can help you with most questions, but if you need further assistance, I can connect you to a human representative.\"\n",
        "}\n",
        "\n",
        "# Chat function\n",
        "def chat(message, history):\n",
        "    # Start the message list with the system message\n",
        "    messages = [{\"role\": \"system\", \"content\": system_message}]\n",
        "\n",
        "    # Iterate through the history, adding user and assistant messages using OpenAI-style format\n",
        "    for msg in history:\n",
        "        messages.append(msg)\n",
        "\n",
        "    # Add the latest user message to the conversation\n",
        "    messages.append({\"role\": \"user\", \"content\": message})\n",
        "\n",
        "    # Check for common FAQs first\n",
        "    response = \"\"\n",
        "    if \"availability\" in message.lower():\n",
        "        response = faq_responses[\"availability\"]\n",
        "    elif \"return\" in message.lower():\n",
        "        response = faq_responses[\"returns\"]\n",
        "    elif \"shipping\" in message.lower():\n",
        "        response = faq_responses[\"shipping\"]\n",
        "    elif \"track\" in message.lower():\n",
        "        response = faq_responses[\"order tracking\"]\n",
        "    elif \"human\" in message.lower() or \"representative\" in message.lower():\n",
        "        response = faq_responses[\"human support\"]\n",
        "\n",
        "    # If the question is not in FAQs, generate response from the AI\n",
        "    if not response:\n",
        "        stream = openai.chat.completions.create(model=MODEL, messages=messages, stream=True)\n",
        "        for chunk in stream:\n",
        "            response += chunk.choices[0].delta.content or ''\n",
        "            yield response\n",
        "\n",
        "    # Add the current user message and assistant response to the history\n",
        "    history.append({\"role\": \"user\", \"content\": message})\n",
        "    history.append({\"role\": \"assistant\", \"content\": response})\n",
        "\n",
        "    # Save updated history to a JSON file\n",
        "    save_chat_history(history, history_file)\n",
        "\n",
        "# Gradio interface\n",
        "gr.ChatInterface(fn=chat, type=\"messages\").launch(share=True, debug=True)\n"
      ],
      "metadata": {
        "colab": {
          "base_uri": "https://localhost:8080/",
          "height": 645
        },
        "id": "M5joRB_UvzrF",
        "outputId": "e7974ea0-0021-423f-fe3c-d83936a57f05"
      },
      "id": "M5joRB_UvzrF",
      "execution_count": 6,
      "outputs": [
        {
          "output_type": "stream",
          "name": "stdout",
          "text": [
            "Colab notebook detected. This cell will run indefinitely so that you can see errors and logs. To turn off, set debug=False in launch().\n",
            "* Running on public URL: https://7e7e72bc9a2b5bc428.gradio.live\n",
            "\n",
            "This share link expires in 72 hours. For free permanent hosting and GPU upgrades, run `gradio deploy` from the terminal in the working directory to deploy to Hugging Face Spaces (https://huggingface.co/spaces)\n"
          ]
        },
        {
          "output_type": "display_data",
          "data": {
            "text/plain": [
              "<IPython.core.display.HTML object>"
            ],
            "text/html": [
              "<div><iframe src=\"https://7e7e72bc9a2b5bc428.gradio.live\" width=\"100%\" height=\"500\" allow=\"autoplay; camera; microphone; clipboard-read; clipboard-write;\" frameborder=\"0\" allowfullscreen></iframe></div>"
            ]
          },
          "metadata": {}
        },
        {
          "output_type": "stream",
          "name": "stdout",
          "text": [
            "Keyboard interruption in main thread... closing server.\n",
            "Killing tunnel 127.0.0.1:7860 <> https://7e7e72bc9a2b5bc428.gradio.live\n"
          ]
        },
        {
          "output_type": "execute_result",
          "data": {
            "text/plain": []
          },
          "metadata": {},
          "execution_count": 6
        }
      ]
    },
    {
      "cell_type": "markdown",
      "source": [
        "### Read Chat History"
      ],
      "metadata": {
        "id": "Bf02sPsq0vKQ"
      },
      "id": "Bf02sPsq0vKQ"
    },
    {
      "cell_type": "code",
      "source": [
        "import json\n",
        "import os\n",
        "\n",
        "def print_chat_history(file_path):\n",
        "    if os.path.exists(file_path):\n",
        "        with open(file_path, \"r\") as file:\n",
        "            history = json.load(file)\n",
        "\n",
        "        print(\"\\nChat History:\\n\" + \"=\" * 50)\n",
        "        turn = 1\n",
        "        for msg in history:\n",
        "            if msg[\"role\"] == \"user\":\n",
        "                # print(f\"Turn {turn}:\")\n",
        "                print(f\"User: {msg['content']}\")\n",
        "            elif msg[\"role\"] == \"assistant\":\n",
        "                print(f\"Assistant: {msg['content']}\")\n",
        "                print(\"-\" * 50)\n",
        "                turn += 1\n",
        "    else:\n",
        "        print(\"No chat history found.\")\n",
        "\n",
        "print_chat_history(\"/content/chat_history.json\")"
      ],
      "metadata": {
        "colab": {
          "base_uri": "https://localhost:8080/"
        },
        "id": "5F5NH9r6xvC9",
        "outputId": "8b244048-c9f5-4319-f2e4-0226c9993eb7"
      },
      "id": "5F5NH9r6xvC9",
      "execution_count": 7,
      "outputs": [
        {
          "output_type": "stream",
          "name": "stdout",
          "text": [
            "\n",
            "Chat History:\n",
            "==================================================\n",
            "User: hello\n",
            "Assistant: Hello! How can I assist you today?\n",
            "--------------------------------------------------\n",
            "User: I would like to do some shopping\n",
            "Assistant: Great! What specific products are you looking for, or do you have any particular categories in mind?\n",
            "--------------------------------------------------\n",
            "User: I would like to buy some new shoes, and maybe a hat\n",
            "Assistant: While I can assist with inquiries regarding Stanley products, we typically focus on items such as drinkware, coolers, and outdoor gear rather than footwear or hats. However, if you’re looking for Stanley-branded products or accessories, I’d be happy to help you find those! Let me know what you need.\n",
            "--------------------------------------------------\n",
            "User: Oh, yes that sounds great. I like to keep my liquids cool. What products do you have available?\n",
            "Assistant: We have a variety of products designed to keep your liquids cool! Here are some popular options:\n",
            "\n",
            "1. **Tumbler** - Great for keeping your drinks cold for hours. They come in different sizes and colors.\n",
            "\n",
            "2. **Adventure Quencher Tumbler** - This double-wall vacuum insulated tumbler is designed for hydration on the go, perfect for both cold beverages and ice retention.\n",
            "\n",
            "3. **Coolers** - Our coolers are designed to keep your drinks and food cold for extended periods, ideal for outdoor adventures or picnics.\n",
            "\n",
            "4. **Water Bottles** - We offer insulated water bottles that keep your cold drinks cold and are perfect for everyday use.\n",
            "\n",
            "5. **Hydration Packs** - If you're looking for something more portable for hiking or biking, we have hydration packs that can carry liquids and keep them cool.\n",
            "\n",
            "If you're interested in any specific product or need more details about any of these items, let me know!\n",
            "--------------------------------------------------\n"
          ]
        }
      ]
    },
    {
      "cell_type": "markdown",
      "source": [
        "### Chat Logs\n",
        "\n",
        "**Saving chatbot logs** is a common practice for companies, especially for purposes like **review, quality control**, and **performance improvement**. Here are some key reasons why saving conversation logs is beneficial:\n",
        "\n",
        "### 1. **Quality Control and Monitoring**:\n",
        "   - **Ensuring Accuracy**: Logs allow companies to regularly review chatbot interactions to ensure that responses are accurate, relevant, and aligned with the brand’s tone and policies.\n",
        "   - **Identifying Issues**: Reviewing logs can help identify where the chatbot is falling short, such as providing incorrect or incomplete answers or failing to handle specific queries properly.\n",
        "\n",
        "### 2. **Training and Improvement**:\n",
        "   - **Continuous Learning**: Chatbots can be retrained based on real interactions. Logs provide valuable data that can be used to improve the chatbot’s ability to understand user inputs, detect intents, and provide better responses.\n",
        "   - **Handling Edge Cases**: Reviewing conversations helps companies identify unusual queries or corner cases the bot hasn’t been trained for. These can be added to the bot’s training data to improve future performance.\n",
        "\n",
        "### 3. **Sentiment Analysis and User Experience**:\n",
        "   - **Understanding User Sentiment**: By analyzing user inputs (e.g., using sentiment analysis), companies can gauge user satisfaction, detect frustration, and adjust the chatbot’s behavior or escalate issues to human support more effectively.\n",
        "   - **Personalization**: Logs can help tailor responses and suggestions based on patterns of user behavior, improving personalization and user engagement.\n",
        "\n",
        "### 4. **Compliance and Accountability**:\n",
        "   - **Regulatory Compliance**: In industries like finance, healthcare, or insurance, keeping conversation logs can be a compliance requirement, especially if there are legal, security, or privacy concerns.\n",
        "   - **Audit Trail**: Logs create a record of user interactions, providing an audit trail in case of disputes or reviews, especially in customer service or legal contexts.\n",
        "\n",
        "### 5. **Escalation and Handover to Human Support**:\n",
        "   - **Seamless Handover**: When a chatbot needs to escalate an issue to a human agent, providing the human agent with a log of the conversation helps them quickly understand the context and assist the customer without making them repeat information.\n",
        "   - **Measuring Handover Efficiency**: Companies can analyze how often and why users are escalated to human agents, optimizing the chatbot to reduce unnecessary handovers.\n",
        "\n",
        "### 6. **Analyzing User Intent and Trends**:\n",
        "   - **Trending Queries**: Logs can help identify frequently asked questions or new trends in customer queries, providing insights into customer behavior, preferences, or emerging issues.\n",
        "   - **Feedback Loop for Products**: Analyzing chatbot conversations can reveal customer concerns or feedback about products and services, providing data for product improvement or marketing strategies.\n",
        "\n",
        "### 7. **Multilingual Support and Localization**:\n",
        "   - **Ensuring Consistency Across Languages**: For companies offering multilingual support, reviewing logs helps ensure that responses in different languages are equally accurate and contextually appropriate.\n",
        "   - **Translation Quality**: For chatbots using translation services, logs can help identify issues with translation quality or understanding in specific languages.\n",
        "\n"
      ],
      "metadata": {
        "id": "ynkgqOUxhdJg"
      },
      "id": "ynkgqOUxhdJg"
    },
    {
      "cell_type": "code",
      "source": [],
      "metadata": {
        "id": "hHiIuF5e2-M7"
      },
      "id": "hHiIuF5e2-M7",
      "execution_count": null,
      "outputs": []
    }
  ],
  "metadata": {
    "kernelspec": {
      "display_name": "Python 3 (ipykernel)",
      "language": "python",
      "name": "python3"
    },
    "language_info": {
      "codemirror_mode": {
        "name": "ipython",
        "version": 3
      },
      "file_extension": ".py",
      "mimetype": "text/x-python",
      "name": "python",
      "nbconvert_exporter": "python",
      "pygments_lexer": "ipython3",
      "version": "3.11.10"
    },
    "colab": {
      "provenance": [],
      "toc_visible": true,
      "include_colab_link": true
    }
  },
  "nbformat": 4,
  "nbformat_minor": 5
}