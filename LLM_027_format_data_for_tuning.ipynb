{
  "cells": [
    {
      "cell_type": "markdown",
      "metadata": {
        "id": "view-in-github",
        "colab_type": "text"
      },
      "source": [
        "<a href=\"https://colab.research.google.com/github/micah-shull/LLMs/blob/main/LLM_027_format_data_for_tuning.ipynb\" target=\"_parent\"><img src=\"https://colab.research.google.com/assets/colab-badge.svg\" alt=\"Open In Colab\"/></a>"
      ]
    },
    {
      "cell_type": "markdown",
      "source": [
        "\n",
        "## Prepare Data for LLM Fine-Tuning\n",
        "\n",
        "In this notebook, we’ll walk through the process of **preparing the MTSamples dataset** for fine-tuning a large language model (LLM) on specialized medical data. Our aim is to transform the dataset into a structured, model-ready format that will enhance an LLM’s ability to understand and generate precise medical content. This data preparation process is crucial for improving model performance in a highly specialized domain, where nuances in language and terminology are essential.\n",
        "\n",
        "Large language models demonstrate impressive capabilities across general domains; however, when it comes to highly specialized fields like medicine, several challenges can impact their performance. These challenges underscore the importance of well-structured, domain-specific data:\n",
        "\n",
        "1. **Training Data Limitations**:  \n",
        "   LLMs are trained on massive, diverse datasets sourced from the internet. However, due to privacy regulations like HIPAA, the availability of high-quality medical content online is limited. As a result, these models may not have extensive exposure to specialized medical knowledge, making domain-specific fine-tuning valuable.\n",
        "\n",
        "2. **Complexity and Specificity in Medical Data**:  \n",
        "   Medical data contains specialized terminology, complex concepts, and highly specific relationships. Effective performance in this domain requires more than basic language comprehension; it demands an understanding of context, terminology, and medical nuances that general LLMs may oversimplify.\n",
        "\n",
        "3. **Generalization vs. Specialization**:  \n",
        "   LLMs are designed to be generalists, handling a wide array of topics. While they can process basic medical queries, they often lack the depth and accuracy needed for precise medical content. Fine-tuning with carefully prepared data helps bridge this gap, allowing the model to adapt to the unique demands of medical language.\n",
        "\n",
        "### Objectives\n",
        "\n",
        "To ensure effective preparation for fine-tuning, we will work through the following steps:\n",
        "\n",
        "- **Dataset Exploration**:  \n",
        "  We’ll begin by examining the MTSamples dataset to understand its structure and content.\n",
        "  \n",
        "- **Data Preprocessing**:  \n",
        "  Preparing the data involves more than simply formatting it for input. We’ll transform the dataset to meet the specific input requirements for an LLM, including tokenization, adding role-based prompts, handling class imbalance, and organizing labels.\n",
        "\n",
        "- **Formatting for LLM Fine-Tuning**:  \n",
        "  Structuring each sample according to LLM requirements, such as role-based prompts (e.g., system, user, assistant), enables the model to understand how to process medical reports effectively.\n",
        "\n",
        "- **Applications & Use-Cases**:  \n",
        "  The final prepared dataset will be suitable for fine-tuning a language model to interpret, classify, and generate medical content accurately—valuable for healthcare professionals, researchers, and students.\n",
        "\n",
        "This preparation process will result in a robust, fine-tuning-ready dataset that enables the LLM to better understand and engage with specialized medical content. The dataset was originally obtained from [kaggle](https://www.kaggle.com/datasets/tboyle10/medicaltranscriptions/). Note that we already removed all unncessary columns. More information can be found here [MTSamples](https://mtsamples.com/) dataset.\n",
        "\n"
      ],
      "metadata": {
        "id": "mjvJj0IHXB7p"
      },
      "id": "mjvJj0IHXB7p"
    },
    {
      "cell_type": "markdown",
      "id": "17e97ac7",
      "metadata": {
        "id": "17e97ac7"
      },
      "source": [
        "### Import Data\n",
        "\n",
        "\n"
      ]
    },
    {
      "cell_type": "code",
      "execution_count": null,
      "id": "86d3261d",
      "metadata": {
        "id": "86d3261d",
        "colab": {
          "base_uri": "https://localhost:8080/"
        },
        "outputId": "6096717f-9f92-4aa0-8621-89ff1db81c1e"
      },
      "outputs": [
        {
          "output_type": "stream",
          "name": "stdout",
          "text": [
            "<class 'pandas.core.frame.DataFrame'>\n",
            "RangeIndex: 2179 entries, 0 to 2178\n",
            "Data columns (total 2 columns):\n",
            " #   Column             Non-Null Count  Dtype \n",
            "---  ------             --------------  ----- \n",
            " 0   medical_specialty  2179 non-null   object\n",
            " 1   report             2179 non-null   object\n",
            "dtypes: object(2)\n",
            "memory usage: 34.2+ KB\n"
          ]
        }
      ],
      "source": [
        "import pandas as pd\n",
        "import numpy as np\n",
        "import matplotlib.pyplot as plt\n",
        "\n",
        "medical_reports = pd.read_csv(\"/content/reports.csv\")\n",
        "medical_reports.info()"
      ]
    },
    {
      "cell_type": "code",
      "execution_count": null,
      "id": "0b6d3078",
      "metadata": {
        "id": "0b6d3078",
        "colab": {
          "base_uri": "https://localhost:8080/"
        },
        "outputId": "3ee33e8d-840c-468d-edff-6beccad5f982"
      },
      "outputs": [
        {
          "output_type": "stream",
          "name": "stdout",
          "text": [
            "2-D M-MODE: , ,1.  Left atrial enlargement with left atrial diameter of 4.7 cm.,2.  Normal size right and left ventricle\n",
            "1.  The left ventricular cavity size and wall thickness appear normal.  The wall motion and left ventricular systolic fu\n",
            "2-D ECHOCARDIOGRAM,Multiple views of the heart and great vessels reveal normal intracardiac and great vessel relationshi\n",
            "------------------------------------------------------------------------------------------\n",
            "medical_specialty\n",
            "Surgery                       1088\n",
            "Cardiovascular / Pulmonary     371\n",
            "Radiology                      273\n",
            "Gastroenterology               224\n",
            "Neurology                      223\n",
            "Name: count, dtype: int64\n"
          ]
        }
      ],
      "source": [
        "print(medical_reports['report'][0][0:120])\n",
        "print(medical_reports['report'][1][0:120])\n",
        "print(medical_reports['report'][2][0:120])\n",
        "print('---'*30)\n",
        "print(medical_reports[\"medical_specialty\"].value_counts())\n"
      ]
    },
    {
      "cell_type": "markdown",
      "source": [
        "### Imbalanced Data\n",
        "\n",
        "---\n",
        "\n",
        "### Interpreting the Imbalance for Fine-Tuning\n",
        "\n",
        "An imbalanced dataset can affect fine-tuning because the model is exposed to certain classes far more than others. Here’s what it means for fine-tuning:\n",
        "\n",
        "1. **Model Bias**:\n",
        "   - The model may become biased towards predicting the more frequent classes (e.g., \"Surgery\" or \"Cardiovascular / Pulmonary\").\n",
        "   - This happens because it “sees” these classes more often and may assume they’re more likely, which can harm its ability to generalize to underrepresented classes.\n",
        "\n",
        "2. **Performance Metrics**:\n",
        "   - **Precision, Recall, and F1-Score**: Imbalance may lead to high accuracy for the majority classes, but poor precision or recall for minority classes. F1-score for each class will give a better sense of how well the model performs across classes.\n",
        "   - **Macro-Averaged Metrics**: For imbalanced data, using metrics like **macro-averaged F1-score** (which averages the F1-scores for each class equally) helps evaluate performance across all classes rather than being dominated by the majority class.\n",
        "\n",
        "3. **Possible Solutions**:\n",
        "   - **Resampling**: Techniques like **oversampling** the minority classes or **undersampling** the majority classes can help balance the dataset.\n",
        "   - **Class-Specific Weights**: Setting **class weights** inversely proportional to the class frequency informs the model to pay more attention to minority classes, balancing the learning.\n",
        "   - **Data Augmentation**: Creating more samples for underrepresented classes (e.g., using paraphrasing or back-translation) can also help.\n",
        "\n",
        "Would you like to implement any of these strategies for handling the imbalance before we proceed to tokenization and fine-tuning? Let me know how you’d like to tackle this!"
      ],
      "metadata": {
        "id": "HIWA_CYCBONv"
      },
      "id": "HIWA_CYCBONv"
    },
    {
      "cell_type": "code",
      "source": [
        "# medical_reports.groupby(\"medical_specialty\").count()\n",
        "\n",
        "import seaborn as sns\n",
        "import matplotlib.pyplot as plt\n",
        "\n",
        "# Set up the figure and size\n",
        "plt.figure(figsize=(12, 6))\n",
        "\n",
        "# Create the count plot for the 'medical_specialty' column\n",
        "sns.countplot(data=medical_reports, y=\"medical_specialty\", hue=\"medical_specialty\", palette=\"viridis\",\n",
        "              order=medical_reports[\"medical_specialty\"].value_counts().index)\n",
        "\n",
        "# Add labels and title\n",
        "plt.xlabel(\"Number of Reports\")\n",
        "plt.ylabel(\"Medical Specialty\")\n",
        "plt.title(\"Distribution of Medical Specialties in Dataset\")\n",
        "plt.show()\n"
      ],
      "metadata": {
        "colab": {
          "base_uri": "https://localhost:8080/",
          "height": 558
        },
        "id": "k_JR14JA-1MA",
        "outputId": "b3544784-f25a-4480-bc11-cdba76138cd0"
      },
      "id": "k_JR14JA-1MA",
      "execution_count": null,
      "outputs": [
        {
          "output_type": "display_data",
          "data": {
            "text/plain": [
              "<Figure size 1200x600 with 1 Axes>"
            ],
            "image/png": "[encoded data removed]"
          },
          "metadata": {}
        }
      ]
    },
    {
      "cell_type": "markdown",
      "id": "2d856dcb",
      "metadata": {
        "id": "2d856dcb"
      },
      "source": [
        "### Train-Test Split\n",
        "To handle the class imbalance effectively while creating a train-test split, you want to ensure that each subset (train and test) maintains a similar class distribution to the original dataset. This process is called **stratified sampling** and helps the model generalize better by providing balanced exposure to each class during training and evaluation.\n",
        "\n",
        "### Recommended Approach: Stratified Train-Test Split\n",
        "\n",
        "Here’s how you can split the data while preserving the class distribution for each `medical_specialty`:\n",
        "\n",
        "1. **`stratify`**: The `stratify` parameter in `train_test_split` allows us to maintain the class distribution in both `train_data` and `test_data`, which is crucial when dealing with imbalanced classes.\n",
        "2. **Check Class Distribution**: After splitting, you can print the class distributions in both sets to ensure they mirror the original distribution closely.\n",
        "3. **`test_size=0.2`**: Using 20% for testing is a typical choice, but you can adjust this depending on your needs and dataset size.\n",
        "\n",
        "### Why Stratified Sampling Matters for Imbalanced Data\n",
        "\n",
        "1. **Representative Testing Set**: Ensuring similar class distributions in the training and testing sets makes sure the model’s performance metrics on the test set are reflective of real-world performance across all classes.\n",
        "2. **Improved Generalization**: With each class represented proportionally, the model can better generalize to minority classes, which might otherwise be underrepresented if split randomly.\n",
        "3. **Avoiding Overfitting to Majority Classes**: Stratification helps avoid overfitting to the more frequent classes by exposing the model to a balanced view of the data during both training and testing.\n",
        "\n",
        "### Additional Options\n",
        "\n",
        "If you need further balance within the training set, you might consider:\n",
        "- **Oversampling or Undersampling** on the `train_data` split only.\n",
        "- **Class weights** in the model to emphasize the minority classes during training.\n"
      ]
    },
    {
      "cell_type": "markdown",
      "source": [
        "### Stratified Train Test Split\n",
        "\n",
        "This approach indeed creates a **perfectly balanced dataset** by ensuring each class has an equal number of samples in the training, validation, and test sets. This can be a very effective strategy when you have enough data and want to ensure a balanced view across all classes. Let’s break down the pros and cons of this approach.\n",
        "\n",
        "### Pros of This Approach\n",
        "\n",
        "1. **Perfect Class Balance**:\n",
        "   - Each class has the exact same number of samples in each subset, which avoids any risk of model bias toward the more frequent classes.\n",
        "   - This setup is helpful if you want to compare model performance across classes without one class dominating the metrics.\n",
        "\n",
        "2. **Clear Separation for Validation and Test**:\n",
        "   - By separating `val` and `test` to have exactly 5 samples per class, you ensure consistency and can use each for different purposes (e.g., `val` for tuning and `test` for final evaluation).\n",
        "\n",
        "3. **Simpler Analysis**:\n",
        "   - Balanced classes simplify analysis and make it easier to interpret metrics like precision, recall, and F1-score across classes.\n",
        "\n",
        "### Cons and Potential Considerations\n",
        "\n",
        "1. **Loss of Data**:\n",
        "   - By sampling a fixed number (110 per class) for the entire dataset, you’re discarding a significant portion of the available data, especially for classes with many more samples.\n",
        "   - This reduction in data might limit the model’s performance since it isn’t using all available examples.\n",
        "\n",
        "2. **May Not Reflect Real-World Distribution**:\n",
        "   - A perfectly balanced dataset doesn’t always reflect real-world distributions, so the model might struggle in production scenarios where certain classes are more common than others.\n",
        "   - If real-world deployment is your goal, training with an imbalanced dataset (with methods like class weighting) might help the model generalize better.\n",
        "\n",
        "\n"
      ],
      "metadata": {
        "id": "QyNlnrH8COpN"
      },
      "id": "QyNlnrH8COpN"
    },
    {
      "cell_type": "code",
      "source": [
        "from sklearn.model_selection import train_test_split\n",
        "\n",
        "# Stratified split based on the 'medical_specialty' column\n",
        "train_data, test_data = train_test_split(\n",
        "    medical_reports,\n",
        "    test_size=0.2,                 # 20% of the data for testing\n",
        "    stratify=medical_reports[\"medical_specialty\"],  # Preserve class distribution\n",
        "    random_state=42                # Set a random seed for reproducibility\n",
        ")\n",
        "\n",
        "# Print class distribution in each split to verify\n",
        "print(\"Class Distribution in Training Set:\")\n",
        "print(train_data[\"medical_specialty\"].value_counts(normalize=True))\n",
        "\n",
        "print(\"\\nClass Distribution in Testing Set:\")\n",
        "print(test_data[\"medical_specialty\"].value_counts(normalize=True))"
      ],
      "metadata": {
        "colab": {
          "base_uri": "https://localhost:8080/"
        },
        "id": "qOUAQZiXBwGQ",
        "outputId": "d1c695d2-f92c-4401-a70b-a090ce1ddd8c"
      },
      "id": "qOUAQZiXBwGQ",
      "execution_count": null,
      "outputs": [
        {
          "output_type": "stream",
          "name": "stdout",
          "text": [
            "Class Distribution in Training Set:\n",
            "medical_specialty\n",
            "Surgery                       0.499139\n",
            "Cardiovascular / Pulmonary    0.170396\n",
            "Radiology                     0.125072\n",
            "Gastroenterology              0.102697\n",
            "Neurology                     0.102697\n",
            "Name: proportion, dtype: float64\n",
            "\n",
            "Class Distribution in Testing Set:\n",
            "medical_specialty\n",
            "Surgery                       0.500000\n",
            "Cardiovascular / Pulmonary    0.169725\n",
            "Radiology                     0.126147\n",
            "Gastroenterology              0.103211\n",
            "Neurology                     0.100917\n",
            "Name: proportion, dtype: float64\n"
          ]
        }
      ]
    },
    {
      "cell_type": "markdown",
      "source": [
        "### Group By Train Test Split"
      ],
      "metadata": {
        "id": "gc6B5knxCW44"
      },
      "id": "gc6B5knxCW44"
    },
    {
      "cell_type": "code",
      "source": [
        "# Create a balanced dataset with equal samples per class\n",
        "grouped_data = medical_reports.groupby(\"medical_specialty\").sample(110, random_state=42)\n",
        "\n",
        "# Further split into validation and test sets (5 samples per class for each)\n",
        "val_test_data = grouped_data.groupby(\"medical_specialty\").sample(10, random_state=42)\n",
        "val = val_test_data.groupby(\"medical_specialty\").head(5)\n",
        "test = val_test_data.groupby(\"medical_specialty\").tail(5)\n",
        "\n",
        "# Use remaining data for training\n",
        "train = grouped_data[~grouped_data.index.isin(val_test_data.index)]\n",
        "\n",
        "# Check the distribution in each set\n",
        "print(\"Training set class distribution:\\n\", train[\"medical_specialty\"].value_counts())\n",
        "print(\"\\nValidation set class distribution:\\n\", val[\"medical_specialty\"].value_counts())\n",
        "print(\"\\nTest set class distribution:\\n\", test[\"medical_specialty\"].value_counts())"
      ],
      "metadata": {
        "colab": {
          "base_uri": "https://localhost:8080/"
        },
        "id": "oNlqmwiOCfJO",
        "outputId": "52e194cf-75ec-4355-faee-a6e45d6a4ee7"
      },
      "id": "oNlqmwiOCfJO",
      "execution_count": null,
      "outputs": [
        {
          "output_type": "stream",
          "name": "stdout",
          "text": [
            "Training set class distribution:\n",
            " medical_specialty\n",
            "Cardiovascular / Pulmonary    100\n",
            "Gastroenterology              100\n",
            "Neurology                     100\n",
            "Radiology                     100\n",
            "Surgery                       100\n",
            "Name: count, dtype: int64\n",
            "\n",
            "Validation set class distribution:\n",
            " medical_specialty\n",
            "Cardiovascular / Pulmonary    5\n",
            "Gastroenterology              5\n",
            "Neurology                     5\n",
            "Radiology                     5\n",
            "Surgery                       5\n",
            "Name: count, dtype: int64\n",
            "\n",
            "Test set class distribution:\n",
            " medical_specialty\n",
            "Cardiovascular / Pulmonary    5\n",
            "Gastroenterology              5\n",
            "Neurology                     5\n",
            "Radiology                     5\n",
            "Surgery                       5\n",
            "Name: count, dtype: int64\n"
          ]
        }
      ]
    },
    {
      "cell_type": "markdown",
      "source": [
        "### Token Counts"
      ],
      "metadata": {
        "id": "lV7JE1N8_laS"
      },
      "id": "lV7JE1N8_laS"
    },
    {
      "cell_type": "code",
      "source": [
        "# !pip install tiktoken"
      ],
      "metadata": {
        "id": "mBpkRZ6x_cM4"
      },
      "id": "mBpkRZ6x_cM4",
      "execution_count": null,
      "outputs": []
    },
    {
      "cell_type": "code",
      "execution_count": null,
      "id": "fd3c8893",
      "metadata": {
        "id": "fd3c8893"
      },
      "outputs": [],
      "source": [
        "# 3. Average, minimum, and maximum report length (in tokens, not words).\n",
        "# This is important due to token limitations and also to estimate the price.\n",
        "# Let's calculate the tokens for OpenAI's cheapest model, babbage-002\n",
        "import tiktoken\n",
        "\n",
        "def num_tokens_from_string(string: str) -> int:\n",
        "    \"\"\"Returns the number of tokens in a text string.\n",
        "    (https://cookbook.openai.com/examples/how_to_count_tokens_with_tiktoken)\"\"\"\n",
        "    encoding = tiktoken.get_encoding(\"cl100k_base\")  # encoding for currently all models\n",
        "    num_tokens = len(encoding.encode(string))\n",
        "    return num_tokens"
      ]
    },
    {
      "cell_type": "code",
      "execution_count": null,
      "id": "15e4e89d",
      "metadata": {
        "id": "15e4e89d",
        "outputId": "89168c0a-215b-46c6-d595-ed1792eebf9e",
        "colab": {
          "base_uri": "https://localhost:8080/"
        }
      },
      "outputs": [
        {
          "output_type": "stream",
          "name": "stdout",
          "text": [
            "Average report length: 674.79 tokens\n",
            "Minimum report length: 14 tokens\n",
            "Maximum report length: 3701 tokens\n",
            "# The training dataset consists of: 337394 tokens\n"
          ]
        }
      ],
      "source": [
        "report_lengths = train['report'].apply(lambda x: num_tokens_from_string(x))\n",
        "avg_report_length = report_lengths.mean()\n",
        "min_report_length = report_lengths.min()\n",
        "max_report_length = report_lengths.max()\n",
        "report_length_sum = report_lengths.sum()\n",
        "\n",
        "print(f\"Average report length: {avg_report_length:.2f} tokens\")\n",
        "print(f\"Minimum report length: {min_report_length} tokens\")\n",
        "print(f\"Maximum report length: {max_report_length} tokens\")\n",
        "print(f\"# The training dataset consists of: {report_length_sum} tokens\")\n"
      ]
    },
    {
      "cell_type": "code",
      "execution_count": null,
      "id": "0c914a34",
      "metadata": {
        "id": "0c914a34",
        "outputId": "2c450c47-8313-477d-f48b-798d66c9d9ef",
        "colab": {
          "base_uri": "https://localhost:8080/"
        }
      },
      "outputs": [
        {
          "output_type": "stream",
          "name": "stdout",
          "text": [
            "Fine-tuning of gpt-3.5-turbo costs ~ $2.70 per epoch\n"
          ]
        }
      ],
      "source": [
        "price_model = 0.0080   # Price for gpt-3.5-turbo per 1K tokens\n",
        "model = \"gpt-3.5-turbo\"\n",
        "price_per_epoch = (report_length_sum / 1000) * price_model\n",
        "print(f\"Fine-tuning of {model} costs ~ ${price_per_epoch:.2f} per epoch\")"
      ]
    },
    {
      "cell_type": "markdown",
      "id": "071b9bd9",
      "metadata": {
        "id": "071b9bd9"
      },
      "source": [
        "### Role of System, User, Assistant\n",
        "\n",
        "Understanding the **roles of system, user, and assistant** in prompts is key to structuring effective interactions with language models, especially as we prepare data for tuning or fine-tuning. These roles guide the model’s behavior and help ensure it interprets each part of the conversation as intended.\n",
        "\n",
        "We can rearrange the dataset into the necessary format in order to start the fine tuning job. The format is as follows:\n",
        "\n",
        "```python\n",
        "system_prompt = \"Given the medical description report, classify it into one of these categories: \" + \\\n",
        "                \"[Cardiovascular / Pulmonary, Gastroenterology, Neurology, Radiology, Surgery]\"\n",
        "\n",
        "sample_prompt = {\n",
        "    \"messages\": [\n",
        "        {\"role\": \"system\", \"content\": system_prompt},\n",
        "        {\"role\": \"user\", \"content\": train[\"report\"].iloc[0]},\n",
        "        {\"role\": \"assistant\", \"content\": train[\"medical_specialty\"].iloc[0]}\n",
        "    ]\n",
        "}\n",
        "\n",
        "```\n",
        "\n",
        "---\n",
        "\n",
        "### Key Roles in a Language Model Interaction\n",
        "\n",
        "1. **System Role**:\n",
        "   - **Purpose**: The system message sets the overarching **instructions and constraints** for the conversation. It defines the model’s role, establishes context, and specifies the task.\n",
        "   - **Importance**: The system prompt frames the model’s behavior and focus, acting like a “guide” for the session. By specifying the categories here, you’re directing the model’s attention to specific topics, which is especially useful for fine-tuning the model to a task, like classifying medical reports.\n",
        "\n",
        "   - **Example**:\n",
        "     ```json\n",
        "     {\"role\": \"system\", \"content\": \"Given the medical description report, classify it into one of these categories: [Cardiovascular / Pulmonary, Gastroenterology, Neurology, Radiology, Surgery]\"}\n",
        "     ```\n",
        "\n",
        "2. **User Role**:\n",
        "   - **Purpose**: This message simulates the **input from the user** (often the task prompt or query). It asks the model to perform a specific action within the context set by the system.\n",
        "   - **Importance**: Clearly structuring user inputs is crucial, as it enables the model to focus on the provided information or question and respond accurately. For fine-tuning, this role allows you to provide the model with various inputs that it needs to classify, ensuring the model learns to interpret diverse user inputs correctly.\n",
        "\n",
        "   - **Example**:\n",
        "     ```json\n",
        "     {\"role\": \"user\", \"content\": \"1. The left ventricular cavity size and wall thickness appear normal. The wall motion and left ventricular systolic function are normal.\"}\n",
        "     ```\n",
        "\n",
        "3. **Assistant Role**:\n",
        "   - **Purpose**: This role represents the model’s **response** to the user’s query or input. For classification tasks, it provides the **predicted label or category**.\n",
        "   - **Importance**: In fine-tuning, using the assistant role to define expected outputs (labels) teaches the model the correct way to respond to specific inputs. This structured output format helps the model learn the exact classification for each medical report, as guided by the user input and system context.\n",
        "\n",
        "   - **Example**:\n",
        "     ```json\n",
        "     {\"role\": \"assistant\", \"content\": \"Cardiovascular / Pulmonary\"}\n",
        "     ```\n",
        "\n",
        "---\n",
        "\n",
        "### Importance of These Roles in Fine-Tuning\n",
        "\n",
        "1. **Role-Specific Behavior**:\n",
        "   - Each role’s unique purpose helps the model differentiate between instructions (system), user queries (user), and its own expected output (assistant). This distinction is essential for tasks like classification because the model needs to understand that the assistant role specifically represents the output class label.\n",
        "   \n",
        "2. **Structured Data for Consistency**:\n",
        "   - When prepping data for fine-tuning, organizing each sample in `{role: content}` format makes it clear what each part of the prompt represents. This structure allows the model to consistently learn from each input-output pair.\n",
        "\n",
        "3. **Model Instruction**:\n",
        "   - By using a system prompt, you guide the model on **how to behave in each session**, setting clear boundaries and expectations for task-specific responses. For example, specifying the categories directly in the system prompt reinforces that the assistant’s role is to classify inputs into those specific medical specialties.\n",
        "\n"
      ]
    },
    {
      "cell_type": "code",
      "execution_count": null,
      "id": "6a0489e4",
      "metadata": {
        "id": "6a0489e4",
        "colab": {
          "base_uri": "https://localhost:8080/"
        },
        "outputId": "173d497f-6267-47bd-bc8c-8706a59dd805"
      },
      "outputs": [
        {
          "output_type": "stream",
          "name": "stdout",
          "text": [
            "{'messages': [{'role': 'system', 'content': 'Given the medical description report, classify it into one of these categories: [Cardiovascular / Pulmonary, Gastroenterology, Neurology, Radiology, Surgery]'}, {'role': 'user', 'content': \"PREOPERATIVE DIAGNOSES:,1.  Lumbar osteomyelitis.,2.  Need for durable central intravenous access.,POSTOPERATIVE DIAGNOSES:,1.  Lumbar osteomyelitis.,2.  Need for durable central intravenous access.,ANESTHESIA:,  General.,PROCEDURE:,  Placement of left subclavian 4-French Broviac catheter.,INDICATIONS:  ,The patient is a toddler admitted with a limp and back pain, who was eventually found on bone scan and septic workup to have probable osteomyelitis of the lumbar spine at disk areas.  The patient needs prolonged IV antibiotic therapy, but attempt at a PICC line failed.  She has exhausted most of her easy peripheral IV access routes and referral was made to the Pediatric Surgery Service for Broviac placement.  I met with the patient's mom.  With the help of a Spanish interpreter, I explained the technique for Broviac placement.  We discussed the surgical risks and alternatives, most of which have been exhausted.  All their questions have been answered, and the patient is fit for operation today.,DESCRIPTION OF OPERATION:  ,The patient came to the operating room and had an uneventful induction of general anesthesia.  We conducted a surgical time-out to reiterate all of the patient's important identifying information and to confirm that we were here to place the Broviac catheter.  Preparation and draping of her skin was performed with chlorhexidine based prep solution and then an infraclavicular approach to left subclavian vein was performed.  A flexible guidewire was inserted into the central location and then a 4-French Broviac catheter was tunneled through the subcutaneous tissues and exiting on the right anterolateral chest wall well below and lateral to the breast and pectoralis major margins.  The catheter was brought to the subclavian insertion site and trimmed so that the tip would lie at the junction of the superior vena cava and right atrium based on fluoroscopic guidelines.  The peel-away sheath was passed over the guidewire and then the 4-French catheter was deployed through the peel-away sheath.  There was easy blood return and fluoroscopic imaging showed initially the catheter had transited across the mediastinum up the opposite subclavian vein, then it was withdrawn and easily replaced in the superior vena cava.  The catheter insertion site was closed with one buried 5-0 Monocryl stitch and the same 5-0 Monocryl was used to tether the catheter at the exit site until fibrous ingrowth of the attached cuff has occurred.  Heparinized saline solution was used to flush the line.  A sterile occlusive dressing was applied, and the line was prepared for immediate use.  The patient was transported to the recovery room in good condition.  There were no intraoperative complications, and her blood loss was between 5 and 10 mL during the line placement portion of the procedure.\"}, {'role': 'assistant', 'content': 'Cardiovascular / Pulmonary'}]}\n"
          ]
        }
      ],
      "source": [
        "system_prompt = \"Given the medical description report, classify it into one of these categories: \" + \\\n",
        "                 \"[Cardiovascular / Pulmonary, Gastroenterology, Neurology, Radiology, Surgery]\"\n",
        "\n",
        "sample_prompt = {\"messages\": [{\"role\": \"system\", \"content\": system_prompt},\n",
        "                              {\"role\": \"user\", \"content\": train[\"report\"].iloc[0]},\n",
        "                              {\"role\": \"assistant\", \"content\": train[\"medical_specialty\"].iloc[0]}]}\n",
        "\n",
        "print(sample_prompt)"
      ]
    },
    {
      "cell_type": "markdown",
      "id": "2cd89b94",
      "metadata": {
        "id": "2cd89b94"
      },
      "source": [
        "## Data Formtting Function\n",
        "\n",
        "### Explanation of What `df_to_format` Is Doing\n",
        "\n",
        "1. **Creates an Empty List**: Initializes `formatted_data` as an empty list to hold each formatted entry.\n",
        "2. **Iterates Over DataFrame Rows**: Loops through each row in the DataFrame using `df.iterrows()`.\n",
        "3. **Formats Each Entry**:\n",
        "   - For each row, it creates a dictionary `entry` with a `\"messages\"` key.\n",
        "   - Inside `\"messages\"`, it adds:\n",
        "     - The **system message** (defining the task),\n",
        "     - The **user message** (containing the report text),\n",
        "     - The **assistant message** (with the correct classification).\n",
        "4. **Appends to the List**: Adds each `entry` to `formatted_data`, creating a list of entries in the desired format.\n",
        "\n",
        "### Explanation of List Comprehension\n",
        "\n",
        "The list comprehension goes through each row in `df`, creating a dictionary `entry` in the specified format. Each entry contains:\n",
        "- **`system_message`**: Defines the overall task context once for all entries.\n",
        "- **User and Assistant Messages**: Each entry’s `report` and `medical_specialty` from the row, respectively.\n",
        "\n",
        "The underscore `_` in `for _, row in df.iterrows()` is a **placeholder** used to indicate that we’re ignoring the first value returned by `iterrows()`.\n",
        "\n",
        "### Explanation\n",
        "\n",
        "When you call `df.iterrows()`, each iteration returns:\n",
        "1. The **index** of the row.\n",
        "2. A **Series object** representing the row itself.\n",
        "\n",
        "```python\n",
        "for index, row in df.iterrows():\n",
        "    # `index` is the index of the row\n",
        "    # `row` is the Series representing the row's data\n",
        "```\n",
        "\n",
        "In this case, you’re not using the `index` in the loop, so it’s conventional to use `_` as a placeholder to signify that the variable is intentionally ignored. This helps make the code clearer by showing readers that the index isn’t needed.\n",
        "\n",
        "### Example\n",
        "\n",
        "```python\n",
        "# This means we are intentionally ignoring the index\n",
        "for _, row in df.iterrows():\n",
        "    print(row)  # Only working with `row` here, not the index\n",
        "```\n",
        "\n",
        "Using `_` in this way is a common Python practice to make it clear that a variable or value isn’t being used.\n",
        "\n",
        "### Final Code Example\n",
        "\n",
        "You can now call `df_to_format(medical_reports, system_prompt)`, and it will return a list of formatted data, where each entry looks like this:\n",
        "\n",
        "```json\n",
        "{\n",
        "    \"messages\": [\n",
        "        {\"role\": \"system\", \"content\": \"Given the medical description report, classify it into one of these categories: [Cardiovascular / Pulmonary, Gastroenterology, Neurology, Radiology, Surgery]\"},\n",
        "        {\"role\": \"user\", \"content\": \"2-D M-MODE: Left atrial enlargement with left atrial diameter of 4.7 cm.\"},\n",
        "        {\"role\": \"assistant\", \"content\": \"Cardiovascular / Pulmonary\"}\n",
        "    ]\n",
        "}\n",
        "```"
      ]
    },
    {
      "cell_type": "code",
      "source": [
        "def df_to_format(df, system_prompt):\n",
        "    # Define the system message outside the loop as it is constant\n",
        "    system_message = {\"role\": \"system\", \"content\": system_prompt}\n",
        "\n",
        "    # Use list comprehension to build the formatted data\n",
        "    formatted_data = [\n",
        "        {\n",
        "            \"messages\": [\n",
        "                system_message,\n",
        "                {\"role\": \"user\", \"content\": row[\"report\"]},\n",
        "                {\"role\": \"assistant\", \"content\": row[\"medical_specialty\"]}\n",
        "            ]\n",
        "        }\n",
        "        for _, row in df.iterrows()\n",
        "    ]\n",
        "\n",
        "    return formatted_data\n"
      ],
      "metadata": {
        "id": "v17AggfvEJkV"
      },
      "id": "v17AggfvEJkV",
      "execution_count": null,
      "outputs": []
    },
    {
      "cell_type": "markdown",
      "source": [
        "### Format Data for Tuning"
      ],
      "metadata": {
        "id": "emi2UdSsPiz_"
      },
      "id": "emi2UdSsPiz_"
    },
    {
      "cell_type": "code",
      "execution_count": null,
      "id": "fc29fbfd",
      "metadata": {
        "id": "fc29fbfd",
        "outputId": "d013b6ea-59b4-459c-aee1-7809513d15d2",
        "colab": {
          "base_uri": "https://localhost:8080/"
        }
      },
      "outputs": [
        {
          "output_type": "stream",
          "name": "stdout",
          "text": [
            "Sample Formatted Entry:\n",
            "{\n",
            "    \"messages\": [\n",
            "        {\n",
            "            \"role\": \"system\",\n",
            "            \"content\": \"Given the medical description report, classify it into one of these categories: [Cardiovascular / Pulmonary, Gastroenterology, Neurology, Radiology, Surgery]\"\n",
            "        },\n",
            "        {\n",
            "            \"role\": \"user\",\n",
            "            \"content\": \"PREOPERATIVE DIAGNOSES:,1.  Lumbar osteomyelitis.,2.  Need for durable central intravenous access.,POSTOPERATIVE DIAGNOSES:,1.  Lumbar osteomyelitis.,2.  Need for durable central intravenous access.,ANESTHESIA:,  General.,PROCEDURE:,  Placement of left subclavian 4-French Broviac catheter.,INDICATIONS:  ,The patient is a toddler admitted with a limp and back pain, who was eventually found on bone scan and septic workup to have probable osteomyelitis of the lumbar spine at disk areas.  The patient needs prolonged IV antibiotic therapy, but attempt at a PICC line failed.  She has exhausted most of her easy peripheral IV access routes and referral was made to the Pediatric Surgery Service for Broviac placement.  I met with the patient's mom.  With the help of a Spanish interpreter, I explained the technique for Broviac placement.  We discussed the surgical risks and alternatives, most of which have been exhausted.  All their questions have been answered, and the patient is fit for operation today.,DESCRIPTION OF OPERATION:  ,The patient came to the operating room and had an uneventful induction of general anesthesia.  We conducted a surgical time-out to reiterate all of the patient's important identifying information and to confirm that we were here to place the Broviac catheter.  Preparation and draping of her skin was performed with chlorhexidine based prep solution and then an infraclavicular approach to left subclavian vein was performed.  A flexible guidewire was inserted into the central location and then a 4-French Broviac catheter was tunneled through the subcutaneous tissues and exiting on the right anterolateral chest wall well below and lateral to the breast and pectoralis major margins.  The catheter was brought to the subclavian insertion site and trimmed so that the tip would lie at the junction of the superior vena cava and right atrium based on fluoroscopic guidelines.  The peel-away sheath was passed over the guidewire and then the 4-French catheter was deployed through the peel-away sheath.  There was easy blood return and fluoroscopic imaging showed initially the catheter had transited across the mediastinum up the opposite subclavian vein, then it was withdrawn and easily replaced in the superior vena cava.  The catheter insertion site was closed with one buried 5-0 Monocryl stitch and the same 5-0 Monocryl was used to tether the catheter at the exit site until fibrous ingrowth of the attached cuff has occurred.  Heparinized saline solution was used to flush the line.  A sterile occlusive dressing was applied, and the line was prepared for immediate use.  The patient was transported to the recovery room in good condition.  There were no intraoperative complications, and her blood loss was between 5 and 10 mL during the line placement portion of the procedure.\"\n",
            "        },\n",
            "        {\n",
            "            \"role\": \"assistant\",\n",
            "            \"content\": \"Cardiovascular / Pulmonary\"\n",
            "        }\n",
            "    ]\n",
            "}\n"
          ]
        }
      ],
      "source": [
        "import json\n",
        "\n",
        "# Format the data\n",
        "data = df_to_format(train, system_prompt)\n",
        "\n",
        "# Print the first entry in a readable JSON format\n",
        "print(\"Sample Formatted Entry:\")\n",
        "print(json.dumps(data[0], indent=4))\n"
      ]
    },
    {
      "cell_type": "markdown",
      "id": "a72bce32",
      "metadata": {
        "id": "a72bce32"
      },
      "source": [
        "### Save to JSONL File\n",
        "\n",
        "### Explanation of the Code\n",
        "\n",
        "1. **`open('fine_tuning_data.jsonl', 'w')`**:\n",
        "   - Opens (or creates) a file named `fine_tuning_data.jsonl` in **write mode** (`'w'`).\n",
        "   - `jsonl` format (JSON Lines) is a convenient format for large datasets, where each line contains a single JSON object, making it easy to read and process line-by-line.\n",
        "\n",
        "2. **Loop Through `data`**:\n",
        "   - Iterates over each `entry` in `data`, where each `entry` is a dictionary in the required format.\n",
        "\n",
        "3. **`json.dumps(entry)`**:\n",
        "   - Converts the `entry` dictionary to a JSON-formatted string.\n",
        "\n",
        "4. **`f.write(...)`**:\n",
        "   - Writes each JSON string to the file, followed by a newline character (`\\n`), ensuring each `entry` is saved on a separate line.\n",
        "\n",
        "### Result\n",
        "\n",
        "The resulting file, `fine_tuning_data.jsonl`, will contain each formatted training entry on its own line. This is useful for fine-tuning since many libraries and tools can read data line-by-line from a JSON Lines file.\n",
        "\n",
        "### Example Output (in the `.jsonl` file)\n",
        "\n",
        "Each line in the file will look like this:\n",
        "\n",
        "```json\n",
        "{\"messages\": [{\"role\": \"system\", \"content\": \"Given the medical description report, classify it into one of these categories: [Cardiovascular / Pulmonary, Gastroenterology, Neurology, Radiology, Surgery]\"}, {\"role\": \"user\", \"content\": \"2-D M-MODE: Left atrial enlargement with left atrial diameter of 4.7 cm.\"}, {\"role\": \"assistant\", \"content\": \"Cardiovascular / Pulmonary\"}]}\n",
        "{\"messages\": [{\"role\": \"system\", \"content\": \"Given the medical description report, classify it into one of these categories: [Cardiovascular / Pulmonary, Gastroenterology, Neurology, Radiology, Surgery]\"}, {\"role\": \"user\", \"content\": \"The left ventricular cavity size and wall thickness appear normal.\"}, {\"role\": \"assistant\", \"content\": \"Cardiovascular / Pulmonary\"}]}\n",
        "...\n",
        "```\n",
        "\n",
        "Each line represents a standalone JSON object, making it straightforward for processing tools to read each entry independently.\n",
        "\n"
      ]
    },
    {
      "cell_type": "code",
      "execution_count": null,
      "id": "3835b710",
      "metadata": {
        "id": "3835b710"
      },
      "outputs": [],
      "source": [
        "with open('fine_tuning_data.jsonl', 'w') as f:\n",
        "    for entry in data:\n",
        "        f.write(json.dumps(entry))\n",
        "        f.write(\"\\n\")"
      ]
    },
    {
      "cell_type": "markdown",
      "id": "8effe23c",
      "metadata": {
        "id": "8effe23c"
      },
      "source": [
        "### Val Data\n",
        "Let's perform the same operation for the validation data"
      ]
    },
    {
      "cell_type": "code",
      "execution_count": null,
      "id": "00c1cb73",
      "metadata": {
        "id": "00c1cb73"
      },
      "outputs": [],
      "source": [
        "val_data = df_to_format(val, system_prompt)\n",
        "\n",
        "import json\n",
        "with open('fine_tuning_data_val.jsonl', 'w') as f:\n",
        "    for entry in val_data:\n",
        "        f.write(json.dumps(entry))\n",
        "        f.write(\"\\n\")"
      ]
    },
    {
      "cell_type": "code",
      "source": [],
      "metadata": {
        "id": "z4tds8xTAOlz"
      },
      "id": "z4tds8xTAOlz",
      "execution_count": null,
      "outputs": []
    }
  ],
  "metadata": {
    "kernelspec": {
      "display_name": "Python 3 (ipykernel)",
      "language": "python",
      "name": "python3"
    },
    "language_info": {
      "codemirror_mode": {
        "name": "ipython",
        "version": 3
      },
      "file_extension": ".py",
      "mimetype": "text/x-python",
      "name": "python",
      "nbconvert_exporter": "python",
      "pygments_lexer": "ipython3",
      "version": "3.9.0"
    },
    "colab": {
      "provenance": [],
      "toc_visible": true,
      "include_colab_link": true
    }
  },
  "nbformat": 4,
  "nbformat_minor": 5
}