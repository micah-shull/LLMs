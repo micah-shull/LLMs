{
  "cells": [
    {
      "cell_type": "markdown",
      "metadata": {
        "id": "view-in-github",
        "colab_type": "text"
      },
      "source": [
        "<a href=\"https://colab.research.google.com/github/micah-shull/LLMs/blob/main/LLM_002_api_keys_environment.ipynb\" target=\"_parent\"><img src=\"https://colab.research.google.com/assets/colab-badge.svg\" alt=\"Open In Colab\"/></a>"
      ]
    },
    {
      "cell_type": "markdown",
      "source": [
        "### Install Libraries"
      ],
      "metadata": {
        "id": "NrJwnntWLwcj"
      },
      "id": "NrJwnntWLwcj"
    },
    {
      "cell_type": "code",
      "source": [
        "# !pip install python-dotenv\n",
        "# !pip install openai\n",
        "# !pip install google-generativeai\n",
        "# !pip install anthropic"
      ],
      "metadata": {
        "id": "VENi5mnfLmdA"
      },
      "id": "VENi5mnfLmdA",
      "execution_count": 2,
      "outputs": []
    },
    {
      "cell_type": "markdown",
      "source": [
        "### Import Libraries"
      ],
      "metadata": {
        "id": "ahuJXJzqL2CJ"
      },
      "id": "ahuJXJzqL2CJ"
    },
    {
      "cell_type": "code",
      "execution_count": null,
      "id": "de23bb9e-37c5-4377-9a82-d7b6c648eeb6",
      "metadata": {
        "id": "de23bb9e-37c5-4377-9a82-d7b6c648eeb6"
      },
      "outputs": [],
      "source": [
        "import os\n",
        "from dotenv import load_dotenv\n",
        "from openai import OpenAI\n",
        "import google.generativeai\n",
        "import anthropic\n",
        "from IPython.display import Markdown, display, update_display"
      ]
    },
    {
      "cell_type": "markdown",
      "id": "85cfe275-4705-4d30-abea-643fbddf1db0",
      "metadata": {
        "id": "85cfe275-4705-4d30-abea-643fbddf1db0"
      },
      "source": [
        "\n",
        "\n",
        "## Setting up your API Keys\n",
        "\n",
        "If you haven't done so already, you'll need to create API keys from OpenAI, Anthropic and Google.\n",
        "\n",
        "For OpenAI, visit https://openai.com/api/  \n",
        "For Anthropic, visit https://console.anthropic.com/  \n",
        "For Google, visit https://ai.google.dev/gemini-api  \n",
        "\n",
        "When you get your API keys, you need to set them as environment variables.\n",
        "\n",
        "EITHER (recommended) create a file called `.env` in this project root directory, and set your keys there:\n",
        "\n",
        "```\n",
        "OPENAI_API_KEY=xxxx\n",
        "ANTHROPIC_API_KEY=xxxx\n",
        "GOOGLE_API_KEY=xxxx\n",
        "```\n"
      ]
    },
    {
      "cell_type": "markdown",
      "source": [
        "### Write API Keys to .env file"
      ],
      "metadata": {
        "id": "d-WCsOlOM2Sl"
      },
      "id": "d-WCsOlOM2Sl"
    },
    {
      "cell_type": "code",
      "source": [
        "# Path to the .env file\n",
        "env_file_path = '/content/API_KEYS.env' # naming file makes it visible, no name makes it hidden\n",
        "\n",
        "# Your OpenAI API key\n",
        "OPEN_API_KEY = \"sk-proj-mfl7r6HDybev5pVz7ZoID####\"\n",
        "ANTHROPIC_API_KEY = \"sk-ant-api03-NX48d233oXp#####\"\n",
        "GOOGLE_API_KEY = \"AIzaSyDh3aiDLXfkJ5Fi5bVXz08#####\"\n",
        "\n",
        "# Create the .env file and write the API keys\n",
        "with open(env_file_path, 'w') as f:\n",
        "    f.write(f\"OPENAI_API_KEY={OPEN_API_KEY}\\n\")\n",
        "    f.write(f\"ANTHROPIC_API_KEY={ANTHROPIC_API_KEY}\\n\")\n",
        "    f.write(f\"GOOGLE_API_KEY={GOOGLE_API_KEY}\\n\")\n",
        "\n",
        "print(f\".env file created at: {env_file_path}\")\n",
        "# List all files (including hidden ones) in the /content/ folder\n",
        "!ls -la /content/"
      ],
      "metadata": {
        "colab": {
          "base_uri": "https://localhost:8080/"
        },
        "id": "r485BG31MzeG",
        "outputId": "3d593290-c02f-43ec-efb8-4fc3bfd86edf"
      },
      "id": "r485BG31MzeG",
      "execution_count": null,
      "outputs": [
        {
          "output_type": "stream",
          "name": "stdout",
          "text": [
            ".env file created at: /content/API_KEYS.env\n",
            "total 20\n",
            "drwxr-xr-x 1 root root 4096 Oct 24 12:26 .\n",
            "drwxr-xr-x 1 root root 4096 Oct 24 12:24 ..\n",
            "-rw-r--r-- 1 root root  362 Oct 24 12:27 API_KEYS.env\n",
            "drwxr-xr-x 4 root root 4096 Oct 22 13:26 .config\n",
            "drwxr-xr-x 1 root root 4096 Oct 22 13:26 sample_data\n"
          ]
        }
      ]
    },
    {
      "cell_type": "markdown",
      "source": [
        "### Load Environment Variables"
      ],
      "metadata": {
        "id": "-DBMss9vQ1Iy"
      },
      "id": "-DBMss9vQ1Iy"
    },
    {
      "cell_type": "code",
      "source": [
        "# Load the environment variables from the .env file\n",
        "load_dotenv('/content/API_KEYS.env')  # Ensure this is the correct path to your file\n",
        "\n",
        "# Get the API keys from the environment\n",
        "openai_api_key = os.getenv(\"OPENAI_API_KEY\")\n",
        "anthropic_api_key = os.getenv(\"ANTHROPIC_API_KEY\")\n",
        "google_api_key = os.getenv(\"GOOGLE_API_KEY\")\n",
        "\n",
        "# Check if the keys are loaded correctly and print a portion of them\n",
        "if openai_api_key:\n",
        "    print(f\"OpenAI API Key loaded: {openai_api_key[0:10]}...\")  # Only print part of the key\n",
        "else:\n",
        "    print(\"OpenAI API key not loaded correctly.\")\n",
        "\n",
        "if anthropic_api_key:\n",
        "    print(f\"Anthropic API Key loaded: {anthropic_api_key[0:10]}...\")\n",
        "else:\n",
        "    print(\"Anthropic API key not loaded correctly.\")\n",
        "\n",
        "if google_api_key:\n",
        "    print(f\"Google API Key loaded: {google_api_key[0:10]}...\")\n",
        "else:\n",
        "    print(\"Google API key not loaded correctly.\")"
      ],
      "metadata": {
        "colab": {
          "base_uri": "https://localhost:8080/"
        },
        "id": "GHozblbHf8Ke",
        "outputId": "b44df63f-0531-44f4-dd0e-9776b1c853fa"
      },
      "id": "GHozblbHf8Ke",
      "execution_count": null,
      "outputs": [
        {
          "output_type": "stream",
          "name": "stdout",
          "text": [
            "OpenAI API Key loaded: sk-proj-mf...\n",
            "Anthropic API Key loaded: sk-ant-api...\n",
            "Google API Key loaded: AIzaSyDh3a...\n"
          ]
        }
      ]
    },
    {
      "cell_type": "code",
      "execution_count": null,
      "id": "1179b4c5-cd1f-4131-a876-4c9f3f38d2ba",
      "metadata": {
        "id": "1179b4c5-cd1f-4131-a876-4c9f3f38d2ba"
      },
      "outputs": [],
      "source": [
        "# load_dotenv()\n",
        "# os.environ['OPENAI_API_KEY'] = os.getenv('OPENAI_API_KEY')\n",
        "# # os.environ['ANTHROPIC_API_KEY'] = os.getenv('ANTHROPIC_API_KEY')\n",
        "# # os.environ['GOOGLE_API_KEY'] = os.getenv('GOOGLE_API_KEY')\n",
        "\n",
        "import openai\n",
        "import anthropic\n",
        "import google.generativeai\n",
        "\n",
        "# Connect to OpenAI\n",
        "openai.api_key = openai_api_key  # Set OpenAI API key\n",
        "\n",
        "# Connect to Anthropic (Claude)\n",
        "claude = anthropic.Anthropic(api_key=anthropic_api_key)  # Set Anthropic API key\n",
        "\n",
        "# Connect to Google Generative AI\n",
        "google.generativeai.configure(api_key=google_api_key)  # Set Google API key"
      ]
    },
    {
      "cell_type": "markdown",
      "source": [
        "Let’s break down what **environment variables**, `os.environ`, and `os.getenv()` do, and why they are crucial for managing configuration, particularly API keys and sensitive information.\n",
        "\n",
        "### What is an Environment?\n",
        "\n",
        "In computing, the **environment** refers to a set of variables that are defined in the operating system or runtime, which programs can access during execution. These variables typically contain configuration information such as file paths, system preferences, or API keys.\n",
        "\n",
        "Environment variables allow programs to access system settings without hardcoding values into the program itself. These variables are often used to configure settings across different environments (development, testing, production) without changing the source code.\n",
        "\n",
        "### What is `os.environ`?\n",
        "\n",
        "`os.environ` is a **dictionary-like object** provided by Python's `os` module that allows you to interact with environment variables.\n",
        "\n",
        "- **Keys** in `os.environ` represent the names of the environment variables.\n",
        "- **Values** in `os.environ` represent the actual data stored in those environment variables (e.g., API keys, configuration values).\n",
        "\n",
        "#### Example:\n",
        "```python\n",
        "import os\n",
        "\n",
        "# Access an environment variable\n",
        "api_key = os.environ['OPENAI_API_KEY']\n",
        "print(api_key)\n",
        "```\n",
        "- In this case, `os.environ['OPENAI_API_KEY']` retrieves the value of the `OPENAI_API_KEY` environment variable from the system’s environment.\n",
        "\n",
        "### What is the Purpose of Environment Variables?\n",
        "\n",
        "1. **Separation of Code and Configuration**: You can store sensitive information, such as API keys, database credentials, or system paths, outside your code, which is critical for security. This makes it easier to manage configuration across environments (e.g., development, staging, production).\n",
        "   \n",
        "2. **Security**: Storing secrets like API keys in environment variables means they won’t be hardcoded into your application’s source code. This helps protect sensitive data from being accidentally shared or exposed in version control systems like GitHub.\n",
        "\n",
        "3. **Portability**: Environment variables make your code more portable across different machines or environments because you don’t have to modify your source code when moving between them. You can simply change the environment variables.\n",
        "\n",
        "### What Does `os.getenv()` Do?\n",
        "\n",
        "`os.getenv()` is a function that retrieves the value of an environment variable.\n",
        "\n",
        "- **`os.getenv('KEY', default_value)`**: It tries to get the value of an environment variable with the name `'KEY'`. If the variable is not found, it returns the **default value** provided as the second argument. If no default value is provided, it returns `None`.\n",
        "\n",
        "#### Example:\n",
        "```python\n",
        "import os\n",
        "\n",
        "# Retrieve an environment variable or use a default value if not found\n",
        "api_key = os.getenv('OPENAI_API_KEY', 'default_key_value')\n",
        "print(api_key)\n",
        "```\n",
        "- Here, if `'OPENAI_API_KEY'` is set in the environment, it returns that value. If not, it returns `'default_key_value'`.\n",
        "\n",
        "### Why Use `os.environ['KEY']`?\n",
        "\n",
        "`os.environ['KEY']` explicitly sets or retrieves an environment variable. It is used when you want to **ensure** that the environment variable exists and directly modify or access environment variables.\n",
        "\n",
        "When you use:\n",
        "```python\n",
        "os.environ['OPENAI_API_KEY'] = os.getenv('OPENAI_API_KEY', 'default_key_value')\n",
        "```\n",
        "- It ensures that the **key** `'OPENAI_API_KEY'` is set in the **current environment**. If it doesn't exist, it defaults to `'default_key_value'`. This approach makes sure that the environment variable is explicitly set and available for future use in your program.\n",
        "\n",
        "### What is `load_dotenv()` and Why Is It Used?\n",
        "\n",
        "`load_dotenv()` is a function from the `python-dotenv` library that loads environment variables from a `.env` file into the system’s environment.\n",
        "\n",
        "- A `.env` file typically contains key-value pairs of environment variables like:\n",
        "  ```\n",
        "  OPENAI_API_KEY=your_openai_api_key\n",
        "  ANTHROPIC_API_KEY=your_anthropic_api_key\n",
        "  GOOGLE_API_KEY=your_google_api_key\n",
        "  ```\n",
        "- **Why use it?**: If you store your API keys and sensitive configuration in a `.env` file, calling `load_dotenv()` makes those variables available as environment variables in your Python program.\n",
        "\n",
        "```python\n",
        "from dotenv import load_dotenv\n",
        "\n",
        "# Load environment variables from a .env file\n",
        "load_dotenv()\n",
        "\n",
        "# Access environment variables as if they were set in the system\n",
        "api_key = os.getenv('OPENAI_API_KEY')\n",
        "```\n",
        "- In this code, `load_dotenv()` reads the `.env` file, making the environment variables accessible via `os.getenv()` or `os.environ` within the script.\n",
        "\n",
        "### Why Are These Steps Needed?\n",
        "\n",
        "1. **`load_dotenv()`**: This loads the environment variables from your `.env` file into your environment, making them available for use within your Python program. Without this, the environment variables in the `.env` file would not be accessible.\n",
        "   \n",
        "2. **`os.getenv(key, default)`**: This retrieves the value of the environment variable with the given `key`. It helps to avoid errors if the environment variable is not set by providing a default value. It’s safer to use this for optional values.\n",
        "\n",
        "3. **`os.environ['KEY']`**: This explicitly sets an environment variable for use in your program. It's useful when you want to ensure a specific key is available as part of the environment for subsequent operations or third-party libraries that may rely on environment variables.\n",
        "\n",
        "### Summary:\n",
        "\n",
        "- **Environment**: A collection of variables (key-value pairs) available to programs at runtime, often used to store configuration information such as API keys, file paths, or system settings.\n",
        "- **`os.environ`**: A dictionary-like object that holds environment variables and allows you to access or modify them.\n",
        "- **`os.getenv()`**: A safe way to retrieve environment variables with the option to provide a default if the variable is not set.\n",
        "- **`load_dotenv()`**: Loads environment variables from a `.env` file into your Python environment, making them accessible through `os.environ` or `os.getenv()`.\n",
        "\n",
        "These steps are crucial for securely managing sensitive data (like API keys) and keeping your code environment-agnostic and portable.\n",
        "\n"
      ],
      "metadata": {
        "id": "su56t9w5OtoL"
      },
      "id": "su56t9w5OtoL"
    },
    {
      "cell_type": "markdown",
      "source": [
        "### Connect to OpenAI, Anthropic and Google"
      ],
      "metadata": {
        "id": "MyD28eFXPD7v"
      },
      "id": "MyD28eFXPD7v"
    },
    {
      "cell_type": "code",
      "execution_count": null,
      "id": "797fe7b0-ad43-42d2-acf0-e4f309b112f0",
      "metadata": {
        "id": "797fe7b0-ad43-42d2-acf0-e4f309b112f0"
      },
      "outputs": [],
      "source": [
        "openai = OpenAI()\n",
        "\n",
        "claude = anthropic.Anthropic()\n",
        "\n",
        "google.generativeai.configure()"
      ]
    },
    {
      "cell_type": "markdown",
      "source": [
        "### Setting up a Connection Explained\n",
        "\n",
        "The code you provided initializes instances of different APIs — **OpenAI**, **Anthropic**, and **Google Generative AI**. Each line is setting up a connection or configuration for the specific API, enabling you to interact with their services in your code. Let's break down what each line does:\n",
        "\n",
        "### 1. **`openai = OpenAI()`**:\n",
        "   - This line **initializes the OpenAI API client**.\n",
        "   - The `OpenAI()` function (assuming you're using the OpenAI SDK) connects your code to OpenAI’s API, allowing you to interact with models like GPT-3, GPT-4, etc.\n",
        "   - To work correctly, it needs your **API key**, which is usually set via environment variables or passed during initialization.\n",
        "   - Once the client is initialized, you can use it to send requests for things like **text generation**, **completions**, or other tasks supported by OpenAI's models.\n",
        "\n",
        "   **What it does**: Prepares your code to interact with the OpenAI API, which might be used later to send requests for language models, embeddings, or other functionalities.\n",
        "\n",
        "---\n",
        "\n",
        "### 2. **`claude = anthropic.Anthropic()`**:\n",
        "   - This line **initializes the Anthropic API client**, specifically for accessing Anthropic's **Claude** language model.\n",
        "   - `anthropic.Anthropic()` is part of Anthropic's Python SDK, and it connects your code to their API, allowing you to interact with models like **Claude**.\n",
        "\n",
        "---\n",
        "\n",
        "### General Flow:\n",
        "1. **Initialization**: Each of these lines initializes the **API clients** for their respective services — OpenAI, Anthropic (Claude), and Google Generative AI.\n",
        "2. **Access to Models**: Once these clients are initialized, you can use them to interact with their models and services. For example, you might make API calls to generate text, complete prompts, or perform other AI-driven tasks.\n",
        "3. **Authentication**: Typically, behind the scenes, these clients require **API keys** or other credentials, which are often stored in environment variables or configured during the setup process. This allows your code to securely interact with the respective APIs.\n",
        "\n"
      ],
      "metadata": {
        "id": "G_L8NPcARZJM"
      },
      "id": "G_L8NPcARZJM"
    },
    {
      "cell_type": "markdown",
      "id": "42f77b59-2fb1-462a-b90d-78994e4cef33",
      "metadata": {
        "id": "42f77b59-2fb1-462a-b90d-78994e4cef33"
      },
      "source": [
        "# Asking LLMs to tell a joke\n",
        "\n",
        "It turns out that LLMs don't do a great job of telling jokes! Let's compare a few models.\n",
        "Later we will be putting LLMs to better use!\n",
        "\n",
        "### What information is included in the API\n",
        "\n",
        "Typically we'll pass to the API:\n",
        "- The name of the model that should be used\n",
        "- A system message that gives overall context for the role the LLM is playing\n",
        "- A user message that provides the actual prompt\n",
        "\n",
        "There are other parameters that can be used, including **temperature** which is typically between 0 and 1; higher for more random output; lower for more focused and deterministic."
      ]
    },
    {
      "cell_type": "code",
      "execution_count": null,
      "id": "378a0296-59a2-45c6-82eb-941344d3eeff",
      "metadata": {
        "id": "378a0296-59a2-45c6-82eb-941344d3eeff"
      },
      "outputs": [],
      "source": [
        "system_message = \"You are an assistant that is great at telling jokes\"\n",
        "user_prompt = \"Tell a bawdy joke for an audience of professional comedians\""
      ]
    },
    {
      "cell_type": "code",
      "execution_count": null,
      "id": "f4d56a0f-2a3d-484d-9344-0efa6862aff4",
      "metadata": {
        "id": "f4d56a0f-2a3d-484d-9344-0efa6862aff4"
      },
      "outputs": [],
      "source": [
        "prompts = [\n",
        "    {\"role\": \"system\", \"content\": system_message},\n",
        "    {\"role\": \"user\", \"content\": user_prompt}\n",
        "  ]"
      ]
    },
    {
      "cell_type": "code",
      "execution_count": null,
      "id": "3d2d6beb-1b81-466f-8ed1-40bf51e7adbf",
      "metadata": {
        "colab": {
          "base_uri": "https://localhost:8080/"
        },
        "id": "3d2d6beb-1b81-466f-8ed1-40bf51e7adbf",
        "outputId": "773c9c5b-6707-4319-e4ef-28f908449a5a"
      },
      "outputs": [
        {
          "output_type": "stream",
          "name": "stdout",
          "text": [
            "Sure, here's a bawdy joke that's a little cheeky:\n",
            "\n",
            "Why did the scarecrow win an award?\n",
            "\n",
            "Because he was outstanding in his field... but he really just wanted to get a little \"straw\" between the sheets! \n",
            "\n",
            "(Just remember, the best punchlines are all about delivery!)\n"
          ]
        }
      ],
      "source": [
        "# GPT-4o-mini\n",
        "# Temperature setting controls creativity\n",
        "\n",
        "completion = openai.chat.completions.create(\n",
        "    model='gpt-4o-mini',\n",
        "    messages=prompts,\n",
        "    temperature=0.7\n",
        ")\n",
        "print(completion.choices[0].message.content)"
      ]
    },
    {
      "cell_type": "code",
      "execution_count": null,
      "id": "f1f54beb-823f-4301-98cb-8b9a49f4ce26",
      "metadata": {
        "colab": {
          "base_uri": "https://localhost:8080/"
        },
        "id": "f1f54beb-823f-4301-98cb-8b9a49f4ce26",
        "outputId": "d490676c-59e2-4ce3-8dc5-953d1330ebab"
      },
      "outputs": [
        {
          "output_type": "stream",
          "name": "stdout",
          "text": [
            "Why don't oysters donate to charity?\n",
            "\n",
            "Because they are shellfish!\n"
          ]
        }
      ],
      "source": [
        "# GPT-4o\n",
        "\n",
        "completion = openai.chat.completions.create(\n",
        "    model='gpt-4o',\n",
        "    messages=prompts,\n",
        "    temperature=0.4\n",
        ")\n",
        "print(completion.choices[0].message.content)"
      ]
    },
    {
      "cell_type": "code",
      "execution_count": null,
      "id": "2618c3fa-9b8e-4280-a070-d039361b8918",
      "metadata": {
        "id": "2618c3fa-9b8e-4280-a070-d039361b8918"
      },
      "outputs": [],
      "source": []
    }
  ],
  "metadata": {
    "kernelspec": {
      "display_name": "Python 3 (ipykernel)",
      "language": "python",
      "name": "python3"
    },
    "language_info": {
      "codemirror_mode": {
        "name": "ipython",
        "version": 3
      },
      "file_extension": ".py",
      "mimetype": "text/x-python",
      "name": "python",
      "nbconvert_exporter": "python",
      "pygments_lexer": "ipython3",
      "version": "3.11.10"
    },
    "colab": {
      "provenance": [],
      "include_colab_link": true
    }
  },
  "nbformat": 4,
  "nbformat_minor": 5
}