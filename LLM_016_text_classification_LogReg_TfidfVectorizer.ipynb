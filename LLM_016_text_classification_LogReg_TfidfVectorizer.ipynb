{
  "nbformat": 4,
  "nbformat_minor": 0,
  "metadata": {
    "colab": {
      "provenance": [],
      "authorship_tag": "ABX9TyMtyqEFZN9bUqhxC/tYdl/V",
      "include_colab_link": true
    },
    "kernelspec": {
      "name": "python3",
      "display_name": "Python 3"
    },
    "language_info": {
      "name": "python"
    }
  },
  "cells": [
    {
      "cell_type": "markdown",
      "metadata": {
        "id": "view-in-github",
        "colab_type": "text"
      },
      "source": [
        "<a href=\"https://colab.research.google.com/github/micah-shull/LLMs/blob/main/LLM_016_text_classification_LogReg_TfidfVectorizer.ipynb\" target=\"_parent\"><img src=\"https://colab.research.google.com/assets/colab-badge.svg\" alt=\"Open In Colab\"/></a>"
      ]
    },
    {
      "cell_type": "markdown",
      "source": [
        "Here’s a tutorial itinerary designed to build and strengthen your understanding of text classification fundamentals, specifically using **Logistic Regression** and **TfidfVectorizer**. We’ll start with easier datasets like spam detection and gradually move toward more nuanced text classification tasks.\n",
        "\n",
        "---\n",
        "\n",
        "### Notebook Tutorial Itinerary: Text Classification with Logistic Regression and TfidfVectorizer\n",
        "\n",
        "#### **1. Notebook Introduction**\n",
        "   - **Objective**: Outline the goal of the notebook, which is to develop a strong understanding of text classification by working with Logistic Regression and TfidfVectorizer.\n",
        "   - **Tools**: Provide a brief description of Logistic Regression and TfidfVectorizer and why they’re commonly used together for text classification.\n",
        "\n",
        "---\n",
        "\n",
        "#### **2. Data Loading and Preprocessing**\n",
        "   - **Step-by-Step Data Preparation**: Create a reusable function to load and preprocess text data (e.g., removing numbers, stop words, punctuation).\n",
        "   - **Datasets to Practice**:\n",
        "     - **SMS Spam Collection** (Ham/Spam): A straightforward binary classification dataset that’s ideal for building foundational skills.\n",
        "     - **IMDb Reviews** (Positive/Negative): Useful for learning to handle sentiment data.\n",
        "     - **Amazon Product Reviews** (Positive/Negative/Neutral): Adds complexity by introducing three classes and a mix of topics.\n",
        "\n",
        "---\n",
        "\n",
        "#### **3. Exploratory Data Analysis (EDA)**\n",
        "   - **Text Data Exploration**: Basic word counts, average document length, and visualizing the most common words in each class.\n",
        "   - **EDA Goals**: Understanding key data patterns will help you decide which preprocessing and feature engineering steps are relevant.\n",
        "\n",
        "---\n",
        "\n",
        "#### **4. Text Vectorization with TfidfVectorizer**\n",
        "   - **TfidfVectorizer Basics**:\n",
        "     - Introduction to `max_features`, `ngram_range`, and `stop_words` parameters.\n",
        "     - Compare Tfidf with and without these parameters to see how feature selection impacts performance.\n",
        "   - **Experiments**:\n",
        "     - Try unigrams only (single words) vs. bigrams or trigrams to observe differences in model performance.\n",
        "     - Experiment with `max_features` to understand its effect on the dimensionality and accuracy of your model.\n",
        "\n",
        "---\n",
        "\n",
        "#### **5. Model Training with Logistic Regression**\n",
        "   - **Logistic Regression Setup**:\n",
        "     - Introduce the key parameters (`C` for regularization, `class_weight`, etc.).\n",
        "     - Explain how class weights can improve model performance in imbalanced datasets.\n",
        "   - **Training on Different Datasets**:\n",
        "     - Train separate models on each dataset (spam, sentiment) to understand how model performance varies across tasks.\n",
        "   - **Experimenting with Regularization**: Vary the `C` parameter to see its effect on model performance and potential overfitting.\n",
        "\n",
        "---\n",
        "\n",
        "#### **6. Model Evaluation and Interpretation**\n",
        "   - **Performance Metrics**: Use classification report, confusion matrix, and accuracy to evaluate each model.\n",
        "   - **Understanding Misclassifications**:\n",
        "     - Examine a few misclassified examples to understand where the model struggles.\n",
        "     - Discuss ways to improve, such as tuning vectorizer parameters, adding bigrams, or using a larger `max_features` value.\n",
        "\n",
        "---\n",
        "\n",
        "#### **7. Model Tuning and Optimization**\n",
        "   - **Grid Search for Hyperparameter Tuning**:\n",
        "     - Implement GridSearchCV to optimize `C` in Logistic Regression and `max_features` in TfidfVectorizer.\n",
        "   - **Cross-Validation**:\n",
        "     - Apply cross-validation to assess the robustness of each model across different dataset splits.\n",
        "\n",
        "---\n",
        "\n",
        "#### **8. Final Model Comparison and Insights**\n",
        "   - **Dataset Performance Summary**: Summarize the results for each dataset, highlighting differences in performance and key takeaways.\n",
        "   - **Tips for Real-World Applications**: Discuss the applications of text classification in real-world scenarios, such as customer support, sentiment analysis, and spam detection.\n",
        "   - **Reflection on Key Learnings**: Summarize the most important aspects of using Logistic Regression and TfidfVectorizer for text classification.\n",
        "\n",
        "---\n",
        "\n",
        "### Additional Suggestions for the Tutorial\n",
        "1. **Compare Models**: Optionally, compare Logistic Regression with a simple Naive Bayes model to see differences in classification performance.\n",
        "2. **Document Everything**: Write detailed comments and explanations for each step. Creating a well-documented notebook is invaluable for reinforcing your learning.\n",
        "3. **Gradual Complexity**: Start with binary classifications (like spam detection) and gradually introduce more complex, multi-class datasets to deepen your understanding.\n",
        "\n",
        "This itinerary provides a structured path for mastering text classification with Logistic Regression and TfidfVectorizer, enabling you to understand fundamental techniques while gaining practical, hands-on experience. Let me know if you’d like further customization or additional dataset recommendations!"
      ],
      "metadata": {
        "id": "O3VSw8KIBF8H"
      }
    },
    {
      "cell_type": "markdown",
      "source": [
        "## Notebook Setup and Data Loading"
      ],
      "metadata": {
        "id": "e-wFNodHBv2Y"
      }
    },
    {
      "cell_type": "code",
      "source": [
        "# !pip install transformers datasets\n",
        "# !pip install python-dotenv"
      ],
      "metadata": {
        "id": "RnyPxHwTDHIV"
      },
      "execution_count": 5,
      "outputs": []
    },
    {
      "cell_type": "code",
      "source": [
        "from datasets import load_dataset"
      ],
      "metadata": {
        "id": "UxfMW8XXChiV"
      },
      "execution_count": 14,
      "outputs": []
    },
    {
      "cell_type": "code",
      "execution_count": 15,
      "metadata": {
        "id": "OD_G6p_DA_MA"
      },
      "outputs": [],
      "source": [
        "# Import necessary libraries\n",
        "import pandas as pd\n",
        "from sklearn.model_selection import train_test_split\n",
        "from sklearn.feature_extraction.text import TfidfVectorizer\n",
        "from sklearn.linear_model import LogisticRegression\n",
        "from sklearn.metrics import classification_report, confusion_matrix, accuracy_score\n",
        "from datasets import load_dataset\n",
        "\n",
        "# Function to load SMS Spam dataset from Hugging Face\n",
        "# def load_sms_spam_data():\n",
        "#     dataset = load_dataset(\"sms_spam\")\n",
        "#     documents = dataset[\"train\"][\"sms\"]\n",
        "#     labels = [\"ham\" if label == \"ham\" else \"spam\" for label in dataset[\"train\"][\"label\"]]\n",
        "#     return documents, labels\n",
        "\n",
        "def load_sms_spam_data():\n",
        "    dataset = load_dataset(\"sms_spam\")\n",
        "    documents = dataset[\"train\"][\"sms\"]\n",
        "    labels = list(dataset[\"train\"][\"label\"])  # Directly convert the labels to a list\n",
        "    return documents, labels\n",
        "\n",
        "# Function to load IMDb dataset from Hugging Face\n",
        "def load_imdb_data():\n",
        "    dataset = load_dataset(\"imdb\")\n",
        "    documents = dataset[\"train\"][\"text\"]\n",
        "    labels = [\"pos\" if label == 1 else \"neg\" for label in dataset[\"train\"][\"label\"]]\n",
        "    return documents, labels\n",
        "\n",
        "# Load SMS Spam dataset\n",
        "sms_documents, sms_labels = load_sms_spam_data()\n",
        "\n",
        "# Load IMDb dataset\n",
        "imdb_documents, imdb_labels = load_imdb_data()\n"
      ]
    },
    {
      "cell_type": "markdown",
      "source": [
        "### Check for Class Imbalance\n",
        "\n",
        "Absolutely, here’s a summary of why checking for class imbalance is crucial in classification tasks, especially when working with spam detection:\n",
        "\n",
        "### Importance of Checking for Class Imbalance\n",
        "Class imbalance occurs when one class has significantly more samples than the other(s), as seen in the SMS Spam dataset where `\"ham\"` messages greatly outnumber `\"spam\"`. This imbalance affects model performance and can lead to biased predictions. In an imbalanced dataset, a model may appear accurate by simply predicting the majority class most of the time, even if it completely misses the minority class.\n",
        "\n",
        "#### Effects on Model Performance\n",
        "- **Accuracy Paradox**: With imbalanced data, a model could achieve high accuracy by predominantly predicting the majority class. For instance, predicting all messages as `\"ham\"` would yield high accuracy here, but it would miss almost all `\"spam\"` cases.\n",
        "- **Bias Toward the Majority Class**: Many algorithms tend to favor the majority class unless explicitly adjusted. This leads to poor recall for the minority class, meaning `\"spam\"` messages could frequently go undetected.\n",
        "\n",
        "### Prioritizing Recall for Class 1 (Spam)\n",
        "In spam detection, **recall for the `\"spam\"` class (class 1)** is especially critical because:\n",
        "- **Impact of False Negatives**: Missing a spam message (false negative) means letting unwanted or potentially harmful content through, which could affect user experience or even lead to security issues.\n",
        "- **Focus on Catching Spam**: By prioritizing recall for `\"spam\"`, we aim to catch as many spam messages as possible, even if it sometimes means incorrectly flagging a few `\"ham\"` messages as `\"spam\"` (higher false positives).\n",
        "\n",
        "### Why High Recall for Spam is More Challenging Than High Average Accuracy\n",
        "- **Recall vs. Accuracy**: Achieving high recall for `\"spam\"` involves the model being very sensitive to spam indicators. This sensitivity makes it harder to balance precision (avoiding false positives), as it may mistakenly classify some `\"ham\"` messages as `\"spam\"`.\n",
        "- **Trade-off with Precision**: Improving recall for `\"spam\"` can often lead to lower precision, meaning more `\"ham\"` messages are incorrectly flagged. However, in spam detection, recall for spam often takes priority since missing spam has a higher cost.\n",
        "\n",
        "### How We’ll Address Imbalance\n",
        "1. **Class Weight Adjustment**: In Logistic Regression, setting `class_weight='balanced'` helps the model give more weight to the minority class, improving recall for spam.\n",
        "2. **Metric Prioritization**: Instead of focusing solely on accuracy, we’ll track recall and precision for spam to ensure the model effectively identifies spam while managing false positives.\n",
        "\n",
        "By focusing on these strategies, our model can better identify spam messages even in an imbalanced dataset, ensuring it performs well for the actual goal of the task rather than just maximizing overall accuracy."
      ],
      "metadata": {
        "id": "f9N2CFwVFQ7B"
      }
    },
    {
      "cell_type": "code",
      "source": [
        "import matplotlib.pyplot as plt\n",
        "\n",
        "# Plot distributions in a 1x2 grid\n",
        "fig, axes = plt.subplots(1, 2, figsize=(12, 5))\n",
        "\n",
        "# SMS Spam Distribution\n",
        "axes[0].bar(sms_value_counts.index, sms_value_counts.values, color=['skyblue', 'salmon'])\n",
        "axes[0].set_title(\"SMS Spam Dataset\")\n",
        "axes[0].set_xlabel(\"Label\")\n",
        "axes[0].set_ylabel(\"Count\")\n",
        "axes[0].set_xticks(range(len(sms_value_counts.index)))\n",
        "axes[0].set_xticklabels(sms_value_counts.index)\n",
        "\n",
        "# IMDb Dataset Distribution\n",
        "axes[1].bar(imdb_value_counts.index, imdb_value_counts.values, color=['skyblue', 'salmon'])\n",
        "axes[1].set_title(\"IMDb Dataset\")\n",
        "axes[1].set_xlabel(\"Label\")\n",
        "axes[1].set_ylabel(\"Count\")\n",
        "axes[1].set_xticks(range(len(imdb_value_counts.index)))\n",
        "axes[1].set_xticklabels(imdb_value_counts.index)\n",
        "\n",
        "# Display the plots\n",
        "plt.tight_layout()\n",
        "plt.show()\n"
      ],
      "metadata": {
        "colab": {
          "base_uri": "https://localhost:8080/",
          "height": 474
        },
        "id": "nZYSwvvzFbm1",
        "outputId": "75bacf27-af9f-46f4-caad-9a68656065cf"
      },
      "execution_count": 18,
      "outputs": [
        {
          "output_type": "display_data",
          "data": {
            "text/plain": [
              "<Figure size 1200x500 with 2 Axes>"
            ],
            "image/png": "[encoded data removed]"
          },
          "metadata": {}
        }
      ]
    },
    {
      "cell_type": "code",
      "source": [
        "# Calculate and print value counts\n",
        "sms_value_counts = pd.Series(sms_labels).value_counts()\n",
        "imdb_value_counts = pd.Series(imdb_labels).value_counts()\n",
        "\n",
        "print(\"SMS Spam Dataset Value Counts:\")\n",
        "print(sms_value_counts)\n",
        "print(\"\\nIMDb Dataset Value Counts:\")\n",
        "print(imdb_value_counts)\n"
      ],
      "metadata": {
        "colab": {
          "base_uri": "https://localhost:8080/"
        },
        "id": "NWXgUWOMFTdR",
        "outputId": "324d6662-9a17-40e7-cef4-3d4c2c399dba"
      },
      "execution_count": 17,
      "outputs": [
        {
          "output_type": "stream",
          "name": "stdout",
          "text": [
            "SMS Spam Dataset Value Counts:\n",
            "0    4827\n",
            "1     747\n",
            "Name: count, dtype: int64\n",
            "\n",
            "IMDb Dataset Value Counts:\n",
            "neg    12500\n",
            "pos    12500\n",
            "Name: count, dtype: int64\n"
          ]
        }
      ]
    },
    {
      "cell_type": "markdown",
      "source": [
        "### Preview Text Data"
      ],
      "metadata": {
        "id": "AeZBZoO9GbqG"
      }
    },
    {
      "cell_type": "code",
      "source": [
        "# Preview function to display sample data\n",
        "def preview_data(documents, labels, num_samples=3):\n",
        "    for i in range(num_samples):\n",
        "        print(f\"Sample {i + 1}:\")\n",
        "        print(\"Text:\", documents[i])\n",
        "        print(\"Label:\", labels[i])\n",
        "        print(\"-\" * 50)\n",
        "\n",
        "# Preview SMS Spam data\n",
        "print(\"SMS Spam Dataset Samples:\")\n",
        "preview_data(sms_documents, sms_labels)\n",
        "\n",
        "# Preview IMDb data\n",
        "print(\"\\nIMDb Dataset Samples:\")\n",
        "preview_data(imdb_documents, imdb_labels)\n"
      ],
      "metadata": {
        "colab": {
          "base_uri": "https://localhost:8080/"
        },
        "id": "Nb8dSBC4EBQV",
        "outputId": "f7016bee-beee-41a0-8720-3711a34695b9"
      },
      "execution_count": 16,
      "outputs": [
        {
          "output_type": "stream",
          "name": "stdout",
          "text": [
            "SMS Spam Dataset Samples:\n",
            "Sample 1:\n",
            "Text: Go until jurong point, crazy.. Available only in bugis n great world la e buffet... Cine there got amore wat...\n",
            "\n",
            "Label: 0\n",
            "--------------------------------------------------\n",
            "Sample 2:\n",
            "Text: Ok lar... Joking wif u oni...\n",
            "\n",
            "Label: 0\n",
            "--------------------------------------------------\n",
            "Sample 3:\n",
            "Text: Free entry in 2 a wkly comp to win FA Cup final tkts 21st May 2005. Text FA to 87121 to receive entry question(std txt rate)T&C's apply 08452810075over18's\n",
            "\n",
            "Label: 1\n",
            "--------------------------------------------------\n",
            "\n",
            "IMDb Dataset Samples:\n",
            "Sample 1:\n",
            "Text: I rented I AM CURIOUS-YELLOW from my video store because of all the controversy that surrounded it when it was first released in 1967. I also heard that at first it was seized by U.S. customs if it ever tried to enter this country, therefore being a fan of films considered \"controversial\" I really had to see this for myself.<br /><br />The plot is centered around a young Swedish drama student named Lena who wants to learn everything she can about life. In particular she wants to focus her attentions to making some sort of documentary on what the average Swede thought about certain political issues such as the Vietnam War and race issues in the United States. In between asking politicians and ordinary denizens of Stockholm about their opinions on politics, she has sex with her drama teacher, classmates, and married men.<br /><br />What kills me about I AM CURIOUS-YELLOW is that 40 years ago, this was considered pornographic. Really, the sex and nudity scenes are few and far between, even then it's not shot like some cheaply made porno. While my countrymen mind find it shocking, in reality sex and nudity are a major staple in Swedish cinema. Even Ingmar Bergman, arguably their answer to good old boy John Ford, had sex scenes in his films.<br /><br />I do commend the filmmakers for the fact that any sex shown in the film is shown for artistic purposes rather than just to shock people and make money to be shown in pornographic theaters in America. I AM CURIOUS-YELLOW is a good film for anyone wanting to study the meat and potatoes (no pun intended) of Swedish cinema. But really, this film doesn't have much of a plot.\n",
            "Label: neg\n",
            "--------------------------------------------------\n",
            "Sample 2:\n",
            "Text: \"I Am Curious: Yellow\" is a risible and pretentious steaming pile. It doesn't matter what one's political views are because this film can hardly be taken seriously on any level. As for the claim that frontal male nudity is an automatic NC-17, that isn't true. I've seen R-rated films with male nudity. Granted, they only offer some fleeting views, but where are the R-rated films with gaping vulvas and flapping labia? Nowhere, because they don't exist. The same goes for those crappy cable shows: schlongs swinging in the breeze but not a clitoris in sight. And those pretentious indie movies like The Brown Bunny, in which we're treated to the site of Vincent Gallo's throbbing johnson, but not a trace of pink visible on Chloe Sevigny. Before crying (or implying) \"double-standard\" in matters of nudity, the mentally obtuse should take into account one unavoidably obvious anatomical difference between men and women: there are no genitals on display when actresses appears nude, and the same cannot be said for a man. In fact, you generally won't see female genitals in an American film in anything short of porn or explicit erotica. This alleged double-standard is less a double standard than an admittedly depressing ability to come to terms culturally with the insides of women's bodies.\n",
            "Label: neg\n",
            "--------------------------------------------------\n",
            "Sample 3:\n",
            "Text: If only to avoid making this type of film in the future. This film is interesting as an experiment but tells no cogent story.<br /><br />One might feel virtuous for sitting thru it because it touches on so many IMPORTANT issues but it does so without any discernable motive. The viewer comes away with no new perspectives (unless one comes up with one while one's mind wanders, as it will invariably do during this pointless film).<br /><br />One might better spend one's time staring out a window at a tree growing.<br /><br />\n",
            "Label: neg\n",
            "--------------------------------------------------\n"
          ]
        }
      ]
    },
    {
      "cell_type": "markdown",
      "source": [
        "### Data Splitting and Preprocessing\n",
        "In `train_test_split`, there’s no direct `imbalanced` argument, but there is an option to ensure that the class distribution remains the same in both the training and test sets. This is called **stratified sampling**, and it can be achieved by setting the `stratify` parameter.\n",
        "\n",
        "### Explanation of `stratify=sms_labels`\n",
        "- **Stratified Sampling**: Setting `stratify=sms_labels` ensures that the proportion of each class (ham and spam) is preserved in both the training and test sets. So if spam constitutes 15% of the data, this ratio will be approximately maintained in each split.\n",
        "- **Why It’s Important**: In imbalanced datasets, stratified sampling prevents the test set from being overly biased toward the majority class, which could lead to misleading evaluation results.\n",
        "\n",
        "This simple addition helps maintain class balance across splits and ensures a more reliable performance assessment."
      ],
      "metadata": {
        "id": "U29Bmxf8EJUf"
      }
    },
    {
      "cell_type": "code",
      "source": [
        "# Split SMS Spam dataset\n",
        "sms_train_texts, sms_test_texts, sms_train_labels, sms_test_labels = train_test_split(\n",
        "    sms_documents, sms_labels, test_size=0.2, random_state=42, stratify=sms_labels\n",
        ")\n",
        "\n",
        "# Split IMDb dataset\n",
        "imdb_train_texts, imdb_test_texts, imdb_train_labels, imdb_test_labels = train_test_split(\n",
        "    imdb_documents, imdb_labels, test_size=0.2, random_state=42\n",
        ")\n"
      ],
      "metadata": {
        "id": "Zw_SyPRLEBN_"
      },
      "execution_count": 20,
      "outputs": []
    },
    {
      "cell_type": "markdown",
      "source": [
        "### Initialize TfidfVectorizer and transform text data."
      ],
      "metadata": {
        "id": "_pfCaDjpEOlQ"
      }
    },
    {
      "cell_type": "code",
      "source": [
        "# Initialize TfidfVectorizer\n",
        "vectorizer = TfidfVectorizer(stop_words=\"english\", max_features=5000)\n",
        "\n",
        "# Fit-transform on the training data and transform the test data\n",
        "sms_train_vectors = vectorizer.fit_transform(sms_train_texts)\n",
        "sms_test_vectors = vectorizer.transform(sms_test_texts)\n",
        "\n",
        "imdb_train_vectors = vectorizer.fit_transform(imdb_train_texts)\n",
        "imdb_test_vectors = vectorizer.transform(imdb_test_texts)"
      ],
      "metadata": {
        "id": "j26OQhqqEBLK"
      },
      "execution_count": 21,
      "outputs": []
    },
    {
      "cell_type": "markdown",
      "source": [
        "### Model Training and Evaluation\n",
        "\n",
        "### Ham | Spam Class Imbalance\n",
        "\n",
        "#### Explanation of `class_weight='balanced'`\n",
        "- **Balanced Weights**: Setting `class_weight='balanced'` automatically adjusts the weights inversely proportional to class frequencies, giving more weight to the minority class (spam in this case).\n",
        "- **Effect**: This helps the model focus more on correctly predicting the minority class, improving recall for `\"spam\"` without the need for additional data manipulation.\n",
        "\n",
        "Using `class_weight='balanced'` is the recommended approach in `LogisticRegression` for handling imbalanced datasets."
      ],
      "metadata": {
        "id": "sL5ZA8ucETjF"
      }
    },
    {
      "cell_type": "code",
      "source": [
        "# Function to train and evaluate the model\n",
        "def train_and_evaluate_model(train_vectors, train_labels, test_vectors, test_labels):\n",
        "    # Initialize Logistic Regression\n",
        "    model = LogisticRegression(max_iter=1000, class_weight='balanced')\n",
        "    model.fit(train_vectors, train_labels)\n",
        "\n",
        "    # Predict and evaluate\n",
        "    predictions = model.predict(test_vectors)\n",
        "    print(\"Classification Report:\\n\", classification_report(test_labels, predictions))\n",
        "    print(\"Confusion Matrix:\\n\", confusion_matrix(test_labels, predictions))\n",
        "    print(\"Accuracy:\", accuracy_score(test_labels, predictions))\n",
        "\n",
        "# Train and evaluate on SMS Spam data\n",
        "print(\"SMS Spam Dataset Evaluation:\")\n",
        "train_and_evaluate_model(sms_train_vectors, sms_train_labels, sms_test_vectors, sms_test_labels)"
      ],
      "metadata": {
        "colab": {
          "base_uri": "https://localhost:8080/"
        },
        "id": "5kYsHTt_EBF7",
        "outputId": "d562cba1-3ad0-48db-9d70-ac5feb84dfbd"
      },
      "execution_count": 22,
      "outputs": [
        {
          "output_type": "stream",
          "name": "stdout",
          "text": [
            "SMS Spam Dataset Evaluation:\n",
            "Classification Report:\n",
            "               precision    recall  f1-score   support\n",
            "\n",
            "           0       0.99      0.99      0.99       966\n",
            "           1       0.91      0.93      0.92       149\n",
            "\n",
            "    accuracy                           0.98      1115\n",
            "   macro avg       0.95      0.96      0.96      1115\n",
            "weighted avg       0.98      0.98      0.98      1115\n",
            "\n",
            "Confusion Matrix:\n",
            " [[953  13]\n",
            " [ 10 139]]\n",
            "Accuracy: 0.979372197309417\n"
          ]
        }
      ]
    },
    {
      "cell_type": "code",
      "source": [
        "# Function to train and evaluate the model\n",
        "def train_and_evaluate_model(train_vectors, train_labels, test_vectors, test_labels):\n",
        "    # Initialize Logistic Regression\n",
        "    model = LogisticRegression(max_iter=1000)\n",
        "    model.fit(train_vectors, train_labels)\n",
        "\n",
        "    # Predict and evaluate\n",
        "    predictions = model.predict(test_vectors)\n",
        "    print(\"Classification Report:\\n\", classification_report(test_labels, predictions))\n",
        "    print(\"Confusion Matrix:\\n\", confusion_matrix(test_labels, predictions))\n",
        "    print(\"Accuracy:\", accuracy_score(test_labels, predictions))\n",
        "\n",
        "# Train and evaluate on SMS Spam data\n",
        "print(\"SMS Spam Dataset Evaluation:\")\n",
        "train_and_evaluate_model(sms_train_vectors, sms_train_labels, sms_test_vectors, sms_test_labels)"
      ],
      "metadata": {
        "colab": {
          "base_uri": "https://localhost:8080/"
        },
        "id": "SY5LMRrBJK0z",
        "outputId": "64345a7d-c5aa-44a9-bfd7-c6463223a1ee"
      },
      "execution_count": 24,
      "outputs": [
        {
          "output_type": "stream",
          "name": "stdout",
          "text": [
            "SMS Spam Dataset Evaluation:\n",
            "Classification Report:\n",
            "               precision    recall  f1-score   support\n",
            "\n",
            "           0       0.97      1.00      0.99       966\n",
            "           1       1.00      0.83      0.91       149\n",
            "\n",
            "    accuracy                           0.98      1115\n",
            "   macro avg       0.99      0.92      0.95      1115\n",
            "weighted avg       0.98      0.98      0.98      1115\n",
            "\n",
            "Confusion Matrix:\n",
            " [[966   0]\n",
            " [ 25 124]]\n",
            "Accuracy: 0.9775784753363229\n"
          ]
        }
      ]
    },
    {
      "cell_type": "code",
      "source": [
        "# Function to train and evaluate the model\n",
        "def train_and_evaluate_model(train_vectors, train_labels, test_vectors, test_labels):\n",
        "    # Initialize Logistic Regression\n",
        "    model = LogisticRegression(max_iter=1000)\n",
        "    model.fit(train_vectors, train_labels)\n",
        "\n",
        "    # Predict and evaluate\n",
        "    predictions = model.predict(test_vectors)\n",
        "    print(\"Classification Report:\\n\", classification_report(test_labels, predictions))\n",
        "    print(\"Confusion Matrix:\\n\", confusion_matrix(test_labels, predictions))\n",
        "    print(\"Accuracy:\", accuracy_score(test_labels, predictions))\n",
        "\n",
        "# Train and evaluate on IMDb data\n",
        "print(\"\\nIMDb Dataset Evaluation:\")\n",
        "train_and_evaluate_model(imdb_train_vectors, imdb_train_labels, imdb_test_vectors, imdb_test_labels)"
      ],
      "metadata": {
        "colab": {
          "base_uri": "https://localhost:8080/"
        },
        "id": "qmPVtm4HEBDU",
        "outputId": "3618a0e7-076e-4a48-ba1a-cd25d4187221"
      },
      "execution_count": 25,
      "outputs": [
        {
          "output_type": "stream",
          "name": "stdout",
          "text": [
            "\n",
            "IMDb Dataset Evaluation:\n",
            "Classification Report:\n",
            "               precision    recall  f1-score   support\n",
            "\n",
            "         neg       0.89      0.87      0.88      2515\n",
            "         pos       0.87      0.89      0.88      2485\n",
            "\n",
            "    accuracy                           0.88      5000\n",
            "   macro avg       0.88      0.88      0.88      5000\n",
            "weighted avg       0.88      0.88      0.88      5000\n",
            "\n",
            "Confusion Matrix:\n",
            " [[2183  332]\n",
            " [ 261 2224]]\n",
            "Accuracy: 0.8814\n"
          ]
        }
      ]
    }
  ]
}