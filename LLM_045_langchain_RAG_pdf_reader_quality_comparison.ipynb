{
  "nbformat": 4,
  "nbformat_minor": 0,
  "metadata": {
    "colab": {
      "provenance": [],
      "toc_visible": true,
      "authorship_tag": "ABX9TyMJFt1Q/Cj8cUNMrzFdM9jr",
      "include_colab_link": true
    },
    "kernelspec": {
      "name": "python3",
      "display_name": "Python 3"
    },
    "language_info": {
      "name": "python"
    }
  },
  "cells": [
    {
      "cell_type": "markdown",
      "metadata": {
        "id": "view-in-github",
        "colab_type": "text"
      },
      "source": [
        "<a href=\"https://colab.research.google.com/github/micah-shull/LLMs/blob/main/LLM_045_langchain_RAG_pdf_reader_quality_comparison.ipynb\" target=\"_parent\"><img src=\"https://colab.research.google.com/assets/colab-badge.svg\" alt=\"Open In Colab\"/></a>"
      ]
    },
    {
      "cell_type": "markdown",
      "source": [
        "\n",
        "\n",
        "## **What is RAG?**\n",
        "\n",
        "### **Introduction to RAG (Retrieval-Augmented Generation)**\n",
        "\n",
        "**Retrieval-Augmented Generation (RAG)** is a framework that combines **information retrieval** with **language model generation**. It enables Large Language Models (LLMs) to retrieve relevant content from external sources (e.g., documents, databases, or APIs) and use that information to generate accurate and context-aware responses.\n",
        "\n",
        "Unlike standard LLMs, which rely solely on their pre-trained knowledge (limited by a knowledge cutoff date), RAG enhances their ability to provide real-time, domain-specific, or custom responses by dynamically accessing external knowledge.\n",
        "\n",
        "---\n",
        "\n",
        "#### **Why is RAG Important?**\n",
        "\n",
        "1. **Overcomes Knowledge Limitations**:\n",
        "   - Pre-trained LLMs lack knowledge of events or information beyond their training data. RAG solves this by allowing the model to query external sources for up-to-date or domain-specific information.\n",
        "\n",
        "2. **Improves Accuracy**:\n",
        "   - By retrieving relevant content, RAG helps generate more factual and precise responses, reducing hallucinations (when an LLM generates incorrect or made-up information).\n",
        "\n",
        "3. **Enables Domain-Specific Applications**:\n",
        "   - RAG can be applied to specialized domains (e.g., legal, healthcare, or research) by retrieving from custom knowledge bases or document sets.\n",
        "\n",
        "4. **Efficient Use of Resources**:\n",
        "   - Rather than fine-tuning an LLM for specific tasks, RAG allows you to **retrieve and utilize knowledge dynamically**, making it more efficient and cost-effective.\n",
        "\n",
        "---\n",
        "\n",
        "#### **How RAG Works**:\n",
        "RAG typically involves the following steps:\n",
        "1. **Document Indexing**:\n",
        "   - Convert a collection of documents into vector representations (embeddings) and store them in a **vector database** (e.g., FAISS, Pinecone).\n",
        "\n",
        "2. **Query Embedding and Retrieval**:\n",
        "   - Convert the user’s query into an embedding and perform a **similarity search** to find the most relevant documents from the vector store.\n",
        "\n",
        "3. **Generation**:\n",
        "   - Combine the retrieved documents with the query and feed them into an LLM to generate a response.\n",
        "\n",
        "---\n",
        "\n",
        "#### **Use Cases of RAG**:\n",
        "- **Document-Based Question Answering**: Answer questions based on a knowledge base (e.g., company manuals, research papers).\n",
        "- **Chatbots with External Knowledge**: Build chatbots that use real-time or custom data.\n",
        "- **Search-Enhanced Applications**: Improve search engines by retrieving and summarizing information.\n",
        "- **Content Summarization and Insight Extraction**: Summarize large documents or extract key insights.\n",
        "\n",
        "---\n",
        "\n",
        "This introduction sets the stage for building RAG-based applications using LangChain. In the next sections, we’ll explore how to:\n",
        "1. **Load and Index Documents**.\n",
        "2. **Retrieve Relevant Content**.\n",
        "3. **Combine Retrieval with Language Models**.\n",
        ""
      ],
      "metadata": {
        "id": "mZALU8giVq4F"
      }
    },
    {
      "cell_type": "code",
      "execution_count": 19,
      "metadata": {
        "id": "XdJ7zhe6W2RZ"
      },
      "outputs": [],
      "source": [
        "# !pip install langchain\n",
        "# !pip install openai\n",
        "# !pip install python-dotenv\n",
        "# !pip install langchain-openai\n",
        "# !pip install langchain langchainhub langchain_openai faiss-cpu tiktoken pypdf langchain-community\n",
        "# !pip install PyMuPDF"
      ]
    },
    {
      "cell_type": "code",
      "source": [
        "import os\n",
        "from dotenv import load_dotenv\n",
        "from langchain.prompts import ChatPromptTemplate, SystemMessagePromptTemplate, HumanMessagePromptTemplate\n",
        "from langchain_openai import ChatOpenAI\n",
        "from langchain.document_loaders import PyPDFLoader\n",
        "from langchain.text_splitter import RecursiveCharacterTextSplitter\n",
        "from langchain.vectorstores import FAISS\n",
        "from langchain_openai import OpenAIEmbeddings  # Updated import for OpenAIEmbeddings\n",
        "\n",
        "# Load environment variables from .env file\n",
        "load_dotenv('/content/API_KEYS.env')\n",
        "api_key = os.getenv(\"OPENAI_API_KEY\")\n",
        "# Set the environment variable globally for libraries like LangChain\n",
        "os.environ[\"OPENAI_API_KEY\"] = api_key\n",
        "# Print the API key to confirm it's loaded correctly\n",
        "print(\"API Key loaded from .env:\",os.environ[\"OPENAI_API_KEY\"][0:30])"
      ],
      "metadata": {
        "colab": {
          "base_uri": "https://localhost:8080/"
        },
        "id": "QOfNnaN3W-Ax",
        "outputId": "374e236c-f759-4eea-dad3-f244ce27b563"
      },
      "execution_count": 22,
      "outputs": [
        {
          "output_type": "stream",
          "name": "stdout",
          "text": [
            "API Key loaded from .env: sk-proj-e1GUWruINPRnrozmiakkRM\n"
          ]
        }
      ]
    },
    {
      "cell_type": "markdown",
      "source": [
        "### RAG using Langchain"
      ],
      "metadata": {
        "id": "TQwfhgnA1hkO"
      }
    },
    {
      "cell_type": "code",
      "source": [
        "# Step 1: Load the PDF Document\n",
        "pdf_loader = PyPDFLoader(\"/content/Art Collector personality types_ finish.pdf\")\n",
        "documents = pdf_loader.load()\n",
        "\n",
        "# Step 2: Split Text into Chunks\n",
        "text_splitter = RecursiveCharacterTextSplitter(chunk_size=500, chunk_overlap=50)\n",
        "texts = text_splitter.split_documents(documents)\n",
        "\n",
        "# Step 3: Generate Embeddings and Store in FAISS\n",
        "embeddings = OpenAIEmbeddings(openai_api_key=api_key)  # Correct usage\n",
        "vectorstore = FAISS.from_documents(texts, embeddings)\n",
        "\n",
        "print(\"PDF document loaded, split, and indexed successfully!\")\n",
        "\n",
        "# Step 4: Perform Retrieval\n",
        "retriever = vectorstore.as_retriever()\n",
        "\n",
        "# Step 5: Query the Knowledge Base\n",
        "query = \"What is the main topic discussed in the document?\"\n",
        "retrieved_docs = retriever.invoke(query)\n",
        "\n",
        "# Step 6: Display Retrieved Results\n",
        "print(\"\\nTop Retrieved Document:\")\n",
        "print(retrieved_docs[0].page_content)"
      ],
      "metadata": {
        "colab": {
          "base_uri": "https://localhost:8080/"
        },
        "id": "XcBmmZvUX43J",
        "outputId": "c2ee60c0-33cf-4b62-af5f-d8946f62cd28"
      },
      "execution_count": 23,
      "outputs": [
        {
          "output_type": "stream",
          "name": "stdout",
          "text": [
            "PDF document loaded, split, and indexed successfully!\n",
            "\n",
            "Top Retrieved Document:\n",
            "Build the bridge between each artwork and it’s \n",
            "historical context. Talk to people from the academic \n",
            "field about those historical references and build \n",
            "connections out with them.\n",
            "9\n",
            "10\n"
          ]
        }
      ]
    },
    {
      "cell_type": "markdown",
      "source": [
        "\n",
        "### **How to Fix the Output**\n",
        "The low-quality output comes from how the **PDF text extraction** and subsequent **text chunking** behave. When extracting text from a PDF, some documents can have:\n",
        "1. **Page Numbers or Hidden Artifacts**: Numbers, line breaks, or extra whitespace might get included as artifacts.\n",
        "2. **Text Alignment Issues**: PDF formats are often complex, and tools like `PyPDFLoader` might extract unintended content (e.g., headers, footers, or numbers).\n",
        "\n",
        "To clean up the retrieved results and remove unwanted numbers or artifacts, you can use one of the following approaches:\n",
        "\n",
        "---\n",
        "\n",
        "### **Solution 1: Post-Process Retrieved Text**\n",
        "You can add a **post-processing step** to clean the extracted text before displaying it.\n",
        "\n",
        "1. **Remove Numbers**:\n",
        "   - `re.sub(r'\\s*\\d+\\s*', '', text)` removes isolated numbers surrounded by spaces.\n",
        "2. **Remove Excess Newlines**:\n",
        "   - `re.sub(r'\\n+', ' ', text)` replaces multiple line breaks with a single space.\n",
        "3. **Strip Extra Spaces**:\n",
        "   - `.strip()` ensures no extra whitespace at the start or end.\n",
        "\n"
      ],
      "metadata": {
        "id": "Y8wFtBoZhfqA"
      }
    },
    {
      "cell_type": "code",
      "source": [
        "# Step 4: Perform Retrieval\n",
        "retriever = vectorstore.as_retriever()\n",
        "\n",
        "# Step 5: Query the Knowledge Base\n",
        "query = \"What is the main topic discussed in the document?\"\n",
        "retrieved_docs = retriever.invoke(query)\n",
        "\n",
        "# Step 6: Post-process the Retrieved Results\n",
        "def clean_text(text):\n",
        "    import re\n",
        "    cleaned_text = re.sub(r'\\s*\\d+\\s*', '', text)  # Removes isolated numbers\n",
        "    cleaned_text = re.sub(r'\\n+', ' ', cleaned_text).strip()  # Removes excess newlines\n",
        "    return cleaned_text\n",
        "\n",
        "# Clean the first retrieved document\n",
        "cleaned_result = clean_text(retrieved_docs[0].page_content)\n",
        "\n",
        "# Step 7: Display Cleaned Results\n",
        "print(\"\\nTop Retrieved Document (Cleaned):\")\n",
        "print(cleaned_result)"
      ],
      "metadata": {
        "id": "GSqLNniJxTVi",
        "colab": {
          "base_uri": "https://localhost:8080/"
        },
        "outputId": "6c736962-9d23-497a-8dfe-c5f3774571fe"
      },
      "execution_count": 24,
      "outputs": [
        {
          "output_type": "stream",
          "name": "stdout",
          "text": [
            "\n",
            "Top Retrieved Document (Cleaned):\n",
            "Build the bridge between each artwork and it’s  historical context. Talk to people from the academic  field about those historical references and build  connections out with them.\n"
          ]
        }
      ]
    },
    {
      "cell_type": "markdown",
      "source": [
        "### **Solution 2: Pre-Process Text During Chunking**\n",
        "You can clean the text **before indexing** it in the vector store. This ensures that the FAISS database only stores clean text chunks.\n",
        "\n",
        "This ensures:\n",
        "- Text is cleaned **before** it gets split into chunks.\n",
        "- Only clean text is indexed in the FAISS database.\n",
        "\n",
        "---\n",
        "\n",
        "### **Solution 3: Tune the Chunking Strategy**\n",
        "If numbers are artifacts from headers/footers, increasing the **`chunk_overlap`** can help capture surrounding context better and reduce fragmenting.\n",
        "\n",
        "Try:\n",
        "```python\n",
        "text_splitter = RecursiveCharacterTextSplitter(chunk_size=500, chunk_overlap=100)\n",
        "```\n",
        "\n",
        "---\n",
        "\n"
      ],
      "metadata": {
        "id": "QbsUdWF2iI3Q"
      }
    },
    {
      "cell_type": "code",
      "source": [
        "# Clean each document page before splitting\n",
        "def preprocess_document(doc):\n",
        "    import re\n",
        "    content = re.sub(r'\\s*\\d+\\s*', '', doc.page_content)  # Remove numbers\n",
        "    content = re.sub(r'\\n+', ' ', content).strip()       # Remove newlines and strip spaces\n",
        "    doc.page_content = content\n",
        "    return doc\n",
        "\n",
        "# Clean the text before splitting\n",
        "cleaned_documents = [preprocess_document(doc) for doc in documents]\n",
        "\n",
        "# Split Text into Chunks\n",
        "text_splitter = RecursiveCharacterTextSplitter(chunk_size=500, chunk_overlap=50)\n",
        "texts = text_splitter.split_documents(cleaned_documents)\n",
        "print(texts)"
      ],
      "metadata": {
        "id": "mZsFCmTZxTS7",
        "colab": {
          "base_uri": "https://localhost:8080/"
        },
        "outputId": "313a0ca2-38a4-4b5a-eea9-45ad928db6a9"
      },
      "execution_count": 26,
      "outputs": [
        {
          "output_type": "stream",
          "name": "stdout",
          "text": [
            "[Document(metadata={'source': '/content/Art Collector personality types_ finish.pdf', 'page': 0}, page_content='rt  Collector  personality  types'), Document(metadata={'source': '/content/Art Collector personality types_ finish.pdf', 'page': 3}, page_content=\"The Novice Collector: These are individuals just starting in the art collection  world. They are eager, curious, and often rely on others' opinions or visible  trends. For artists, understanding their tastes and guiding them can lead to  a long-term patron relationship. Their inexperience can be an advantage  because they might be more open to various art styles. The Niche Enthusiast: This collector looks for very specific art forms, be it  abstract, surrealism, or any niche genre. They’re\"), Document(metadata={'source': '/content/Art Collector personality types_ finish.pdf', 'page': 3}, page_content='abstract, surrealism, or any niche genre. They’re well-informed about their  chosen niche and appreciate artists who excel within it. For artists, aligning  with their niche preference is key to gain their attention. a. Offer educational content about art, perhaps  through workshops. Assist them in understanding the  intricacies of the art world. a. Showcase expertise within their preferred niche  and become a go to resource to expand their  understanding of that niche. Create niche specific'), Document(metadata={'source': '/content/Art Collector personality types_ finish.pdf', 'page': 3}, page_content='of that niche. Create niche specific  content. Organize exhibitions that focus exclusively  on their chosen genre.'), Document(metadata={'source': '/content/Art Collector personality types_ finish.pdf', 'page': 4}, page_content='The Investment Collector: Primarily driven by the potential return on  investment, these collectors buy artworks they believe will appreciate  in value. Artists who’ve received media attention or have a growing  reputation will particularly appeal to this group. The Speculative Collector: Unlike the Investment Collector who makes  informed decisions based on an artist’s reputation and potential  appreciation, the speculative collector takes risks on unknown or lesser- known artists hoping that'), Document(metadata={'source': '/content/Art Collector personality types_ finish.pdf', 'page': 4}, page_content='on unknown or lesser- known artists hoping that their value will explode in the future. They are  willing to bet on the underdogs of the art world. a. Provide data on past art sales, auction results, and  any press coverage to highlight potential ROI. This  could be a very powerful strategy for a newsletter of  some sort. a.Introduce them to emerging talents with unique  potential. Offer limited editions or exclusive previews  to entice their risk-taking nature. Give them VIP  access and access'), Document(metadata={'source': '/content/Art Collector personality types_ finish.pdf', 'page': 4}, page_content='nature. Give them VIP  access and access to things that other collectors/ people don’t have access to.'), Document(metadata={'source': '/content/Art Collector personality types_ finish.pdf', 'page': 5}, page_content='The Trend Follower: They’re all about what’s “in.” They buy artworks that  are trending or popular at the moment. For artists, being visible and trendy,  especially on platforms like Instagram, is a sure way to catch their eye. The Emotional Buyer: This collector buys art that resonates with them on  a deep, emotional level. It’s less about the art’s potential value and more  about personal connection. For artists, storytelling and personal connection  through their art can be the key to'), Document(metadata={'source': '/content/Art Collector personality types_ finish.pdf', 'page': 5}, page_content='connection  through their art can be the key to attracting these collectors. a. Stay updated with art trends. Engage actively  on social media platforms and ensure presence in  contemporary art galleries. I’m thinking about a series of  content pieces around “artists to watch” or “most  trending artists at this moment” type of stuff. a. Read books on storytelling and building emotional  connections (thinking about stories that stick by  Kindra Hall for example) Share the personal stories  and'), Document(metadata={'source': '/content/Art Collector personality types_ finish.pdf', 'page': 5}, page_content='Hall for example) Share the personal stories  and inspirations behind each artwork, making it  easier for them to connect.'), Document(metadata={'source': '/content/Art Collector personality types_ finish.pdf', 'page': 6}, page_content='The Social Collector: For them, collecting art is also about socializing.  They love to attend gallery openings, art fairs, and enjoy the social status  that comes with being an art collector. Artists who are socially active and  frequently participate in events may draw their attention. The Philanthropic/Patron Collector: They believe in supporting artists  and often buy from emerging talents, providing them with the necessary  financial support. Artists who are just starting or struggling'), Document(metadata={'source': '/content/Art Collector personality types_ finish.pdf', 'page': 6}, page_content='Artists who are just starting or struggling might find a  benefactor in them. Going beyond just purchasing, these collectors may  sponsor artists, provide them with resources, or commission specific works.  Forming a relationship with such a collector can provide a beginner artist  with significant support. a. Organize or participate in gallery openings,  art events, and artist meet-and-greets. You could  organize monthly events at your studio that are  oriented towards building new connections'), Document(metadata={'source': '/content/Art Collector personality types_ finish.pdf', 'page': 6}, page_content='are  oriented towards building new connections for  people in the field. a.  Create a portfolio of works that showcase  potential, and seek mentorship or sponsorship  opportunities with these collectors. A good approach  will be to participate in artist residencies which often  times attracts these types of buyers.'), Document(metadata={'source': '/content/Art Collector personality types_ finish.pdf', 'page': 7}, page_content='The Aesthete: For these collectors, it’s all about beauty. They look for artworks that  appeal to their sense of aesthetics and beauty. An artist whose work is visually  stunning and aligns with the collector’s aesthetic taste will be attractive to this  group. The Historical Collector: They’re interested in collecting  artworks that have a historical or cultural significance. For  artists, contextualizing their art in a broader historical or  cultural narrative can appeal to these collectors.'), Document(metadata={'source': '/content/Art Collector personality types_ finish.pdf', 'page': 7}, page_content='narrative can appeal to these collectors. a. Focus on creating visually appealing exhibitions and provide  high-quality visuals of art pieces. Have a very rigid approach to  building your skills so that these collectors are constantly seeing  you evolve and become better within your aesthetic which will  make sure they cannot resist following your journey. a. Provide detailed descriptions, emphasizing the  historical and cultural significance of the artworks.  Build the bridge between each'), Document(metadata={'source': '/content/Art Collector personality types_ finish.pdf', 'page': 7}, page_content='of the artworks.  Build the bridge between each artwork and it’s  historical context. Talk to people from the academic  field about those historical references and build  connections out with them.'), Document(metadata={'source': '/content/Art Collector personality types_ finish.pdf', 'page': 8}, page_content='The Heritage Collector: This collector is a subcategory of the historical  collector. Driven by a desire to connect with or preserve their personal  or cultural heritage, these collectors look for art that reflects their own  background, history, or lineage. Artists who create works that tap into these  narratives can find a dedicated audience here. The Global Collector: Open to various cultures and styles,  they look for artworks from different parts of the world. Artists  from diverse'), Document(metadata={'source': '/content/Art Collector personality types_ finish.pdf', 'page': 8}, page_content='parts of the world. Artists  from diverse backgrounds or those whose work reflects  global themes can appeal to this group. a. Connect with community events or institutions to  highlight works that showcase heritage and culture. a. Showcase art from diverse cultures and  backgrounds, and perhaps organize global art  exhibitions.'), Document(metadata={'source': '/content/Art Collector personality types_ finish.pdf', 'page': 9}, page_content='The Thematic Collector: These collectors are driven by specific  themes, such as love, nature, war, or other motifs. Artists who create  work around distinct themes might resonate deeply with these  collectors. The Medium-Specific Aficionado: They are particularly  interested in one medium, be it sculptures, ceramics, digital  art, or another form. Artists who specialize in a specific  medium can target these collectors effectively. a. Organize exhibitions or series based on popular themes that'), Document(metadata={'source': '/content/Art Collector personality types_ finish.pdf', 'page': 9}, page_content='or series based on popular themes that  resonate with these collectors. a. Host or participate in medium-specific exhibitions  or workshops. Become an expert in your medium  and only make art in that medium to re-enforce that  feeling of expertise within the medium.'), Document(metadata={'source': '/content/Art Collector personality types_ finish.pdf', 'page': 10}, page_content='The Celebrity Collector: Often high-profile individuals or celebrities,  they tend to buy art as both an investment and a statement. An  endorsement or purchase from such a collector can boost an artist’s  profile immensely. The Prestige Collector: Driven by brand names and  well-established artists, they often aim to showcase their  collection as a status symbol. Emerging artists might find  it challenging to break into their radar, but those with a  growing reputation or accolades can find'), Document(metadata={'source': '/content/Art Collector personality types_ finish.pdf', 'page': 10}, page_content='with a  growing reputation or accolades can find favor. This is not a  collector beginner artists should be focusing on. a. Engage in high-profile art events or collaborate with  influencers on social media. Look at engagement rates,  follower counts and views to base your collaboration  decisions on. Become an influencer yourself so that  you can add a brand building aspect to your products  where celebs know that buying from you will strengthen  their brand. Dedicate a portion of you social'), Document(metadata={'source': '/content/Art Collector personality types_ finish.pdf', 'page': 10}, page_content='their brand. Dedicate a portion of you social media to  showcasing the connections you make and the people  you know, having pictures of you at events with them is  going to be part of your approach. a.  Aim for recognition in prestigious art awards  or affiliations with renowned art institutions.  Museums are your friend, solo exhibitions are  your friend and a lot of the traditional ways will  be your approach.'), Document(metadata={'source': '/content/Art Collector personality types_ finish.pdf', 'page': 11}, page_content='The Tech-Savvy Collector: This modern collector is intrigued by art  that incorporates or is centered around technology, such as digital  art, VR art, or AI-generated art. Artists who blend tech into their  creations can appeal to this forward-thinking group. The Digital Collector: With the rise of NFTs (non-fungible  tokens) and blockchain, this collector is focused solely on  digital artworks. They might be trading digital art pieces,  buying rare NFTs, or exploring virtual galleries. Artists'), Document(metadata={'source': '/content/Art Collector personality types_ finish.pdf', 'page': 11}, page_content='NFTs, or exploring virtual galleries. Artists who  have ventured into the NFT space might find this category  especially relevant. a. Incorporate technology into artworks or presentations, like  augmented reality art viewings. a. Venture into the world of NFTs or offer digital prints/ experiences. Become an advocate for the new  NFT world so that these collectors see that you are  fighting for the cause that they believe in. Social  media will be your friend if this is your approach.'), Document(metadata={'source': '/content/Art Collector personality types_ finish.pdf', 'page': 12}, page_content='The Pop-Culture Enthusiast: These collectors are drawn to art that  references or is inspired by popular culture, movies, music, or current  events. Artists who tap into contemporary pop culture can attract  this group. The Eco-Focused Collector: Passionate about the  environment and sustainability, these collectors seek art that  reflects those values, whether in theme or in the materials  used. Artists with a green approach can find patrons here. a. Incorporate contemporary references in'), Document(metadata={'source': '/content/Art Collector personality types_ finish.pdf', 'page': 12}, page_content='here. a. Incorporate contemporary references in artworks and  engage with pop culture communities. a.  Emphasize sustainable methods or materials  used and perhaps collaborate with eco- focused organizations. Put Eco into every single  thing you do. For example: become part of  the stripe (payment processing system) eco  group where a portion of all payments on your  website are going to ecological causes.'), Document(metadata={'source': '/content/Art Collector personality types_ finish.pdf', 'page': 13}, page_content='The Local Lover: They focus primarily on supporting and buying art  from local artists or their own community. Artists can connect with  these collectors by participating in local events or highlighting local  themes. The Experimental Collector: Always on the lookout for  avant-garde, unique, or experimental art. For artists who  push boundaries and aren’t afraid to try unconventional  methods or ideas, these collectors could become staunch  supporters. a. Engage in local art communities,'), Document(metadata={'source': '/content/Art Collector personality types_ finish.pdf', 'page': 13}, page_content='supporters. a. Engage in local art communities, participate in  community events, and emphasize local themes. a. Push artistic boundaries. Host experimental art  exhibitions or collaborative projects. Controversy  will be your friend, reach out to magazines who like  controversial experimental topics and make sure  they write about your work from that perspective.'), Document(metadata={'source': '/content/Art Collector personality types_ finish.pdf', 'page': 14}, page_content='The Design-Driven Collector: Often interior designers or decor  enthusiasts, they buy art to complement specific design aesthetics  or to make a statement in a living space. Artists whose work aligns  with popular interior design trends or timeless styles can capture this  audience. The Corporate Collector: These are businesses or corporate  entities buying art for their offices, lobbies, or corporate  events. The intent is often to improve workplace aesthetics,  inspire creativity, or to'), Document(metadata={'source': '/content/Art Collector personality types_ finish.pdf', 'page': 14}, page_content='workplace aesthetics,  inspire creativity, or to enhance their brand image. Artists  who can create large-scale works or pieces that resonate  with corporate values can find opportunities here. a. Collaborate with interior designers or offer art pieces that align  with current design trends. Focus on the most amazing color  palette’s, have a swipe file of interiors that you use as inspiration  for making art, make sure your work hangs in the best interiors  imaginable. Dedicate a portion of'), Document(metadata={'source': '/content/Art Collector personality types_ finish.pdf', 'page': 14}, page_content='best interiors  imaginable. Dedicate a portion of your social media efforts in  showcasing the design elements of interiors and not just your art  only. a. Offer corporate packages or create art that  aligns with corporate values. I’m thinking about:  Corporate Art Leasing, Tailored Commissions,  Team Building Workshops, Corporate Gifting,  Lobby Installations, Art Consultation for their  corporate spaces,'), Document(metadata={'source': '/content/Art Collector personality types_ finish.pdf', 'page': 15}, page_content='The Gallery Affiliate: These collectors are often linked to or own  galleries. They look for artists who not only fit their gallery’s theme but  also have potential for future exhibitions. Building relationships with  these collectors can lead to long-term gallery representation. The Commemorative Collector: They buy art to  commemorate important milestones in their lives, such as  anniversaries, achievements, or memories. Artists who can  personalize works or capture emotions will appeal to'), Document(metadata={'source': '/content/Art Collector personality types_ finish.pdf', 'page': 15}, page_content='works or capture emotions will appeal to them. a.  Build relationships with galleries and offer exclusivity or  commission-based partnerships. a. Offer personalization services or create art series  centered around life’s milestones.'), Document(metadata={'source': '/content/Art Collector personality types_ finish.pdf', 'page': 16}, page_content='The Educator Collector: Often educators or academicians, they  buy art to teach, for research, or to promote artistic appreciation  among students. Artists who produce thought-provoking or  historically relevant works can find a niche with this group. The Cause-Supporting Collector: These collectors purchase  art to support specific causes or charities. Whether it’s social  justice, animal rights, or any other cause, artists who align  with these values or contribute to these causes can attract'), Document(metadata={'source': '/content/Art Collector personality types_ finish.pdf', 'page': 16}, page_content='values or contribute to these causes can attract  their attention. a.  Offer educational discounts and make it easy for educational  institutions to collaborate with you. I’m thinking about: Educator  Discounts, Workshops for Students, Collaborative Research (work  with academics on research projects), Art Loan Programs,…  Interactive Exhibitions: Create exhibitions within educational  institutions that not only display art but also encourage viewer  interaction, fostering deeper engagement and'), Document(metadata={'source': '/content/Art Collector personality types_ finish.pdf', 'page': 16}, page_content='interaction, fostering deeper engagement and understanding. a.  Partner with NGOs or create art series that  support specific causes.'), Document(metadata={'source': '/content/Art Collector personality types_ finish.pdf', 'page': 17}, page_content='The Traveler Collector: They collect art from places they’ve visited,  encapsulating memories of their journeys. Artists from tourist  destinations or those capturing the essence of a location can cater to  these collectors. The Art Fair Regular: These collectors are frequent visitors to  art fairs, looking for new talents and pieces to add to their  collections. Presence in prominent art fairs can help artists  get noticed by this group. a. Capture the essence of popular destinations or offer'), Document(metadata={'source': '/content/Art Collector personality types_ finish.pdf', 'page': 17}, page_content='the essence of popular destinations or offer  artworks at tourist hotspots. a. Ensure a presence at major art fairs and engage  with regular attendees. Put a large portion of your  advertisement and marketing budget in art fair  representation and art fair things.'), Document(metadata={'source': '/content/Art Collector personality types_ finish.pdf', 'page': 18}, page_content='The Family Legacy Collector: They inherit and continue the art  collection legacy of their families. They often look for artworks that  complement their existing collection. Artists whose style or theme  aligns with historic or time-honored traditions can be of interest to  them. The Bargain Hunter: This collector is always on the lookout  for undervalued pieces, estate sales, or artists who haven’t  been ‘discovered’ yet. They pride themselves on getting art  at a lower price point and'), Document(metadata={'source': '/content/Art Collector personality types_ finish.pdf', 'page': 18}, page_content='on getting art  at a lower price point and potentially finding hidden gems.  This collector is not necessarily cheap. What they value is  the ability to brag about what amazing decisions they’ve  made and how they foresee the future. The art becomes a  representation of their ability to find undervalued things. a. Research historic art trends and create complementary pieces  that align with such traditions. a. Offer occasional discounts, bundle deals,  or spotlight emerging talents with'), Document(metadata={'source': '/content/Art Collector personality types_ finish.pdf', 'page': 18}, page_content='bundle deals,  or spotlight emerging talents with affordable  art. Provide insights into the potential of  undervalued pieces.'), Document(metadata={'source': '/content/Art Collector personality types_ finish.pdf', 'page': 19}, page_content='Futurist collector: Collectors that are market mavens with a particular  taste that is very, very specific. They have a vision about the art world  right now and about what art and beauty should be in the future,  and they collect in line with that vision. They only collect in line with  that vision. Combo: The reality is that most collectors are  a combination of several personality types  addressed here. It’s important to understand that  collectors are rarely one personality type only. Note:'), Document(metadata={'source': '/content/Art Collector personality types_ finish.pdf', 'page': 19}, page_content='are rarely one personality type only. Note: The rules in the art world are very simple. Whoever  understands art collectors best will have the best offer and  whoever has the best offer will sell most art. This is a game  that is won through psychology. I’m sure you will be able to  use this collector personality type list without my help since  you are more than capable of figuring things out on your  own. But if you would like some help. I have a section in The  Artist Formula where I explain'), Document(metadata={'source': '/content/Art Collector personality types_ finish.pdf', 'page': 19}, page_content='a section in The  Artist Formula where I explain how I use this to make an offer  that is irresistible to collectors. And if you want more free tools  go to driesketels.com a.  Join panels, symposiums, or talks focusing on the future  of art. This can elevate your reputation in the eyes of Futurist  collectors as well as help you connect with them. Aim to  have your works featured in avant-garde galleries or spaces  known for cutting-edge contemporary art. These don’t have  to be high end'), Document(metadata={'source': '/content/Art Collector personality types_ finish.pdf', 'page': 19}, page_content='art. These don’t have  to be high end galleries.')]\n"
          ]
        }
      ]
    },
    {
      "cell_type": "markdown",
      "source": [
        "### **Best Approach**\n",
        "\n",
        "### PDF Loading, Pre-Processing, Indexing, and Post-Processing Retrieval\n",
        "Combining **Solution 2 (pre-processing)** and **Solution 1 (post-processing)** ensures clean text storage and retrieval.\n",
        "\n"
      ],
      "metadata": {
        "id": "XB5kbLsdjhuT"
      }
    },
    {
      "cell_type": "code",
      "source": [
        "# Step 1: Load the PDF Document\n",
        "pdf_loader = PyPDFLoader(\"/content/Art Collector personality types_ finish.pdf\")  # Replace with your PDF file path\n",
        "documents = pdf_loader.load()\n",
        "\n",
        "# Step 2: Split Text into Chunks\n",
        "text_splitter = RecursiveCharacterTextSplitter(chunk_size=500, chunk_overlap=50)\n",
        "texts = text_splitter.split_documents(documents)\n",
        "\n",
        "# Step 3: Generate Embeddings and Store in FAISS\n",
        "embeddings = OpenAIEmbeddings(openai_api_key=os.getenv(\"OPENAI_API_KEY\"))\n",
        "vectorstore = FAISS.from_documents(texts, embeddings)\n",
        "\n",
        "# Step 4: Initialize the Retriever and LLM\n",
        "retriever = vectorstore.as_retriever()\n",
        "llm = ChatOpenAI(openai_api_key=os.getenv(\"OPENAI_API_KEY\"), model=\"gpt-4o-mini\", temperature=0.5)\n",
        "\n",
        "# Step 5: Define a Function for RAG\n",
        "def rag_query(query):\n",
        "    # Retrieve relevant documents\n",
        "    retrieved_docs = retriever.invoke(query)\n",
        "    context = \"\\n\\n\".join([doc.page_content for doc in retrieved_docs[:2]])  # Combine top 2 results for context\n",
        "\n",
        "    # Pass retrieved context and query to the LLM\n",
        "    prompt = f\"Context:\\n{context}\\n\\nQuestion: {query}\\nAnswer:\"\n",
        "    response = llm.invoke(prompt)\n",
        "\n",
        "    return response.content\n",
        "\n",
        "# Step 6: Ask a Question\n",
        "query = \"What are the personality types described in the document?\"\n",
        "response = rag_query(query)\n",
        "\n",
        "# Step 7: Display the Response\n",
        "print(\"\\nQuestion:\", query)\n",
        "print(\"\\nAnswer:\", response)\n"
      ],
      "metadata": {
        "id": "M0tiSUh2xTQU",
        "colab": {
          "base_uri": "https://localhost:8080/"
        },
        "outputId": "08d50bd1-e60e-4ac5-f43e-624c00a90743"
      },
      "execution_count": 38,
      "outputs": [
        {
          "output_type": "stream",
          "name": "stdout",
          "text": [
            "\n",
            "Question: What are the personality types described in the document?\n",
            "\n",
            "Answer: The document specifically describes the \"Futurist collector\" personality type. Additionally, it mentions that most collectors are a combination of several personality types, indicating that there are other personality types not explicitly detailed in the provided context. However, the document does not list or define these other personality types.\n"
          ]
        }
      ]
    },
    {
      "cell_type": "markdown",
      "source": [
        "The current output is very poor. The PDF is all about the different art investor personality types, bu the respone says \"the document does not list or define these other personality types.\"\n",
        "\n",
        "The quality of the output depends on how well each step of the **RAG pipeline** works: **loading the document**, **splitting it into meaningful chunks**, **embedding the text**, **retrieving relevant context**, and **generating accurate responses**.\n",
        "\n",
        "To systematically **debug and improve** the code, we’ll break the workflow into steps and verify each one. This way, we can pinpoint where the breakdown happens and ensure the pipeline works as expected.\n",
        "\n",
        "---\n",
        "\n",
        "### **Step-by-Step RAG Debugging Plan**\n",
        "1. **Verify PDF Loading**: Ensure the text is being extracted correctly from the PDF.\n",
        "2. **Inspect Text Splitting**: Check that the text is split into coherent chunks.\n",
        "3. **Check Embeddings**: Verify embeddings are created and stored successfully.\n",
        "4. **Test Retrieval**: Confirm the retriever returns relevant chunks.\n",
        "5. **Improve Generation**: Optimize how retrieved context is passed to the LLM.\n",
        "\n",
        "---\n",
        "\n",
        "### **Step 1: Verify PDF Loading**\n",
        "We’ll start by loading the PDF and printing the raw text to ensure the content is being extracted correctly.\n",
        "\n",
        "### **What to Look For**:\n",
        "- Is the extracted text accurate, without weird artifacts (numbers, broken sentences, etc.)?\n",
        "- Does the content include the descriptions of art collector personality types?\n",
        "\n",
        "If the output contains page numbers, extra whitespace, or formatting artifacts, we’ll clean it up before moving to the next step.\n",
        "\n",
        "\n"
      ],
      "metadata": {
        "id": "N86iSr4CqRFL"
      }
    },
    {
      "cell_type": "code",
      "source": [
        "from langchain.document_loaders import PyPDFLoader\n",
        "\n",
        "# Step 1: Load the PDF Document\n",
        "pdf_loader = PyPDFLoader(\"/content/Art Collector personality types_ finish.pdf\")\n",
        "documents = pdf_loader.load()\n",
        "\n",
        "# Step 2: Print Raw Content of the PDF\n",
        "print(\"Raw PDF Content (First Page):\\n\")\n",
        "print(documents[0].page_content[:2000])  # Print first 2000 characters of the first page"
      ],
      "metadata": {
        "colab": {
          "base_uri": "https://localhost:8080/"
        },
        "id": "IUZfJH8hrGpm",
        "outputId": "f2cbcd9e-1673-4ef7-d346-5096c5a87ca4"
      },
      "execution_count": 39,
      "outputs": [
        {
          "output_type": "stream",
          "name": "stdout",
          "text": [
            "Raw PDF Content (First Page):\n",
            "\n",
            "rt \n",
            "Collector \n",
            "personality \n",
            "types\n",
            "\n"
          ]
        }
      ]
    },
    {
      "cell_type": "markdown",
      "source": [
        "### PyMuPDF (fitz) – Best for Text-Based PDFs\n",
        "PyMuPDF is fast, lightweight, and works exceptionally well for extracting text from text-based PDFs."
      ],
      "metadata": {
        "id": "2K12VfS5uHBH"
      }
    },
    {
      "cell_type": "code",
      "source": [
        "import fitz  # PyMuPDF\n",
        "\n",
        "# Load PDF and extract text\n",
        "def extract_text_pymupdf(file_path):\n",
        "    doc = fitz.open(file_path)  # Open the PDF file\n",
        "    text = \"\"\n",
        "    for page in doc:\n",
        "        text += page.get_text()  # Extract text from each page\n",
        "    return text\n",
        "\n",
        "# Use the function\n",
        "pdf_path = \"/content/Art Collector personality types_ finish.pdf\"\n",
        "pdf_text = extract_text_pymupdf(pdf_path)\n",
        "\n",
        "# Print extracted text\n",
        "print(\"Extracted Text (First 2000 characters):\\n\")\n",
        "print(pdf_text[:2000])"
      ],
      "metadata": {
        "colab": {
          "base_uri": "https://localhost:8080/"
        },
        "id": "l1eR1HQRr0lr",
        "outputId": "648d3a58-2c45-43e4-8d29-5c97e8539c58"
      },
      "execution_count": 4,
      "outputs": [
        {
          "output_type": "stream",
          "name": "stdout",
          "text": [
            "Extracted Text (First 2000 characters):\n",
            "\n",
            "rt \n",
            "Collector \n",
            "personality \n",
            "types\n",
            "The Novice Collector: These are individuals just starting in the art collection \n",
            "world. They are eager, curious, and often rely on others' opinions or visible \n",
            "trends. For artists, understanding their tastes and guiding them can lead to \n",
            "a long-term patron relationship. Their inexperience can be an advantage \n",
            "because they might be more open to various art styles.\n",
            "The Niche Enthusiast: This collector looks for very specific art forms, be it \n",
            "abstract, surrealism, or any niche genre. They’re well-informed about their \n",
            "chosen niche and appreciate artists who excel within it. For artists, aligning \n",
            "with their niche preference is key to gain their attention.\n",
            "a. Offer educational content about art, perhaps \n",
            "through workshops. Assist them in understanding the \n",
            "intricacies of the art world.\n",
            "a. Showcase expertise within their preferred niche \n",
            "and become a go to resource to expand their \n",
            "understanding of that niche. Create niche specific \n",
            "content. Organize exhibitions that focus exclusively \n",
            "on their chosen genre.\n",
            "1\n",
            "2\n",
            "The Investment Collector: Primarily driven by the potential return on \n",
            "investment, these collectors buy artworks they believe will appreciate \n",
            "in value. Artists who’ve received media attention or have a growing \n",
            "reputation will particularly appeal to this group.\n",
            "The Speculative Collector: Unlike the Investment Collector who makes \n",
            "informed decisions based on an artist’s reputation and potential \n",
            "appreciation, the speculative collector takes risks on unknown or lesser-\n",
            "known artists hoping that their value will explode in the future. They are \n",
            "willing to bet on the underdogs of the art world.\n",
            "a. Provide data on past art sales, auction results, and \n",
            "any press coverage to highlight potential ROI. This \n",
            "could be a very powerful strategy for a newsletter of \n",
            "some sort.\n",
            "a.Introduce them to emerging talents with unique \n",
            "potential. Offer limited editions or exclusive previews \n",
            "to entice their risk-taking nature. Give them VIP \n",
            "access an\n"
          ]
        }
      ]
    },
    {
      "cell_type": "markdown",
      "source": [
        "### **Step 2: Clean and Split Text into Chunks**\n",
        "If Step 1 shows issues, we’ll clean the text before splitting. We’ll also print the chunks to ensure they make sense.\n",
        "\n",
        "### **What to Look For**:\n",
        "- Are the text chunks clean and coherent?\n",
        "- Do they retain enough context about art collector personality types?\n",
        "\n"
      ],
      "metadata": {
        "id": "r83raOJTq4Np"
      }
    },
    {
      "cell_type": "code",
      "source": [
        "# Step 1: Split Extracted Text into Chunks\n",
        "def split_text_to_chunks(text):\n",
        "    text_splitter = RecursiveCharacterTextSplitter(chunk_size=500, chunk_overlap=50)\n",
        "    chunks = text_splitter.create_documents([text])\n",
        "    return chunks\n",
        "\n",
        "# Use the function to split extracted text\n",
        "texts = split_text_to_chunks(pdf_text)\n",
        "\n",
        "# Step 2: Print Example Chunks\n",
        "print(\"Example Text Chunks:\\n\")\n",
        "for i, chunk in enumerate(texts[:2]):\n",
        "    print(f\"Chunk {i+1}:\\n{chunk.page_content}\\n\")\n"
      ],
      "metadata": {
        "id": "WqAk4iQPxTN_",
        "colab": {
          "base_uri": "https://localhost:8080/"
        },
        "outputId": "bed0fe75-4092-415c-e888-751936b2d691"
      },
      "execution_count": 6,
      "outputs": [
        {
          "output_type": "stream",
          "name": "stdout",
          "text": [
            "Example Text Chunks:\n",
            "\n",
            "Chunk 1:\n",
            "rt \n",
            "Collector \n",
            "personality \n",
            "types\n",
            "\n",
            "\f\f\f1\n",
            "\n",
            "The Novice Collector: These are individuals just starting in the art collection \n",
            "world. They are eager, curious, and often rely on others' opinions or visible \n",
            "\n",
            "trends. For artists, understanding their tastes and guiding them can lead to \n",
            "\n",
            "a long-term patron relationship. Their inexperience can be an advantage \n",
            "\n",
            "because they might be more open to various art styles.\n",
            "\n",
            "Chunk 2:\n",
            "a. Offer educational content about art, perhaps \n",
            "through workshops. Assist them in understanding the \n",
            "\n",
            "intricacies of the art world.\n",
            "\n",
            "The Niche Enthusiast: This collector looks for very specific art forms, be it \n",
            "abstract, surrealism, or any niche genre. They’re well-informed about their \n",
            "\n",
            "chosen niche and appreciate artists who excel within it. For artists, aligning \n",
            "\n",
            "with their niche preference is key to gain their attention.\n",
            "\n",
            "2\n",
            "\n"
          ]
        }
      ]
    },
    {
      "cell_type": "markdown",
      "source": [
        "The output from **text chunking** shows some issues, but it’s close to being usable. Here's a detailed breakdown:\n",
        "\n",
        "---\n",
        "\n",
        "### **Issues with the Chunks**\n",
        "1. **Artifacts**:\n",
        "   - The first chunk contains stray characters like **`rt`** and `1` that don’t belong to the actual content.\n",
        "   - These artifacts are likely remnants of formatting, headers, or footers extracted during PDF parsing.\n",
        "\n",
        "2. **Improper Separation**:\n",
        "   - The start of **Chunk 2** (\"a. Offer educational content...\") appears disconnected from the preceding content, making it unclear if it belongs to \"The Novice Collector\" or a separate section.\n",
        "\n",
        "3. **Loss of Context**:\n",
        "   - Descriptions of collector types like **\"The Novice Collector\"** and **\"The Niche Enthusiast\"** are split across chunks, which could impact retrieval and final answer generation.\n",
        "\n",
        "---\n",
        "\n",
        "### **How to Fix It**\n",
        "\n",
        "We’ll improve the chunking process by:\n",
        "1. **Pre-cleaning the Text**: Remove stray characters, unnecessary whitespace, and any page artifacts.\n",
        "2. **Improving Chunk Boundaries**: Use paragraph-based splitting instead of character splitting to preserve context better.\n",
        "\n",
        "---\n",
        "\n",
        "### **Improved Text Splitting: Paragraph-Based Chunks**\n",
        "We'll clean the extracted text and split it into logical chunks based on paragraphs, ensuring better context preservation.\n",
        "\n",
        "\n",
        "### **What’s Improved**\n",
        "1. **Artifacts Removed**: Stray characters like `rt` and `1` are cleaned out.\n",
        "2. **Logical Chunks**: The text is split into **paragraph-based chunks** instead of cutting arbitrarily at character limits.\n",
        "3. **Context Retained**: Descriptions of collector types (like \"The Novice Collector\") are preserved within the same chunk.\n",
        "\n"
      ],
      "metadata": {
        "id": "FZkM7IRNvD9N"
      }
    },
    {
      "cell_type": "code",
      "source": [
        "# Step 1: Pre-cleaning Function\n",
        "def clean_text(text):\n",
        "    text = re.sub(r'\\s*\\d+\\s*', '', text)  # Remove isolated numbers\n",
        "    text = re.sub(r'\\n+', '\\n', text)  # Replace multiple newlines with a single newline\n",
        "    text = re.sub(r'\\s+', ' ', text).strip()  # Remove extra spaces\n",
        "    return text\n",
        "\n",
        "# Step 2: Split Text into Paragraphs\n",
        "def split_text_by_paragraphs(text):\n",
        "    paragraphs = [p.strip() for p in text.split(\"\\n\") if p.strip()]\n",
        "    return paragraphs\n",
        "\n",
        "# Step 3: Split Cleaned Paragraphs into Chunks\n",
        "def split_paragraphs_to_chunks(paragraphs, chunk_size=500, chunk_overlap=50):\n",
        "    text_splitter = RecursiveCharacterTextSplitter(chunk_size=chunk_size, chunk_overlap=chunk_overlap)\n",
        "    chunks = text_splitter.create_documents(paragraphs)\n",
        "    return chunks\n",
        "\n",
        "# Step 4: Apply Cleaning and Chunking\n",
        "cleaned_text = clean_text(pdf_text)  # Clean the extracted text\n",
        "paragraphs = split_text_by_paragraphs(cleaned_text)  # Split text into paragraphs\n",
        "chunks = split_paragraphs_to_chunks(paragraphs)  # Create chunks\n",
        "\n",
        "# Step 5: Print Example Chunks\n",
        "print(\"Improved Text Chunks:\\n\")\n",
        "for i, chunk in enumerate(chunks[:2]):\n",
        "    print(f\"Chunk {i+1}:\\n{chunk.page_content}\\n\")"
      ],
      "metadata": {
        "colab": {
          "base_uri": "https://localhost:8080/"
        },
        "id": "6X1uO20HvDvI",
        "outputId": "30283898-2cd3-4fdf-8c9e-4cf435bcd7cd"
      },
      "execution_count": 12,
      "outputs": [
        {
          "output_type": "stream",
          "name": "stdout",
          "text": [
            "Improved Text Chunks:\n",
            "\n",
            "Chunk 1:\n",
            "rt Collector personality typesThe Novice Collector: These are individuals just starting in the art collection world. They are eager, curious, and often rely on others' opinions or visible trends. For artists, understanding their tastes and guiding them can lead to a long-term patron relationship. Their inexperience can be an advantage because they might be more open to various art styles. a. Offer educational content about art, perhaps through workshops. Assist them in understanding the\n",
            "\n",
            "Chunk 2:\n",
            "workshops. Assist them in understanding the intricacies of the art world. The Niche Enthusiast: This collector looks for very specific art forms, be it abstract, surrealism, or any niche genre. They’re well-informed about their chosen niche and appreciate artists who excel within it. For artists, aligning with their niche preference is key to gain their attention.a. Showcase expertise within their preferred niche and become a go to resource to expand their understanding of that niche. Create\n",
            "\n"
          ]
        }
      ]
    },
    {
      "cell_type": "markdown",
      "source": [
        "\n",
        "\n",
        "### **Improved Approach: Identify and Split Personality Types**\n",
        "\n",
        "1. **Define Patterns**: Identify where each personality type starts using keywords like \"The [Personality Type]\".\n",
        "2. **Chunk by Patterns**: Split the text logically based on these patterns so that each chunk corresponds to one personality type.\n",
        "\n",
        "---\n",
        "\n",
        "### **What This Code Does**\n",
        "1. **Clean the Text**:\n",
        "   - Removes unnecessary artifacts like numbers, extra whitespace, and multiple newlines.\n",
        "\n",
        "2. **Split by Pattern**:\n",
        "   - Uses a regex pattern `r\"(?=The [A-Z][a-z]+ Collector:)\"` to find and split the text at each personality type starting with \"The\".\n",
        "\n",
        "3. **Output Logical Chunks**:\n",
        "   - Each chunk corresponds to one personality type (e.g., \"The Novice Collector\", \"The Niche Enthusiast\").\n",
        "\n"
      ],
      "metadata": {
        "id": "HkeA3MzZwtxG"
      }
    },
    {
      "cell_type": "code",
      "source": [
        "# Step 1: Pre-cleaning Function\n",
        "def clean_text(text):\n",
        "    text = re.sub(r'\\s*\\d+\\s*', '', text)  # Remove isolated numbers\n",
        "    text = re.sub(r'\\n+', '\\n', text)  # Replace multiple newlines with a single newline\n",
        "    text = re.sub(r'\\s+', ' ', text).strip()  # Remove extra spaces\n",
        "    return text\n",
        "\n",
        "# Step 2: Split Text into Personality Types\n",
        "def split_by_personality_types(text):\n",
        "    # Use regex to find each personality type starting with \"The\"\n",
        "    pattern = r\"(?=The [A-Z][a-z]+ Collector:)\"  # Look for \"The [Name] Collector:\"\n",
        "    chunks = re.split(pattern, text)\n",
        "\n",
        "    # Add back the split pattern \"The\" to each chunk\n",
        "    formatted_chunks = [chunk.strip() for chunk in chunks if chunk.strip()]\n",
        "    return formatted_chunks\n",
        "\n",
        "# Step 3: Apply Cleaning and Chunking\n",
        "cleaned_text = clean_text(pdf_text)  # Clean the extracted text\n",
        "personality_chunks = split_by_personality_types(cleaned_text)  # Split by personality types\n",
        "\n",
        "# Step 4: Print Each Personality Type Chunk\n",
        "print(\"Personality Type Chunks:\\n\")\n",
        "for i, chunk in enumerate(personality_chunks):\n",
        "    print(f\"Chunk {i+1}:\\n{chunk}\\n\")\n"
      ],
      "metadata": {
        "colab": {
          "base_uri": "https://localhost:8080/"
        },
        "id": "GQsfyvVbvDsS",
        "outputId": "9ca04de1-dcb6-4eb8-f05a-fe128f9c1421"
      },
      "execution_count": 13,
      "outputs": [
        {
          "output_type": "stream",
          "name": "stdout",
          "text": [
            "Personality Type Chunks:\n",
            "\n",
            "Chunk 1:\n",
            "rt Collector personality types\n",
            "\n",
            "Chunk 2:\n",
            "The Novice Collector: These are individuals just starting in the art collection world. They are eager, curious, and often rely on others' opinions or visible trends. For artists, understanding their tastes and guiding them can lead to a long-term patron relationship. Their inexperience can be an advantage because they might be more open to various art styles. a. Offer educational content about art, perhaps through workshops. Assist them in understanding the intricacies of the art world. The Niche Enthusiast: This collector looks for very specific art forms, be it abstract, surrealism, or any niche genre. They’re well-informed about their chosen niche and appreciate artists who excel within it. For artists, aligning with their niche preference is key to gain their attention.a. Showcase expertise within their preferred niche and become a go to resource to expand their understanding of that niche. Create niche specific content. Organize exhibitions that focus exclusively on their chosen genre.\n",
            "\n",
            "Chunk 3:\n",
            "The Investment Collector: Primarily driven by the potential return on investment, these collectors buy artworks they believe will appreciate in value. Artists who’ve received media attention or have a growing reputation will particularly appeal to this group.a. Provide data on past art sales, auction results, and any press coverage to highlight potential ROI. This could be a very powerful strategy for a newsletter of some sort.\n",
            "\n",
            "Chunk 4:\n",
            "The Speculative Collector: Unlike the Investment Collector who makes informed decisions based on an artist’s reputation and potential appreciation, the speculative collector takes risks on unknown or lesser- known artists hoping that their value will explode in the future. They are willing to bet on the underdogs of the art world. a.Introduce them to emerging talents with unique potential. Offer limited editions or exclusive previews to entice their risk-taking nature. Give them VIP access and access to things that other collectors/ people don’t have access to.The Trend Follower: They’re all about what’s “in.” They buy artworks that are trending or popular at the moment. For artists, being visible and trendy, especially on platforms like Instagram, is a sure way to catch their eye. a. Stay updated with art trends. Engage actively on social media platforms and ensure presence in contemporary art galleries. I’m thinking about a series of content pieces around “artists to watch” or “most trending artists at this moment” type of stuff. The Emotional Buyer: This collector buys art that resonates with them on a deep, emotional level. It’s less about the art’s potential value and more about personal connection. For artists, storytelling and personal connection through their art can be the key to attracting these collectors. a. Read books on storytelling and building emotional connections (thinking about stories that stick by Kindra Hall for example) Share the personal stories and inspirations behind each artwork, making it easier for them to connect.\n",
            "\n",
            "Chunk 5:\n",
            "The Social Collector: For them, collecting art is also about socializing. They love to attend gallery openings, art fairs, and enjoy the social status that comes with being an art collector. Artists who are socially active and frequently participate in events may draw their attention.a. Organize or participate in gallery openings, art events, and artist meet-and-greets. You could organize monthly events at your studio that are oriented towards building new connections for people in the field.The Philanthropic/Patron Collector: They believe in supporting artists and often buy from emerging talents, providing them with the necessary financial support. Artists who are just starting or struggling might find a benefactor in them. Going beyond just purchasing, these collectors may sponsor artists, provide them with resources, or commission specific works. Forming a relationship with such a collector can provide a beginner artist with significant support. a. Create a portfolio of works that showcase potential, and seek mentorship or sponsorship opportunities with these collectors. A good approach will be to participate in artist residencies which often times attracts these types of buyers.The Aesthete: For these collectors, it’s all about beauty. They look for artworks that appeal to their sense of aesthetics and beauty. An artist whose work is visually stunning and aligns with the collector’s aesthetic taste will be attractive to this group. a. Focus on creating visually appealing exhibitions and provide high-quality visuals of art pieces. Have a very rigid approach to building your skills so that these collectors are constantly seeing you evolve and become better within your aesthetic which will make sure they cannot resist following your journey.\n",
            "\n",
            "Chunk 6:\n",
            "The Historical Collector: They’re interested in collecting artworks that have a historical or cultural significance. For artists, contextualizing their art in a broader historical or cultural narrative can appeal to these collectors.a. Provide detailed descriptions, emphasizing the historical and cultural significance of the artworks. Build the bridge between each artwork and it’s historical context. Talk to people from the academic field about those historical references and build connections out with them.\n",
            "\n",
            "Chunk 7:\n",
            "The Heritage Collector: This collector is a subcategory of the historical collector. Driven by a desire to connect with or preserve their personal or cultural heritage, these collectors look for art that reflects their own background, history, or lineage. Artists who create works that tap into these narratives can find a dedicated audience here. a. Connect with community events or institutions to highlight works that showcase heritage and culture.\n",
            "\n",
            "Chunk 8:\n",
            "The Global Collector: Open to various cultures and styles, they look for artworks from different parts of the world. Artists from diverse backgrounds or those whose work reflects global themes can appeal to this group. a. Showcase art from diverse cultures and backgrounds, and perhaps organize global art exhibitions.\n",
            "\n",
            "Chunk 9:\n",
            "The Thematic Collector: These collectors are driven by specific themes, such as love, nature, war, or other motifs. Artists who create work around distinct themes might resonate deeply with these collectors. a. Organize exhibitions or series based on popular themes that resonate with these collectors. The Medium-Specific Aficionado: They are particularly interested in one medium, be it sculptures, ceramics, digital art, or another form. Artists who specialize in a specific medium can target these collectors effectively.a. Host or participate in medium-specific exhibitions or workshops. Become an expert in your medium and only make art in that medium to re-enforce that feeling of expertise within the medium.\n",
            "\n",
            "Chunk 10:\n",
            "The Celebrity Collector: Often high-profile individuals or celebrities, they tend to buy art as both an investment and a statement. An endorsement or purchase from such a collector can boost an artist’s profile immensely.a. Engage in high-profile art events or collaborate with influencers on social media. Look at engagement rates, follower counts and views to base your collaboration decisions on. Become an influencer yourself so that you can add a brand building aspect to your products where celebs know that buying from you will strengthen their brand. Dedicate a portion of you social media to showcasing the connections you make and the people you know, having pictures of you at events with them is going to be part of your approach.\n",
            "\n",
            "Chunk 11:\n",
            "The Prestige Collector: Driven by brand names and well-established artists, they often aim to showcase their collection as a status symbol. Emerging artists might find it challenging to break into their radar, but those with a growing reputation or accolades can find favor. This is not a collector beginner artists should be focusing on. a. Aim for recognition in prestigious art awards or affiliations with renowned art institutions. Museums are your friend, solo exhibitions are your friend and a lot of the traditional ways will be your approach.The Tech-Savvy Collector: This modern collector is intrigued by art that incorporates or is centered around technology, such as digital art, VR art, or AI-generated art. Artists who blend tech into their creations can appeal to this forward-thinking group. a. Incorporate technology into artworks or presentations, like augmented reality art viewings.\n",
            "\n",
            "Chunk 12:\n",
            "The Digital Collector: With the rise of NFTs (non-fungible tokens) and blockchain, this collector is focused solely on digital artworks. They might be trading digital art pieces, buying rare NFTs, or exploring virtual galleries. Artists who have ventured into the NFT space might find this category especially relevant. a. Venture into the world of NFTs or offer digital prints/ experiences. Become an advocate for the new NFT world so that these collectors see that you are fighting for the cause that they believe in. Social media will be your friend if this is your approach. The Pop-Culture Enthusiast: These collectors are drawn to art that references or is inspired by popular culture, movies, music, or current events. Artists who tap into contemporary pop culture can attract this group.a. Incorporate contemporary references in artworks and engage with pop culture communities.The Eco-Focused Collector: Passionate about the environment and sustainability, these collectors seek art that reflects those values, whether in theme or in the materials used. Artists with a green approach can find patrons here. a. Emphasize sustainable methods or materials used and perhaps collaborate with eco- focused organizations. Put Eco into every single thing you do. For example: become part of the stripe (payment processing system) eco group where a portion of all payments on your website are going to ecological causes.The Local Lover: They focus primarily on supporting and buying art from local artists or their own community. Artists can connect with these collectors by participating in local events or highlighting local themes. a. Engage in local art communities, participate in community events, and emphasize local themes.\n",
            "\n",
            "Chunk 13:\n",
            "The Experimental Collector: Always on the lookout for avant-garde, unique, or experimental art. For artists who push boundaries and aren’t afraid to try unconventional methods or ideas, these collectors could become staunch supporters. a. Push artistic boundaries. Host experimental art exhibitions or collaborative projects. Controversy will be your friend, reach out to magazines who like controversial experimental topics and make sure they write about your work from that perspective.The Design-Driven Collector: Often interior designers or decor enthusiasts, they buy art to complement specific design aesthetics or to make a statement in a living space. Artists whose work aligns with popular interior design trends or timeless styles can capture this audience. a. Collaborate with interior designers or offer art pieces that align with current design trends. Focus on the most amazing color palette’s, have a swipe file of interiors that you use as inspiration for making art, make sure your work hangs in the best interiors imaginable. Dedicate a portion of your social media efforts in showcasing the design elements of interiors and not just your art only.\n",
            "\n",
            "Chunk 14:\n",
            "The Corporate Collector: These are businesses or corporate entities buying art for their offices, lobbies, or corporate events. The intent is often to improve workplace aesthetics, inspire creativity, or to enhance their brand image. Artists who can create large-scale works or pieces that resonate with corporate values can find opportunities here. a. Offer corporate packages or create art that aligns with corporate values. I’m thinking about: Corporate Art Leasing, Tailored Commissions, Team Building Workshops, Corporate Gifting, Lobby Installations, Art Consultation for their corporate spaces,The Gallery Affiliate: These collectors are often linked to or own galleries. They look for artists who not only fit their gallery’s theme but also have potential for future exhibitions. Building relationships with these collectors can lead to long-term gallery representation. a. Build relationships with galleries and offer exclusivity or commission-based partnerships.\n",
            "\n",
            "Chunk 15:\n",
            "The Commemorative Collector: They buy art to commemorate important milestones in their lives, such as anniversaries, achievements, or memories. Artists who can personalize works or capture emotions will appeal to them. a. Offer personalization services or create art series centered around life’s milestones.\n",
            "\n",
            "Chunk 16:\n",
            "The Educator Collector: Often educators or academicians, they buy art to teach, for research, or to promote artistic appreciation among students. Artists who produce thought-provoking or historically relevant works can find a niche with this group. a. Offer educational discounts and make it easy for educational institutions to collaborate with you. I’m thinking about: Educator Discounts, Workshops for Students, Collaborative Research (work with academics on research projects), Art Loan Programs,… Interactive Exhibitions: Create exhibitions within educational institutions that not only display art but also encourage viewer interaction, fostering deeper engagement and understanding.The Cause-Supporting Collector: These collectors purchase art to support specific causes or charities. Whether it’s social justice, animal rights, or any other cause, artists who align with these values or contribute to these causes can attract their attention. a. Partner with NGOs or create art series that support specific causes.\n",
            "\n",
            "Chunk 17:\n",
            "The Traveler Collector: They collect art from places they’ve visited, encapsulating memories of their journeys. Artists from tourist destinations or those capturing the essence of a location can cater to these collectors. a. Capture the essence of popular destinations or offer artworks at tourist hotspots.The Art Fair Regular: These collectors are frequent visitors to art fairs, looking for new talents and pieces to add to their collections. Presence in prominent art fairs can help artists get noticed by this group. a. Ensure a presence at major art fairs and engage with regular attendees. Put a large portion of your advertisement and marketing budget in art fair representation and art fair things.The Family Legacy Collector: They inherit and continue the art collection legacy of their families. They often look for artworks that complement their existing collection. Artists whose style or theme aligns with historic or time-honored traditions can be of interest to them. a. Research historic art trends and create complementary pieces that align with such traditions.The Bargain Hunter: This collector is always on the lookout for undervalued pieces, estate sales, or artists who haven’t been ‘discovered’ yet. They pride themselves on getting art at a lower price point and potentially finding hidden gems. This collector is not necessarily cheap. What they value is the ability to brag about what amazing decisions they’ve made and how they foresee the future. The art becomes a representation of their ability to find undervalued things. a. Offer occasional discounts, bundle deals, or spotlight emerging talents with affordable art. Provide insights into the potential of undervalued pieces.Futurist collector: Collectors that are market mavens with a particular taste that is very, very specific. They have a vision about the art world right now and about what art and beauty should be in the future, and they collect in line with that vision. They only collect in line with that vision. a. Join panels, symposiums, or talks focusing on the future of art. This can elevate your reputation in the eyes of Futurist collectors as well as help you connect with them. Aim to have your works featured in avant-garde galleries or spaces known for cutting-edge contemporary art. These don’t have to be high end galleries.Combo: The reality is that most collectors are a combination of several personality types addressed here. It’s important to understand that collectors are rarely one personality type only. Note: The rules in the art world are very simple. Whoever understands art collectors best will have the best offer and whoever has the best offer will sell most art. This is a game that is won through psychology. I’m sure you will be able to use this collector personality type list without my help since you are more than capable of figuring things out on your own. But if you would like some help. I have a section in The Artist Formula where I explain how I use this to make an offer that is irresistible to collectors. And if you want more free tools go to driesketels.com\n",
            "\n"
          ]
        }
      ]
    },
    {
      "cell_type": "markdown",
      "source": [
        "\n",
        "\n",
        "### **Step 3: Embed and Store Chunks**\n",
        "Once the text is clean and chunked, we’ll generate embeddings and confirm the vector database is built successfully.\n",
        "\n"
      ],
      "metadata": {
        "id": "gacXPKJgq8k2"
      }
    },
    {
      "cell_type": "code",
      "source": [
        "# Generate Embeddings and Store in FAISS\n",
        "embeddings = OpenAIEmbeddings(openai_api_key=os.getenv(\"OPENAI_API_KEY\"))\n",
        "vectorstore = FAISS.from_documents(texts, embeddings)\n",
        "\n",
        "print(\"Embeddings created and stored successfully!\")\n",
        "print(f\"Number of Chunks Indexed: {len(texts)}\")"
      ],
      "metadata": {
        "colab": {
          "base_uri": "https://localhost:8080/"
        },
        "id": "YLa8r22LWFSp",
        "outputId": "0156777b-944a-4ef0-9fb1-b7eb55c42f1d"
      },
      "execution_count": 15,
      "outputs": [
        {
          "output_type": "stream",
          "name": "stdout",
          "text": [
            "Embeddings created and stored successfully!\n",
            "Number of Chunks Indexed: 40\n"
          ]
        }
      ]
    },
    {
      "cell_type": "markdown",
      "source": [
        "\n",
        "\n",
        "### **Step 4: Test Retrieval**\n",
        "We’ll test the retriever to confirm it returns relevant chunks when queried.\n",
        "\n",
        "\n",
        "### **What to Look For**:\n",
        "- Do the retrieved chunks contain relevant content about the **personality types** of art collectors?\n",
        "- If not, the embedding or chunking strategy may need further tuning.\n",
        "\n"
      ],
      "metadata": {
        "id": "e2J-lcfZrAg4"
      }
    },
    {
      "cell_type": "code",
      "source": [
        "# Initialize Retriever\n",
        "retriever = vectorstore.as_retriever()\n",
        "\n",
        "# Query the Knowledge Base\n",
        "query = \"What are the personality types of art collectors described in the document?\"\n",
        "retrieved_docs = retriever.invoke(query)\n",
        "\n",
        "# Display Retrieved Chunks\n",
        "print(\"Top Retrieved Chunks:\\n\")\n",
        "for i, doc in enumerate(retrieved_docs[:2]):\n",
        "    print(f\"Chunk {i+1}:\\n{doc.page_content}\\n\")"
      ],
      "metadata": {
        "colab": {
          "base_uri": "https://localhost:8080/"
        },
        "id": "WiTenPJdWFOu",
        "outputId": "f12d1c3a-ad93-4c5b-d4ac-067789a86950"
      },
      "execution_count": 16,
      "outputs": [
        {
          "output_type": "stream",
          "name": "stdout",
          "text": [
            "Top Retrieved Chunks:\n",
            "\n",
            "Chunk 1:\n",
            "rt \n",
            "Collector \n",
            "personality \n",
            "types\n",
            "\n",
            "\f\f\f1\n",
            "\n",
            "The Novice Collector: These are individuals just starting in the art collection \n",
            "world. They are eager, curious, and often rely on others' opinions or visible \n",
            "\n",
            "trends. For artists, understanding their tastes and guiding them can lead to \n",
            "\n",
            "a long-term patron relationship. Their inexperience can be an advantage \n",
            "\n",
            "because they might be more open to various art styles.\n",
            "\n",
            "Chunk 2:\n",
            "a. Offer educational content about art, perhaps \n",
            "through workshops. Assist them in understanding the \n",
            "\n",
            "intricacies of the art world.\n",
            "\n",
            "The Niche Enthusiast: This collector looks for very specific art forms, be it \n",
            "abstract, surrealism, or any niche genre. They’re well-informed about their \n",
            "\n",
            "chosen niche and appreciate artists who excel within it. For artists, aligning \n",
            "\n",
            "with their niche preference is key to gain their attention.\n",
            "\n",
            "2\n",
            "\n"
          ]
        }
      ]
    },
    {
      "cell_type": "markdown",
      "source": [
        "\n",
        "### **Step 5: Improve Generation**\n",
        "Once we verify retrieval is working correctly, we’ll pass the retrieved chunks as context to the LLM in a clean and structured prompt.\n",
        "\n",
        "### **What This Does**:\n",
        "1. Combines the **retrieved chunks** into a clear, structured context.\n",
        "2. Passes the context and query to the LLM, ensuring it focuses on the relevant information.\n",
        "\n",
        "---\n",
        "\n",
        "### **Summary of Steps**\n",
        "1. **Load and Verify PDF**: Ensure text is extracted accurately.\n",
        "2. **Clean and Split**: Clean up artifacts and split text into coherent chunks.\n",
        "3. **Embed and Store**: Generate embeddings and confirm vector storage.\n",
        "4. **Test Retrieval**: Verify that relevant chunks are being retrieved.\n",
        "5. **Generate Answer**: Pass clean, structured context to the LLM for accurate responses.\n",
        "\n"
      ],
      "metadata": {
        "id": "tKYF0m9nrD_1"
      }
    },
    {
      "cell_type": "code",
      "source": [
        "# Initialize LLM\n",
        "llm = ChatOpenAI(openai_api_key=os.getenv(\"OPENAI_API_KEY\"), model=\"gpt-4o-mini\", temperature=0.5)\n",
        "\n",
        "# Combine Retrieved Chunks as Context\n",
        "context = \"\\n\\n\".join([doc.page_content for doc in retrieved_docs[:]])\n",
        "prompt = f\"Context:\\n{context}\\n\\nQuestion: What are the personality types of art collectors described in the document?\\nAnswer:\"\n",
        "\n",
        "# Generate Answer\n",
        "response = llm.invoke(prompt)\n",
        "\n",
        "# Display the Answer\n",
        "print(\"\\nGenerated Answer:\\n\")\n",
        "print(response.content)"
      ],
      "metadata": {
        "colab": {
          "base_uri": "https://localhost:8080/"
        },
        "id": "0y1sWFA3xgBr",
        "outputId": "7fe38769-7f16-4e91-ea86-27a2615ff232"
      },
      "execution_count": 18,
      "outputs": [
        {
          "output_type": "stream",
          "name": "stdout",
          "text": [
            "\n",
            "Generated Answer:\n",
            "\n",
            "The document describes the following personality types of art collectors:\n",
            "\n",
            "1. **The Novice Collector**: Individuals just starting in the art collection world, eager and curious, often relying on others' opinions or trends.\n",
            "\n",
            "2. **The Niche Enthusiast**: Collectors who seek specific art forms or genres, well-informed about their chosen niche and appreciate artists excelling within it.\n",
            "\n",
            "3. **The Investment Collector**: Collectors primarily driven by the potential return on investment, looking for artworks that will appreciate in value.\n",
            "\n",
            "4. **The Aesthete**: Collectors who focus on beauty and seek artworks that appeal to their sense of aesthetics.\n"
          ]
        }
      ]
    },
    {
      "cell_type": "markdown",
      "source": [
        "\n",
        "The chunking now accurately splits the PDF into logical, well-separated sections for each personality type of art collector. Each chunk aligns with a specific category (e.g., *The Novice Collector*, *The Niche Enthusiast*, etc.), preserving context and readability.\n",
        "\n",
        "---\n",
        "\n",
        "### **Next Steps: Enhancing RAG**\n",
        "\n",
        "Now that we have clean and meaningful chunks, let’s move forward to build the **retrieval-augmented generation (RAG)** pipeline. Here's what we’ll do:\n",
        "\n",
        "1. **Embed the Chunks**: Convert each chunk into vector embeddings and store them in a **FAISS** vector database.\n",
        "2. **Query the Chunks**: Use a retriever to fetch the most relevant personality type based on a question.\n",
        "3. **Generate an Answer**: Combine the retrieved content with a natural-language query, and use an LLM to generate a clear, concise answer.\n",
        "\n",
        "---\n",
        "\n",
        "### **Explanation of Steps**\n",
        "\n",
        "1. **Text Cleaning**:\n",
        "   - Removes artifacts (numbers, line breaks) for clean processing.\n",
        "\n",
        "2. **Regex-Based Chunking**:\n",
        "   - Each chunk corresponds to a specific **art collector personality type**.\n",
        "   - Regex: `(?=The [A-Z][a-z]+ Collector:)` detects patterns where each collector type starts.\n",
        "\n",
        "3. **Embedding Chunks**:\n",
        "   - Converts the personality type chunks into **embeddings** using `OpenAIEmbeddings`.\n",
        "   - Stores the embeddings in a **FAISS** vector database for fast semantic retrieval.\n",
        "\n",
        "4. **Retrieval and Generation**:\n",
        "   - The query fetches the top 2 most relevant chunks.\n",
        "   - The retrieved chunks are passed as **context** to the LLM to generate an answer.\n",
        "\n",
        "\n",
        "\n",
        "### **Why This is Effective for RAG**\n",
        "- **Accurate Retrieval**: Each chunk is logically aligned with a personality type, making retrieval precise.\n",
        "- **Improved Generation**: By using the retrieved context, the LLM focuses on generating a factually accurate and concise answer.\n"
      ],
      "metadata": {
        "id": "VBZmD54Ex3X-"
      }
    },
    {
      "cell_type": "code",
      "source": [
        "# Step 1: Pre-cleaning Function\n",
        "def clean_text(text):\n",
        "    text = re.sub(r'\\s*\\d+\\s*', '', text)  # Remove isolated numbers\n",
        "    text = re.sub(r'\\n+', '\\n', text)  # Replace multiple newlines with a single newline\n",
        "    text = re.sub(r'\\s+', ' ', text).strip()  # Remove extra spaces\n",
        "    return text\n",
        "\n",
        "# Step 2: Embed and Store the Chunks\n",
        "def create_vectorstore(text):\n",
        "    # Split by personality types\n",
        "    personality_chunks = re.split(r\"(?=The [A-Z][a-z]+ Collector:)\", text)\n",
        "    formatted_chunks = [chunk.strip() for chunk in personality_chunks if chunk.strip()]\n",
        "\n",
        "    # Convert into LangChain documents\n",
        "    from langchain.docstore.document import Document\n",
        "    documents = [Document(page_content=chunk) for chunk in formatted_chunks]\n",
        "\n",
        "    # Create embeddings and store in FAISS\n",
        "    embeddings = OpenAIEmbeddings(openai_api_key=os.getenv(\"OPENAI_API_KEY\"))\n",
        "    vectorstore = FAISS.from_documents(documents, embeddings)\n",
        "    return vectorstore\n",
        "\n",
        "# Step 3: Query the Vectorstore and Generate Answers\n",
        "def rag_pipeline(vectorstore, query):\n",
        "    # Initialize Retriever\n",
        "    retriever = vectorstore.as_retriever()\n",
        "    retrieved_docs = retriever.invoke(query)\n",
        "\n",
        "    # Combine Retrieved Content\n",
        "    context = \"\\n\\n\".join([doc.page_content for doc in retrieved_docs[:2]])\n",
        "\n",
        "    # Pass to LLM\n",
        "    llm = ChatOpenAI(openai_api_key=os.getenv(\"OPENAI_API_KEY\"), model=\"gpt-4o-mini\", temperature=0.5)\n",
        "    prompt = f\"Context:\\n{context}\\n\\nQuestion: {query}\\nAnswer:\"\n",
        "    response = llm.invoke(prompt)\n",
        "\n",
        "    return response.content\n",
        "\n",
        "# Step 4: Run the RAG Pipeline\n",
        "if __name__ == \"__main__\":\n",
        "    # Load Cleaned Text\n",
        "    cleaned_text = clean_text(pdf_text)\n",
        "\n",
        "    # Create Vectorstore\n",
        "    vectorstore = create_vectorstore(cleaned_text)\n",
        "    print(\"Chunks successfully embedded and stored in FAISS!\\n\")\n",
        "\n",
        "    # Query the RAG System\n",
        "    query = \"What are the personality types of art collectors?\"\n",
        "    response = rag_pipeline(vectorstore, query)\n",
        "\n",
        "    # Print the Generated Answer\n",
        "    print(\"Query:\\n\", query)\n",
        "    print(\"\\nGenerated Answer:\\n\", response)\n"
      ],
      "metadata": {
        "colab": {
          "base_uri": "https://localhost:8080/"
        },
        "id": "eQay3C4PWFKT",
        "outputId": "37971f45-278a-4db3-e371-9d1e4d9a1673"
      },
      "execution_count": 14,
      "outputs": [
        {
          "output_type": "stream",
          "name": "stdout",
          "text": [
            "Chunks successfully embedded and stored in FAISS!\n",
            "\n",
            "Query:\n",
            " What are the personality types of art collectors?\n",
            "\n",
            "Generated Answer:\n",
            " The personality types of art collectors include:\n",
            "\n",
            "1. **The Traveler Collector**: Collects art that encapsulates memories of their journeys, often seeking works that capture the essence of popular destinations.\n",
            "\n",
            "2. **The Art Fair Regular**: Frequent visitors to art fairs who look for new talents and pieces to add to their collections. They value presence at major art fairs.\n",
            "\n",
            "3. **The Family Legacy Collector**: Inherits and continues family art collections, seeking artworks that complement existing pieces, often aligned with historic or traditional styles.\n",
            "\n",
            "4. **The Bargain Hunter**: Always on the lookout for undervalued pieces or emerging artists, they take pride in finding hidden gems at lower price points.\n",
            "\n",
            "5. **The Futurist Collector**: Market mavens with a specific vision for the future of art, they collect pieces that align with their futuristic aesthetic and often engage in discussions about the evolution of art.\n",
            "\n",
            "6. **The Social Collector**: Collecting art is a social activity for them; they enjoy attending events and the status that comes with being an art collector.\n",
            "\n",
            "7. **The Philanthropic/Patron Collector**: Believes in supporting artists, often buying from emerging talents and providing financial support, mentorship, or resources to help artists thrive.\n",
            "\n",
            "8. **The Aesthete**: Focuses on the beauty and visual appeal of artworks, seeking pieces that resonate with their aesthetic taste and appreciating the artist's evolution in style.\n",
            "\n",
            "9. **Combo**: Most collectors exhibit a combination of these personality types, making it important to understand the multifaceted nature of their interests and motivations.\n"
          ]
        }
      ]
    },
    {
      "cell_type": "markdown",
      "source": [
        "### **Notebook Summary: Building a Robust RAG (Retrieval-Augmented Generation) Pipeline**\n",
        "\n",
        "---\n",
        "\n",
        "#### **Overview of the Notebook**\n",
        "In this notebook, we successfully built a **Retrieval-Augmented Generation (RAG)** pipeline to extract, retrieve, and generate answers from a PDF document. The workflow focused on ensuring **high-quality input and output** by addressing various challenges encountered along the way.\n",
        "\n",
        "---\n",
        "\n",
        "### **Key Steps Taken**\n",
        "\n",
        "1. **PDF Text Extraction**:\n",
        "   - We started by extracting text from a PDF using **PyMuPDF (fitz)** after identifying that LangChain's `PyPDFLoader` struggled with mixed text and image content.\n",
        "   - PyMuPDF provided clean and accurate extraction of the text.\n",
        "\n",
        "2. **Cleaning the Extracted Text**:\n",
        "   - The extracted text contained artifacts like isolated numbers, unnecessary whitespace, and formatting issues.\n",
        "   - We implemented a **pre-cleaning function** using regex to:\n",
        "     - Remove page numbers or random artifacts.\n",
        "     - Normalize newlines and spaces.\n",
        "\n",
        "3. **Logical Text Chunking**:\n",
        "   - To ensure retrieval accuracy, we split the text into meaningful **chunks**.\n",
        "   - Instead of arbitrary chunking, we used a **pattern-based approach** with regex to split the text at **\"The [Personality Type] Collector:\"**.\n",
        "   - This method ensured that each chunk corresponded to a distinct personality type, preserving context.\n",
        "\n",
        "4. **Vectorization and Storage**:\n",
        "   - Each cleaned chunk was converted into embeddings using **`OpenAIEmbeddings`** and stored in a **FAISS vector store**.\n",
        "   - FAISS allowed us to efficiently retrieve the most relevant chunks based on a user query.\n",
        "\n",
        "5. **Retrieval and Generation**:\n",
        "   - We queried the vector store to retrieve the most relevant personality type descriptions.\n",
        "   - The retrieved context was passed to an **LLM** (GPT-4) with a structured prompt to generate a concise and accurate answer.\n",
        "\n",
        "---\n",
        "\n",
        "### **Challenges Faced and Solutions**\n",
        "\n",
        "| **Challenge**                             | **Solution**                                                                                     |\n",
        "|-------------------------------------------|--------------------------------------------------------------------------------------------------|\n",
        "| 1. **PDF Text Extraction Issues**          | Switched to **PyMuPDF** for reliable extraction. PyMuPDF handled complex PDFs better than `PyPDFLoader`. |\n",
        "| 2. **Artifacts in Text (Numbers/Headers)** | Added a **pre-cleaning function** to remove stray characters, page numbers, and formatting artifacts. |\n",
        "| 3. **Chunking Misalignment**               | Used a **regex-based pattern** to split text logically at \"The [Personality Type] Collector:\". This preserved semantic context. |\n",
        "| 4. **Retrieval Quality**                   | Retrieved the top **2 most relevant chunks** to ensure the query had sufficient context.          |\n",
        "| 5. **LLM Output Quality**                  | Combined the retrieved chunks into a clear, structured **context + question** prompt for the LLM. |\n",
        "\n",
        "---\n",
        "\n",
        "### **What to Watch Out For to Avoid Similar Issues**\n",
        "\n",
        "1. **PDF Format**:\n",
        "   - **Issue**: PDFs can contain a mix of text, images, and hidden formatting artifacts.\n",
        "   - **Solution**: Use a robust library like **PyMuPDF** for text-based PDFs and OCR-based tools (e.g., `UnstructuredPDFLoader` with Tesseract) for image-based PDFs.\n",
        "\n",
        "2. **Text Artifacts**:\n",
        "   - **Issue**: Extracted text may contain page numbers, headers, footers, or random symbols.\n",
        "   - **Solution**: Implement a **pre-cleaning step** using regex to remove unwanted content.\n",
        "\n",
        "3. **Chunking Strategy**:\n",
        "   - **Issue**: Arbitrary chunking (e.g., fixed character chunks) can split related content, reducing retrieval relevance.\n",
        "   - **Solution**: Use **pattern-based splitting** for structured content (e.g., splitting at section headers or keywords).\n",
        "\n",
        "4. **Retrieval Accuracy**:\n",
        "   - **Issue**: Irrelevant or incomplete chunks can be retrieved, affecting the LLM’s output quality.\n",
        "   - **Solution**:\n",
        "     - Retrieve the top **2-3 relevant chunks** to provide sufficient context.\n",
        "     - Verify the retrieved content before passing it to the LLM.\n",
        "\n",
        "5. **Prompt Design for LLMs**:\n",
        "   - **Issue**: Poorly structured prompts can confuse the model, leading to inaccurate responses.\n",
        "   - **Solution**: Use a clear and consistent **\"Context + Question + Answer\"** prompt format to guide the LLM.\n",
        "\n",
        "---\n",
        "\n",
        "### **Lessons Learned**\n",
        "\n",
        "1. **Quality of Input Determines Quality of Output**:\n",
        "   - Garbage in, garbage out. Cleaning and preparing the input text (e.g., pre-processing and logical chunking) is **critical** for high-quality retrieval and generation.\n",
        "\n",
        "2. **Choosing the Right Tools Matters**:\n",
        "   - Switching from `PyPDFLoader` to **PyMuPDF** greatly improved text extraction reliability.\n",
        "   - Always choose tools suited to your data type (e.g., OCR for image-based PDFs).\n",
        "\n",
        "3. **Semantic Chunking is Key**:\n",
        "   - Breaking text into logical sections, rather than arbitrary chunks, ensures better retrieval accuracy.\n",
        "\n",
        "4. **Iterative Debugging**:\n",
        "   - Breaking the RAG pipeline into smaller steps (e.g., loading, cleaning, chunking, embedding) allowed us to identify and fix issues incrementally.\n",
        "\n",
        "5. **Structured Prompts Drive Better Results**:\n",
        "   - Providing clear context to the LLM leads to more relevant and concise answers.\n",
        "\n",
        "---\n",
        "\n",
        "### **Final Pipeline Workflow**\n",
        "\n",
        "1. **Extract**: Load and clean the text using PyMuPDF.\n",
        "2. **Chunk**: Split text into logical sections based on patterns (e.g., \"The [Personality Type] Collector\").\n",
        "3. **Embed**: Convert chunks into embeddings using `OpenAIEmbeddings`.\n",
        "4. **Retrieve**: Query the vector store to fetch the most relevant chunks.\n",
        "5. **Generate**: Pass the retrieved context and query to the LLM for a high-quality answer.\n",
        "\n"
      ],
      "metadata": {
        "id": "IalAAsnE0c8t"
      }
    }
  ]
}